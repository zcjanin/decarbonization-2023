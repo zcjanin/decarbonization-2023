{
 "cells": [
  {
   "cell_type": "markdown",
   "metadata": {},
   "source": [
    "# Corporate Decarbonization Research\n",
    "---"
   ]
  },
  {
   "cell_type": "markdown",
   "metadata": {},
   "source": [
    "### Import modules"
   ]
  },
  {
   "cell_type": "code",
   "execution_count": null,
   "metadata": {},
   "outputs": [],
   "source": [
    "import pandas as pd\n",
    "import numpy as np\n",
    "import seaborn as sns\n",
    "import plotly.express as px\n",
    "import matplotlib.pyplot as plt"
   ]
  },
  {
   "cell_type": "markdown",
   "metadata": {},
   "source": [
    "### Table of Contents\n",
    "\n",
    "**[Section 1) Loading and Cleaning](#section-1-loading-and-cleaning)**\n",
    "- Loading the Raw Data\n",
    "- Helper Functions\n",
    "- More Data Cleaning\n",
    "\n",
    "**[Section 2) EDA and Summary Statistics](#section-2-eda-and-summary-statistics)**\n",
    "- Data Dictionary\n",
    "- Cross-sector EDA\n",
    "\n",
    "**[Section 3) Visualizations](#section-3-visualizations)**\n",
    "- CDP Submissions\n",
    "- Trends by Sector Charts\n",
    "- Scatter Plots\n",
    "- Company Emissions Charts\n",
    "- Net-Zero Charts\n",
    "\n",
    "**[Section 4) Conclusion](#section-4---conclusion)**\n",
    "- What we learned\n",
    "- Next Steps\n",
    "- Collaboration efforts"
   ]
  },
  {
   "cell_type": "markdown",
   "metadata": {},
   "source": [
    "---"
   ]
  },
  {
   "cell_type": "markdown",
   "metadata": {},
   "source": [
    "# SECTION 1) Loading and Cleaning"
   ]
  },
  {
   "cell_type": "markdown",
   "metadata": {},
   "source": [
    "## Loading the Raw Data"
   ]
  },
  {
   "cell_type": "markdown",
   "metadata": {},
   "source": [
    "*In this section of the notebook, I will be importing our data and performing some preliminary cleaning/standardizing of our datasets to create separate DataFrames for each sector and an aggregated DataFrame containing all sectors. More data cleaning will be performed after the **Helper Functions** section.*"
   ]
  },
  {
   "cell_type": "code",
   "execution_count": null,
   "metadata": {},
   "outputs": [],
   "source": [
    "# load in data\n",
    "\n",
    "foodag = pd.read_csv('data/foodag.csv')\n",
    "energy = pd.read_csv('data/energy.csv')\n",
    "auto = pd.read_csv('data/auto.csv')\n",
    "tech = pd.read_csv('data/tech.csv')\n"
   ]
  },
  {
   "cell_type": "code",
   "execution_count": null,
   "metadata": {},
   "outputs": [],
   "source": [
    "# Add sector columns to concatenate df's\n",
    "\n",
    "foodag['SECTOR'] = ['Food & Agriculture'] * len(foodag['COMPANY NAME'])\n",
    "energy['SECTOR'] = ['Energy'] * len(energy['COMPANY NAME'])\n",
    "auto['SECTOR'] = ['Auto'] * len(auto['COMPANY NAME'])\n",
    "tech['SECTOR'] = ['Tech'] * len(tech['COMPANY NAME'])\n",
    "foodag.shape, energy.shape, auto.shape, tech.shape\n"
   ]
  },
  {
   "cell_type": "code",
   "execution_count": null,
   "metadata": {},
   "outputs": [],
   "source": [
    "# clean tech to standardize columns across all df's, shorten CI column name\n",
    "\n",
    "tech = tech.rename(columns={'CARBON INTENSITY\\n(Scope 1 & 2 g CO2e/ $ Sales) \\ncalculated' :\n",
    "'CARBON INTENSITY\\n(Scope 1 & 2 g CO2e / $ Sales)'})\n",
    "\n",
    "df_array = [foodag, energy, auto, tech]\n",
    "for df in df_array:\n",
    "    df.rename(columns={'CARBON INTENSITY\\n(Scope 1 & 2 g CO2e / $ Sales)': 'CARBON INTENSITY'}, inplace=True)\n"
   ]
  },
  {
   "cell_type": "code",
   "execution_count": null,
   "metadata": {},
   "outputs": [],
   "source": [
    "# concatenate dataframes together\n",
    "\n",
    "sectors = pd.concat([foodag, energy, auto, tech])\n",
    "sectors = sectors.drop(columns='SCOPE 1 + SCOPE 2 EMISSIONS')\n",
    "sectors.shape"
   ]
  },
  {
   "cell_type": "markdown",
   "metadata": {},
   "source": [
    "### *To access a dataset containing all sectors, use the `sectors` DataFrame. To acccess individual sectors, choose from `foodag`, `tech`, `auto`, and `energy`.*"
   ]
  },
  {
   "cell_type": "markdown",
   "metadata": {},
   "source": [
    "### `sectors`"
   ]
  },
  {
   "cell_type": "code",
   "execution_count": null,
   "metadata": {},
   "outputs": [],
   "source": [
    "# show sectors\n",
    "\n",
    "sectors.head()"
   ]
  },
  {
   "cell_type": "markdown",
   "metadata": {},
   "source": [
    "### Example Sector DataFrame: `foodag`"
   ]
  },
  {
   "cell_type": "code",
   "execution_count": null,
   "metadata": {},
   "outputs": [],
   "source": [
    "# show food and ag\n",
    "\n",
    "foodag.head()"
   ]
  },
  {
   "cell_type": "code",
   "execution_count": null,
   "metadata": {},
   "outputs": [],
   "source": [
    "# scratch work code cell, replace elipses with any code you'd like to try"
   ]
  },
  {
   "cell_type": "markdown",
   "metadata": {},
   "source": [
    "---"
   ]
  },
  {
   "cell_type": "markdown",
   "metadata": {},
   "source": [
    "## Helper Functions"
   ]
  },
  {
   "cell_type": "markdown",
   "metadata": {},
   "source": [
    "*This section will contain any functions used to generate graphs, standardize columns, etc.*"
   ]
  },
  {
   "cell_type": "code",
   "execution_count": null,
   "metadata": {},
   "outputs": [],
   "source": [
    "# convert revenue's to USD\n",
    "\n",
    "def toUSD(i):\n",
    "    dic = {\n",
    "    'AUD': 0.75,   # 1 AUD to USD\n",
    "    'CAD': 0.78,   # 1 CAD to USD\n",
    "    'CHF': 1.09,   # 1 CHF to USD\n",
    "    'DKK': 0.15,   # 1 DKK to USD\n",
    "    'EUR': 1.16,   # 1 EUR to USD\n",
    "    'GBP': 1.37,   # 1 GBP to USD\n",
    "    'JPY': 0.009,  # 1 JPY to USD\n",
    "    'KRW': 0.0009, # 1 KRW to USD\n",
    "    'NOK': 0.11,   # 1 NOK to USD\n",
    "    'RUB': 0.014,  # 1 RUB to USD\n",
    "    'SEK': 0.11,   # 1 SEK to USD\n",
    "    'RMB': 7.29,   # 1 RMB to USD\n",
    "    'TWD' : 0.03,  # 1 TWD to USD\n",
    "    'USD': 1.0       # No Change    \n",
    "    }\n",
    "    if (not pd.isna(i[0])) or (not pd.isna(i[1])):\n",
    "        return i[0] * dic[i[1]] # The revenue multiplied by the corresponding USD conversion rate\n",
    "\n",
    "# sectors['Revenue (USD)'] = sectors.apply(toUSD, 'TOTAL REVENUE (miillion $)')  # --- use this code to apply the function in the revenue column when ready"
   ]
  },
  {
   "cell_type": "code",
   "execution_count": null,
   "metadata": {},
   "outputs": [],
   "source": [
    "# Function for creating column with [Currency, Revenue]\n",
    "\n",
    "def currAndRev(df):\n",
    "    new_col = []\n",
    "    for i in np.arange(df.shape[0]):\n",
    "        new_col.append([df['CURRENCY'].values[i], df['TOTAL REVENUE (miillion $)'].values[i]])\n",
    "    df['REVENUE IN USD'] = new_col\n",
    "\n",
    "# currAndRev(sectors)\n"
   ]
  },
  {
   "cell_type": "code",
   "execution_count": null,
   "metadata": {},
   "outputs": [],
   "source": [
    "# graph sector summary charts using matplotlib\n",
    "\n",
    "def graphCoEmissions(df, co_name, years_arr):\n",
    "    # format plots and add right axis for CI\n",
    "    fig, ax1 = plt.subplots()\n",
    "    ax2 = ax1.twinx()\n",
    "\n",
    "    # create x axis array\n",
    "    years = df.loc[df['COMPANY NAME']==co_name, 'YEAR']\n",
    "\n",
    "    # create bar chart stacks and CI array\n",
    "    scope1 = df.loc[df['COMPANY NAME']==co_name, 'SCOPE 1']\n",
    "    scope2 = df.loc[df['COMPANY NAME']==co_name, 'SCOPE 2 (location-based)']\n",
    "    scope3 = df.loc[df['COMPANY NAME']==co_name, 'SCOPE 3']\n",
    "    ci = df.loc[df['COMPANY NAME']==co_name, 'CARBON INTENSITY']\n",
    "\n",
    "    # plot bar chart\n",
    "    b1 = ax1.bar(years, scope1, color='navy', label='Scope 1')\n",
    "    b2 = ax1.bar(years, scope2, bottom=scope1, color='steelblue', label='Scope 2')\n",
    "    b3 = ax1.bar(years, scope3, bottom=scope1+scope2, color='lightsteelblue', label='Scope 3')\n",
    "\n",
    "    # plot CI\n",
    "    l1 = ax2.plot(years, ci, color = 'black', marker = 'o',label='CI')\n",
    "\n",
    "    # finish formatting plots\n",
    "    ax1.set_xticks(years_arr)\n",
    "    ax1.set_ylim(0, max(scope1+scope2+scope3)+9000000)\n",
    "    ax2.set_ylim(0, max(ci)+20)\n",
    "\n",
    "    # combine and add legend\n",
    "    # lines = [b1, b2, b3]\n",
    "    # labels = ['SCOPE 1','SCOPE 2','SCOPE 3' ]\n",
    "    # ax1.legend(lines, labels, loc='lower left', bbox_to_anchor=(1, 1))\n",
    "    # ax2.legend(loc=0)\n",
    "\n",
    "    lines, labels = ax1.get_legend_handles_labels()\n",
    "    lines2, labels2 = ax2.get_legend_handles_labels()\n",
    "    ax2.legend(lines + lines2, labels + labels2, loc='lower left', bbox_to_anchor=(1, 1))\n",
    "\n",
    "    # add labels and titles\n",
    "    plt.suptitle('Annual GHG Emissions', fontsize=14, fontweight='bold')\n",
    "    plt.title(co_name, fontsize=10)\n",
    "    ax1.set_xlabel('Year')\n",
    "    ax1.set_ylabel('Carbon Emissions (metric ton CO2e)')\n",
    "    ax2.set_ylabel('Carbon Intensity (g CO2e / $ million)')"
   ]
  },
  {
   "cell_type": "code",
   "execution_count": null,
   "metadata": {},
   "outputs": [],
   "source": [
    "# graph sector summary charts using plotly\n",
    "import plotly.graph_objects as go\n",
    "\n",
    "def graphCoEmissionsPlotly(df, co_name, years_arr):\n",
    "    # format plots and add right axis for CI\n",
    "    # fig, ax1 = plt.subplots()\n",
    "    # ax2 = ax1.twinx()\n",
    "\n",
    "    # create x axis array\n",
    "    years = df.loc[df['COMPANY NAME']==co_name, 'YEAR']\n",
    "\n",
    "    # create bar chart stacks and CI array\n",
    "    scope1 = df.loc[df['COMPANY NAME']==co_name, 'SCOPE 1']\n",
    "    scope2 = df.loc[df['COMPANY NAME']==co_name, 'SCOPE 2 (location-based)']\n",
    "    scope3 = df.loc[df['COMPANY NAME']==co_name, 'SCOPE 3']\n",
    "    ci = df.loc[df['COMPANY NAME']==co_name, 'CARBON INTENSITY']\n",
    "\n",
    "\n",
    "     # create stacked bar chart traces\n",
    "    trace_scope1 = go.Bar(x=years, y=scope1, name='Scope 1', marker=dict(color='rgba(0, 0, 255, 0.7)'))\n",
    "    trace_scope2 = go.Bar(x=years, y=scope2, name='Scope 2', marker=dict(color='rgba(0, 255, 0, 0.7)'))\n",
    "    trace_scope3 = go.Bar(x=years, y=scope3, name='Scope 3', marker=dict(color='rgba(255, 0, 0, 0.7)'))\n",
    "\n",
    "    # create line chart trace for CI\n",
    "    trace_ci = go.Scatter(x=years, y=ci, mode='markers+lines', name='Carbon Intensity', yaxis='y2',\n",
    "                          marker=dict(color='rgba(255, 165, 0, 0.7)'))\n",
    "\n",
    "    # combine traces into data list\n",
    "    data = [trace_scope1, trace_scope2, trace_scope3, trace_ci]\n",
    "\n",
    "    # create layout\n",
    "    layout = go.Layout(\n",
    "        title=dict(text=co_name+' - Annual GHG Emissions', x=0.5),\n",
    "        xaxis=dict(tickvals=years_arr, title='Year'),\n",
    "        yaxis=dict(title='Carbon Emissions (metric ton CO2e)', range=[0, max(scope1+scope2+scope3)+9000000]),\n",
    "        yaxis2=dict(title='Carbon Intensity (g CO2e / $ million)', overlaying='y', side='right', range=[0, max(ci)+20]),\n",
    "        barmode='stack',\n",
    "        showlegend=True,\n",
    "        height=650,\n",
    "        width=800,\n",
    "        margin=dict(r=1.2)\n",
    "    )\n",
    "\n",
    "    # create figure\n",
    "    fig = go.Figure(data=data, layout=layout)\n",
    "\n",
    "    # show the figure\n",
    "    fig.show()"
   ]
  },
  {
   "cell_type": "code",
   "execution_count": null,
   "metadata": {},
   "outputs": [],
   "source": [
    "# graph sector totals by company and emissions type\n",
    "\n",
    "def graph_CosInSectorTotals(df, year, bool=False):\n",
    "    # define the sector\n",
    "    sector = df['SECTOR'].unique()[0]\n",
    "\n",
    "    # filer DataFrame for just the provided year\n",
    "    data_year = df.loc[df['YEAR']==year,:]\n",
    "\n",
    "    # plot stacked bar chart\n",
    "    sns.barplot(x='SCOPE 1', y='COMPANY NAME', data=data_year, color='orange', orient='h', label='Scope 1')\n",
    "    sns.barplot(x='SCOPE 2 (location-based)', y='COMPANY NAME', data=data_year, color='navy', orient='h', label='Scope 2')\n",
    "    if bool==False:\n",
    "        sns.barplot(x='SCOPE 3', y='COMPANY NAME', data=data_year, color='pink', orient='h', label='Scope 3')\n",
    "    \n",
    "    # format axes and titles\n",
    "    plt.xlabel('GHG emissions (metric tons CO2e)')\n",
    "    plt.ylabel('Company Name')\n",
    "    if bool==True:\n",
    "        plt.title('Scope 1 + Scope 2 GHG Emissions in '+str(year)+' - ' +str(sector))\n",
    "    else:\n",
    "        plt.title('Total GHG Emissions in '+str(year)+' - ' +str(sector))"
   ]
  },
  {
   "cell_type": "code",
   "execution_count": null,
   "metadata": {},
   "outputs": [],
   "source": [
    "# graph carbon intensity as a function of time of each company in a sector using adjusted CI values\n",
    "\n",
    "def ci_OverTime(sector):\n",
    "\n",
    "    companies = sectors.loc[sectors['SECTOR']==sector, 'COMPANY NAME'].unique()\n",
    "    years = ['2018','2019', '2020', '2021', '2022']\n",
    "\n",
    "    for co in companies:\n",
    "        ci = sectors[sectors['COMPANY NAME'] == co][\"Adjusted CI\"]\n",
    "        plt.plot(years, ci, label = co, marker='o', markersize=5)\n",
    "    plt.legend(loc = 'upper right', fontsize = 'xx-small')\n",
    "    plt.xlabel('Year')\n",
    "    plt.ylabel('Carbon Intensity (mt $CO_{2}e$ / mill USD)')\n",
    "    plt.title(sector +  ' Carbon Intensity Over Time (2018-2022)');"
   ]
  },
  {
   "cell_type": "markdown",
   "metadata": {},
   "source": [
    "---"
   ]
  },
  {
   "cell_type": "markdown",
   "metadata": {},
   "source": [
    "## More Data Cleaning"
   ]
  },
  {
   "cell_type": "markdown",
   "metadata": {},
   "source": [
    "*In this section, I am performing the data cleaning which require my **helper functions** to execute.* Make sure that the previous section has been run before proceeding."
   ]
  },
  {
   "cell_type": "code",
   "execution_count": null,
   "metadata": {},
   "outputs": [],
   "source": [
    "# apply and create revenue in USD column\n",
    "\n",
    "rev_curr = [[sectors['TOTAL REVENUE (miillion $)'].values[i], sectors['CURRENCY'].values[i]] for i in range(sectors.shape[0])]\n",
    "sectors['REVENUE W/ CURR'] = rev_curr\n",
    "\n",
    "# create revenue in USD column and drop revenue w/ curr column\n",
    "\n",
    "sectors['REVENUE IN USD'] = sectors['REVENUE W/ CURR'].apply(toUSD)\n",
    "sectors = sectors.drop(columns='REVENUE W/ CURR')"
   ]
  },
  {
   "cell_type": "code",
   "execution_count": null,
   "metadata": {},
   "outputs": [],
   "source": [
    "# creating adjusted CI column after converting ALL revenues to USD\n",
    "\n",
    "adjusted_ci = ((sectors['SCOPE 1'] + sectors['SCOPE 2 (location-based)']) / sectors['REVENUE IN USD']).round(2)\n",
    "sectors['Adjusted CI'] = adjusted_ci"
   ]
  },
  {
   "cell_type": "code",
   "execution_count": null,
   "metadata": {},
   "outputs": [],
   "source": [
    "# Replace 'Submit to CDP' & 'SBTi Target Set?' values with True and False for performing qualitative data analysis\n",
    "\n",
    "sectors['SUBMIT TO CDP'] = sectors['SUBMIT TO CDP'].replace({\n",
    "    'Yes' : True,\n",
    "    'No' : False\n",
    "})\n",
    "\n",
    "sectors['SBTi TARGET SET?'] = sectors['SBTi TARGET SET?'].replace({\n",
    "    'Yes' : True,\n",
    "    'No' : False\n",
    "})"
   ]
  },
  {
   "cell_type": "code",
   "execution_count": null,
   "metadata": {},
   "outputs": [],
   "source": [
    "sectors.head()"
   ]
  },
  {
   "cell_type": "code",
   "execution_count": null,
   "metadata": {},
   "outputs": [],
   "source": [
    "load_sectors = sectors.to_csv('data/sectors.csv', index=False)\n",
    "load_sectors"
   ]
  },
  {
   "cell_type": "markdown",
   "metadata": {},
   "source": [
    "---"
   ]
  },
  {
   "cell_type": "markdown",
   "metadata": {},
   "source": [
    "# SECTION 2) EDA and Summary Statistics"
   ]
  },
  {
   "cell_type": "markdown",
   "metadata": {},
   "source": [
    "## Data Dictionary"
   ]
  },
  {
   "cell_type": "markdown",
   "metadata": {},
   "source": [
    "| Column Name | Definition | Data Type |\n",
    "|--------------|:-----:|-----------:|\n",
    "| Company Name | Name of the company | object |\n",
    "| Year | Corresponding year of emissions data | int |\n",
    "| Scope 1 | The company's direct GHG emissions, given in metric tons of carbon dioxide equivalence | float |\n",
    "| Scope 2 (location-based) | The company's indirect (location-based) GHG emissions, given in metric tons of carbon dioxide equivalence | float |\n",
    "| Scope 3 | The company's indirect GHG emissions that come from its value chain, given in metric tons of carbon dioxide equivalence | float |\n",
    "| Total Emissions | Sum of Scope 1, 2, and 3 emissions | float |\n",
    "| Total Revenue (million $) | The company's total revenue for a given year | float |\n",
    "| Currency | The currency of the company's total revenue | object |\n",
    "| Carbon Intensity | Total scope 1 and scope 2 (location-based) emissions per unit of the company's revenue | float |\n",
    "| Country of Origin | The company's origin country | object |\n",
    "| Submit to CDP | Boolean indicator of if the company submitted to CDP for the reporting year (True/False) | object |\n",
    "| SBTi Target Set? | Boolean indicator of if the company has targets approved by SBTi | object |\n",
    "| SBTI Commitments | A company's net-zero and near-term targets status | object | \n",
    "| Net-Zero Targets | A company's net-zero or emissions reductions target(s) | object | \n",
    "| Sector | The industry sector of the company | object |\n",
    "\n"
   ]
  },
  {
   "cell_type": "markdown",
   "metadata": {},
   "source": [
    "## Cross-Sector Exploratory Data Analysis (EDA)"
   ]
  },
  {
   "cell_type": "markdown",
   "metadata": {},
   "source": [
    "*This section is dedicated to data analysis through visualizations and observing general trends in the data across sectors.*"
   ]
  },
  {
   "cell_type": "markdown",
   "metadata": {},
   "source": [
    "### Looking at average scope, average total emissions, average, total revenue, and average CI by sector.\n",
    "\n",
    "The GroupBy object created below, sorted in descending order by `TOTAL EMISSIONS`, shows us that **energy** is the highest-emitting sector while **tech** comes last out of our four sectors."
   ]
  },
  {
   "cell_type": "code",
   "execution_count": null,
   "metadata": {},
   "outputs": [],
   "source": [
    "# Average scope values by sector in descending order of average total emissions\n",
    "\n",
    "avg_sectors = sectors.groupby('SECTOR').mean(numeric_only=True).round(0).sort_values(by='TOTAL EMISSIONS', ascending=False)[['SCOPE 1', 'SCOPE 2 (location-based)', 'SCOPE 3',  'TOTAL EMISSIONS']]\n",
    "avg_sectors"
   ]
  },
  {
   "cell_type": "code",
   "execution_count": null,
   "metadata": {},
   "outputs": [],
   "source": [
    "# Average Corporate Revenues converted to USD\n",
    "\n",
    "sectors.groupby('SECTOR').mean(numeric_only=True).sort_values(by='REVENUE IN USD', ascending=False).round(0)[['REVENUE IN USD']]\n"
   ]
  },
  {
   "cell_type": "markdown",
   "metadata": {},
   "source": [
    "### A rough look at highest-emitting companies on average\n",
    "\n",
    "This GroupBy object shows us the highest-emitting companies on average, sorted by average `TOTAL EMISSIONS`. \n",
    "\n",
    "*NOTE: This is not a completely reflective ranking because it doesn't take into account the companies that don't report certain scope values (indicated by NaN).*"
   ]
  },
  {
   "cell_type": "code",
   "execution_count": null,
   "metadata": {},
   "outputs": [],
   "source": [
    "sectors.groupby('COMPANY NAME').mean(numeric_only=True).drop(columns=['YEAR']).sort_values(by='TOTAL EMISSIONS', ascending=False)"
   ]
  },
  {
   "cell_type": "markdown",
   "metadata": {},
   "source": [
    "### Average Emissions by Country of Origin\n",
    "\n",
    "Now let's take a look at the average emissions by country of origin, still sorting by average `TOTAL EMISSIONS` in descending order.\n",
    "\n",
    "*NOTE: I am still working on figuring out how to differentate companies with more than one country of origin.*"
   ]
  },
  {
   "cell_type": "code",
   "execution_count": null,
   "metadata": {},
   "outputs": [],
   "source": [
    "avg_ByCountry = sectors.groupby('COUNTRY OF ORIGIN').mean(numeric_only=True).drop(columns=['YEAR', 'TOTAL REVENUE (miillion $)']).round(0).sort_values(by='TOTAL EMISSIONS', ascending=False)\n",
    "\n",
    "avg_ByCountry"
   ]
  },
  {
   "cell_type": "markdown",
   "metadata": {},
   "source": [
    "The first row corresponds to **Shell**, last row corresponds to **Molson Coors**."
   ]
  },
  {
   "cell_type": "code",
   "execution_count": null,
   "metadata": {},
   "outputs": [],
   "source": [
    "# scratch work code cell, replace elipses with any code you'd like to try\n",
    "\n",
    "..."
   ]
  },
  {
   "cell_type": "markdown",
   "metadata": {},
   "source": [
    "---"
   ]
  },
  {
   "cell_type": "markdown",
   "metadata": {},
   "source": [
    "# SECTION 3) Visualizations"
   ]
  },
  {
   "cell_type": "markdown",
   "metadata": {},
   "source": [
    "### CDP Submission: Who Reported to CDP?\n",
    "\n",
    "The purpose of this section is to view the proportion of companies across all sectors who reported to CDP."
   ]
  },
  {
   "cell_type": "code",
   "execution_count": null,
   "metadata": {},
   "outputs": [],
   "source": [
    "# Proportion of CDP submissions over number of reports\n",
    "\n",
    "submission_percentage = (sum(sectors['SUBMIT TO CDP'] == True) / sectors.shape[0]) * 100\n",
    "\n",
    "print('Across all sectors, ' + str(round(submission_percentage,0))+ '% of companies submitted to cdp')"
   ]
  },
  {
   "cell_type": "markdown",
   "metadata": {},
   "source": [
    "Now we know 70% of our data comes from CDP submissions. To compare CDP submissions per sector visually, I created a **count plot** using `sectors`."
   ]
  },
  {
   "cell_type": "code",
   "execution_count": null,
   "metadata": {},
   "outputs": [],
   "source": [
    "# Plot counts of submissions\n",
    "\n",
    "sns.countplot(x='SECTOR', hue='SUBMIT TO CDP', data=sectors)\n",
    "plt.xlabel('Sector')\n",
    "plt.ylabel('Count')\n",
    "plt.title('Count of CDP Submissions by Sector')"
   ]
  },
  {
   "cell_type": "markdown",
   "metadata": {},
   "source": [
    "### CDP Submissions: How do submission trends look over time?"
   ]
  },
  {
   "cell_type": "code",
   "execution_count": null,
   "metadata": {},
   "outputs": [],
   "source": [
    "# Visualizing CDP Submissions Over TIme\n",
    "\n",
    "x = np.arange(2017,2023)\n",
    "y = sectors.groupby('YEAR').count()['SUBMIT TO CDP']\n",
    "\n",
    "fig, ax = plt.subplots()\n",
    "plt.bar(x, y)\n",
    "plt.suptitle('Count of CDP Submissions Over Time (2017-2022)', fontweight='bold')\n",
    "plt.xlabel('Year')\n",
    "plt.ylabel('Submissions Counts')\n",
    "bars = ax.bar(x, y)\n",
    "ax.bar_label(bars)\n",
    "plt.show();"
   ]
  },
  {
   "cell_type": "markdown",
   "metadata": {},
   "source": [
    "### Scatter Plots: \n",
    "### Scope 1 vs. Scope 2 (location-based) Across All Sectors\n",
    "\n",
    "This scatterplot reflects the significant difference in emissions emitted by the **energy** sector compared with any other sector. Aside from **energy**, **tech** seems to have relatively higher scope 2 values. Hover over a data point to retrieve information on the represented company and the actual scope values associated. To take a closer look at a certain interval, drag your mouse across the desired interval. To reset the plot, run the code cell again. Any plot generated through Plotly can also be downloaded as a png by clicking on the camera icon on upper right portion of the plot. "
   ]
  },
  {
   "cell_type": "code",
   "execution_count": null,
   "metadata": {},
   "outputs": [],
   "source": [
    "# scope 1 vs scope 2 (location-based)\n",
    "\n",
    "fig = px.scatter(sectors, x='SCOPE 1', y='SCOPE 2 (location-based)', color='SECTOR', hover_data=['COMPANY NAME', 'YEAR'])\n",
    "fig.update_layout(title='Scope 1 vs. Scope 2 Across All Sectors')\n",
    "fig.show()"
   ]
  },
  {
   "cell_type": "markdown",
   "metadata": {},
   "source": [
    "### Scope 2 (location-based) vs. Scope 3\n"
   ]
  },
  {
   "cell_type": "code",
   "execution_count": null,
   "metadata": {},
   "outputs": [],
   "source": [
    "# scope 2 (location-based) vs. scope 3 \n",
    "\n",
    "fig = px.scatter(sectors, x='SCOPE 2 (location-based)', y='SCOPE 3', color='SECTOR', hover_data=['COMPANY NAME'])\n",
    "fig.update_layout(title='Scope 2 vs. Scope 3 Across All Sectors')\n",
    "fig.show()"
   ]
  },
  {
   "cell_type": "markdown",
   "metadata": {},
   "source": [
    "### Scope 1 vs. Scope 3 "
   ]
  },
  {
   "cell_type": "code",
   "execution_count": null,
   "metadata": {},
   "outputs": [],
   "source": [
    "# scope 1 vs. scope 3\n",
    "\n",
    "fig = px.scatter(sectors, x='SCOPE 1', y='SCOPE 3', color='SECTOR', hover_data=['COMPANY NAME'])\n",
    "fig.update_layout(title='Scope 1 vs. Scope 3 Across All Sectors')\n",
    "fig.show()"
   ]
  },
  {
   "cell_type": "code",
   "execution_count": null,
   "metadata": {},
   "outputs": [],
   "source": [
    "# scratch work code cell, replace elipses with any code you'd like to try\n",
    "\n",
    "..."
   ]
  },
  {
   "cell_type": "markdown",
   "metadata": {},
   "source": [
    "---"
   ]
  },
  {
   "cell_type": "markdown",
   "metadata": {},
   "source": [
    "## Sector Charts [WORK IN PROGRESS]\n",
    "\n",
    "*The goal of this section is to generate charts like the ones in the **Cross-Sector** tab of the **emissions** Google Sheet.*"
   ]
  },
  {
   "cell_type": "markdown",
   "metadata": {},
   "source": [
    "### Carbon Intensity Over Time by Sector"
   ]
  },
  {
   "cell_type": "code",
   "execution_count": null,
   "metadata": {},
   "outputs": [],
   "source": [
    "# Food & Ag\n",
    "ci_OverTime('Food & Agriculture')"
   ]
  },
  {
   "cell_type": "markdown",
   "metadata": {},
   "source": [
    "### Total GHG Emissions Over Time by Sector"
   ]
  },
  {
   "cell_type": "code",
   "execution_count": null,
   "metadata": {},
   "outputs": [],
   "source": [
    "energy_totals = energy.groupby('YEAR').sum(numeric_only=True)\n",
    "energy_totals['TOTAL EMISSIONS']\n",
    "\n",
    "years=[2018,2019,2020,2021,2022]\n",
    "total_emissions = energy_totals['TOTAL EMISSIONS'].values / 1000000\n",
    "\n",
    "fig, ax = plt.subplots()\n",
    "\n",
    "ax.bar(years, total_emissions, color='navy')\n",
    "plt.xlabel('Year')\n",
    "plt.ylabel('GHG Emissions (million mt $CO_{2}e$)')\n",
    "plt.title('Energy Sector', fontsize=10)\n",
    "plt.suptitle('Total GHG Emissions (2018-2022)', fontsize=14, fontweight='bold')\n",
    "bars = ax.bar(years, total_emissions)\n",
    "ax.bar_label(bars)\n",
    "plt.show();"
   ]
  },
  {
   "cell_type": "code",
   "execution_count": null,
   "metadata": {},
   "outputs": [],
   "source": [
    "# Energy\n",
    "ci_OverTime('Energy')"
   ]
  },
  {
   "cell_type": "code",
   "execution_count": null,
   "metadata": {},
   "outputs": [],
   "source": [
    "# Tech\n",
    "ci_OverTime('Tech')"
   ]
  },
  {
   "cell_type": "markdown",
   "metadata": {},
   "source": [
    "<span style=\"color:red\">TASK: Debug auto (function won't work for auto sector).</span>"
   ]
  },
  {
   "cell_type": "code",
   "execution_count": null,
   "metadata": {},
   "outputs": [],
   "source": [
    "# Auto\n",
    "# ci_OverTime('Auto')"
   ]
  },
  {
   "cell_type": "markdown",
   "metadata": {},
   "source": [
    "---"
   ]
  },
  {
   "cell_type": "markdown",
   "metadata": {},
   "source": [
    "## Company Charts by Sector\n",
    "\n",
    "*The charts generated below follow the format of the charts we generated in Google Sheets. Make sure to run the **Helper Functions** section in order to generate this section properly.*"
   ]
  },
  {
   "cell_type": "markdown",
   "metadata": {},
   "source": [
    "### Food & Agriculture Emissions Charts"
   ]
  },
  {
   "cell_type": "code",
   "execution_count": null,
   "metadata": {},
   "outputs": [],
   "source": [
    "# graph charts for every company\n",
    "\n",
    "yrs1 = [2017, 2018, 2019, 2020]\n",
    "yrs2 = [2018, 2019, 2020, 2021]\n",
    "yrs3 = [2018, 2019, 2020, 2021, 2022]\n",
    "yrs4 = [np.arange(2017, 2023)]\n",
    "\n",
    "for company in foodag['COMPANY NAME'].unique():\n",
    "    num_years = foodag.loc[foodag['COMPANY NAME']==company, 'YEAR'].shape[0]\n",
    "    if num_years == 4:\n",
    "        graphCoEmissions(foodag, company, yrs2)\n",
    "    else:\n",
    "        graphCoEmissions(foodag, company, yrs3)"
   ]
  },
  {
   "cell_type": "code",
   "execution_count": null,
   "metadata": {},
   "outputs": [],
   "source": [
    "# another way to plot charts\n",
    "# import plotly.graph_objects as go\n",
    "\n",
    "# for company in foodag['COMPANY NAME'].unique():\n",
    "#     num_years = foodag.loc[foodag['COMPANY NAME']==company, 'YEAR'].shape[0]\n",
    "#     if num_years == 4:\n",
    "#         graphCoEmissionsPlotly(foodag, company, yrs2)\n",
    "#     else:\n",
    "#         graphCoEmissionsPlotly(foodag, company, yrs3)\n"
   ]
  },
  {
   "cell_type": "markdown",
   "metadata": {},
   "source": [
    "### Energy Emissions Charts"
   ]
  },
  {
   "cell_type": "markdown",
   "metadata": {},
   "source": [
    "<span style=\"color:red\">TASK: Exclude years with no data.</span>"
   ]
  },
  {
   "cell_type": "code",
   "execution_count": null,
   "metadata": {},
   "outputs": [],
   "source": [
    "# graph energy charts\n",
    "\n",
    "for company in energy['COMPANY NAME'].unique():\n",
    "    num_years = energy.loc[energy['COMPANY NAME']==company, 'YEAR'].shape[0]\n",
    "    if num_years == 4:\n",
    "        graphCoEmissionsPlotly(energy, company, yrs2)\n",
    "    else:\n",
    "        graphCoEmissionsPlotly(energy, company, yrs3)"
   ]
  },
  {
   "cell_type": "markdown",
   "metadata": {},
   "source": [
    "### Tech Emissions Charts"
   ]
  },
  {
   "cell_type": "code",
   "execution_count": null,
   "metadata": {},
   "outputs": [],
   "source": [
    "# graph tech charts\n",
    "\n",
    "for company in tech['COMPANY NAME'].unique():\n",
    "    num_years = tech.loc[tech['COMPANY NAME']==company, 'YEAR'].shape[0]\n",
    "    if num_years == 4:\n",
    "        graphCoEmissions(tech, company, yrs2)\n",
    "    else:\n",
    "        graphCoEmissions(tech, company, yrs3)"
   ]
  },
  {
   "cell_type": "markdown",
   "metadata": {},
   "source": [
    "### Auto Emissions Charts"
   ]
  },
  {
   "cell_type": "code",
   "execution_count": null,
   "metadata": {},
   "outputs": [],
   "source": [
    "for company in auto['COMPANY NAME'].unique():\n",
    "    num_years = auto.loc[auto['COMPANY NAME']==company, 'YEAR'].shape[0]\n",
    "    if num_years == 4:\n",
    "        graphCoEmissionsPlotly(auto, company, yrs2)\n",
    "    else:\n",
    "        graphCoEmissionsPlotly(auto, company, yrs3)"
   ]
  },
  {
   "cell_type": "code",
   "execution_count": null,
   "metadata": {},
   "outputs": [],
   "source": [
    "# scratch work code cell, replace elipses with any code you'd like to try\n",
    "\n",
    "..."
   ]
  },
  {
   "cell_type": "markdown",
   "metadata": {},
   "source": [
    "---"
   ]
  },
  {
   "cell_type": "markdown",
   "metadata": {},
   "source": [
    "## Net-Zero Goals\n",
    "\n",
    "I'd like to create simple visuals depicting net-zero goals for each firm"
   ]
  },
  {
   "cell_type": "code",
   "execution_count": null,
   "metadata": {},
   "outputs": [],
   "source": [
    "sectors['NET-ZERO TARGETS'].isna().sum()"
   ]
  },
  {
   "cell_type": "markdown",
   "metadata": {},
   "source": [
    "---"
   ]
  },
  {
   "cell_type": "markdown",
   "metadata": {},
   "source": [
    "# Section 4) Conclusion\n",
    "\n",
    "maybe link paper here?"
   ]
  },
  {
   "cell_type": "markdown",
   "metadata": {},
   "source": [
    "## What We Learned\n"
   ]
  },
  {
   "cell_type": "markdown",
   "metadata": {},
   "source": [
    "## Next Steps"
   ]
  },
  {
   "cell_type": "markdown",
   "metadata": {},
   "source": [
    "## Collaboration Efforts\n",
    "\n",
    "Contribute to our live database by filling out this Google Form and report your own emissions data!"
   ]
  },
  {
   "cell_type": "markdown",
   "metadata": {},
   "source": [
    "---"
   ]
  },
  {
   "cell_type": "markdown",
   "metadata": {},
   "source": []
  },
  {
   "cell_type": "code",
   "execution_count": null,
   "metadata": {},
   "outputs": [],
   "source": [
    "e = energy.groupby('YEAR').sum(numeric_only=True)\n",
    "e['TOTAL EMISSIONS']\n"
   ]
  },
  {
   "cell_type": "code",
   "execution_count": null,
   "metadata": {},
   "outputs": [],
   "source": [
    "energy_totals = energy.groupby('YEAR').sum(numeric_only=True)\n",
    "energy_totals['TOTAL EMISSIONS']\n",
    "\n",
    "years=[2018,2019,2020,2021,2022]\n",
    "total_emissions = energy_totals['TOTAL EMISSIONS'].values / 1000000\n",
    "\n",
    "fig, ax = plt.subplots()\n",
    "\n",
    "ax.bar(years, total_emissions, color='navy')\n",
    "plt.xlabel('Year')\n",
    "plt.ylabel('GHG Emissions (million mt $CO_{2}e$)')\n",
    "plt.title('Energy Sector', fontsize=10)\n",
    "plt.suptitle('Total GHG Emissions (2018-2022)', fontsize=14, fontweight='bold')\n",
    "bars = ax.bar(years, total_emissions)\n",
    "ax.bar_label(bars)\n",
    "plt.show();"
   ]
  },
  {
   "cell_type": "markdown",
   "metadata": {},
   "source": []
  }
 ],
 "metadata": {
  "kernelspec": {
   "display_name": "Python 3.9.6 64-bit",
   "language": "python",
   "name": "python3"
  },
  "language_info": {
   "codemirror_mode": {
    "name": "ipython",
    "version": 3
   },
   "file_extension": ".py",
   "mimetype": "text/x-python",
   "name": "python",
   "nbconvert_exporter": "python",
   "pygments_lexer": "ipython3",
   "version": "3.9.6"
  },
  "orig_nbformat": 4,
  "vscode": {
   "interpreter": {
    "hash": "31f2aee4e71d21fbe5cf8b01ff0e069b9275f58929596ceb00d14d90e3e16cd6"
   }
  }
 },
 "nbformat": 4,
 "nbformat_minor": 2
}
