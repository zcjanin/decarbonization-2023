{
 "cells": [
  {
   "cell_type": "markdown",
   "metadata": {},
   "source": [
    "# Corporate Decarbonization Research\n",
    "---"
   ]
  },
  {
   "cell_type": "markdown",
   "metadata": {},
   "source": [
    "## Import modules"
   ]
  },
  {
   "cell_type": "code",
   "execution_count": 1,
   "metadata": {},
   "outputs": [],
   "source": [
    "import pandas as pd\n",
    "import numpy as np\n",
    "import seaborn as sns\n",
    "import plotly.express as px\n",
    "import matplotlib.pyplot as plt"
   ]
  },
  {
   "cell_type": "markdown",
   "metadata": {},
   "source": [
    "---"
   ]
  },
  {
   "cell_type": "markdown",
   "metadata": {},
   "source": [
    "## Data Cleaning"
   ]
  },
  {
   "cell_type": "markdown",
   "metadata": {},
   "source": [
    "In this section of the notebbook, I will be importing our data and cleaning/standardizing our datasets."
   ]
  },
  {
   "cell_type": "code",
   "execution_count": 2,
   "metadata": {},
   "outputs": [],
   "source": [
    "foodag = pd.read_csv('data/food&ag.csv')\n",
    "energy = pd.read_csv('data/energy.csv')\n",
    "auto = pd.read_csv('data/auto.csv')\n",
    "tech = pd.read_csv('data/tech.csv')\n"
   ]
  },
  {
   "cell_type": "code",
   "execution_count": 3,
   "metadata": {},
   "outputs": [
    {
     "data": {
      "text/plain": [
       "((39, 12), (52, 12), (67, 13), (34, 12))"
      ]
     },
     "execution_count": 3,
     "metadata": {},
     "output_type": "execute_result"
    }
   ],
   "source": [
    "# Add sector columns to concatenate df's\n",
    "\n",
    "foodag['SECTOR'] = ['Food & Agriculture'] * len(foodag['COMPANY NAME'])\n",
    "energy['SECTOR'] = ['Energy'] * len(energy['COMPANY NAME'])\n",
    "auto['SECTOR'] = ['Auto'] * len(auto['COMPANY NAME'])\n",
    "tech['SECTOR'] = ['Tech'] * len(tech['COMPANY NAME'])\n",
    "foodag.shape, energy.shape, auto.shape, tech.shape\n"
   ]
  },
  {
   "cell_type": "code",
   "execution_count": 4,
   "metadata": {},
   "outputs": [],
   "source": [
    "# clean tech to standardize columns across all df's, shorten CI column name\n",
    "\n",
    "tech = tech.rename(columns={'CARBON INTENSITY\\n(Scope 1 & 2 g CO2e/ $ Sales) \\ncalculated' :\n",
    "'CARBON INTENSITY\\n(Scope 1 & 2 g CO2e / $ Sales)'})\n",
    "\n",
    "df_array = [foodag, energy, auto, tech]\n",
    "for df in df_array:\n",
    "    df.rename(columns={'CARBON INTENSITY\\n(Scope 1 & 2 g CO2e / $ Sales)': 'CARBON INTENSITY'}, inplace=True)\n",
    "\n"
   ]
  },
  {
   "cell_type": "code",
   "execution_count": 5,
   "metadata": {},
   "outputs": [
    {
     "data": {
      "text/plain": [
       "(192, 12)"
      ]
     },
     "execution_count": 5,
     "metadata": {},
     "output_type": "execute_result"
    }
   ],
   "source": [
    "# concatenate dataframes together\n",
    "\n",
    "sectors = pd.concat([foodag, energy, auto, tech])\n",
    "sectors = sectors.drop(columns='SCOPE 1 + SCOPE 2 EMISSIONS')\n",
    "sectors.shape"
   ]
  },
  {
   "cell_type": "code",
   "execution_count": 95,
   "metadata": {},
   "outputs": [],
   "source": [
    "# convert revenue's to USD\n",
    "\n",
    "def toUSD(i):\n",
    "    dic = {\n",
    "    'AUD': 0.75,   # 1 AUD to USD\n",
    "    'CAD': 0.78,   # 1 CAD to USD\n",
    "    'CHF': 1.09,   # 1 CHF to USD\n",
    "    'DKK': 0.15,   # 1 DKK to USD\n",
    "    'EUR': 1.16,   # 1 EUR to USD\n",
    "    'GBP': 1.37,   # 1 GBP to USD\n",
    "    'JPY': 0.009,  # 1 JPY to USD\n",
    "    'KRW': 0.0009, # 1 KRW to USD\n",
    "    'NOK': 0.11,   # 1 NOK to USD\n",
    "    'RUB': 0.014,  # 1 RUB to USD\n",
    "    'SEK': 0.11,   # 1 SEK to USD\n",
    "    'RMB': 7.29,   # 1 RMB to USD\n",
    "    'TWD' : 0.03,  # 1 TWD to USD\n",
    "    'USD': 1       # No Change    \n",
    "    }\n",
    "    if (i[0] != 'nan') & (i[1] != 'nan'):\n",
    "        return i[1] * dic[i[0]] # The revenue multiplied by the corresponding USD conversion rate\n",
    "\n",
    "# sectors['Revenue (USD)'] = sectors.apply(toUSD, 'TOTAL REVENUE (miillion $)')"
   ]
  },
  {
   "cell_type": "code",
   "execution_count": 96,
   "metadata": {},
   "outputs": [],
   "source": [
    "# Function for creating column with [Currency, Revenue]\n",
    "\n",
    "def currAndRev(df):\n",
    "    new_col = []\n",
    "    for i in np.arange(df.shape[0]):\n",
    "        new_col.append([df['CURRENCY'].values[i], df['TOTAL REVENUE (miillion $)'].values[i]])\n",
    "    df['REVENUE IN USD'] = new_col\n",
    "\n",
    "currAndRev(sectors)\n"
   ]
  },
  {
   "cell_type": "code",
   "execution_count": 97,
   "metadata": {},
   "outputs": [
    {
     "data": {
      "text/html": [
       "<div>\n",
       "<style scoped>\n",
       "    .dataframe tbody tr th:only-of-type {\n",
       "        vertical-align: middle;\n",
       "    }\n",
       "\n",
       "    .dataframe tbody tr th {\n",
       "        vertical-align: top;\n",
       "    }\n",
       "\n",
       "    .dataframe thead th {\n",
       "        text-align: right;\n",
       "    }\n",
       "</style>\n",
       "<table border=\"1\" class=\"dataframe\">\n",
       "  <thead>\n",
       "    <tr style=\"text-align: right;\">\n",
       "      <th></th>\n",
       "      <th>COMPANY NAME</th>\n",
       "      <th>YEAR</th>\n",
       "      <th>SCOPE 1</th>\n",
       "      <th>SCOPE 2 (location-based)</th>\n",
       "      <th>SCOPE 3</th>\n",
       "      <th>TOTAL EMISSIONS</th>\n",
       "      <th>TOTAL REVENUE (miillion $)</th>\n",
       "      <th>CURRENCY</th>\n",
       "      <th>CARBON INTENSITY</th>\n",
       "      <th>COUNTRY OF ORIGIN</th>\n",
       "      <th>SUBMIT TO CDP</th>\n",
       "      <th>SECTOR</th>\n",
       "      <th>USD REVENUE</th>\n",
       "    </tr>\n",
       "  </thead>\n",
       "  <tbody>\n",
       "    <tr>\n",
       "      <th>0</th>\n",
       "      <td>Anheuser-Busch InBev</td>\n",
       "      <td>2018</td>\n",
       "      <td>3700760.0</td>\n",
       "      <td>2383505.0</td>\n",
       "      <td>24431839.0</td>\n",
       "      <td>30516104.0</td>\n",
       "      <td>54619.0</td>\n",
       "      <td>USD</td>\n",
       "      <td>111.39</td>\n",
       "      <td>Belgium</td>\n",
       "      <td>Yes</td>\n",
       "      <td>Food &amp; Agriculture</td>\n",
       "      <td>54619.00</td>\n",
       "    </tr>\n",
       "    <tr>\n",
       "      <th>1</th>\n",
       "      <td>Anheuser-Busch InBev</td>\n",
       "      <td>2019</td>\n",
       "      <td>3600710.0</td>\n",
       "      <td>2215902.0</td>\n",
       "      <td>26484447.0</td>\n",
       "      <td>32301059.0</td>\n",
       "      <td>52329.0</td>\n",
       "      <td>USD</td>\n",
       "      <td>111.15</td>\n",
       "      <td>Belgium</td>\n",
       "      <td>Yes</td>\n",
       "      <td>Food &amp; Agriculture</td>\n",
       "      <td>52329.00</td>\n",
       "    </tr>\n",
       "    <tr>\n",
       "      <th>2</th>\n",
       "      <td>Anheuser-Busch InBev</td>\n",
       "      <td>2020</td>\n",
       "      <td>3081905.0</td>\n",
       "      <td>2227758.0</td>\n",
       "      <td>23652933.0</td>\n",
       "      <td>28962596.0</td>\n",
       "      <td>46881.0</td>\n",
       "      <td>USD</td>\n",
       "      <td>113.26</td>\n",
       "      <td>Belgium</td>\n",
       "      <td>Yes</td>\n",
       "      <td>Food &amp; Agriculture</td>\n",
       "      <td>46881.00</td>\n",
       "    </tr>\n",
       "    <tr>\n",
       "      <th>3</th>\n",
       "      <td>Anheuser-Busch InBev</td>\n",
       "      <td>2021</td>\n",
       "      <td>2953896.0</td>\n",
       "      <td>2243990.0</td>\n",
       "      <td>26527444.0</td>\n",
       "      <td>31725330.0</td>\n",
       "      <td>54304.0</td>\n",
       "      <td>USD</td>\n",
       "      <td>95.72</td>\n",
       "      <td>Belgium</td>\n",
       "      <td>Yes</td>\n",
       "      <td>Food &amp; Agriculture</td>\n",
       "      <td>54304.00</td>\n",
       "    </tr>\n",
       "    <tr>\n",
       "      <th>4</th>\n",
       "      <td>Danone</td>\n",
       "      <td>2018</td>\n",
       "      <td>753461.0</td>\n",
       "      <td>959554.0</td>\n",
       "      <td>24885804.0</td>\n",
       "      <td>26598819.0</td>\n",
       "      <td>24651.0</td>\n",
       "      <td>EUR</td>\n",
       "      <td>69.49</td>\n",
       "      <td>France</td>\n",
       "      <td>Yes</td>\n",
       "      <td>Food &amp; Agriculture</td>\n",
       "      <td>28595.16</td>\n",
       "    </tr>\n",
       "  </tbody>\n",
       "</table>\n",
       "</div>"
      ],
      "text/plain": [
       "           COMPANY NAME  YEAR    SCOPE 1  SCOPE 2 (location-based)  \\\n",
       "0  Anheuser-Busch InBev  2018  3700760.0                 2383505.0   \n",
       "1  Anheuser-Busch InBev  2019  3600710.0                 2215902.0   \n",
       "2  Anheuser-Busch InBev  2020  3081905.0                 2227758.0   \n",
       "3  Anheuser-Busch InBev  2021  2953896.0                 2243990.0   \n",
       "4                Danone  2018   753461.0                  959554.0   \n",
       "\n",
       "      SCOPE 3  TOTAL EMISSIONS  TOTAL REVENUE (miillion $) CURRENCY  \\\n",
       "0  24431839.0       30516104.0                     54619.0      USD   \n",
       "1  26484447.0       32301059.0                     52329.0      USD   \n",
       "2  23652933.0       28962596.0                     46881.0      USD   \n",
       "3  26527444.0       31725330.0                     54304.0      USD   \n",
       "4  24885804.0       26598819.0                     24651.0      EUR   \n",
       "\n",
       "  CARBON INTENSITY COUNTRY OF ORIGIN SUBMIT TO CDP              SECTOR  \\\n",
       "0           111.39           Belgium           Yes  Food & Agriculture   \n",
       "1           111.15           Belgium           Yes  Food & Agriculture   \n",
       "2           113.26           Belgium           Yes  Food & Agriculture   \n",
       "3            95.72           Belgium           Yes  Food & Agriculture   \n",
       "4            69.49            France           Yes  Food & Agriculture   \n",
       "\n",
       "   USD REVENUE  \n",
       "0     54619.00  \n",
       "1     52329.00  \n",
       "2     46881.00  \n",
       "3     54304.00  \n",
       "4     28595.16  "
      ]
     },
     "execution_count": 97,
     "metadata": {},
     "output_type": "execute_result"
    }
   ],
   "source": [
    "# create a copy of sectors with no null values and create USD Revenue column\n",
    "\n",
    "sectors_nona = sectors.copy().dropna()\n",
    "sectors_nona['USD REVENUE'] =  sectors_nona.loc[:, 'REVENUE IN USD'].apply(toUSD)\n",
    "\n",
    "sectors_nona = sectors_nona.drop(columns=['REVENUE IN USD'])\n",
    "sectors_nona.head()"
   ]
  },
  {
   "cell_type": "code",
   "execution_count": 98,
   "metadata": {},
   "outputs": [
    {
     "data": {
      "text/html": [
       "<div>\n",
       "<style scoped>\n",
       "    .dataframe tbody tr th:only-of-type {\n",
       "        vertical-align: middle;\n",
       "    }\n",
       "\n",
       "    .dataframe tbody tr th {\n",
       "        vertical-align: top;\n",
       "    }\n",
       "\n",
       "    .dataframe thead th {\n",
       "        text-align: right;\n",
       "    }\n",
       "</style>\n",
       "<table border=\"1\" class=\"dataframe\">\n",
       "  <thead>\n",
       "    <tr style=\"text-align: right;\">\n",
       "      <th></th>\n",
       "      <th>COMPANY NAME</th>\n",
       "      <th>YEAR</th>\n",
       "      <th>SCOPE 1</th>\n",
       "      <th>SCOPE 2 (location-based)</th>\n",
       "      <th>SCOPE 3</th>\n",
       "      <th>TOTAL EMISSIONS</th>\n",
       "      <th>TOTAL REVENUE (miillion $)</th>\n",
       "      <th>CURRENCY</th>\n",
       "      <th>CARBON INTENSITY</th>\n",
       "      <th>COUNTRY OF ORIGIN</th>\n",
       "      <th>SUBMIT TO CDP</th>\n",
       "      <th>SECTOR</th>\n",
       "      <th>USD REVENUE</th>\n",
       "      <th>ADJUSTED CI</th>\n",
       "    </tr>\n",
       "  </thead>\n",
       "  <tbody>\n",
       "    <tr>\n",
       "      <th>0</th>\n",
       "      <td>Anheuser-Busch InBev</td>\n",
       "      <td>2018</td>\n",
       "      <td>3700760.0</td>\n",
       "      <td>2383505.0</td>\n",
       "      <td>24431839.0</td>\n",
       "      <td>30516104.0</td>\n",
       "      <td>54619.0</td>\n",
       "      <td>USD</td>\n",
       "      <td>111.39</td>\n",
       "      <td>Belgium</td>\n",
       "      <td>Yes</td>\n",
       "      <td>Food &amp; Agriculture</td>\n",
       "      <td>54619.00</td>\n",
       "      <td>111.39</td>\n",
       "    </tr>\n",
       "    <tr>\n",
       "      <th>1</th>\n",
       "      <td>Anheuser-Busch InBev</td>\n",
       "      <td>2019</td>\n",
       "      <td>3600710.0</td>\n",
       "      <td>2215902.0</td>\n",
       "      <td>26484447.0</td>\n",
       "      <td>32301059.0</td>\n",
       "      <td>52329.0</td>\n",
       "      <td>USD</td>\n",
       "      <td>111.15</td>\n",
       "      <td>Belgium</td>\n",
       "      <td>Yes</td>\n",
       "      <td>Food &amp; Agriculture</td>\n",
       "      <td>52329.00</td>\n",
       "      <td>111.15</td>\n",
       "    </tr>\n",
       "    <tr>\n",
       "      <th>2</th>\n",
       "      <td>Anheuser-Busch InBev</td>\n",
       "      <td>2020</td>\n",
       "      <td>3081905.0</td>\n",
       "      <td>2227758.0</td>\n",
       "      <td>23652933.0</td>\n",
       "      <td>28962596.0</td>\n",
       "      <td>46881.0</td>\n",
       "      <td>USD</td>\n",
       "      <td>113.26</td>\n",
       "      <td>Belgium</td>\n",
       "      <td>Yes</td>\n",
       "      <td>Food &amp; Agriculture</td>\n",
       "      <td>46881.00</td>\n",
       "      <td>113.26</td>\n",
       "    </tr>\n",
       "    <tr>\n",
       "      <th>3</th>\n",
       "      <td>Anheuser-Busch InBev</td>\n",
       "      <td>2021</td>\n",
       "      <td>2953896.0</td>\n",
       "      <td>2243990.0</td>\n",
       "      <td>26527444.0</td>\n",
       "      <td>31725330.0</td>\n",
       "      <td>54304.0</td>\n",
       "      <td>USD</td>\n",
       "      <td>95.72</td>\n",
       "      <td>Belgium</td>\n",
       "      <td>Yes</td>\n",
       "      <td>Food &amp; Agriculture</td>\n",
       "      <td>54304.00</td>\n",
       "      <td>95.72</td>\n",
       "    </tr>\n",
       "    <tr>\n",
       "      <th>4</th>\n",
       "      <td>Danone</td>\n",
       "      <td>2018</td>\n",
       "      <td>753461.0</td>\n",
       "      <td>959554.0</td>\n",
       "      <td>24885804.0</td>\n",
       "      <td>26598819.0</td>\n",
       "      <td>24651.0</td>\n",
       "      <td>EUR</td>\n",
       "      <td>69.49</td>\n",
       "      <td>France</td>\n",
       "      <td>Yes</td>\n",
       "      <td>Food &amp; Agriculture</td>\n",
       "      <td>28595.16</td>\n",
       "      <td>59.91</td>\n",
       "    </tr>\n",
       "  </tbody>\n",
       "</table>\n",
       "</div>"
      ],
      "text/plain": [
       "           COMPANY NAME  YEAR    SCOPE 1  SCOPE 2 (location-based)  \\\n",
       "0  Anheuser-Busch InBev  2018  3700760.0                 2383505.0   \n",
       "1  Anheuser-Busch InBev  2019  3600710.0                 2215902.0   \n",
       "2  Anheuser-Busch InBev  2020  3081905.0                 2227758.0   \n",
       "3  Anheuser-Busch InBev  2021  2953896.0                 2243990.0   \n",
       "4                Danone  2018   753461.0                  959554.0   \n",
       "\n",
       "      SCOPE 3  TOTAL EMISSIONS  TOTAL REVENUE (miillion $) CURRENCY  \\\n",
       "0  24431839.0       30516104.0                     54619.0      USD   \n",
       "1  26484447.0       32301059.0                     52329.0      USD   \n",
       "2  23652933.0       28962596.0                     46881.0      USD   \n",
       "3  26527444.0       31725330.0                     54304.0      USD   \n",
       "4  24885804.0       26598819.0                     24651.0      EUR   \n",
       "\n",
       "  CARBON INTENSITY COUNTRY OF ORIGIN SUBMIT TO CDP              SECTOR  \\\n",
       "0           111.39           Belgium           Yes  Food & Agriculture   \n",
       "1           111.15           Belgium           Yes  Food & Agriculture   \n",
       "2           113.26           Belgium           Yes  Food & Agriculture   \n",
       "3            95.72           Belgium           Yes  Food & Agriculture   \n",
       "4            69.49            France           Yes  Food & Agriculture   \n",
       "\n",
       "   USD REVENUE  ADJUSTED CI  \n",
       "0     54619.00       111.39  \n",
       "1     52329.00       111.15  \n",
       "2     46881.00       113.26  \n",
       "3     54304.00        95.72  \n",
       "4     28595.16        59.91  "
      ]
     },
     "execution_count": 98,
     "metadata": {},
     "output_type": "execute_result"
    }
   ],
   "source": [
    "sectors_nona['ADJUSTED CI'] = ((sectors_nona['SCOPE 1'] + sectors_nona['SCOPE 2 (location-based)']) / sectors_nona['USD REVENUE']).round(2)\n",
    "sectors_nona.head()"
   ]
  },
  {
   "cell_type": "code",
   "execution_count": 103,
   "metadata": {},
   "outputs": [
    {
     "data": {
      "text/html": [
       "<div>\n",
       "<style scoped>\n",
       "    .dataframe tbody tr th:only-of-type {\n",
       "        vertical-align: middle;\n",
       "    }\n",
       "\n",
       "    .dataframe tbody tr th {\n",
       "        vertical-align: top;\n",
       "    }\n",
       "\n",
       "    .dataframe thead th {\n",
       "        text-align: right;\n",
       "    }\n",
       "</style>\n",
       "<table border=\"1\" class=\"dataframe\">\n",
       "  <thead>\n",
       "    <tr style=\"text-align: right;\">\n",
       "      <th></th>\n",
       "      <th>COMPANY NAME</th>\n",
       "      <th>YEAR</th>\n",
       "      <th>SCOPE 1</th>\n",
       "      <th>SCOPE 2 (location-based)</th>\n",
       "      <th>SCOPE 3</th>\n",
       "      <th>TOTAL EMISSIONS</th>\n",
       "      <th>TOTAL REVENUE (miillion $)</th>\n",
       "      <th>CURRENCY</th>\n",
       "      <th>CARBON INTENSITY</th>\n",
       "      <th>COUNTRY OF ORIGIN</th>\n",
       "      <th>SUBMIT TO CDP</th>\n",
       "      <th>SECTOR</th>\n",
       "      <th>REVENUE IN USD</th>\n",
       "    </tr>\n",
       "  </thead>\n",
       "  <tbody>\n",
       "    <tr>\n",
       "      <th>0</th>\n",
       "      <td>Anheuser-Busch InBev</td>\n",
       "      <td>2018</td>\n",
       "      <td>3700760.0</td>\n",
       "      <td>2383505.0</td>\n",
       "      <td>24431839.0</td>\n",
       "      <td>30516104.0</td>\n",
       "      <td>54619.0</td>\n",
       "      <td>USD</td>\n",
       "      <td>111.39</td>\n",
       "      <td>Belgium</td>\n",
       "      <td>True</td>\n",
       "      <td>Food &amp; Agriculture</td>\n",
       "      <td>[USD, 54619.0]</td>\n",
       "    </tr>\n",
       "    <tr>\n",
       "      <th>1</th>\n",
       "      <td>Anheuser-Busch InBev</td>\n",
       "      <td>2019</td>\n",
       "      <td>3600710.0</td>\n",
       "      <td>2215902.0</td>\n",
       "      <td>26484447.0</td>\n",
       "      <td>32301059.0</td>\n",
       "      <td>52329.0</td>\n",
       "      <td>USD</td>\n",
       "      <td>111.15</td>\n",
       "      <td>Belgium</td>\n",
       "      <td>True</td>\n",
       "      <td>Food &amp; Agriculture</td>\n",
       "      <td>[USD, 52329.0]</td>\n",
       "    </tr>\n",
       "    <tr>\n",
       "      <th>2</th>\n",
       "      <td>Anheuser-Busch InBev</td>\n",
       "      <td>2020</td>\n",
       "      <td>3081905.0</td>\n",
       "      <td>2227758.0</td>\n",
       "      <td>23652933.0</td>\n",
       "      <td>28962596.0</td>\n",
       "      <td>46881.0</td>\n",
       "      <td>USD</td>\n",
       "      <td>113.26</td>\n",
       "      <td>Belgium</td>\n",
       "      <td>True</td>\n",
       "      <td>Food &amp; Agriculture</td>\n",
       "      <td>[USD, 46881.0]</td>\n",
       "    </tr>\n",
       "    <tr>\n",
       "      <th>3</th>\n",
       "      <td>Anheuser-Busch InBev</td>\n",
       "      <td>2021</td>\n",
       "      <td>2953896.0</td>\n",
       "      <td>2243990.0</td>\n",
       "      <td>26527444.0</td>\n",
       "      <td>31725330.0</td>\n",
       "      <td>54304.0</td>\n",
       "      <td>USD</td>\n",
       "      <td>95.72</td>\n",
       "      <td>Belgium</td>\n",
       "      <td>True</td>\n",
       "      <td>Food &amp; Agriculture</td>\n",
       "      <td>[USD, 54304.0]</td>\n",
       "    </tr>\n",
       "    <tr>\n",
       "      <th>4</th>\n",
       "      <td>Danone</td>\n",
       "      <td>2018</td>\n",
       "      <td>753461.0</td>\n",
       "      <td>959554.0</td>\n",
       "      <td>24885804.0</td>\n",
       "      <td>26598819.0</td>\n",
       "      <td>24651.0</td>\n",
       "      <td>EUR</td>\n",
       "      <td>69.49</td>\n",
       "      <td>France</td>\n",
       "      <td>True</td>\n",
       "      <td>Food &amp; Agriculture</td>\n",
       "      <td>[EUR, 24651.0]</td>\n",
       "    </tr>\n",
       "  </tbody>\n",
       "</table>\n",
       "</div>"
      ],
      "text/plain": [
       "           COMPANY NAME  YEAR    SCOPE 1  SCOPE 2 (location-based)  \\\n",
       "0  Anheuser-Busch InBev  2018  3700760.0                 2383505.0   \n",
       "1  Anheuser-Busch InBev  2019  3600710.0                 2215902.0   \n",
       "2  Anheuser-Busch InBev  2020  3081905.0                 2227758.0   \n",
       "3  Anheuser-Busch InBev  2021  2953896.0                 2243990.0   \n",
       "4                Danone  2018   753461.0                  959554.0   \n",
       "\n",
       "      SCOPE 3  TOTAL EMISSIONS  TOTAL REVENUE (miillion $) CURRENCY  \\\n",
       "0  24431839.0       30516104.0                     54619.0      USD   \n",
       "1  26484447.0       32301059.0                     52329.0      USD   \n",
       "2  23652933.0       28962596.0                     46881.0      USD   \n",
       "3  26527444.0       31725330.0                     54304.0      USD   \n",
       "4  24885804.0       26598819.0                     24651.0      EUR   \n",
       "\n",
       "  CARBON INTENSITY COUNTRY OF ORIGIN SUBMIT TO CDP              SECTOR  \\\n",
       "0           111.39           Belgium          True  Food & Agriculture   \n",
       "1           111.15           Belgium          True  Food & Agriculture   \n",
       "2           113.26           Belgium          True  Food & Agriculture   \n",
       "3            95.72           Belgium          True  Food & Agriculture   \n",
       "4            69.49            France          True  Food & Agriculture   \n",
       "\n",
       "   REVENUE IN USD  \n",
       "0  [USD, 54619.0]  \n",
       "1  [USD, 52329.0]  \n",
       "2  [USD, 46881.0]  \n",
       "3  [USD, 54304.0]  \n",
       "4  [EUR, 24651.0]  "
      ]
     },
     "execution_count": 103,
     "metadata": {},
     "output_type": "execute_result"
    }
   ],
   "source": [
    "# Replace 'Submit to CDP' values with True and False for performing categorical data analysis\n",
    "\n",
    "sectors['SUBMIT TO CDP'] = sectors['SUBMIT TO CDP'].replace({\n",
    "    'Yes' : True,\n",
    "    'No' : False\n",
    "})\n",
    "\n",
    "sectors.head()"
   ]
  },
  {
   "cell_type": "markdown",
   "metadata": {},
   "source": [
    "---"
   ]
  },
  {
   "cell_type": "markdown",
   "metadata": {},
   "source": [
    "## Cross-Sector Exploratory Data Analysis (EDA)"
   ]
  },
  {
   "cell_type": "code",
   "execution_count": 82,
   "metadata": {},
   "outputs": [
    {
     "data": {
      "text/html": [
       "<div>\n",
       "<style scoped>\n",
       "    .dataframe tbody tr th:only-of-type {\n",
       "        vertical-align: middle;\n",
       "    }\n",
       "\n",
       "    .dataframe tbody tr th {\n",
       "        vertical-align: top;\n",
       "    }\n",
       "\n",
       "    .dataframe thead th {\n",
       "        text-align: right;\n",
       "    }\n",
       "</style>\n",
       "<table border=\"1\" class=\"dataframe\">\n",
       "  <thead>\n",
       "    <tr style=\"text-align: right;\">\n",
       "      <th></th>\n",
       "      <th>SCOPE 1</th>\n",
       "      <th>SCOPE 2 (location-based)</th>\n",
       "      <th>SCOPE 3</th>\n",
       "      <th>TOTAL EMISSIONS</th>\n",
       "      <th>TOTAL REVENUE (miillion $)</th>\n",
       "    </tr>\n",
       "    <tr>\n",
       "      <th>SECTOR</th>\n",
       "      <th></th>\n",
       "      <th></th>\n",
       "      <th></th>\n",
       "      <th></th>\n",
       "      <th></th>\n",
       "    </tr>\n",
       "  </thead>\n",
       "  <tbody>\n",
       "    <tr>\n",
       "      <th>Energy</th>\n",
       "      <td>49572817.0</td>\n",
       "      <td>7985842.0</td>\n",
       "      <td>429716132.0</td>\n",
       "      <td>390728248.0</td>\n",
       "      <td>365796.0</td>\n",
       "    </tr>\n",
       "    <tr>\n",
       "      <th>Auto</th>\n",
       "      <td>1149196.0</td>\n",
       "      <td>2299911.0</td>\n",
       "      <td>190202075.0</td>\n",
       "      <td>193927442.0</td>\n",
       "      <td>118852.0</td>\n",
       "    </tr>\n",
       "    <tr>\n",
       "      <th>Food &amp; Agriculture</th>\n",
       "      <td>1632704.0</td>\n",
       "      <td>1226111.0</td>\n",
       "      <td>41175943.0</td>\n",
       "      <td>44034758.0</td>\n",
       "      <td>44966.0</td>\n",
       "    </tr>\n",
       "    <tr>\n",
       "      <th>Tech</th>\n",
       "      <td>2495589.0</td>\n",
       "      <td>5359486.0</td>\n",
       "      <td>27581036.0</td>\n",
       "      <td>35436111.0</td>\n",
       "      <td>213245.0</td>\n",
       "    </tr>\n",
       "  </tbody>\n",
       "</table>\n",
       "</div>"
      ],
      "text/plain": [
       "                       SCOPE 1  SCOPE 2 (location-based)      SCOPE 3  \\\n",
       "SECTOR                                                                  \n",
       "Energy              49572817.0                 7985842.0  429716132.0   \n",
       "Auto                 1149196.0                 2299911.0  190202075.0   \n",
       "Food & Agriculture   1632704.0                 1226111.0   41175943.0   \n",
       "Tech                 2495589.0                 5359486.0   27581036.0   \n",
       "\n",
       "                    TOTAL EMISSIONS  TOTAL REVENUE (miillion $)  \n",
       "SECTOR                                                           \n",
       "Energy                  390728248.0                    365796.0  \n",
       "Auto                    193927442.0                    118852.0  \n",
       "Food & Agriculture       44034758.0                     44966.0  \n",
       "Tech                     35436111.0                    213245.0  "
      ]
     },
     "execution_count": 82,
     "metadata": {},
     "output_type": "execute_result"
    }
   ],
   "source": [
    "# Average scope and revenue values by sector in descending order of average total emissions\n",
    "\n",
    "sectors.groupby('SECTOR').mean(numeric_only=True).drop(columns=['YEAR']).round(0).sort_values(by='TOTAL EMISSIONS', ascending=False)"
   ]
  },
  {
   "cell_type": "code",
   "execution_count": 81,
   "metadata": {},
   "outputs": [
    {
     "data": {
      "text/html": [
       "<div>\n",
       "<style scoped>\n",
       "    .dataframe tbody tr th:only-of-type {\n",
       "        vertical-align: middle;\n",
       "    }\n",
       "\n",
       "    .dataframe tbody tr th {\n",
       "        vertical-align: top;\n",
       "    }\n",
       "\n",
       "    .dataframe thead th {\n",
       "        text-align: right;\n",
       "    }\n",
       "</style>\n",
       "<table border=\"1\" class=\"dataframe\">\n",
       "  <thead>\n",
       "    <tr style=\"text-align: right;\">\n",
       "      <th></th>\n",
       "      <th>Mean USD Revenue</th>\n",
       "    </tr>\n",
       "    <tr>\n",
       "      <th>SECTOR</th>\n",
       "      <th></th>\n",
       "    </tr>\n",
       "  </thead>\n",
       "  <tbody>\n",
       "    <tr>\n",
       "      <th>Tech</th>\n",
       "      <td>166592.0</td>\n",
       "    </tr>\n",
       "    <tr>\n",
       "      <th>Auto</th>\n",
       "      <td>111464.0</td>\n",
       "    </tr>\n",
       "    <tr>\n",
       "      <th>Energy</th>\n",
       "      <td>102103.0</td>\n",
       "    </tr>\n",
       "    <tr>\n",
       "      <th>Food &amp; Agriculture</th>\n",
       "      <td>50114.0</td>\n",
       "    </tr>\n",
       "  </tbody>\n",
       "</table>\n",
       "</div>"
      ],
      "text/plain": [
       "                    Mean USD Revenue\n",
       "SECTOR                              \n",
       "Tech                        166592.0\n",
       "Auto                        111464.0\n",
       "Energy                      102103.0\n",
       "Food & Agriculture           50114.0"
      ]
     },
     "execution_count": 81,
     "metadata": {},
     "output_type": "execute_result"
    }
   ],
   "source": [
    "rev_summary = sectors_nona.groupby('SECTOR').mean(numeric_only=True).round(0)[['USD REVENUE']].rename(columns={'USD REVENUE' : 'Mean USD Revenue'}).sort_values(by='Mean USD Revenue', ascending=False)\n",
    "rev_summary"
   ]
  },
  {
   "cell_type": "code",
   "execution_count": 87,
   "metadata": {},
   "outputs": [
    {
     "data": {
      "text/html": [
       "<div>\n",
       "<style scoped>\n",
       "    .dataframe tbody tr th:only-of-type {\n",
       "        vertical-align: middle;\n",
       "    }\n",
       "\n",
       "    .dataframe tbody tr th {\n",
       "        vertical-align: top;\n",
       "    }\n",
       "\n",
       "    .dataframe thead th {\n",
       "        text-align: right;\n",
       "    }\n",
       "</style>\n",
       "<table border=\"1\" class=\"dataframe\">\n",
       "  <thead>\n",
       "    <tr style=\"text-align: right;\">\n",
       "      <th></th>\n",
       "      <th>SCOPE 1</th>\n",
       "      <th>SCOPE 2 (location-based)</th>\n",
       "      <th>SCOPE 3</th>\n",
       "      <th>TOTAL EMISSIONS</th>\n",
       "      <th>TOTAL REVENUE (miillion $)</th>\n",
       "    </tr>\n",
       "    <tr>\n",
       "      <th>COMPANY NAME</th>\n",
       "      <th></th>\n",
       "      <th></th>\n",
       "      <th></th>\n",
       "      <th></th>\n",
       "      <th></th>\n",
       "    </tr>\n",
       "  </thead>\n",
       "  <tbody>\n",
       "    <tr>\n",
       "      <th>Shell</th>\n",
       "      <td>6.600000e+07</td>\n",
       "      <td>1.050000e+07</td>\n",
       "      <td>1.019486e+09</td>\n",
       "      <td>1.095986e+09</td>\n",
       "      <td>3.011285e+05</td>\n",
       "    </tr>\n",
       "    <tr>\n",
       "      <th>Chevron</th>\n",
       "      <td>5.975000e+07</td>\n",
       "      <td>3.250000e+06</td>\n",
       "      <td>1.026750e+09</td>\n",
       "      <td>1.089750e+09</td>\n",
       "      <td>1.372110e+05</td>\n",
       "    </tr>\n",
       "    <tr>\n",
       "      <th>Gazprom</th>\n",
       "      <td>8.753618e+07</td>\n",
       "      <td>6.279702e+06</td>\n",
       "      <td>1.127929e+09</td>\n",
       "      <td>9.397628e+08</td>\n",
       "      <td>3.554709e+06</td>\n",
       "    </tr>\n",
       "    <tr>\n",
       "      <th>Volkswagen</th>\n",
       "      <td>4.399262e+06</td>\n",
       "      <td>4.672319e+06</td>\n",
       "      <td>3.906633e+08</td>\n",
       "      <td>3.997349e+08</td>\n",
       "      <td>2.638767e+05</td>\n",
       "    </tr>\n",
       "    <tr>\n",
       "      <th>BP</th>\n",
       "      <td>4.322500e+07</td>\n",
       "      <td>4.175000e+06</td>\n",
       "      <td>3.560667e+08</td>\n",
       "      <td>3.144500e+08</td>\n",
       "      <td>2.149068e+05</td>\n",
       "    </tr>\n",
       "    <tr>\n",
       "      <th>Honda</th>\n",
       "      <td>1.250049e+06</td>\n",
       "      <td>3.443023e+06</td>\n",
       "      <td>2.886172e+08</td>\n",
       "      <td>2.933103e+08</td>\n",
       "      <td>1.037518e+05</td>\n",
       "    </tr>\n",
       "    <tr>\n",
       "      <th>Equinor</th>\n",
       "      <td>1.374247e+07</td>\n",
       "      <td>1.895245e+05</td>\n",
       "      <td>2.782205e+08</td>\n",
       "      <td>2.921525e+08</td>\n",
       "      <td>7.017300e+04</td>\n",
       "    </tr>\n",
       "    <tr>\n",
       "      <th>Fiat-Chrysler</th>\n",
       "      <td>1.227754e+06</td>\n",
       "      <td>2.414369e+06</td>\n",
       "      <td>2.668018e+08</td>\n",
       "      <td>2.706001e+08</td>\n",
       "      <td>1.365630e+05</td>\n",
       "    </tr>\n",
       "    <tr>\n",
       "      <th>General Motors</th>\n",
       "      <td>1.533818e+06</td>\n",
       "      <td>3.849410e+06</td>\n",
       "      <td>2.564534e+08</td>\n",
       "      <td>2.618366e+08</td>\n",
       "      <td>1.304254e+05</td>\n",
       "    </tr>\n",
       "    <tr>\n",
       "      <th>Ford</th>\n",
       "      <td>1.296148e+06</td>\n",
       "      <td>3.071857e+06</td>\n",
       "      <td>2.446802e+08</td>\n",
       "      <td>2.490482e+08</td>\n",
       "      <td>1.450688e+05</td>\n",
       "    </tr>\n",
       "    <tr>\n",
       "      <th>Oxy</th>\n",
       "      <td>1.727176e+07</td>\n",
       "      <td>4.909311e+06</td>\n",
       "      <td>1.874500e+08</td>\n",
       "      <td>2.096311e+08</td>\n",
       "      <td>2.062500e+04</td>\n",
       "    </tr>\n",
       "    <tr>\n",
       "      <th>PetroChina</th>\n",
       "      <td>1.270433e+08</td>\n",
       "      <td>3.997667e+07</td>\n",
       "      <td>NaN</td>\n",
       "      <td>1.670200e+08</td>\n",
       "      <td>1.568467e+04</td>\n",
       "    </tr>\n",
       "    <tr>\n",
       "      <th>EDF</th>\n",
       "      <td>3.096551e+07</td>\n",
       "      <td>3.422470e+05</td>\n",
       "      <td>1.096443e+08</td>\n",
       "      <td>1.409521e+08</td>\n",
       "      <td>8.070650e+04</td>\n",
       "    </tr>\n",
       "    <tr>\n",
       "      <th>Nestlé</th>\n",
       "      <td>3.272557e+06</td>\n",
       "      <td>2.516767e+06</td>\n",
       "      <td>1.107823e+08</td>\n",
       "      <td>1.165716e+08</td>\n",
       "      <td>8.987900e+04</td>\n",
       "    </tr>\n",
       "    <tr>\n",
       "      <th>Exxon</th>\n",
       "      <td>1.012500e+08</td>\n",
       "      <td>8.500000e+06</td>\n",
       "      <td>NaN</td>\n",
       "      <td>1.097500e+08</td>\n",
       "      <td>2.555730e+05</td>\n",
       "    </tr>\n",
       "    <tr>\n",
       "      <th>Daimler/Mercedes</th>\n",
       "      <td>9.925000e+05</td>\n",
       "      <td>1.528333e+06</td>\n",
       "      <td>1.063269e+08</td>\n",
       "      <td>1.090139e+08</td>\n",
       "      <td>1.699798e+05</td>\n",
       "    </tr>\n",
       "    <tr>\n",
       "      <th>BMW</th>\n",
       "      <td>6.527716e+05</td>\n",
       "      <td>1.477980e+06</td>\n",
       "      <td>1.033385e+08</td>\n",
       "      <td>1.054692e+08</td>\n",
       "      <td>1.021194e+05</td>\n",
       "    </tr>\n",
       "    <tr>\n",
       "      <th>Toyota</th>\n",
       "      <td>4.173922e+05</td>\n",
       "      <td>7.552882e+05</td>\n",
       "      <td>1.016301e+08</td>\n",
       "      <td>1.028028e+08</td>\n",
       "      <td>2.084658e+05</td>\n",
       "    </tr>\n",
       "    <tr>\n",
       "      <th>Samsung</th>\n",
       "      <td>5.844860e+06</td>\n",
       "      <td>1.193088e+07</td>\n",
       "      <td>8.436758e+07</td>\n",
       "      <td>1.021433e+08</td>\n",
       "      <td>2.861358e+05</td>\n",
       "    </tr>\n",
       "    <tr>\n",
       "      <th>Geely</th>\n",
       "      <td>1.809667e+05</td>\n",
       "      <td>5.386895e+05</td>\n",
       "      <td>7.942017e+07</td>\n",
       "      <td>8.032717e+07</td>\n",
       "      <td>1.488183e+04</td>\n",
       "    </tr>\n",
       "    <tr>\n",
       "      <th>Hyundai</th>\n",
       "      <td>7.950490e+05</td>\n",
       "      <td>1.811550e+06</td>\n",
       "      <td>6.706868e+07</td>\n",
       "      <td>6.967528e+07</td>\n",
       "      <td>8.157000e+04</td>\n",
       "    </tr>\n",
       "    <tr>\n",
       "      <th>Saudi Aramco</th>\n",
       "      <td>5.125000e+07</td>\n",
       "      <td>1.680000e+07</td>\n",
       "      <td>NaN</td>\n",
       "      <td>6.805000e+07</td>\n",
       "      <td>NaN</td>\n",
       "    </tr>\n",
       "    <tr>\n",
       "      <th>Unilever</th>\n",
       "      <td>6.461478e+05</td>\n",
       "      <td>1.315285e+06</td>\n",
       "      <td>5.923640e+07</td>\n",
       "      <td>6.119783e+07</td>\n",
       "      <td>5.153250e+04</td>\n",
       "    </tr>\n",
       "    <tr>\n",
       "      <th>Tesco</th>\n",
       "      <td>1.096473e+06</td>\n",
       "      <td>8.039212e+05</td>\n",
       "      <td>5.902807e+07</td>\n",
       "      <td>6.092846e+07</td>\n",
       "      <td>5.991050e+04</td>\n",
       "    </tr>\n",
       "    <tr>\n",
       "      <th>Amazon</th>\n",
       "      <td>9.174000e+06</td>\n",
       "      <td>4.488000e+06</td>\n",
       "      <td>4.614200e+07</td>\n",
       "      <td>5.980400e+07</td>\n",
       "      <td>3.766556e+05</td>\n",
       "    </tr>\n",
       "    <tr>\n",
       "      <th>PepsiCo</th>\n",
       "      <td>3.552126e+06</td>\n",
       "      <td>1.710306e+06</td>\n",
       "      <td>5.419511e+07</td>\n",
       "      <td>5.945755e+07</td>\n",
       "      <td>7.361200e+04</td>\n",
       "    </tr>\n",
       "    <tr>\n",
       "      <th>Anheuser-Busch InBev</th>\n",
       "      <td>3.334318e+06</td>\n",
       "      <td>2.267789e+06</td>\n",
       "      <td>2.527417e+07</td>\n",
       "      <td>3.087627e+07</td>\n",
       "      <td>5.203325e+04</td>\n",
       "    </tr>\n",
       "    <tr>\n",
       "      <th>Orsted</th>\n",
       "      <td>2.330500e+06</td>\n",
       "      <td>1.095000e+05</td>\n",
       "      <td>2.840264e+07</td>\n",
       "      <td>3.084264e+07</td>\n",
       "      <td>6.876550e+04</td>\n",
       "    </tr>\n",
       "    <tr>\n",
       "      <th>Danone</th>\n",
       "      <td>6.985184e+05</td>\n",
       "      <td>7.716178e+05</td>\n",
       "      <td>2.864806e+07</td>\n",
       "      <td>3.011820e+07</td>\n",
       "      <td>2.544120e+04</td>\n",
       "    </tr>\n",
       "    <tr>\n",
       "      <th>Apple</th>\n",
       "      <td>5.360040e+04</td>\n",
       "      <td>7.433324e+05</td>\n",
       "      <td>2.325508e+07</td>\n",
       "      <td>2.405201e+07</td>\n",
       "      <td>3.120858e+05</td>\n",
       "    </tr>\n",
       "    <tr>\n",
       "      <th>Microsoft</th>\n",
       "      <td>1.170704e+05</td>\n",
       "      <td>4.357194e+06</td>\n",
       "      <td>1.452446e+07</td>\n",
       "      <td>1.899872e+07</td>\n",
       "      <td>1.491152e+05</td>\n",
       "    </tr>\n",
       "    <tr>\n",
       "      <th>Tesla</th>\n",
       "      <td>1.935000e+05</td>\n",
       "      <td>4.055000e+05</td>\n",
       "      <td>1.602700e+07</td>\n",
       "      <td>1.662600e+07</td>\n",
       "      <td>3.743650e+04</td>\n",
       "    </tr>\n",
       "    <tr>\n",
       "      <th>Alphabet</th>\n",
       "      <td>6.103480e+04</td>\n",
       "      <td>5.989674e+06</td>\n",
       "      <td>1.020969e+07</td>\n",
       "      <td>1.626040e+07</td>\n",
       "      <td>2.043352e+05</td>\n",
       "    </tr>\n",
       "    <tr>\n",
       "      <th>TSMC</th>\n",
       "      <td>2.090024e+06</td>\n",
       "      <td>7.957831e+06</td>\n",
       "      <td>5.330609e+06</td>\n",
       "      <td>1.537846e+07</td>\n",
       "      <td>4.041550e+04</td>\n",
       "    </tr>\n",
       "    <tr>\n",
       "      <th>Enel</th>\n",
       "      <td>6.988078e+06</td>\n",
       "      <td>5.387778e+05</td>\n",
       "      <td>5.599011e+06</td>\n",
       "      <td>1.312587e+07</td>\n",
       "      <td>1.397075e+04</td>\n",
       "    </tr>\n",
       "    <tr>\n",
       "      <th>Kellogg’s</th>\n",
       "      <td>4.794732e+05</td>\n",
       "      <td>5.995662e+05</td>\n",
       "      <td>8.265570e+06</td>\n",
       "      <td>9.344610e+06</td>\n",
       "      <td>1.376900e+04</td>\n",
       "    </tr>\n",
       "    <tr>\n",
       "      <th>Meta</th>\n",
       "      <td>4.742140e+04</td>\n",
       "      <td>2.569161e+06</td>\n",
       "      <td>4.787741e+06</td>\n",
       "      <td>7.404324e+06</td>\n",
       "      <td>8.940760e+04</td>\n",
       "    </tr>\n",
       "    <tr>\n",
       "      <th>Molson Coors</th>\n",
       "      <td>4.617948e+05</td>\n",
       "      <td>5.619502e+05</td>\n",
       "      <td>4.430972e+06</td>\n",
       "      <td>5.454718e+06</td>\n",
       "      <td>1.263025e+04</td>\n",
       "    </tr>\n",
       "    <tr>\n",
       "      <th>Diageo</th>\n",
       "      <td>4.966612e+05</td>\n",
       "      <td>1.577092e+05</td>\n",
       "      <td>3.198414e+06</td>\n",
       "      <td>3.852785e+06</td>\n",
       "      <td>1.237875e+04</td>\n",
       "    </tr>\n",
       "    <tr>\n",
       "      <th>BYD</th>\n",
       "      <td>1.776580e+05</td>\n",
       "      <td>2.726719e+06</td>\n",
       "      <td>NaN</td>\n",
       "      <td>NaN</td>\n",
       "      <td>2.686250e+04</td>\n",
       "    </tr>\n",
       "    <tr>\n",
       "      <th>Rosneft</th>\n",
       "      <td>5.730000e+07</td>\n",
       "      <td>2.065000e+07</td>\n",
       "      <td>2.751000e+08</td>\n",
       "      <td>NaN</td>\n",
       "      <td>NaN</td>\n",
       "    </tr>\n",
       "  </tbody>\n",
       "</table>\n",
       "</div>"
      ],
      "text/plain": [
       "                           SCOPE 1  SCOPE 2 (location-based)       SCOPE 3  \\\n",
       "COMPANY NAME                                                                 \n",
       "Shell                 6.600000e+07              1.050000e+07  1.019486e+09   \n",
       "Chevron               5.975000e+07              3.250000e+06  1.026750e+09   \n",
       "Gazprom               8.753618e+07              6.279702e+06  1.127929e+09   \n",
       "Volkswagen            4.399262e+06              4.672319e+06  3.906633e+08   \n",
       "BP                    4.322500e+07              4.175000e+06  3.560667e+08   \n",
       "Honda                 1.250049e+06              3.443023e+06  2.886172e+08   \n",
       "Equinor               1.374247e+07              1.895245e+05  2.782205e+08   \n",
       "Fiat-Chrysler         1.227754e+06              2.414369e+06  2.668018e+08   \n",
       "General Motors        1.533818e+06              3.849410e+06  2.564534e+08   \n",
       "Ford                  1.296148e+06              3.071857e+06  2.446802e+08   \n",
       "Oxy                   1.727176e+07              4.909311e+06  1.874500e+08   \n",
       "PetroChina            1.270433e+08              3.997667e+07           NaN   \n",
       "EDF                   3.096551e+07              3.422470e+05  1.096443e+08   \n",
       "Nestlé                3.272557e+06              2.516767e+06  1.107823e+08   \n",
       "Exxon                 1.012500e+08              8.500000e+06           NaN   \n",
       "Daimler/Mercedes      9.925000e+05              1.528333e+06  1.063269e+08   \n",
       "BMW                   6.527716e+05              1.477980e+06  1.033385e+08   \n",
       "Toyota                4.173922e+05              7.552882e+05  1.016301e+08   \n",
       "Samsung               5.844860e+06              1.193088e+07  8.436758e+07   \n",
       "Geely                 1.809667e+05              5.386895e+05  7.942017e+07   \n",
       "Hyundai               7.950490e+05              1.811550e+06  6.706868e+07   \n",
       "Saudi Aramco          5.125000e+07              1.680000e+07           NaN   \n",
       "Unilever              6.461478e+05              1.315285e+06  5.923640e+07   \n",
       "Tesco                 1.096473e+06              8.039212e+05  5.902807e+07   \n",
       "Amazon                9.174000e+06              4.488000e+06  4.614200e+07   \n",
       "PepsiCo               3.552126e+06              1.710306e+06  5.419511e+07   \n",
       "Anheuser-Busch InBev  3.334318e+06              2.267789e+06  2.527417e+07   \n",
       "Orsted                2.330500e+06              1.095000e+05  2.840264e+07   \n",
       "Danone                6.985184e+05              7.716178e+05  2.864806e+07   \n",
       "Apple                 5.360040e+04              7.433324e+05  2.325508e+07   \n",
       "Microsoft             1.170704e+05              4.357194e+06  1.452446e+07   \n",
       "Tesla                 1.935000e+05              4.055000e+05  1.602700e+07   \n",
       "Alphabet              6.103480e+04              5.989674e+06  1.020969e+07   \n",
       "TSMC                  2.090024e+06              7.957831e+06  5.330609e+06   \n",
       "Enel                  6.988078e+06              5.387778e+05  5.599011e+06   \n",
       "Kellogg’s             4.794732e+05              5.995662e+05  8.265570e+06   \n",
       "Meta                  4.742140e+04              2.569161e+06  4.787741e+06   \n",
       "Molson Coors          4.617948e+05              5.619502e+05  4.430972e+06   \n",
       "Diageo                4.966612e+05              1.577092e+05  3.198414e+06   \n",
       "BYD                   1.776580e+05              2.726719e+06           NaN   \n",
       "Rosneft               5.730000e+07              2.065000e+07  2.751000e+08   \n",
       "\n",
       "                      TOTAL EMISSIONS  TOTAL REVENUE (miillion $)  \n",
       "COMPANY NAME                                                       \n",
       "Shell                    1.095986e+09                3.011285e+05  \n",
       "Chevron                  1.089750e+09                1.372110e+05  \n",
       "Gazprom                  9.397628e+08                3.554709e+06  \n",
       "Volkswagen               3.997349e+08                2.638767e+05  \n",
       "BP                       3.144500e+08                2.149068e+05  \n",
       "Honda                    2.933103e+08                1.037518e+05  \n",
       "Equinor                  2.921525e+08                7.017300e+04  \n",
       "Fiat-Chrysler            2.706001e+08                1.365630e+05  \n",
       "General Motors           2.618366e+08                1.304254e+05  \n",
       "Ford                     2.490482e+08                1.450688e+05  \n",
       "Oxy                      2.096311e+08                2.062500e+04  \n",
       "PetroChina               1.670200e+08                1.568467e+04  \n",
       "EDF                      1.409521e+08                8.070650e+04  \n",
       "Nestlé                   1.165716e+08                8.987900e+04  \n",
       "Exxon                    1.097500e+08                2.555730e+05  \n",
       "Daimler/Mercedes         1.090139e+08                1.699798e+05  \n",
       "BMW                      1.054692e+08                1.021194e+05  \n",
       "Toyota                   1.028028e+08                2.084658e+05  \n",
       "Samsung                  1.021433e+08                2.861358e+05  \n",
       "Geely                    8.032717e+07                1.488183e+04  \n",
       "Hyundai                  6.967528e+07                8.157000e+04  \n",
       "Saudi Aramco             6.805000e+07                         NaN  \n",
       "Unilever                 6.119783e+07                5.153250e+04  \n",
       "Tesco                    6.092846e+07                5.991050e+04  \n",
       "Amazon                   5.980400e+07                3.766556e+05  \n",
       "PepsiCo                  5.945755e+07                7.361200e+04  \n",
       "Anheuser-Busch InBev     3.087627e+07                5.203325e+04  \n",
       "Orsted                   3.084264e+07                6.876550e+04  \n",
       "Danone                   3.011820e+07                2.544120e+04  \n",
       "Apple                    2.405201e+07                3.120858e+05  \n",
       "Microsoft                1.899872e+07                1.491152e+05  \n",
       "Tesla                    1.662600e+07                3.743650e+04  \n",
       "Alphabet                 1.626040e+07                2.043352e+05  \n",
       "TSMC                     1.537846e+07                4.041550e+04  \n",
       "Enel                     1.312587e+07                1.397075e+04  \n",
       "Kellogg’s                9.344610e+06                1.376900e+04  \n",
       "Meta                     7.404324e+06                8.940760e+04  \n",
       "Molson Coors             5.454718e+06                1.263025e+04  \n",
       "Diageo                   3.852785e+06                1.237875e+04  \n",
       "BYD                               NaN                2.686250e+04  \n",
       "Rosneft                           NaN                         NaN  "
      ]
     },
     "execution_count": 87,
     "metadata": {},
     "output_type": "execute_result"
    }
   ],
   "source": [
    "sectors.groupby('COMPANY NAME').mean(numeric_only=True).drop(columns=['YEAR']).sort_values(by='TOTAL EMISSIONS', ascending=False)"
   ]
  },
  {
   "cell_type": "code",
   "execution_count": 60,
   "metadata": {},
   "outputs": [
    {
     "data": {
      "text/html": [
       "<div>\n",
       "<style scoped>\n",
       "    .dataframe tbody tr th:only-of-type {\n",
       "        vertical-align: middle;\n",
       "    }\n",
       "\n",
       "    .dataframe tbody tr th {\n",
       "        vertical-align: top;\n",
       "    }\n",
       "\n",
       "    .dataframe thead th {\n",
       "        text-align: right;\n",
       "    }\n",
       "</style>\n",
       "<table border=\"1\" class=\"dataframe\">\n",
       "  <thead>\n",
       "    <tr style=\"text-align: right;\">\n",
       "      <th></th>\n",
       "      <th>SCOPE 1</th>\n",
       "      <th>SCOPE 2 (location-based)</th>\n",
       "      <th>SCOPE 3</th>\n",
       "      <th>TOTAL EMISSIONS</th>\n",
       "    </tr>\n",
       "    <tr>\n",
       "      <th>COUNTRY OF ORIGIN</th>\n",
       "      <th></th>\n",
       "      <th></th>\n",
       "      <th></th>\n",
       "      <th></th>\n",
       "    </tr>\n",
       "  </thead>\n",
       "  <tbody>\n",
       "    <tr>\n",
       "      <th>United Kingdom, Netherlands</th>\n",
       "      <td>66000000.0</td>\n",
       "      <td>10500000.0</td>\n",
       "      <td>1.019486e+09</td>\n",
       "      <td>1.095986e+09</td>\n",
       "    </tr>\n",
       "    <tr>\n",
       "      <th>Russsia</th>\n",
       "      <td>72418092.0</td>\n",
       "      <td>13464851.0</td>\n",
       "      <td>7.015146e+08</td>\n",
       "      <td>9.397628e+08</td>\n",
       "    </tr>\n",
       "    <tr>\n",
       "      <th>United Kingdom</th>\n",
       "      <td>43225000.0</td>\n",
       "      <td>4175000.0</td>\n",
       "      <td>3.560667e+08</td>\n",
       "      <td>3.144500e+08</td>\n",
       "    </tr>\n",
       "    <tr>\n",
       "      <th>Norway</th>\n",
       "      <td>13742474.0</td>\n",
       "      <td>189524.0</td>\n",
       "      <td>2.782205e+08</td>\n",
       "      <td>2.921525e+08</td>\n",
       "    </tr>\n",
       "    <tr>\n",
       "      <th>Italy, United States</th>\n",
       "      <td>1227754.0</td>\n",
       "      <td>2414369.0</td>\n",
       "      <td>2.668018e+08</td>\n",
       "      <td>2.706001e+08</td>\n",
       "    </tr>\n",
       "    <tr>\n",
       "      <th>Germany</th>\n",
       "      <td>2094966.0</td>\n",
       "      <td>2623166.0</td>\n",
       "      <td>2.120192e+08</td>\n",
       "      <td>2.169266e+08</td>\n",
       "    </tr>\n",
       "    <tr>\n",
       "      <th>Japan</th>\n",
       "      <td>795872.0</td>\n",
       "      <td>1976986.0</td>\n",
       "      <td>1.866242e+08</td>\n",
       "      <td>1.893971e+08</td>\n",
       "    </tr>\n",
       "    <tr>\n",
       "      <th>United States</th>\n",
       "      <td>13699449.0</td>\n",
       "      <td>3512779.0</td>\n",
       "      <td>1.517251e+08</td>\n",
       "      <td>1.584735e+08</td>\n",
       "    </tr>\n",
       "    <tr>\n",
       "      <th>China</th>\n",
       "      <td>25552117.0</td>\n",
       "      <td>9301497.0</td>\n",
       "      <td>7.942017e+07</td>\n",
       "      <td>1.236736e+08</td>\n",
       "    </tr>\n",
       "    <tr>\n",
       "      <th>Switzerland</th>\n",
       "      <td>3272557.0</td>\n",
       "      <td>2516767.0</td>\n",
       "      <td>1.107823e+08</td>\n",
       "      <td>1.165716e+08</td>\n",
       "    </tr>\n",
       "    <tr>\n",
       "      <th>South Korea</th>\n",
       "      <td>3319954.0</td>\n",
       "      <td>6871215.0</td>\n",
       "      <td>7.571813e+07</td>\n",
       "      <td>8.590930e+07</td>\n",
       "    </tr>\n",
       "    <tr>\n",
       "      <th>France</th>\n",
       "      <td>14150516.0</td>\n",
       "      <td>580786.0</td>\n",
       "      <td>6.464641e+07</td>\n",
       "      <td>7.937771e+07</td>\n",
       "    </tr>\n",
       "    <tr>\n",
       "      <th>Saudi Arabia</th>\n",
       "      <td>51250000.0</td>\n",
       "      <td>16800000.0</td>\n",
       "      <td>NaN</td>\n",
       "      <td>6.805000e+07</td>\n",
       "    </tr>\n",
       "    <tr>\n",
       "      <th>Netherlands, United Kingdom</th>\n",
       "      <td>646148.0</td>\n",
       "      <td>1315285.0</td>\n",
       "      <td>5.923640e+07</td>\n",
       "      <td>6.119783e+07</td>\n",
       "    </tr>\n",
       "    <tr>\n",
       "      <th>England</th>\n",
       "      <td>796567.0</td>\n",
       "      <td>480815.0</td>\n",
       "      <td>3.111324e+07</td>\n",
       "      <td>3.239062e+07</td>\n",
       "    </tr>\n",
       "    <tr>\n",
       "      <th>Belgium</th>\n",
       "      <td>3334318.0</td>\n",
       "      <td>2267789.0</td>\n",
       "      <td>2.527417e+07</td>\n",
       "      <td>3.087627e+07</td>\n",
       "    </tr>\n",
       "    <tr>\n",
       "      <th>Denmark</th>\n",
       "      <td>2330500.0</td>\n",
       "      <td>109500.0</td>\n",
       "      <td>2.840264e+07</td>\n",
       "      <td>3.084264e+07</td>\n",
       "    </tr>\n",
       "    <tr>\n",
       "      <th>Taiwan</th>\n",
       "      <td>2090024.0</td>\n",
       "      <td>7957831.0</td>\n",
       "      <td>5.330609e+06</td>\n",
       "      <td>1.537846e+07</td>\n",
       "    </tr>\n",
       "    <tr>\n",
       "      <th>Italy</th>\n",
       "      <td>6988078.0</td>\n",
       "      <td>538778.0</td>\n",
       "      <td>5.599011e+06</td>\n",
       "      <td>1.312587e+07</td>\n",
       "    </tr>\n",
       "    <tr>\n",
       "      <th>Canada, United States</th>\n",
       "      <td>461795.0</td>\n",
       "      <td>561950.0</td>\n",
       "      <td>4.430972e+06</td>\n",
       "      <td>5.454718e+06</td>\n",
       "    </tr>\n",
       "  </tbody>\n",
       "</table>\n",
       "</div>"
      ],
      "text/plain": [
       "                                SCOPE 1  SCOPE 2 (location-based)  \\\n",
       "COUNTRY OF ORIGIN                                                   \n",
       "United Kingdom, Netherlands  66000000.0                10500000.0   \n",
       "Russsia                      72418092.0                13464851.0   \n",
       "United Kingdom               43225000.0                 4175000.0   \n",
       "Norway                       13742474.0                  189524.0   \n",
       "Italy, United States          1227754.0                 2414369.0   \n",
       "Germany                       2094966.0                 2623166.0   \n",
       "Japan                          795872.0                 1976986.0   \n",
       "United States                13699449.0                 3512779.0   \n",
       "China                        25552117.0                 9301497.0   \n",
       "Switzerland                   3272557.0                 2516767.0   \n",
       "South Korea                   3319954.0                 6871215.0   \n",
       "France                       14150516.0                  580786.0   \n",
       "Saudi Arabia                 51250000.0                16800000.0   \n",
       "Netherlands, United Kingdom    646148.0                 1315285.0   \n",
       "England                        796567.0                  480815.0   \n",
       "Belgium                       3334318.0                 2267789.0   \n",
       "Denmark                       2330500.0                  109500.0   \n",
       "Taiwan                        2090024.0                 7957831.0   \n",
       "Italy                         6988078.0                  538778.0   \n",
       "Canada, United States          461795.0                  561950.0   \n",
       "\n",
       "                                  SCOPE 3  TOTAL EMISSIONS  \n",
       "COUNTRY OF ORIGIN                                           \n",
       "United Kingdom, Netherlands  1.019486e+09     1.095986e+09  \n",
       "Russsia                      7.015146e+08     9.397628e+08  \n",
       "United Kingdom               3.560667e+08     3.144500e+08  \n",
       "Norway                       2.782205e+08     2.921525e+08  \n",
       "Italy, United States         2.668018e+08     2.706001e+08  \n",
       "Germany                      2.120192e+08     2.169266e+08  \n",
       "Japan                        1.866242e+08     1.893971e+08  \n",
       "United States                1.517251e+08     1.584735e+08  \n",
       "China                        7.942017e+07     1.236736e+08  \n",
       "Switzerland                  1.107823e+08     1.165716e+08  \n",
       "South Korea                  7.571813e+07     8.590930e+07  \n",
       "France                       6.464641e+07     7.937771e+07  \n",
       "Saudi Arabia                          NaN     6.805000e+07  \n",
       "Netherlands, United Kingdom  5.923640e+07     6.119783e+07  \n",
       "England                      3.111324e+07     3.239062e+07  \n",
       "Belgium                      2.527417e+07     3.087627e+07  \n",
       "Denmark                      2.840264e+07     3.084264e+07  \n",
       "Taiwan                       5.330609e+06     1.537846e+07  \n",
       "Italy                        5.599011e+06     1.312587e+07  \n",
       "Canada, United States        4.430972e+06     5.454718e+06  "
      ]
     },
     "execution_count": 60,
     "metadata": {},
     "output_type": "execute_result"
    }
   ],
   "source": [
    "country = sectors.groupby('COUNTRY OF ORIGIN').mean(numeric_only=True).drop(columns=['YEAR', 'TOTAL REVENUE (miillion $)']).round(0).sort_values(by='TOTAL EMISSIONS', ascending=False)\n",
    "country"
   ]
  },
  {
   "cell_type": "markdown",
   "metadata": {},
   "source": [
    "The first row corresponds to Shell, last row corresponds to Molson Coors"
   ]
  },
  {
   "cell_type": "code",
   "execution_count": 61,
   "metadata": {},
   "outputs": [
    {
     "data": {
      "text/html": [
       "<div>\n",
       "<style scoped>\n",
       "    .dataframe tbody tr th:only-of-type {\n",
       "        vertical-align: middle;\n",
       "    }\n",
       "\n",
       "    .dataframe tbody tr th {\n",
       "        vertical-align: top;\n",
       "    }\n",
       "\n",
       "    .dataframe thead th {\n",
       "        text-align: right;\n",
       "    }\n",
       "</style>\n",
       "<table border=\"1\" class=\"dataframe\">\n",
       "  <thead>\n",
       "    <tr style=\"text-align: right;\">\n",
       "      <th></th>\n",
       "      <th>COMPANY NAME</th>\n",
       "      <th>YEAR</th>\n",
       "      <th>SCOPE 1</th>\n",
       "      <th>SCOPE 2 (location-based)</th>\n",
       "      <th>SCOPE 3</th>\n",
       "      <th>TOTAL EMISSIONS</th>\n",
       "      <th>TOTAL REVENUE (miillion $)</th>\n",
       "      <th>CURRENCY</th>\n",
       "      <th>CARBON INTENSITY</th>\n",
       "      <th>COUNTRY OF ORIGIN</th>\n",
       "      <th>SUBMIT TO CDP</th>\n",
       "      <th>SECTOR</th>\n",
       "      <th>REVENUE IN USD</th>\n",
       "    </tr>\n",
       "  </thead>\n",
       "  <tbody>\n",
       "    <tr>\n",
       "      <th>0</th>\n",
       "      <td>Anheuser-Busch InBev</td>\n",
       "      <td>2018</td>\n",
       "      <td>3700760.0</td>\n",
       "      <td>2383505.0</td>\n",
       "      <td>24431839.0</td>\n",
       "      <td>30516104.0</td>\n",
       "      <td>54619.0</td>\n",
       "      <td>USD</td>\n",
       "      <td>111.39</td>\n",
       "      <td>Belgium</td>\n",
       "      <td>Yes</td>\n",
       "      <td>Food &amp; Agriculture</td>\n",
       "      <td>[USD, 54619.0]</td>\n",
       "    </tr>\n",
       "    <tr>\n",
       "      <th>1</th>\n",
       "      <td>Anheuser-Busch InBev</td>\n",
       "      <td>2019</td>\n",
       "      <td>3600710.0</td>\n",
       "      <td>2215902.0</td>\n",
       "      <td>26484447.0</td>\n",
       "      <td>32301059.0</td>\n",
       "      <td>52329.0</td>\n",
       "      <td>USD</td>\n",
       "      <td>111.15</td>\n",
       "      <td>Belgium</td>\n",
       "      <td>Yes</td>\n",
       "      <td>Food &amp; Agriculture</td>\n",
       "      <td>[USD, 52329.0]</td>\n",
       "    </tr>\n",
       "    <tr>\n",
       "      <th>2</th>\n",
       "      <td>Anheuser-Busch InBev</td>\n",
       "      <td>2020</td>\n",
       "      <td>3081905.0</td>\n",
       "      <td>2227758.0</td>\n",
       "      <td>23652933.0</td>\n",
       "      <td>28962596.0</td>\n",
       "      <td>46881.0</td>\n",
       "      <td>USD</td>\n",
       "      <td>113.26</td>\n",
       "      <td>Belgium</td>\n",
       "      <td>Yes</td>\n",
       "      <td>Food &amp; Agriculture</td>\n",
       "      <td>[USD, 46881.0]</td>\n",
       "    </tr>\n",
       "    <tr>\n",
       "      <th>3</th>\n",
       "      <td>Anheuser-Busch InBev</td>\n",
       "      <td>2021</td>\n",
       "      <td>2953896.0</td>\n",
       "      <td>2243990.0</td>\n",
       "      <td>26527444.0</td>\n",
       "      <td>31725330.0</td>\n",
       "      <td>54304.0</td>\n",
       "      <td>USD</td>\n",
       "      <td>95.72</td>\n",
       "      <td>Belgium</td>\n",
       "      <td>Yes</td>\n",
       "      <td>Food &amp; Agriculture</td>\n",
       "      <td>[USD, 54304.0]</td>\n",
       "    </tr>\n",
       "    <tr>\n",
       "      <th>4</th>\n",
       "      <td>Danone</td>\n",
       "      <td>2018</td>\n",
       "      <td>753461.0</td>\n",
       "      <td>959554.0</td>\n",
       "      <td>24885804.0</td>\n",
       "      <td>26598819.0</td>\n",
       "      <td>24651.0</td>\n",
       "      <td>EUR</td>\n",
       "      <td>69.49</td>\n",
       "      <td>France</td>\n",
       "      <td>Yes</td>\n",
       "      <td>Food &amp; Agriculture</td>\n",
       "      <td>[EUR, 24651.0]</td>\n",
       "    </tr>\n",
       "  </tbody>\n",
       "</table>\n",
       "</div>"
      ],
      "text/plain": [
       "           COMPANY NAME  YEAR    SCOPE 1  SCOPE 2 (location-based)  \\\n",
       "0  Anheuser-Busch InBev  2018  3700760.0                 2383505.0   \n",
       "1  Anheuser-Busch InBev  2019  3600710.0                 2215902.0   \n",
       "2  Anheuser-Busch InBev  2020  3081905.0                 2227758.0   \n",
       "3  Anheuser-Busch InBev  2021  2953896.0                 2243990.0   \n",
       "4                Danone  2018   753461.0                  959554.0   \n",
       "\n",
       "      SCOPE 3  TOTAL EMISSIONS  TOTAL REVENUE (miillion $) CURRENCY  \\\n",
       "0  24431839.0       30516104.0                     54619.0      USD   \n",
       "1  26484447.0       32301059.0                     52329.0      USD   \n",
       "2  23652933.0       28962596.0                     46881.0      USD   \n",
       "3  26527444.0       31725330.0                     54304.0      USD   \n",
       "4  24885804.0       26598819.0                     24651.0      EUR   \n",
       "\n",
       "  CARBON INTENSITY COUNTRY OF ORIGIN SUBMIT TO CDP              SECTOR  \\\n",
       "0           111.39           Belgium           Yes  Food & Agriculture   \n",
       "1           111.15           Belgium           Yes  Food & Agriculture   \n",
       "2           113.26           Belgium           Yes  Food & Agriculture   \n",
       "3            95.72           Belgium           Yes  Food & Agriculture   \n",
       "4            69.49            France           Yes  Food & Agriculture   \n",
       "\n",
       "   REVENUE IN USD  \n",
       "0  [USD, 54619.0]  \n",
       "1  [USD, 52329.0]  \n",
       "2  [USD, 46881.0]  \n",
       "3  [USD, 54304.0]  \n",
       "4  [EUR, 24651.0]  "
      ]
     },
     "execution_count": 61,
     "metadata": {},
     "output_type": "execute_result"
    }
   ],
   "source": [
    "sectors.head()"
   ]
  },
  {
   "cell_type": "markdown",
   "metadata": {},
   "source": [
    "---"
   ]
  },
  {
   "cell_type": "markdown",
   "metadata": {},
   "source": [
    "## Visualizations"
   ]
  },
  {
   "cell_type": "code",
   "execution_count": 62,
   "metadata": {},
   "outputs": [
    {
     "data": {
      "application/vnd.plotly.v1+json": {
       "config": {
        "plotlyServerURL": "https://plot.ly"
       },
       "data": [
        {
         "customdata": [
          [
           "Anheuser-Busch InBev"
          ],
          [
           "Anheuser-Busch InBev"
          ],
          [
           "Anheuser-Busch InBev"
          ],
          [
           "Anheuser-Busch InBev"
          ],
          [
           "Danone"
          ],
          [
           "Danone"
          ],
          [
           "Danone"
          ],
          [
           "Danone"
          ],
          [
           "Danone"
          ],
          [
           "Diageo"
          ],
          [
           "Diageo"
          ],
          [
           "Diageo"
          ],
          [
           "Diageo"
          ],
          [
           "Kellogg’s"
          ],
          [
           "Kellogg’s"
          ],
          [
           "Kellogg’s"
          ],
          [
           "Kellogg’s"
          ],
          [
           "Molson Coors"
          ],
          [
           "Molson Coors"
          ],
          [
           "Molson Coors"
          ],
          [
           "Molson Coors"
          ],
          [
           "Nestlé"
          ],
          [
           "Nestlé"
          ],
          [
           "Nestlé"
          ],
          [
           "Nestlé"
          ],
          [
           "Nestlé"
          ],
          [
           "PepsiCo"
          ],
          [
           "PepsiCo"
          ],
          [
           "PepsiCo"
          ],
          [
           "PepsiCo"
          ],
          [
           "PepsiCo"
          ],
          [
           "Tesco"
          ],
          [
           "Tesco"
          ],
          [
           "Tesco"
          ],
          [
           "Tesco"
          ],
          [
           "Unilever"
          ],
          [
           "Unilever"
          ],
          [
           "Unilever"
          ],
          [
           "Unilever"
          ]
         ],
         "hovertemplate": "SECTOR=Food & Agriculture<br>SCOPE 1=%{x}<br>SCOPE 2 (location-based)=%{y}<br>COMPANY NAME=%{customdata[0]}<extra></extra>",
         "legendgroup": "Food & Agriculture",
         "marker": {
          "color": "#636efa",
          "symbol": "circle"
         },
         "mode": "markers",
         "name": "Food & Agriculture",
         "orientation": "v",
         "showlegend": true,
         "type": "scatter",
         "x": [
          3700760,
          3600710,
          3081905,
          2953896,
          753461,
          722103,
          668354,
          682674,
          666000,
          553270,
          511593,
          476782,
          445000,
          483061,
          465885,
          465042,
          503905,
          436457,
          406377,
          398026,
          606319,
          3289012,
          3246367,
          3215404,
          3372000,
          3240000,
          3577266,
          3552415,
          3552706,
          3596712,
          3481530,
          1117480,
          1105183,
          1053131,
          1110098,
          752804,
          659028,
          606771,
          565988
         ],
         "xaxis": "x",
         "y": [
          2383505,
          2215902,
          2227758,
          2243990,
          959554,
          944877,
          864710,
          812948,
          276000,
          179307,
          165095,
          143905,
          142530,
          650835,
          590739,
          587999,
          568692,
          667174,
          634136,
          604422,
          342069,
          3082573,
          3089029,
          3052234,
          2600000,
          760000,
          1629973,
          1556523,
          1719610,
          1811114,
          1834309,
          995543,
          859583,
          718222,
          642337,
          1430659,
          1321648,
          1264328,
          1244505
         ],
         "yaxis": "y"
        },
        {
         "customdata": [
          [
           "BP"
          ],
          [
           "BP"
          ],
          [
           "BP"
          ],
          [
           "BP"
          ],
          [
           "Chevron"
          ],
          [
           "Chevron"
          ],
          [
           "Chevron"
          ],
          [
           "Chevron"
          ],
          [
           "EDF"
          ],
          [
           "EDF"
          ],
          [
           "EDF"
          ],
          [
           "EDF"
          ],
          [
           "Enel"
          ],
          [
           "Enel"
          ],
          [
           "Enel"
          ],
          [
           "Enel"
          ],
          [
           "Equinor"
          ],
          [
           "Equinor"
          ],
          [
           "Equinor"
          ],
          [
           "Equinor"
          ],
          [
           "Exxon"
          ],
          [
           "Exxon"
          ],
          [
           "Exxon"
          ],
          [
           "Exxon"
          ],
          [
           "Orsted"
          ],
          [
           "Orsted"
          ],
          [
           "Orsted"
          ],
          [
           "Orsted"
          ],
          [
           "Oxy"
          ],
          [
           "Oxy"
          ],
          [
           "Oxy"
          ],
          [
           "Oxy"
          ],
          [
           "PetroChina"
          ],
          [
           "PetroChina"
          ],
          [
           "PetroChina"
          ],
          [
           "PetroChina"
          ],
          [
           "Saudi Aramco"
          ],
          [
           "Saudi Aramco"
          ],
          [
           "Saudi Aramco"
          ],
          [
           "Saudi Aramco"
          ],
          [
           "Shell"
          ],
          [
           "Shell"
          ],
          [
           "Shell"
          ],
          [
           "Shell"
          ],
          [
           "Gazprom"
          ],
          [
           "Gazprom"
          ],
          [
           "Gazprom"
          ],
          [
           "Gazprom"
          ],
          [
           "Rosneft"
          ],
          [
           "Rosneft"
          ],
          [
           "Rosneft"
          ],
          [
           "Rosneft"
          ]
         ],
         "hovertemplate": "SECTOR=Energy<br>SCOPE 1=%{x}<br>SCOPE 2 (location-based)=%{y}<br>COMPANY NAME=%{customdata[0]}<extra></extra>",
         "legendgroup": "Energy",
         "marker": {
          "color": "#EF553B",
          "symbol": "circle"
         },
         "mode": "markers",
         "name": "Energy",
         "orientation": "v",
         "showlegend": true,
         "type": "scatter",
         "x": [
          48800000,
          49200000,
          41700000,
          33200000,
          66000000,
          62000000,
          54000000,
          57000000,
          35699738,
          33090244,
          27690997,
          27381075,
          6816597,
          6963813,
          6895903,
          7276000,
          14946447,
          14719266,
          13294578,
          12009607,
          104000000,
          106000000,
          100000000,
          95000000,
          3483000,
          1846000,
          1851000,
          2142000,
          10370000,
          21481896,
          18780484,
          18454662,
          null,
          132170000,
          127570000,
          121390000,
          null,
          null,
          50200000,
          52300000,
          71000000,
          70000000,
          63000000,
          60000000,
          120089856,
          117097372,
          100970512,
          11987000,
          54700000,
          59400000,
          60900000,
          54200000
         ],
         "xaxis": "x",
         "y": [
          5400000,
          5200000,
          3700000,
          2400000,
          3000000,
          2000000,
          4000000,
          4000000,
          470025,
          289243,
          320773,
          288947,
          115000,
          770163,
          548948,
          721000,
          194063,
          215474,
          251513,
          97048,
          9000000,
          9000000,
          9000000,
          7000000,
          151000,
          123000,
          111000,
          53000,
          4100000,
          5898890,
          4800281,
          4838074,
          null,
          41910000,
          39870000,
          38150000,
          null,
          null,
          18100000,
          15500000,
          11000000,
          11000000,
          11000000,
          9000000,
          8198070,
          6077827,
          4762910,
          6080000,
          22200000,
          21800000,
          20100000,
          18500000
         ],
         "yaxis": "y"
        },
        {
         "customdata": [
          [
           "BMW"
          ],
          [
           "BMW"
          ],
          [
           "BMW"
          ],
          [
           "BMW"
          ],
          [
           "BMW"
          ],
          [
           "BYD"
          ],
          [
           "BYD"
          ],
          [
           "BYD"
          ],
          [
           "BYD"
          ],
          [
           "BYD"
          ],
          [
           "BYD"
          ],
          [
           "Daimler/Mercedes"
          ],
          [
           "Daimler/Mercedes"
          ],
          [
           "Daimler/Mercedes"
          ],
          [
           "Daimler/Mercedes"
          ],
          [
           "Daimler/Mercedes"
          ],
          [
           "Daimler/Mercedes"
          ],
          [
           "Fiat-Chrysler"
          ],
          [
           "Fiat-Chrysler"
          ],
          [
           "Fiat-Chrysler"
          ],
          [
           "Fiat-Chrysler"
          ],
          [
           "Fiat-Chrysler"
          ],
          [
           "Fiat-Chrysler"
          ],
          [
           "Ford"
          ],
          [
           "Ford"
          ],
          [
           "Ford"
          ],
          [
           "Ford"
          ],
          [
           "Ford"
          ],
          [
           "Geely"
          ],
          [
           "Geely"
          ],
          [
           "Geely"
          ],
          [
           "Geely"
          ],
          [
           "Geely"
          ],
          [
           "Geely"
          ],
          [
           "General Motors"
          ],
          [
           "General Motors"
          ],
          [
           "General Motors"
          ],
          [
           "General Motors"
          ],
          [
           "General Motors"
          ],
          [
           "Honda"
          ],
          [
           "Honda"
          ],
          [
           "Honda"
          ],
          [
           "Honda"
          ],
          [
           "Honda"
          ],
          [
           "Hyundai"
          ],
          [
           "Hyundai"
          ],
          [
           "Hyundai"
          ],
          [
           "Hyundai"
          ],
          [
           "Hyundai"
          ],
          [
           "Toyota"
          ],
          [
           "Toyota"
          ],
          [
           "Toyota"
          ],
          [
           "Toyota"
          ],
          [
           "Toyota"
          ],
          [
           "Toyota"
          ],
          [
           "Volkswagen"
          ],
          [
           "Volkswagen"
          ],
          [
           "Volkswagen"
          ],
          [
           "Volkswagen"
          ],
          [
           "Volkswagen"
          ],
          [
           "Volkswagen"
          ],
          [
           "Tesla"
          ],
          [
           "Tesla"
          ],
          [
           "Tesla"
          ],
          [
           "Tesla"
          ],
          [
           "Tesla"
          ],
          [
           "Tesla"
          ]
         ],
         "hovertemplate": "SECTOR=Auto<br>SCOPE 1=%{x}<br>SCOPE 2 (location-based)=%{y}<br>COMPANY NAME=%{customdata[0]}<extra></extra>",
         "legendgroup": "Auto",
         "marker": {
          "color": "#00cc96",
          "symbol": "circle"
         },
         "mode": "markers",
         "name": "Auto",
         "orientation": "v",
         "showlegend": true,
         "type": "scatter",
         "x": [
          625072,
          581703,
          678403,
          678967,
          699713,
          0,
          0,
          0,
          199406,
          315610,
          550932,
          1192000,
          1247000,
          1239000,
          1027000,
          681000,
          569000,
          1101289,
          1129268,
          1058367,
          877603,
          1700000,
          1500000,
          1391127,
          1442963,
          1451947,
          1124798,
          1069907,
          126934,
          138921,
          141100,
          166395,
          263159,
          249291,
          1848804,
          1763555,
          1589700,
          1214124,
          1252906,
          1350000,
          1380000,
          1240000,
          1120000,
          1160244,
          852547,
          874997,
          807498,
          716237,
          723966,
          391000,
          434000,
          438000,
          409000,
          387000,
          445353,
          4297748,
          4068261,
          4494068,
          4335495,
          4740000,
          4460000,
          null,
          null,
          null,
          null,
          185000,
          202000
         ],
         "xaxis": "x",
         "y": [
          1572432,
          1539378,
          1540667,
          1333076,
          1404348,
          0,
          0,
          0,
          3945773,
          4903502,
          7511038,
          2041000,
          1687000,
          1706000,
          1492000,
          1123000,
          1121000,
          3309598,
          2795995,
          2296709,
          1983910,
          2200000,
          1900000,
          3482444,
          3349808,
          3195704,
          2715328,
          2616003,
          346173,
          425622,
          418180,
          518514,
          867943,
          655705,
          4572734,
          4322761,
          4381970,
          3087816,
          2881767,
          3790000,
          3690000,
          3440000,
          3050000,
          3245113,
          1882674,
          1936902,
          1897855,
          1680079,
          1660238,
          911000,
          895000,
          783000,
          697000,
          627000,
          618729,
          5901889,
          6370514,
          5973894,
          5257618,
          2420000,
          2110000,
          null,
          null,
          null,
          null,
          403000,
          408000
         ],
         "yaxis": "y"
        },
        {
         "customdata": [
          [
           "Alphabet"
          ],
          [
           "Alphabet"
          ],
          [
           "Alphabet"
          ],
          [
           "Alphabet"
          ],
          [
           "Alphabet"
          ],
          [
           "Amazon"
          ],
          [
           "Amazon"
          ],
          [
           "Amazon"
          ],
          [
           "Amazon"
          ],
          [
           "Amazon"
          ],
          [
           "Apple"
          ],
          [
           "Apple"
          ],
          [
           "Apple"
          ],
          [
           "Apple"
          ],
          [
           "Apple"
          ],
          [
           "Meta"
          ],
          [
           "Meta"
          ],
          [
           "Meta"
          ],
          [
           "Meta"
          ],
          [
           "Meta"
          ],
          [
           "Microsoft"
          ],
          [
           "Microsoft"
          ],
          [
           "Microsoft"
          ],
          [
           "Microsoft"
          ],
          [
           "Microsoft"
          ],
          [
           "Samsung"
          ],
          [
           "Samsung"
          ],
          [
           "Samsung"
          ],
          [
           "Samsung"
          ],
          [
           "Samsung"
          ],
          [
           "TSMC"
          ],
          [
           "TSMC"
          ],
          [
           "TSMC"
          ],
          [
           "TSMC"
          ]
         ],
         "hovertemplate": "SECTOR=Tech<br>SCOPE 1=%{x}<br>SCOPE 2 (location-based)=%{y}<br>COMPANY NAME=%{customdata[0]}<extra></extra>",
         "legendgroup": "Tech",
         "marker": {
          "color": "#ab63fa",
          "symbol": "circle"
         },
         "mode": "markers",
         "name": "Tech",
         "orientation": "v",
         "showlegend": true,
         "type": "scatter",
         "x": [
          63521,
          66686,
          38694,
          45073,
          91200,
          4980000,
          5760000,
          9620000,
          12110000,
          13400000,
          57440,
          52730,
          47430,
          55200,
          55202,
          42000,
          44000,
          29000,
          55173,
          66934,
          90723,
          113412,
          118100,
          123704,
          139413,
          4855000,
          5067000,
          5726300,
          7604000,
          5972000,
          2125725,
          2071743,
          2010692,
          2151937
         ],
         "xaxis": "x",
         "y": [
          4344686,
          5116949,
          5865095,
          6576239,
          8045400,
          4710000,
          5500000,
          5270000,
          4070000,
          2890000,
          8730,
          862127,
          890200,
          890200,
          1065405,
          1241000,
          1885000,
          2718000,
          3080194,
          3921611,
          3000523,
          3556553,
          4102445,
          4745197,
          6381250,
          10318000,
          10998000,
          11852400,
          12566000,
          13920000,
          7001655,
          7350195,
          8282509,
          9196964
         ],
         "yaxis": "y"
        }
       ],
       "layout": {
        "legend": {
         "title": {
          "text": "SECTOR"
         },
         "tracegroupgap": 0
        },
        "margin": {
         "t": 60
        },
        "template": {
         "data": {
          "bar": [
           {
            "error_x": {
             "color": "#2a3f5f"
            },
            "error_y": {
             "color": "#2a3f5f"
            },
            "marker": {
             "line": {
              "color": "#E5ECF6",
              "width": 0.5
             },
             "pattern": {
              "fillmode": "overlay",
              "size": 10,
              "solidity": 0.2
             }
            },
            "type": "bar"
           }
          ],
          "barpolar": [
           {
            "marker": {
             "line": {
              "color": "#E5ECF6",
              "width": 0.5
             },
             "pattern": {
              "fillmode": "overlay",
              "size": 10,
              "solidity": 0.2
             }
            },
            "type": "barpolar"
           }
          ],
          "carpet": [
           {
            "aaxis": {
             "endlinecolor": "#2a3f5f",
             "gridcolor": "white",
             "linecolor": "white",
             "minorgridcolor": "white",
             "startlinecolor": "#2a3f5f"
            },
            "baxis": {
             "endlinecolor": "#2a3f5f",
             "gridcolor": "white",
             "linecolor": "white",
             "minorgridcolor": "white",
             "startlinecolor": "#2a3f5f"
            },
            "type": "carpet"
           }
          ],
          "choropleth": [
           {
            "colorbar": {
             "outlinewidth": 0,
             "ticks": ""
            },
            "type": "choropleth"
           }
          ],
          "contour": [
           {
            "colorbar": {
             "outlinewidth": 0,
             "ticks": ""
            },
            "colorscale": [
             [
              0,
              "#0d0887"
             ],
             [
              0.1111111111111111,
              "#46039f"
             ],
             [
              0.2222222222222222,
              "#7201a8"
             ],
             [
              0.3333333333333333,
              "#9c179e"
             ],
             [
              0.4444444444444444,
              "#bd3786"
             ],
             [
              0.5555555555555556,
              "#d8576b"
             ],
             [
              0.6666666666666666,
              "#ed7953"
             ],
             [
              0.7777777777777778,
              "#fb9f3a"
             ],
             [
              0.8888888888888888,
              "#fdca26"
             ],
             [
              1,
              "#f0f921"
             ]
            ],
            "type": "contour"
           }
          ],
          "contourcarpet": [
           {
            "colorbar": {
             "outlinewidth": 0,
             "ticks": ""
            },
            "type": "contourcarpet"
           }
          ],
          "heatmap": [
           {
            "colorbar": {
             "outlinewidth": 0,
             "ticks": ""
            },
            "colorscale": [
             [
              0,
              "#0d0887"
             ],
             [
              0.1111111111111111,
              "#46039f"
             ],
             [
              0.2222222222222222,
              "#7201a8"
             ],
             [
              0.3333333333333333,
              "#9c179e"
             ],
             [
              0.4444444444444444,
              "#bd3786"
             ],
             [
              0.5555555555555556,
              "#d8576b"
             ],
             [
              0.6666666666666666,
              "#ed7953"
             ],
             [
              0.7777777777777778,
              "#fb9f3a"
             ],
             [
              0.8888888888888888,
              "#fdca26"
             ],
             [
              1,
              "#f0f921"
             ]
            ],
            "type": "heatmap"
           }
          ],
          "heatmapgl": [
           {
            "colorbar": {
             "outlinewidth": 0,
             "ticks": ""
            },
            "colorscale": [
             [
              0,
              "#0d0887"
             ],
             [
              0.1111111111111111,
              "#46039f"
             ],
             [
              0.2222222222222222,
              "#7201a8"
             ],
             [
              0.3333333333333333,
              "#9c179e"
             ],
             [
              0.4444444444444444,
              "#bd3786"
             ],
             [
              0.5555555555555556,
              "#d8576b"
             ],
             [
              0.6666666666666666,
              "#ed7953"
             ],
             [
              0.7777777777777778,
              "#fb9f3a"
             ],
             [
              0.8888888888888888,
              "#fdca26"
             ],
             [
              1,
              "#f0f921"
             ]
            ],
            "type": "heatmapgl"
           }
          ],
          "histogram": [
           {
            "marker": {
             "pattern": {
              "fillmode": "overlay",
              "size": 10,
              "solidity": 0.2
             }
            },
            "type": "histogram"
           }
          ],
          "histogram2d": [
           {
            "colorbar": {
             "outlinewidth": 0,
             "ticks": ""
            },
            "colorscale": [
             [
              0,
              "#0d0887"
             ],
             [
              0.1111111111111111,
              "#46039f"
             ],
             [
              0.2222222222222222,
              "#7201a8"
             ],
             [
              0.3333333333333333,
              "#9c179e"
             ],
             [
              0.4444444444444444,
              "#bd3786"
             ],
             [
              0.5555555555555556,
              "#d8576b"
             ],
             [
              0.6666666666666666,
              "#ed7953"
             ],
             [
              0.7777777777777778,
              "#fb9f3a"
             ],
             [
              0.8888888888888888,
              "#fdca26"
             ],
             [
              1,
              "#f0f921"
             ]
            ],
            "type": "histogram2d"
           }
          ],
          "histogram2dcontour": [
           {
            "colorbar": {
             "outlinewidth": 0,
             "ticks": ""
            },
            "colorscale": [
             [
              0,
              "#0d0887"
             ],
             [
              0.1111111111111111,
              "#46039f"
             ],
             [
              0.2222222222222222,
              "#7201a8"
             ],
             [
              0.3333333333333333,
              "#9c179e"
             ],
             [
              0.4444444444444444,
              "#bd3786"
             ],
             [
              0.5555555555555556,
              "#d8576b"
             ],
             [
              0.6666666666666666,
              "#ed7953"
             ],
             [
              0.7777777777777778,
              "#fb9f3a"
             ],
             [
              0.8888888888888888,
              "#fdca26"
             ],
             [
              1,
              "#f0f921"
             ]
            ],
            "type": "histogram2dcontour"
           }
          ],
          "mesh3d": [
           {
            "colorbar": {
             "outlinewidth": 0,
             "ticks": ""
            },
            "type": "mesh3d"
           }
          ],
          "parcoords": [
           {
            "line": {
             "colorbar": {
              "outlinewidth": 0,
              "ticks": ""
             }
            },
            "type": "parcoords"
           }
          ],
          "pie": [
           {
            "automargin": true,
            "type": "pie"
           }
          ],
          "scatter": [
           {
            "fillpattern": {
             "fillmode": "overlay",
             "size": 10,
             "solidity": 0.2
            },
            "type": "scatter"
           }
          ],
          "scatter3d": [
           {
            "line": {
             "colorbar": {
              "outlinewidth": 0,
              "ticks": ""
             }
            },
            "marker": {
             "colorbar": {
              "outlinewidth": 0,
              "ticks": ""
             }
            },
            "type": "scatter3d"
           }
          ],
          "scattercarpet": [
           {
            "marker": {
             "colorbar": {
              "outlinewidth": 0,
              "ticks": ""
             }
            },
            "type": "scattercarpet"
           }
          ],
          "scattergeo": [
           {
            "marker": {
             "colorbar": {
              "outlinewidth": 0,
              "ticks": ""
             }
            },
            "type": "scattergeo"
           }
          ],
          "scattergl": [
           {
            "marker": {
             "colorbar": {
              "outlinewidth": 0,
              "ticks": ""
             }
            },
            "type": "scattergl"
           }
          ],
          "scattermapbox": [
           {
            "marker": {
             "colorbar": {
              "outlinewidth": 0,
              "ticks": ""
             }
            },
            "type": "scattermapbox"
           }
          ],
          "scatterpolar": [
           {
            "marker": {
             "colorbar": {
              "outlinewidth": 0,
              "ticks": ""
             }
            },
            "type": "scatterpolar"
           }
          ],
          "scatterpolargl": [
           {
            "marker": {
             "colorbar": {
              "outlinewidth": 0,
              "ticks": ""
             }
            },
            "type": "scatterpolargl"
           }
          ],
          "scatterternary": [
           {
            "marker": {
             "colorbar": {
              "outlinewidth": 0,
              "ticks": ""
             }
            },
            "type": "scatterternary"
           }
          ],
          "surface": [
           {
            "colorbar": {
             "outlinewidth": 0,
             "ticks": ""
            },
            "colorscale": [
             [
              0,
              "#0d0887"
             ],
             [
              0.1111111111111111,
              "#46039f"
             ],
             [
              0.2222222222222222,
              "#7201a8"
             ],
             [
              0.3333333333333333,
              "#9c179e"
             ],
             [
              0.4444444444444444,
              "#bd3786"
             ],
             [
              0.5555555555555556,
              "#d8576b"
             ],
             [
              0.6666666666666666,
              "#ed7953"
             ],
             [
              0.7777777777777778,
              "#fb9f3a"
             ],
             [
              0.8888888888888888,
              "#fdca26"
             ],
             [
              1,
              "#f0f921"
             ]
            ],
            "type": "surface"
           }
          ],
          "table": [
           {
            "cells": {
             "fill": {
              "color": "#EBF0F8"
             },
             "line": {
              "color": "white"
             }
            },
            "header": {
             "fill": {
              "color": "#C8D4E3"
             },
             "line": {
              "color": "white"
             }
            },
            "type": "table"
           }
          ]
         },
         "layout": {
          "annotationdefaults": {
           "arrowcolor": "#2a3f5f",
           "arrowhead": 0,
           "arrowwidth": 1
          },
          "autotypenumbers": "strict",
          "coloraxis": {
           "colorbar": {
            "outlinewidth": 0,
            "ticks": ""
           }
          },
          "colorscale": {
           "diverging": [
            [
             0,
             "#8e0152"
            ],
            [
             0.1,
             "#c51b7d"
            ],
            [
             0.2,
             "#de77ae"
            ],
            [
             0.3,
             "#f1b6da"
            ],
            [
             0.4,
             "#fde0ef"
            ],
            [
             0.5,
             "#f7f7f7"
            ],
            [
             0.6,
             "#e6f5d0"
            ],
            [
             0.7,
             "#b8e186"
            ],
            [
             0.8,
             "#7fbc41"
            ],
            [
             0.9,
             "#4d9221"
            ],
            [
             1,
             "#276419"
            ]
           ],
           "sequential": [
            [
             0,
             "#0d0887"
            ],
            [
             0.1111111111111111,
             "#46039f"
            ],
            [
             0.2222222222222222,
             "#7201a8"
            ],
            [
             0.3333333333333333,
             "#9c179e"
            ],
            [
             0.4444444444444444,
             "#bd3786"
            ],
            [
             0.5555555555555556,
             "#d8576b"
            ],
            [
             0.6666666666666666,
             "#ed7953"
            ],
            [
             0.7777777777777778,
             "#fb9f3a"
            ],
            [
             0.8888888888888888,
             "#fdca26"
            ],
            [
             1,
             "#f0f921"
            ]
           ],
           "sequentialminus": [
            [
             0,
             "#0d0887"
            ],
            [
             0.1111111111111111,
             "#46039f"
            ],
            [
             0.2222222222222222,
             "#7201a8"
            ],
            [
             0.3333333333333333,
             "#9c179e"
            ],
            [
             0.4444444444444444,
             "#bd3786"
            ],
            [
             0.5555555555555556,
             "#d8576b"
            ],
            [
             0.6666666666666666,
             "#ed7953"
            ],
            [
             0.7777777777777778,
             "#fb9f3a"
            ],
            [
             0.8888888888888888,
             "#fdca26"
            ],
            [
             1,
             "#f0f921"
            ]
           ]
          },
          "colorway": [
           "#636efa",
           "#EF553B",
           "#00cc96",
           "#ab63fa",
           "#FFA15A",
           "#19d3f3",
           "#FF6692",
           "#B6E880",
           "#FF97FF",
           "#FECB52"
          ],
          "font": {
           "color": "#2a3f5f"
          },
          "geo": {
           "bgcolor": "white",
           "lakecolor": "white",
           "landcolor": "#E5ECF6",
           "showlakes": true,
           "showland": true,
           "subunitcolor": "white"
          },
          "hoverlabel": {
           "align": "left"
          },
          "hovermode": "closest",
          "mapbox": {
           "style": "light"
          },
          "paper_bgcolor": "white",
          "plot_bgcolor": "#E5ECF6",
          "polar": {
           "angularaxis": {
            "gridcolor": "white",
            "linecolor": "white",
            "ticks": ""
           },
           "bgcolor": "#E5ECF6",
           "radialaxis": {
            "gridcolor": "white",
            "linecolor": "white",
            "ticks": ""
           }
          },
          "scene": {
           "xaxis": {
            "backgroundcolor": "#E5ECF6",
            "gridcolor": "white",
            "gridwidth": 2,
            "linecolor": "white",
            "showbackground": true,
            "ticks": "",
            "zerolinecolor": "white"
           },
           "yaxis": {
            "backgroundcolor": "#E5ECF6",
            "gridcolor": "white",
            "gridwidth": 2,
            "linecolor": "white",
            "showbackground": true,
            "ticks": "",
            "zerolinecolor": "white"
           },
           "zaxis": {
            "backgroundcolor": "#E5ECF6",
            "gridcolor": "white",
            "gridwidth": 2,
            "linecolor": "white",
            "showbackground": true,
            "ticks": "",
            "zerolinecolor": "white"
           }
          },
          "shapedefaults": {
           "line": {
            "color": "#2a3f5f"
           }
          },
          "ternary": {
           "aaxis": {
            "gridcolor": "white",
            "linecolor": "white",
            "ticks": ""
           },
           "baxis": {
            "gridcolor": "white",
            "linecolor": "white",
            "ticks": ""
           },
           "bgcolor": "#E5ECF6",
           "caxis": {
            "gridcolor": "white",
            "linecolor": "white",
            "ticks": ""
           }
          },
          "title": {
           "x": 0.05
          },
          "xaxis": {
           "automargin": true,
           "gridcolor": "white",
           "linecolor": "white",
           "ticks": "",
           "title": {
            "standoff": 15
           },
           "zerolinecolor": "white",
           "zerolinewidth": 2
          },
          "yaxis": {
           "automargin": true,
           "gridcolor": "white",
           "linecolor": "white",
           "ticks": "",
           "title": {
            "standoff": 15
           },
           "zerolinecolor": "white",
           "zerolinewidth": 2
          }
         }
        },
        "title": {
         "text": "Scope 1 vs. Scope 2 Across All Sectors"
        },
        "xaxis": {
         "anchor": "y",
         "domain": [
          0,
          1
         ],
         "title": {
          "text": "SCOPE 1"
         }
        },
        "yaxis": {
         "anchor": "x",
         "domain": [
          0,
          1
         ],
         "title": {
          "text": "SCOPE 2 (location-based)"
         }
        }
       }
      }
     },
     "metadata": {},
     "output_type": "display_data"
    }
   ],
   "source": [
    "fig = px.scatter(sectors, x='SCOPE 1', y='SCOPE 2 (location-based)', color='SECTOR', hover_data=['COMPANY NAME'])\n",
    "fig.update_layout(title='Scope 1 vs. Scope 2 Across All Sectors')\n",
    "fig.show()"
   ]
  },
  {
   "cell_type": "code",
   "execution_count": 63,
   "metadata": {},
   "outputs": [
    {
     "data": {
      "application/vnd.plotly.v1+json": {
       "config": {
        "plotlyServerURL": "https://plot.ly"
       },
       "data": [
        {
         "customdata": [
          [
           "Anheuser-Busch InBev"
          ],
          [
           "Anheuser-Busch InBev"
          ],
          [
           "Anheuser-Busch InBev"
          ],
          [
           "Anheuser-Busch InBev"
          ],
          [
           "Danone"
          ],
          [
           "Danone"
          ],
          [
           "Danone"
          ],
          [
           "Danone"
          ],
          [
           "Danone"
          ],
          [
           "Diageo"
          ],
          [
           "Diageo"
          ],
          [
           "Diageo"
          ],
          [
           "Diageo"
          ],
          [
           "Kellogg’s"
          ],
          [
           "Kellogg’s"
          ],
          [
           "Kellogg’s"
          ],
          [
           "Kellogg’s"
          ],
          [
           "Molson Coors"
          ],
          [
           "Molson Coors"
          ],
          [
           "Molson Coors"
          ],
          [
           "Molson Coors"
          ],
          [
           "Nestlé"
          ],
          [
           "Nestlé"
          ],
          [
           "Nestlé"
          ],
          [
           "Nestlé"
          ],
          [
           "Nestlé"
          ],
          [
           "PepsiCo"
          ],
          [
           "PepsiCo"
          ],
          [
           "PepsiCo"
          ],
          [
           "PepsiCo"
          ],
          [
           "PepsiCo"
          ],
          [
           "Tesco"
          ],
          [
           "Tesco"
          ],
          [
           "Tesco"
          ],
          [
           "Tesco"
          ],
          [
           "Unilever"
          ],
          [
           "Unilever"
          ],
          [
           "Unilever"
          ],
          [
           "Unilever"
          ]
         ],
         "hovertemplate": "SECTOR=Food & Agriculture<br>SCOPE 2 (location-based)=%{x}<br>SCOPE 3=%{y}<br>COMPANY NAME=%{customdata[0]}<extra></extra>",
         "legendgroup": "Food & Agriculture",
         "marker": {
          "color": "#636efa",
          "symbol": "circle"
         },
         "mode": "markers",
         "name": "Food & Agriculture",
         "orientation": "v",
         "showlegend": true,
         "type": "scatter",
         "x": [
          2383505,
          2215902,
          2227758,
          2243990,
          959554,
          944877,
          864710,
          812948,
          276000,
          179307,
          165095,
          143905,
          142530,
          650835,
          590739,
          587999,
          568692,
          667174,
          634136,
          604422,
          342069,
          3082573,
          3089029,
          3052234,
          2600000,
          760000,
          1629973,
          1556523,
          1719610,
          1811114,
          1834309,
          995543,
          859583,
          718222,
          642337,
          1430659,
          1321648,
          1264328,
          1244505
         ],
         "xaxis": "x",
         "y": [
          24431839,
          26484447,
          23652933,
          26527444,
          24885804,
          46176955,
          26077215,
          23733344,
          22367000,
          2665182,
          2764857,
          2608674,
          4754945,
          12761542,
          8128427,
          6449011,
          5723300,
          4933363,
          4572089,
          4257376,
          3961062,
          107145316,
          107145316,
          117000828,
          113720072,
          108900000,
          58668530,
          48366225,
          52604866,
          56388182,
          54947765,
          59795068,
          59817490,
          56241579,
          60258134,
          60419810,
          56779687,
          58300345,
          61445738
         ],
         "yaxis": "y"
        },
        {
         "customdata": [
          [
           "BP"
          ],
          [
           "BP"
          ],
          [
           "BP"
          ],
          [
           "BP"
          ],
          [
           "Chevron"
          ],
          [
           "Chevron"
          ],
          [
           "Chevron"
          ],
          [
           "Chevron"
          ],
          [
           "EDF"
          ],
          [
           "EDF"
          ],
          [
           "EDF"
          ],
          [
           "EDF"
          ],
          [
           "Enel"
          ],
          [
           "Enel"
          ],
          [
           "Enel"
          ],
          [
           "Enel"
          ],
          [
           "Equinor"
          ],
          [
           "Equinor"
          ],
          [
           "Equinor"
          ],
          [
           "Equinor"
          ],
          [
           "Exxon"
          ],
          [
           "Exxon"
          ],
          [
           "Exxon"
          ],
          [
           "Exxon"
          ],
          [
           "Orsted"
          ],
          [
           "Orsted"
          ],
          [
           "Orsted"
          ],
          [
           "Orsted"
          ],
          [
           "Oxy"
          ],
          [
           "Oxy"
          ],
          [
           "Oxy"
          ],
          [
           "Oxy"
          ],
          [
           "PetroChina"
          ],
          [
           "PetroChina"
          ],
          [
           "PetroChina"
          ],
          [
           "PetroChina"
          ],
          [
           "Saudi Aramco"
          ],
          [
           "Saudi Aramco"
          ],
          [
           "Saudi Aramco"
          ],
          [
           "Saudi Aramco"
          ],
          [
           "Shell"
          ],
          [
           "Shell"
          ],
          [
           "Shell"
          ],
          [
           "Shell"
          ],
          [
           "Gazprom"
          ],
          [
           "Gazprom"
          ],
          [
           "Gazprom"
          ],
          [
           "Gazprom"
          ],
          [
           "Rosneft"
          ],
          [
           "Rosneft"
          ],
          [
           "Rosneft"
          ],
          [
           "Rosneft"
          ]
         ],
         "hovertemplate": "SECTOR=Energy<br>SCOPE 2 (location-based)=%{x}<br>SCOPE 3=%{y}<br>COMPANY NAME=%{customdata[0]}<extra></extra>",
         "legendgroup": "Energy",
         "marker": {
          "color": "#EF553B",
          "symbol": "circle"
         },
         "mode": "markers",
         "name": "Energy",
         "orientation": "v",
         "showlegend": true,
         "type": "scatter",
         "x": [
          5400000,
          5200000,
          3700000,
          2400000,
          3000000,
          2000000,
          4000000,
          4000000,
          470025,
          289243,
          320773,
          288947,
          115000,
          770163,
          548948,
          721000,
          194063,
          215474,
          251513,
          97048,
          9000000,
          9000000,
          9000000,
          7000000,
          151000,
          123000,
          111000,
          53000,
          4100000,
          5898890,
          4800281,
          4838074,
          null,
          41910000,
          39870000,
          38150000,
          null,
          null,
          18100000,
          15500000,
          11000000,
          11000000,
          11000000,
          9000000,
          8198070,
          6077827,
          4762910,
          6080000,
          22200000,
          21800000,
          20100000,
          18500000
         ],
         "xaxis": "x",
         "y": [
          437000000,
          null,
          327600000,
          303600000,
          1023000000,
          1033000000,
          980000000,
          1071000000,
          110759561,
          119363628,
          106649250,
          101804919,
          5261003,
          5819007,
          5315425,
          6000610,
          314102157,
          258995398,
          271036800,
          268747731,
          null,
          null,
          null,
          null,
          36234400,
          33864140,
          25333000,
          18179000,
          71000000,
          259100000,
          225900000,
          193800000,
          null,
          null,
          null,
          null,
          null,
          null,
          null,
          null,
          696770000,
          693200000,
          1343550000,
          1344423000,
          null,
          1154544765,
          1078493075,
          1150750000,
          244300000,
          301000000,
          280000000,
          null
         ],
         "yaxis": "y"
        },
        {
         "customdata": [
          [
           "BMW"
          ],
          [
           "BMW"
          ],
          [
           "BMW"
          ],
          [
           "BMW"
          ],
          [
           "BMW"
          ],
          [
           "BYD"
          ],
          [
           "BYD"
          ],
          [
           "BYD"
          ],
          [
           "BYD"
          ],
          [
           "BYD"
          ],
          [
           "BYD"
          ],
          [
           "Daimler/Mercedes"
          ],
          [
           "Daimler/Mercedes"
          ],
          [
           "Daimler/Mercedes"
          ],
          [
           "Daimler/Mercedes"
          ],
          [
           "Daimler/Mercedes"
          ],
          [
           "Daimler/Mercedes"
          ],
          [
           "Fiat-Chrysler"
          ],
          [
           "Fiat-Chrysler"
          ],
          [
           "Fiat-Chrysler"
          ],
          [
           "Fiat-Chrysler"
          ],
          [
           "Fiat-Chrysler"
          ],
          [
           "Fiat-Chrysler"
          ],
          [
           "Ford"
          ],
          [
           "Ford"
          ],
          [
           "Ford"
          ],
          [
           "Ford"
          ],
          [
           "Ford"
          ],
          [
           "Geely"
          ],
          [
           "Geely"
          ],
          [
           "Geely"
          ],
          [
           "Geely"
          ],
          [
           "Geely"
          ],
          [
           "Geely"
          ],
          [
           "General Motors"
          ],
          [
           "General Motors"
          ],
          [
           "General Motors"
          ],
          [
           "General Motors"
          ],
          [
           "General Motors"
          ],
          [
           "Honda"
          ],
          [
           "Honda"
          ],
          [
           "Honda"
          ],
          [
           "Honda"
          ],
          [
           "Honda"
          ],
          [
           "Hyundai"
          ],
          [
           "Hyundai"
          ],
          [
           "Hyundai"
          ],
          [
           "Hyundai"
          ],
          [
           "Hyundai"
          ],
          [
           "Toyota"
          ],
          [
           "Toyota"
          ],
          [
           "Toyota"
          ],
          [
           "Toyota"
          ],
          [
           "Toyota"
          ],
          [
           "Toyota"
          ],
          [
           "Volkswagen"
          ],
          [
           "Volkswagen"
          ],
          [
           "Volkswagen"
          ],
          [
           "Volkswagen"
          ],
          [
           "Volkswagen"
          ],
          [
           "Volkswagen"
          ],
          [
           "Tesla"
          ],
          [
           "Tesla"
          ],
          [
           "Tesla"
          ],
          [
           "Tesla"
          ],
          [
           "Tesla"
          ],
          [
           "Tesla"
          ]
         ],
         "hovertemplate": "SECTOR=Auto<br>SCOPE 2 (location-based)=%{x}<br>SCOPE 3=%{y}<br>COMPANY NAME=%{customdata[0]}<extra></extra>",
         "legendgroup": "Auto",
         "marker": {
          "color": "#00cc96",
          "symbol": "circle"
         },
         "mode": "markers",
         "name": "Auto",
         "orientation": "v",
         "showlegend": true,
         "type": "scatter",
         "x": [
          1572432,
          1539378,
          1540667,
          1333076,
          1404348,
          0,
          0,
          0,
          3945773,
          4903502,
          7511038,
          2041000,
          1687000,
          1706000,
          1492000,
          1123000,
          1121000,
          3309598,
          2795995,
          2296709,
          1983910,
          2200000,
          1900000,
          3482444,
          3349808,
          3195704,
          2715328,
          2616003,
          346173,
          425622,
          418180,
          518514,
          867943,
          655705,
          4572734,
          4322761,
          4381970,
          3087816,
          2881767,
          3790000,
          3690000,
          3440000,
          3050000,
          3245113,
          1882674,
          1936902,
          1897855,
          1680079,
          1660238,
          911000,
          895000,
          783000,
          697000,
          627000,
          618729,
          5901889,
          6370514,
          5973894,
          5257618,
          2420000,
          2110000,
          null,
          null,
          null,
          null,
          403000,
          408000
         ],
         "xaxis": "x",
         "y": [
          71690753,
          73093077,
          132520346,
          117682832,
          121705367,
          null,
          null,
          null,
          null,
          null,
          null,
          82530800,
          79300000,
          144408800,
          102237000,
          123158000,
          null,
          124729588,
          115993925,
          122750694,
          null,
          523305000,
          447230000,
          211807837,
          174463469,
          187993867,
          349281992,
          299853676,
          null,
          null,
          null,
          34097000,
          102344820,
          101818690,
          280849954,
          264495398,
          249313396,
          254440148,
          233167875,
          314067700,
          310718300,
          297816499,
          244758486,
          275724920,
          7051724,
          5582405,
          120382017,
          100536484,
          101790793,
          1135000,
          412010000,
          5004849,
          91366617,
          97328307,
          2935799,
          340767244,
          427972277,
          447225434,
          368258661,
          364139242,
          395616838,
          null,
          null,
          null,
          null,
          1954000,
          30100000
         ],
         "yaxis": "y"
        },
        {
         "customdata": [
          [
           "Alphabet"
          ],
          [
           "Alphabet"
          ],
          [
           "Alphabet"
          ],
          [
           "Alphabet"
          ],
          [
           "Alphabet"
          ],
          [
           "Amazon"
          ],
          [
           "Amazon"
          ],
          [
           "Amazon"
          ],
          [
           "Amazon"
          ],
          [
           "Amazon"
          ],
          [
           "Apple"
          ],
          [
           "Apple"
          ],
          [
           "Apple"
          ],
          [
           "Apple"
          ],
          [
           "Apple"
          ],
          [
           "Meta"
          ],
          [
           "Meta"
          ],
          [
           "Meta"
          ],
          [
           "Meta"
          ],
          [
           "Meta"
          ],
          [
           "Microsoft"
          ],
          [
           "Microsoft"
          ],
          [
           "Microsoft"
          ],
          [
           "Microsoft"
          ],
          [
           "Microsoft"
          ],
          [
           "Samsung"
          ],
          [
           "Samsung"
          ],
          [
           "Samsung"
          ],
          [
           "Samsung"
          ],
          [
           "Samsung"
          ],
          [
           "TSMC"
          ],
          [
           "TSMC"
          ],
          [
           "TSMC"
          ],
          [
           "TSMC"
          ]
         ],
         "hovertemplate": "SECTOR=Tech<br>SCOPE 2 (location-based)=%{x}<br>SCOPE 3=%{y}<br>COMPANY NAME=%{customdata[0]}<extra></extra>",
         "legendgroup": "Tech",
         "marker": {
          "color": "#ab63fa",
          "symbol": "circle"
         },
         "mode": "markers",
         "name": "Tech",
         "orientation": "v",
         "showlegend": true,
         "type": "scatter",
         "x": [
          4344686,
          5116949,
          5865095,
          6576239,
          8045400,
          4710000,
          5500000,
          5270000,
          4070000,
          2890000,
          8730,
          862127,
          890200,
          890200,
          1065405,
          1241000,
          1885000,
          2718000,
          3080194,
          3921611,
          3000523,
          3556553,
          4102445,
          4745197,
          6381250,
          10318000,
          10998000,
          11852400,
          12566000,
          13920000,
          7001655,
          7350195,
          8282509,
          9196964
         ],
         "xaxis": "x",
         "y": [
          12900467,
          11669000,
          9376000,
          9503000,
          7600000,
          34710000,
          39910000,
          45750000,
          55360000,
          54980000,
          25070000,
          24980000,
          22547000,
          23128400,
          20550000,
          652000,
          4078000,
          5091000,
          5651459,
          8466248,
          17834520,
          11322527,
          10817756,
          13784501,
          18863000,
          38234000,
          70063000,
          65591000,
          123234900,
          124715000,
          4315604,
          5307729,
          5571946,
          6127157
         ],
         "yaxis": "y"
        }
       ],
       "layout": {
        "legend": {
         "title": {
          "text": "SECTOR"
         },
         "tracegroupgap": 0
        },
        "margin": {
         "t": 60
        },
        "template": {
         "data": {
          "bar": [
           {
            "error_x": {
             "color": "#2a3f5f"
            },
            "error_y": {
             "color": "#2a3f5f"
            },
            "marker": {
             "line": {
              "color": "#E5ECF6",
              "width": 0.5
             },
             "pattern": {
              "fillmode": "overlay",
              "size": 10,
              "solidity": 0.2
             }
            },
            "type": "bar"
           }
          ],
          "barpolar": [
           {
            "marker": {
             "line": {
              "color": "#E5ECF6",
              "width": 0.5
             },
             "pattern": {
              "fillmode": "overlay",
              "size": 10,
              "solidity": 0.2
             }
            },
            "type": "barpolar"
           }
          ],
          "carpet": [
           {
            "aaxis": {
             "endlinecolor": "#2a3f5f",
             "gridcolor": "white",
             "linecolor": "white",
             "minorgridcolor": "white",
             "startlinecolor": "#2a3f5f"
            },
            "baxis": {
             "endlinecolor": "#2a3f5f",
             "gridcolor": "white",
             "linecolor": "white",
             "minorgridcolor": "white",
             "startlinecolor": "#2a3f5f"
            },
            "type": "carpet"
           }
          ],
          "choropleth": [
           {
            "colorbar": {
             "outlinewidth": 0,
             "ticks": ""
            },
            "type": "choropleth"
           }
          ],
          "contour": [
           {
            "colorbar": {
             "outlinewidth": 0,
             "ticks": ""
            },
            "colorscale": [
             [
              0,
              "#0d0887"
             ],
             [
              0.1111111111111111,
              "#46039f"
             ],
             [
              0.2222222222222222,
              "#7201a8"
             ],
             [
              0.3333333333333333,
              "#9c179e"
             ],
             [
              0.4444444444444444,
              "#bd3786"
             ],
             [
              0.5555555555555556,
              "#d8576b"
             ],
             [
              0.6666666666666666,
              "#ed7953"
             ],
             [
              0.7777777777777778,
              "#fb9f3a"
             ],
             [
              0.8888888888888888,
              "#fdca26"
             ],
             [
              1,
              "#f0f921"
             ]
            ],
            "type": "contour"
           }
          ],
          "contourcarpet": [
           {
            "colorbar": {
             "outlinewidth": 0,
             "ticks": ""
            },
            "type": "contourcarpet"
           }
          ],
          "heatmap": [
           {
            "colorbar": {
             "outlinewidth": 0,
             "ticks": ""
            },
            "colorscale": [
             [
              0,
              "#0d0887"
             ],
             [
              0.1111111111111111,
              "#46039f"
             ],
             [
              0.2222222222222222,
              "#7201a8"
             ],
             [
              0.3333333333333333,
              "#9c179e"
             ],
             [
              0.4444444444444444,
              "#bd3786"
             ],
             [
              0.5555555555555556,
              "#d8576b"
             ],
             [
              0.6666666666666666,
              "#ed7953"
             ],
             [
              0.7777777777777778,
              "#fb9f3a"
             ],
             [
              0.8888888888888888,
              "#fdca26"
             ],
             [
              1,
              "#f0f921"
             ]
            ],
            "type": "heatmap"
           }
          ],
          "heatmapgl": [
           {
            "colorbar": {
             "outlinewidth": 0,
             "ticks": ""
            },
            "colorscale": [
             [
              0,
              "#0d0887"
             ],
             [
              0.1111111111111111,
              "#46039f"
             ],
             [
              0.2222222222222222,
              "#7201a8"
             ],
             [
              0.3333333333333333,
              "#9c179e"
             ],
             [
              0.4444444444444444,
              "#bd3786"
             ],
             [
              0.5555555555555556,
              "#d8576b"
             ],
             [
              0.6666666666666666,
              "#ed7953"
             ],
             [
              0.7777777777777778,
              "#fb9f3a"
             ],
             [
              0.8888888888888888,
              "#fdca26"
             ],
             [
              1,
              "#f0f921"
             ]
            ],
            "type": "heatmapgl"
           }
          ],
          "histogram": [
           {
            "marker": {
             "pattern": {
              "fillmode": "overlay",
              "size": 10,
              "solidity": 0.2
             }
            },
            "type": "histogram"
           }
          ],
          "histogram2d": [
           {
            "colorbar": {
             "outlinewidth": 0,
             "ticks": ""
            },
            "colorscale": [
             [
              0,
              "#0d0887"
             ],
             [
              0.1111111111111111,
              "#46039f"
             ],
             [
              0.2222222222222222,
              "#7201a8"
             ],
             [
              0.3333333333333333,
              "#9c179e"
             ],
             [
              0.4444444444444444,
              "#bd3786"
             ],
             [
              0.5555555555555556,
              "#d8576b"
             ],
             [
              0.6666666666666666,
              "#ed7953"
             ],
             [
              0.7777777777777778,
              "#fb9f3a"
             ],
             [
              0.8888888888888888,
              "#fdca26"
             ],
             [
              1,
              "#f0f921"
             ]
            ],
            "type": "histogram2d"
           }
          ],
          "histogram2dcontour": [
           {
            "colorbar": {
             "outlinewidth": 0,
             "ticks": ""
            },
            "colorscale": [
             [
              0,
              "#0d0887"
             ],
             [
              0.1111111111111111,
              "#46039f"
             ],
             [
              0.2222222222222222,
              "#7201a8"
             ],
             [
              0.3333333333333333,
              "#9c179e"
             ],
             [
              0.4444444444444444,
              "#bd3786"
             ],
             [
              0.5555555555555556,
              "#d8576b"
             ],
             [
              0.6666666666666666,
              "#ed7953"
             ],
             [
              0.7777777777777778,
              "#fb9f3a"
             ],
             [
              0.8888888888888888,
              "#fdca26"
             ],
             [
              1,
              "#f0f921"
             ]
            ],
            "type": "histogram2dcontour"
           }
          ],
          "mesh3d": [
           {
            "colorbar": {
             "outlinewidth": 0,
             "ticks": ""
            },
            "type": "mesh3d"
           }
          ],
          "parcoords": [
           {
            "line": {
             "colorbar": {
              "outlinewidth": 0,
              "ticks": ""
             }
            },
            "type": "parcoords"
           }
          ],
          "pie": [
           {
            "automargin": true,
            "type": "pie"
           }
          ],
          "scatter": [
           {
            "fillpattern": {
             "fillmode": "overlay",
             "size": 10,
             "solidity": 0.2
            },
            "type": "scatter"
           }
          ],
          "scatter3d": [
           {
            "line": {
             "colorbar": {
              "outlinewidth": 0,
              "ticks": ""
             }
            },
            "marker": {
             "colorbar": {
              "outlinewidth": 0,
              "ticks": ""
             }
            },
            "type": "scatter3d"
           }
          ],
          "scattercarpet": [
           {
            "marker": {
             "colorbar": {
              "outlinewidth": 0,
              "ticks": ""
             }
            },
            "type": "scattercarpet"
           }
          ],
          "scattergeo": [
           {
            "marker": {
             "colorbar": {
              "outlinewidth": 0,
              "ticks": ""
             }
            },
            "type": "scattergeo"
           }
          ],
          "scattergl": [
           {
            "marker": {
             "colorbar": {
              "outlinewidth": 0,
              "ticks": ""
             }
            },
            "type": "scattergl"
           }
          ],
          "scattermapbox": [
           {
            "marker": {
             "colorbar": {
              "outlinewidth": 0,
              "ticks": ""
             }
            },
            "type": "scattermapbox"
           }
          ],
          "scatterpolar": [
           {
            "marker": {
             "colorbar": {
              "outlinewidth": 0,
              "ticks": ""
             }
            },
            "type": "scatterpolar"
           }
          ],
          "scatterpolargl": [
           {
            "marker": {
             "colorbar": {
              "outlinewidth": 0,
              "ticks": ""
             }
            },
            "type": "scatterpolargl"
           }
          ],
          "scatterternary": [
           {
            "marker": {
             "colorbar": {
              "outlinewidth": 0,
              "ticks": ""
             }
            },
            "type": "scatterternary"
           }
          ],
          "surface": [
           {
            "colorbar": {
             "outlinewidth": 0,
             "ticks": ""
            },
            "colorscale": [
             [
              0,
              "#0d0887"
             ],
             [
              0.1111111111111111,
              "#46039f"
             ],
             [
              0.2222222222222222,
              "#7201a8"
             ],
             [
              0.3333333333333333,
              "#9c179e"
             ],
             [
              0.4444444444444444,
              "#bd3786"
             ],
             [
              0.5555555555555556,
              "#d8576b"
             ],
             [
              0.6666666666666666,
              "#ed7953"
             ],
             [
              0.7777777777777778,
              "#fb9f3a"
             ],
             [
              0.8888888888888888,
              "#fdca26"
             ],
             [
              1,
              "#f0f921"
             ]
            ],
            "type": "surface"
           }
          ],
          "table": [
           {
            "cells": {
             "fill": {
              "color": "#EBF0F8"
             },
             "line": {
              "color": "white"
             }
            },
            "header": {
             "fill": {
              "color": "#C8D4E3"
             },
             "line": {
              "color": "white"
             }
            },
            "type": "table"
           }
          ]
         },
         "layout": {
          "annotationdefaults": {
           "arrowcolor": "#2a3f5f",
           "arrowhead": 0,
           "arrowwidth": 1
          },
          "autotypenumbers": "strict",
          "coloraxis": {
           "colorbar": {
            "outlinewidth": 0,
            "ticks": ""
           }
          },
          "colorscale": {
           "diverging": [
            [
             0,
             "#8e0152"
            ],
            [
             0.1,
             "#c51b7d"
            ],
            [
             0.2,
             "#de77ae"
            ],
            [
             0.3,
             "#f1b6da"
            ],
            [
             0.4,
             "#fde0ef"
            ],
            [
             0.5,
             "#f7f7f7"
            ],
            [
             0.6,
             "#e6f5d0"
            ],
            [
             0.7,
             "#b8e186"
            ],
            [
             0.8,
             "#7fbc41"
            ],
            [
             0.9,
             "#4d9221"
            ],
            [
             1,
             "#276419"
            ]
           ],
           "sequential": [
            [
             0,
             "#0d0887"
            ],
            [
             0.1111111111111111,
             "#46039f"
            ],
            [
             0.2222222222222222,
             "#7201a8"
            ],
            [
             0.3333333333333333,
             "#9c179e"
            ],
            [
             0.4444444444444444,
             "#bd3786"
            ],
            [
             0.5555555555555556,
             "#d8576b"
            ],
            [
             0.6666666666666666,
             "#ed7953"
            ],
            [
             0.7777777777777778,
             "#fb9f3a"
            ],
            [
             0.8888888888888888,
             "#fdca26"
            ],
            [
             1,
             "#f0f921"
            ]
           ],
           "sequentialminus": [
            [
             0,
             "#0d0887"
            ],
            [
             0.1111111111111111,
             "#46039f"
            ],
            [
             0.2222222222222222,
             "#7201a8"
            ],
            [
             0.3333333333333333,
             "#9c179e"
            ],
            [
             0.4444444444444444,
             "#bd3786"
            ],
            [
             0.5555555555555556,
             "#d8576b"
            ],
            [
             0.6666666666666666,
             "#ed7953"
            ],
            [
             0.7777777777777778,
             "#fb9f3a"
            ],
            [
             0.8888888888888888,
             "#fdca26"
            ],
            [
             1,
             "#f0f921"
            ]
           ]
          },
          "colorway": [
           "#636efa",
           "#EF553B",
           "#00cc96",
           "#ab63fa",
           "#FFA15A",
           "#19d3f3",
           "#FF6692",
           "#B6E880",
           "#FF97FF",
           "#FECB52"
          ],
          "font": {
           "color": "#2a3f5f"
          },
          "geo": {
           "bgcolor": "white",
           "lakecolor": "white",
           "landcolor": "#E5ECF6",
           "showlakes": true,
           "showland": true,
           "subunitcolor": "white"
          },
          "hoverlabel": {
           "align": "left"
          },
          "hovermode": "closest",
          "mapbox": {
           "style": "light"
          },
          "paper_bgcolor": "white",
          "plot_bgcolor": "#E5ECF6",
          "polar": {
           "angularaxis": {
            "gridcolor": "white",
            "linecolor": "white",
            "ticks": ""
           },
           "bgcolor": "#E5ECF6",
           "radialaxis": {
            "gridcolor": "white",
            "linecolor": "white",
            "ticks": ""
           }
          },
          "scene": {
           "xaxis": {
            "backgroundcolor": "#E5ECF6",
            "gridcolor": "white",
            "gridwidth": 2,
            "linecolor": "white",
            "showbackground": true,
            "ticks": "",
            "zerolinecolor": "white"
           },
           "yaxis": {
            "backgroundcolor": "#E5ECF6",
            "gridcolor": "white",
            "gridwidth": 2,
            "linecolor": "white",
            "showbackground": true,
            "ticks": "",
            "zerolinecolor": "white"
           },
           "zaxis": {
            "backgroundcolor": "#E5ECF6",
            "gridcolor": "white",
            "gridwidth": 2,
            "linecolor": "white",
            "showbackground": true,
            "ticks": "",
            "zerolinecolor": "white"
           }
          },
          "shapedefaults": {
           "line": {
            "color": "#2a3f5f"
           }
          },
          "ternary": {
           "aaxis": {
            "gridcolor": "white",
            "linecolor": "white",
            "ticks": ""
           },
           "baxis": {
            "gridcolor": "white",
            "linecolor": "white",
            "ticks": ""
           },
           "bgcolor": "#E5ECF6",
           "caxis": {
            "gridcolor": "white",
            "linecolor": "white",
            "ticks": ""
           }
          },
          "title": {
           "x": 0.05
          },
          "xaxis": {
           "automargin": true,
           "gridcolor": "white",
           "linecolor": "white",
           "ticks": "",
           "title": {
            "standoff": 15
           },
           "zerolinecolor": "white",
           "zerolinewidth": 2
          },
          "yaxis": {
           "automargin": true,
           "gridcolor": "white",
           "linecolor": "white",
           "ticks": "",
           "title": {
            "standoff": 15
           },
           "zerolinecolor": "white",
           "zerolinewidth": 2
          }
         }
        },
        "title": {
         "text": "Scope 2 vs. Scope 3 Across All Sectors"
        },
        "xaxis": {
         "anchor": "y",
         "domain": [
          0,
          1
         ],
         "title": {
          "text": "SCOPE 2 (location-based)"
         }
        },
        "yaxis": {
         "anchor": "x",
         "domain": [
          0,
          1
         ],
         "title": {
          "text": "SCOPE 3"
         }
        }
       }
      }
     },
     "metadata": {},
     "output_type": "display_data"
    }
   ],
   "source": [
    "fig = px.scatter(sectors, x='SCOPE 2 (location-based)', y='SCOPE 3', color='SECTOR', hover_data=['COMPANY NAME'])\n",
    "fig.update_layout(title='Scope 2 vs. Scope 3 Across All Sectors')\n",
    "fig.show()"
   ]
  },
  {
   "cell_type": "code",
   "execution_count": 67,
   "metadata": {},
   "outputs": [
    {
     "data": {
      "text/plain": [
       "10         0.25\n",
       "13         2.58\n",
       "14         2.84\n",
       "12         3.42\n",
       "11         3.52\n",
       "        ...    \n",
       "25     52302.87\n",
       "26     53196.40\n",
       "27     56088.89\n",
       "29     97597.93\n",
       "28    113127.44\n",
       "Name: ADJUSTED CI, Length: 150, dtype: float64"
      ]
     },
     "execution_count": 67,
     "metadata": {},
     "output_type": "execute_result"
    }
   ],
   "source": [
    "# Way too wide of a range for carbon intensity with adjusted revenue values, \n",
    "# could potentially be because revenue values are not standardized, auto rev's may not represent millions of dollars\n",
    "\n",
    "sectors_nona['ADJUSTED CI'].sort_values()"
   ]
  },
  {
   "cell_type": "code",
   "execution_count": 47,
   "metadata": {},
   "outputs": [
    {
     "data": {
      "text/plain": [
       "Text(0, 0.5, 'Carbon Intensity (g CO2e / $ million)')"
      ]
     },
     "execution_count": 47,
     "metadata": {},
     "output_type": "execute_result"
    },
    {
     "data": {
      "image/png": "[encoded data removed]",
      "text/plain": [
       "<Figure size 640x480 with 2 Axes>"
      ]
     },
     "metadata": {},
     "output_type": "display_data"
    }
   ],
   "source": [
    "x = foodag.loc[foodag['COMPANY NAME'] == 'Anheuser-Busch InBev', 'YEAR']\n",
    "y1a = foodag.loc[foodag['COMPANY NAME'] == 'Anheuser-Busch InBev', 'SCOPE 1']\n",
    "y1b = foodag.loc[foodag['COMPANY NAME'] == 'Anheuser-Busch InBev', 'SCOPE 2 (location-based)']\n",
    "y1c = foodag.loc[foodag['COMPANY NAME'] == 'Anheuser-Busch InBev', 'SCOPE 3']\n",
    "y2 = foodag.loc[foodag['COMPANY NAME'] == 'Anheuser-Busch InBev', 'CARBON INTENSITY']\n",
    "fig, ax1 = plt.subplots()\n",
    "bar_positions = [2018, 2019, 2020, 2021]\n",
    "ax2 = ax1.twinx()\n",
    "\n",
    "ax1.bar(x, y1a, color =plt.cm.plasma(0))\n",
    "ax1.bar(x, y1b, bottom=y1a, color =plt.cm.plasma(0.4))\n",
    "ax1.bar(x, y1c, bottom=y1a + y1b, color =plt.cm.plasma(0.8))\n",
    "ax2.plot(x, y2, color = plt.cm.viridis(0.5), marker = 'o', label='Carbon Intensity')\n",
    "\n",
    "ax1.set_xticks(bar_positions)\n",
    "ax1.set_ylim(0, 40000000)\n",
    "ax2.set_ylim(0, 125)\n",
    "\n",
    "\n",
    "plt.suptitle('Annual GHG Emissions', fontsize=14, fontweight='bold')\n",
    "plt.title('Anheuser-Busch InBev', fontsize=10)\n",
    "ax1.set_xlabel('Year')\n",
    "ax1.set_ylabel('Carbon Emissions (metric ton CO2e)')\n",
    "ax2.set_ylabel('Carbon Intensity (g CO2e / $ million)')"
   ]
  },
  {
   "cell_type": "code",
   "execution_count": null,
   "metadata": {},
   "outputs": [],
   "source": []
  }
 ],
 "metadata": {
  "kernelspec": {
   "display_name": "Python 3.9.6 64-bit",
   "language": "python",
   "name": "python3"
  },
  "language_info": {
   "codemirror_mode": {
    "name": "ipython",
    "version": 3
   },
   "file_extension": ".py",
   "mimetype": "text/x-python",
   "name": "python",
   "nbconvert_exporter": "python",
   "pygments_lexer": "ipython3",
   "version": "3.9.6"
  },
  "orig_nbformat": 4,
  "vscode": {
   "interpreter": {
    "hash": "31f2aee4e71d21fbe5cf8b01ff0e069b9275f58929596ceb00d14d90e3e16cd6"
   }
  }
 },
 "nbformat": 4,
 "nbformat_minor": 2
}
