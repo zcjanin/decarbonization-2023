{
 "cells": [
  {
   "cell_type": "markdown",
   "metadata": {},
   "source": [
    "# Corporate Decarbonization Research\n",
    "---"
   ]
  },
  {
   "cell_type": "markdown",
   "metadata": {},
   "source": [
    "### Import modules"
   ]
  },
  {
   "cell_type": "code",
   "execution_count": 8,
   "metadata": {},
   "outputs": [],
   "source": [
    "import pandas as pd\n",
    "import numpy as np\n",
    "import seaborn as sns\n",
    "import plotly.express as px\n",
    "import matplotlib.pyplot as plt"
   ]
  },
  {
   "cell_type": "markdown",
   "metadata": {},
   "source": [
    "### Table of Contents\n",
    "\n",
    "**[Section 1) Loading and Cleaning](#section-1-loading-and-cleaning)**\n",
    "- Loading the Raw Data\n",
    "- Helper Functions\n",
    "- More Data Cleaning\n",
    "\n",
    "**[Section 2) EDA and Summary Statistics](#section-2-eda-and-summary-statistics)**\n",
    "- Data Dictionary\n",
    "- Cross-sector EDA\n",
    "\n",
    "**[Section 3) Visualizations](#section-3-visualizations)**\n",
    "- CDP Submissions\n",
    "- Cross-sector Charts\n",
    "- Scatter Plots\n",
    "- Company Emissions Charts\n",
    "- Net-Zero Charts\n",
    "\n",
    "**[Section 4) Conclusion](#section-4---conclusion)**\n",
    "- What we learned\n",
    "- Next Steps\n",
    "- Collaboration efforts"
   ]
  },
  {
   "cell_type": "markdown",
   "metadata": {},
   "source": [
    "---"
   ]
  },
  {
   "cell_type": "markdown",
   "metadata": {},
   "source": [
    "# SECTION 1) Loading and Cleaning"
   ]
  },
  {
   "cell_type": "markdown",
   "metadata": {},
   "source": [
    "## Loading the Raw Data"
   ]
  },
  {
   "cell_type": "markdown",
   "metadata": {},
   "source": [
    "*In this section of the notebook, I will be importing our data and performing some preliminary cleaning/standardizing of our datasets to create separate DataFrames for each sector and an aggregated DataFrame containing all sectors. More data cleaning will be performed after the **Helper Functions** section.*"
   ]
  },
  {
   "cell_type": "code",
   "execution_count": 9,
   "metadata": {},
   "outputs": [],
   "source": [
    "# load in data\n",
    "\n",
    "foodag = pd.read_csv('data/foodag.csv')\n",
    "energy = pd.read_csv('data/energy.csv')\n",
    "auto = pd.read_csv('data/auto.csv')\n",
    "tech = pd.read_csv('data/tech.csv')\n"
   ]
  },
  {
   "cell_type": "code",
   "execution_count": 10,
   "metadata": {},
   "outputs": [
    {
     "data": {
      "text/plain": [
       "((45, 15), (65, 15), (71, 16), (35, 15))"
      ]
     },
     "execution_count": 10,
     "metadata": {},
     "output_type": "execute_result"
    }
   ],
   "source": [
    "# Add sector columns to concatenate df's\n",
    "\n",
    "foodag['SECTOR'] = ['Food & Agriculture'] * len(foodag['COMPANY NAME'])\n",
    "energy['SECTOR'] = ['Energy'] * len(energy['COMPANY NAME'])\n",
    "auto['SECTOR'] = ['Auto'] * len(auto['COMPANY NAME'])\n",
    "tech['SECTOR'] = ['Tech'] * len(tech['COMPANY NAME'])\n",
    "foodag.shape, energy.shape, auto.shape, tech.shape\n"
   ]
  },
  {
   "cell_type": "code",
   "execution_count": 11,
   "metadata": {},
   "outputs": [],
   "source": [
    "# clean tech to standardize columns across all df's, shorten CI column name\n",
    "\n",
    "tech = tech.rename(columns={'CARBON INTENSITY\\n(Scope 1 & 2 g CO2e/ $ Sales) \\ncalculated' :\n",
    "'CARBON INTENSITY\\n(Scope 1 & 2 g CO2e / $ Sales)'})\n",
    "\n",
    "df_array = [foodag, energy, auto, tech]\n",
    "for df in df_array:\n",
    "    df.rename(columns={'CARBON INTENSITY\\n(Scope 1 & 2 g CO2e / $ Sales)': 'CARBON INTENSITY'}, inplace=True)\n"
   ]
  },
  {
   "cell_type": "code",
   "execution_count": 12,
   "metadata": {},
   "outputs": [
    {
     "data": {
      "text/plain": [
       "(216, 15)"
      ]
     },
     "execution_count": 12,
     "metadata": {},
     "output_type": "execute_result"
    }
   ],
   "source": [
    "# concatenate dataframes together\n",
    "\n",
    "sectors = pd.concat([foodag, energy, auto, tech])\n",
    "sectors = sectors.drop(columns='SCOPE 1 + SCOPE 2 EMISSIONS')\n",
    "sectors.shape"
   ]
  },
  {
   "cell_type": "markdown",
   "metadata": {},
   "source": [
    "### *To access a dataset containing all sectors, use the `sectors` DataFrame. To acccess individual sectors, choose from `foodag`, `tech`, `auto`, and `energy`.*"
   ]
  },
  {
   "cell_type": "markdown",
   "metadata": {},
   "source": [
    "### `sectors`"
   ]
  },
  {
   "cell_type": "code",
   "execution_count": 13,
   "metadata": {},
   "outputs": [
    {
     "data": {
      "text/html": [
       "<div>\n",
       "<style scoped>\n",
       "    .dataframe tbody tr th:only-of-type {\n",
       "        vertical-align: middle;\n",
       "    }\n",
       "\n",
       "    .dataframe tbody tr th {\n",
       "        vertical-align: top;\n",
       "    }\n",
       "\n",
       "    .dataframe thead th {\n",
       "        text-align: right;\n",
       "    }\n",
       "</style>\n",
       "<table border=\"1\" class=\"dataframe\">\n",
       "  <thead>\n",
       "    <tr style=\"text-align: right;\">\n",
       "      <th></th>\n",
       "      <th>COMPANY NAME</th>\n",
       "      <th>YEAR</th>\n",
       "      <th>SCOPE 1</th>\n",
       "      <th>SCOPE 2 (location-based)</th>\n",
       "      <th>SCOPE 3</th>\n",
       "      <th>TOTAL EMISSIONS</th>\n",
       "      <th>TOTAL REVENUE (miillion $)</th>\n",
       "      <th>CURRENCY</th>\n",
       "      <th>CARBON INTENSITY</th>\n",
       "      <th>COUNTRY OF ORIGIN</th>\n",
       "      <th>SUBMIT TO CDP</th>\n",
       "      <th>SBTi TARGET SET?</th>\n",
       "      <th>SBTI COMMITMENTS</th>\n",
       "      <th>NET-ZERO TARGETS</th>\n",
       "      <th>SECTOR</th>\n",
       "    </tr>\n",
       "  </thead>\n",
       "  <tbody>\n",
       "    <tr>\n",
       "      <th>0</th>\n",
       "      <td>Anheuser-Busch InBev</td>\n",
       "      <td>2018</td>\n",
       "      <td>3700760.0</td>\n",
       "      <td>2383505.0</td>\n",
       "      <td>24431839.0</td>\n",
       "      <td>30516104.0</td>\n",
       "      <td>54619.0</td>\n",
       "      <td>USD</td>\n",
       "      <td>111.39</td>\n",
       "      <td>Belgium</td>\n",
       "      <td>Yes</td>\n",
       "      <td>Yes</td>\n",
       "      <td>[Near-term targets set, net-zero committed]</td>\n",
       "      <td>Net-zero by 2040 across value chain</td>\n",
       "      <td>Food &amp; Agriculture</td>\n",
       "    </tr>\n",
       "    <tr>\n",
       "      <th>1</th>\n",
       "      <td>Anheuser-Busch InBev</td>\n",
       "      <td>2019</td>\n",
       "      <td>3600710.0</td>\n",
       "      <td>2215902.0</td>\n",
       "      <td>26484447.0</td>\n",
       "      <td>32301059.0</td>\n",
       "      <td>52329.0</td>\n",
       "      <td>USD</td>\n",
       "      <td>111.15</td>\n",
       "      <td>Belgium</td>\n",
       "      <td>Yes</td>\n",
       "      <td>Yes</td>\n",
       "      <td>[Near-term targets set, net-zero committed]</td>\n",
       "      <td>Net-zero by 2040 across value chain</td>\n",
       "      <td>Food &amp; Agriculture</td>\n",
       "    </tr>\n",
       "    <tr>\n",
       "      <th>2</th>\n",
       "      <td>Anheuser-Busch InBev</td>\n",
       "      <td>2020</td>\n",
       "      <td>3081905.0</td>\n",
       "      <td>2227758.0</td>\n",
       "      <td>23652933.0</td>\n",
       "      <td>28962596.0</td>\n",
       "      <td>46881.0</td>\n",
       "      <td>USD</td>\n",
       "      <td>113.26</td>\n",
       "      <td>Belgium</td>\n",
       "      <td>Yes</td>\n",
       "      <td>Yes</td>\n",
       "      <td>[Near-term targets set, net-zero committed]</td>\n",
       "      <td>Net-zero by 2040 across value chain</td>\n",
       "      <td>Food &amp; Agriculture</td>\n",
       "    </tr>\n",
       "    <tr>\n",
       "      <th>3</th>\n",
       "      <td>Anheuser-Busch InBev</td>\n",
       "      <td>2021</td>\n",
       "      <td>2953896.0</td>\n",
       "      <td>2243990.0</td>\n",
       "      <td>26527444.0</td>\n",
       "      <td>31725330.0</td>\n",
       "      <td>54304.0</td>\n",
       "      <td>USD</td>\n",
       "      <td>95.72</td>\n",
       "      <td>Belgium</td>\n",
       "      <td>Yes</td>\n",
       "      <td>Yes</td>\n",
       "      <td>[Near-term targets set, net-zero committed]</td>\n",
       "      <td>Net-zero by 2040 across value chain</td>\n",
       "      <td>Food &amp; Agriculture</td>\n",
       "    </tr>\n",
       "    <tr>\n",
       "      <th>4</th>\n",
       "      <td>Anheuser-Busch InBev</td>\n",
       "      <td>2022</td>\n",
       "      <td>2843883.0</td>\n",
       "      <td>2029211.0</td>\n",
       "      <td>24136111.0</td>\n",
       "      <td>29009205.0</td>\n",
       "      <td>57786.0</td>\n",
       "      <td>USD</td>\n",
       "      <td>84.33</td>\n",
       "      <td>Belgium</td>\n",
       "      <td>Yes</td>\n",
       "      <td>Yes</td>\n",
       "      <td>[Near-term targets set, net-zero committed]</td>\n",
       "      <td>Net-zero by 2040 across value chain</td>\n",
       "      <td>Food &amp; Agriculture</td>\n",
       "    </tr>\n",
       "  </tbody>\n",
       "</table>\n",
       "</div>"
      ],
      "text/plain": [
       "           COMPANY NAME  YEAR    SCOPE 1  SCOPE 2 (location-based)  \\\n",
       "0  Anheuser-Busch InBev  2018  3700760.0                 2383505.0   \n",
       "1  Anheuser-Busch InBev  2019  3600710.0                 2215902.0   \n",
       "2  Anheuser-Busch InBev  2020  3081905.0                 2227758.0   \n",
       "3  Anheuser-Busch InBev  2021  2953896.0                 2243990.0   \n",
       "4  Anheuser-Busch InBev  2022  2843883.0                 2029211.0   \n",
       "\n",
       "      SCOPE 3  TOTAL EMISSIONS  TOTAL REVENUE (miillion $) CURRENCY  \\\n",
       "0  24431839.0       30516104.0                     54619.0      USD   \n",
       "1  26484447.0       32301059.0                     52329.0      USD   \n",
       "2  23652933.0       28962596.0                     46881.0      USD   \n",
       "3  26527444.0       31725330.0                     54304.0      USD   \n",
       "4  24136111.0       29009205.0                     57786.0      USD   \n",
       "\n",
       "   CARBON INTENSITY COUNTRY OF ORIGIN SUBMIT TO CDP SBTi TARGET SET?  \\\n",
       "0            111.39           Belgium           Yes              Yes   \n",
       "1            111.15           Belgium           Yes              Yes   \n",
       "2            113.26           Belgium           Yes              Yes   \n",
       "3             95.72           Belgium           Yes              Yes   \n",
       "4             84.33           Belgium           Yes              Yes   \n",
       "\n",
       "                              SBTI COMMITMENTS  \\\n",
       "0  [Near-term targets set, net-zero committed]   \n",
       "1  [Near-term targets set, net-zero committed]   \n",
       "2  [Near-term targets set, net-zero committed]   \n",
       "3  [Near-term targets set, net-zero committed]   \n",
       "4  [Near-term targets set, net-zero committed]   \n",
       "\n",
       "                      NET-ZERO TARGETS              SECTOR  \n",
       "0  Net-zero by 2040 across value chain  Food & Agriculture  \n",
       "1  Net-zero by 2040 across value chain  Food & Agriculture  \n",
       "2  Net-zero by 2040 across value chain  Food & Agriculture  \n",
       "3  Net-zero by 2040 across value chain  Food & Agriculture  \n",
       "4  Net-zero by 2040 across value chain  Food & Agriculture  "
      ]
     },
     "execution_count": 13,
     "metadata": {},
     "output_type": "execute_result"
    }
   ],
   "source": [
    "# show sectors\n",
    "\n",
    "sectors.head()"
   ]
  },
  {
   "cell_type": "markdown",
   "metadata": {},
   "source": [
    "### Example Sector DataFrame: `foodag`"
   ]
  },
  {
   "cell_type": "code",
   "execution_count": 14,
   "metadata": {},
   "outputs": [
    {
     "data": {
      "text/html": [
       "<div>\n",
       "<style scoped>\n",
       "    .dataframe tbody tr th:only-of-type {\n",
       "        vertical-align: middle;\n",
       "    }\n",
       "\n",
       "    .dataframe tbody tr th {\n",
       "        vertical-align: top;\n",
       "    }\n",
       "\n",
       "    .dataframe thead th {\n",
       "        text-align: right;\n",
       "    }\n",
       "</style>\n",
       "<table border=\"1\" class=\"dataframe\">\n",
       "  <thead>\n",
       "    <tr style=\"text-align: right;\">\n",
       "      <th></th>\n",
       "      <th>COMPANY NAME</th>\n",
       "      <th>YEAR</th>\n",
       "      <th>SCOPE 1</th>\n",
       "      <th>SCOPE 2 (location-based)</th>\n",
       "      <th>SCOPE 3</th>\n",
       "      <th>TOTAL EMISSIONS</th>\n",
       "      <th>TOTAL REVENUE (miillion $)</th>\n",
       "      <th>CURRENCY</th>\n",
       "      <th>CARBON INTENSITY</th>\n",
       "      <th>COUNTRY OF ORIGIN</th>\n",
       "      <th>SUBMIT TO CDP</th>\n",
       "      <th>SBTi TARGET SET?</th>\n",
       "      <th>SBTI COMMITMENTS</th>\n",
       "      <th>NET-ZERO TARGETS</th>\n",
       "      <th>SECTOR</th>\n",
       "    </tr>\n",
       "  </thead>\n",
       "  <tbody>\n",
       "    <tr>\n",
       "      <th>0</th>\n",
       "      <td>Anheuser-Busch InBev</td>\n",
       "      <td>2018</td>\n",
       "      <td>3700760</td>\n",
       "      <td>2383505</td>\n",
       "      <td>24431839</td>\n",
       "      <td>30516104</td>\n",
       "      <td>54619</td>\n",
       "      <td>USD</td>\n",
       "      <td>111.39</td>\n",
       "      <td>Belgium</td>\n",
       "      <td>Yes</td>\n",
       "      <td>Yes</td>\n",
       "      <td>[Near-term targets set, net-zero committed]</td>\n",
       "      <td>Net-zero by 2040 across value chain</td>\n",
       "      <td>Food &amp; Agriculture</td>\n",
       "    </tr>\n",
       "    <tr>\n",
       "      <th>1</th>\n",
       "      <td>Anheuser-Busch InBev</td>\n",
       "      <td>2019</td>\n",
       "      <td>3600710</td>\n",
       "      <td>2215902</td>\n",
       "      <td>26484447</td>\n",
       "      <td>32301059</td>\n",
       "      <td>52329</td>\n",
       "      <td>USD</td>\n",
       "      <td>111.15</td>\n",
       "      <td>Belgium</td>\n",
       "      <td>Yes</td>\n",
       "      <td>Yes</td>\n",
       "      <td>[Near-term targets set, net-zero committed]</td>\n",
       "      <td>Net-zero by 2040 across value chain</td>\n",
       "      <td>Food &amp; Agriculture</td>\n",
       "    </tr>\n",
       "    <tr>\n",
       "      <th>2</th>\n",
       "      <td>Anheuser-Busch InBev</td>\n",
       "      <td>2020</td>\n",
       "      <td>3081905</td>\n",
       "      <td>2227758</td>\n",
       "      <td>23652933</td>\n",
       "      <td>28962596</td>\n",
       "      <td>46881</td>\n",
       "      <td>USD</td>\n",
       "      <td>113.26</td>\n",
       "      <td>Belgium</td>\n",
       "      <td>Yes</td>\n",
       "      <td>Yes</td>\n",
       "      <td>[Near-term targets set, net-zero committed]</td>\n",
       "      <td>Net-zero by 2040 across value chain</td>\n",
       "      <td>Food &amp; Agriculture</td>\n",
       "    </tr>\n",
       "    <tr>\n",
       "      <th>3</th>\n",
       "      <td>Anheuser-Busch InBev</td>\n",
       "      <td>2021</td>\n",
       "      <td>2953896</td>\n",
       "      <td>2243990</td>\n",
       "      <td>26527444</td>\n",
       "      <td>31725330</td>\n",
       "      <td>54304</td>\n",
       "      <td>USD</td>\n",
       "      <td>95.72</td>\n",
       "      <td>Belgium</td>\n",
       "      <td>Yes</td>\n",
       "      <td>Yes</td>\n",
       "      <td>[Near-term targets set, net-zero committed]</td>\n",
       "      <td>Net-zero by 2040 across value chain</td>\n",
       "      <td>Food &amp; Agriculture</td>\n",
       "    </tr>\n",
       "    <tr>\n",
       "      <th>4</th>\n",
       "      <td>Anheuser-Busch InBev</td>\n",
       "      <td>2022</td>\n",
       "      <td>2843883</td>\n",
       "      <td>2029211</td>\n",
       "      <td>24136111</td>\n",
       "      <td>29009205</td>\n",
       "      <td>57786</td>\n",
       "      <td>USD</td>\n",
       "      <td>84.33</td>\n",
       "      <td>Belgium</td>\n",
       "      <td>Yes</td>\n",
       "      <td>Yes</td>\n",
       "      <td>[Near-term targets set, net-zero committed]</td>\n",
       "      <td>Net-zero by 2040 across value chain</td>\n",
       "      <td>Food &amp; Agriculture</td>\n",
       "    </tr>\n",
       "  </tbody>\n",
       "</table>\n",
       "</div>"
      ],
      "text/plain": [
       "           COMPANY NAME  YEAR  SCOPE 1  SCOPE 2 (location-based)   SCOPE 3  \\\n",
       "0  Anheuser-Busch InBev  2018  3700760                   2383505  24431839   \n",
       "1  Anheuser-Busch InBev  2019  3600710                   2215902  26484447   \n",
       "2  Anheuser-Busch InBev  2020  3081905                   2227758  23652933   \n",
       "3  Anheuser-Busch InBev  2021  2953896                   2243990  26527444   \n",
       "4  Anheuser-Busch InBev  2022  2843883                   2029211  24136111   \n",
       "\n",
       "   TOTAL EMISSIONS  TOTAL REVENUE (miillion $) CURRENCY  CARBON INTENSITY  \\\n",
       "0         30516104                       54619      USD            111.39   \n",
       "1         32301059                       52329      USD            111.15   \n",
       "2         28962596                       46881      USD            113.26   \n",
       "3         31725330                       54304      USD             95.72   \n",
       "4         29009205                       57786      USD             84.33   \n",
       "\n",
       "  COUNTRY OF ORIGIN SUBMIT TO CDP SBTi TARGET SET?  \\\n",
       "0           Belgium           Yes              Yes   \n",
       "1           Belgium           Yes              Yes   \n",
       "2           Belgium           Yes              Yes   \n",
       "3           Belgium           Yes              Yes   \n",
       "4           Belgium           Yes              Yes   \n",
       "\n",
       "                              SBTI COMMITMENTS  \\\n",
       "0  [Near-term targets set, net-zero committed]   \n",
       "1  [Near-term targets set, net-zero committed]   \n",
       "2  [Near-term targets set, net-zero committed]   \n",
       "3  [Near-term targets set, net-zero committed]   \n",
       "4  [Near-term targets set, net-zero committed]   \n",
       "\n",
       "                      NET-ZERO TARGETS              SECTOR  \n",
       "0  Net-zero by 2040 across value chain  Food & Agriculture  \n",
       "1  Net-zero by 2040 across value chain  Food & Agriculture  \n",
       "2  Net-zero by 2040 across value chain  Food & Agriculture  \n",
       "3  Net-zero by 2040 across value chain  Food & Agriculture  \n",
       "4  Net-zero by 2040 across value chain  Food & Agriculture  "
      ]
     },
     "execution_count": 14,
     "metadata": {},
     "output_type": "execute_result"
    }
   ],
   "source": [
    "# show food and ag\n",
    "\n",
    "foodag.head()"
   ]
  },
  {
   "cell_type": "code",
   "execution_count": 15,
   "metadata": {},
   "outputs": [
    {
     "data": {
      "text/plain": [
       "USD    98\n",
       "EUR    39\n",
       "RMB    17\n",
       "JPY    12\n",
       "GBP    10\n",
       "KRW    10\n",
       "RUB     9\n",
       "CHF     5\n",
       "DKK     5\n",
       "TWD     5\n",
       "Name: CURRENCY, dtype: int64"
      ]
     },
     "execution_count": 15,
     "metadata": {},
     "output_type": "execute_result"
    }
   ],
   "source": [
    "# scratch work code cell, replace elipses with any code you'd like to try\n",
    "\n",
    "sectors['CURRENCY'].value_counts()"
   ]
  },
  {
   "cell_type": "markdown",
   "metadata": {},
   "source": [
    "---"
   ]
  },
  {
   "cell_type": "markdown",
   "metadata": {},
   "source": [
    "## Helper Functions"
   ]
  },
  {
   "cell_type": "markdown",
   "metadata": {},
   "source": [
    "*This section will contain any functions used to generate graphs, standardize columns, etc.*"
   ]
  },
  {
   "cell_type": "code",
   "execution_count": 16,
   "metadata": {},
   "outputs": [],
   "source": [
    "# convert revenue's to USD\n",
    "\n",
    "def toUSD(i):\n",
    "    dic = {\n",
    "    'AUD': 0.75,   # 1 AUD to USD\n",
    "    'CAD': 0.78,   # 1 CAD to USD\n",
    "    'CHF': 1.09,   # 1 CHF to USD\n",
    "    'DKK': 0.15,   # 1 DKK to USD\n",
    "    'EUR': 1.16,   # 1 EUR to USD\n",
    "    'GBP': 1.37,   # 1 GBP to USD\n",
    "    'JPY': 0.009,  # 1 JPY to USD\n",
    "    'KRW': 0.0009, # 1 KRW to USD\n",
    "    'NOK': 0.11,   # 1 NOK to USD\n",
    "    'RUB': 0.014,  # 1 RUB to USD\n",
    "    'SEK': 0.11,   # 1 SEK to USD\n",
    "    'RMB': 7.29,   # 1 RMB to USD\n",
    "    'TWD' : 0.03,  # 1 TWD to USD\n",
    "    'USD': 1.0       # No Change    \n",
    "    }\n",
    "    if (not pd.isna(i[0])) or (not pd.isna(i[1])):\n",
    "        return i[0] * dic[i[1]] # The revenue multiplied by the corresponding USD conversion rate\n",
    "\n",
    "# sectors['Revenue (USD)'] = sectors.apply(toUSD, 'TOTAL REVENUE (miillion $)')  # --- use this code to apply the function in the revenue column when ready"
   ]
  },
  {
   "cell_type": "code",
   "execution_count": 17,
   "metadata": {},
   "outputs": [],
   "source": [
    "# Function for creating column with [Currency, Revenue]\n",
    "\n",
    "def currAndRev(df):\n",
    "    new_col = []\n",
    "    for i in np.arange(df.shape[0]):\n",
    "        new_col.append([df['CURRENCY'].values[i], df['TOTAL REVENUE (miillion $)'].values[i]])\n",
    "    df['REVENUE IN USD'] = new_col\n",
    "\n",
    "# currAndRev(sectors)\n"
   ]
  },
  {
   "cell_type": "code",
   "execution_count": 18,
   "metadata": {},
   "outputs": [],
   "source": [
    "# graph sector summary charts using matplotlib\n",
    "\n",
    "def graphCoEmissions(df, co_name, years_arr):\n",
    "    # format plots and add right axis for CI\n",
    "    fig, ax1 = plt.subplots()\n",
    "    ax2 = ax1.twinx()\n",
    "\n",
    "    # create x axis array\n",
    "    years = df.loc[df['COMPANY NAME']==co_name, 'YEAR']\n",
    "\n",
    "    # create bar chart stacks and CI array\n",
    "    scope1 = df.loc[df['COMPANY NAME']==co_name, 'SCOPE 1']\n",
    "    scope2 = df.loc[df['COMPANY NAME']==co_name, 'SCOPE 2 (location-based)']\n",
    "    scope3 = df.loc[df['COMPANY NAME']==co_name, 'SCOPE 3']\n",
    "    ci = df.loc[df['COMPANY NAME']==co_name, 'CARBON INTENSITY']\n",
    "\n",
    "    # plot bar chart\n",
    "    b1 = ax1.bar(years, scope1, color='navy', label='Scope 1')\n",
    "    b2 = ax1.bar(years, scope2, bottom=scope1, color='steelblue', label='Scope 2')\n",
    "    b3 = ax1.bar(years, scope3, bottom=scope1+scope2, color='lightsteelblue', label='Scope 3')\n",
    "\n",
    "    # plot CI\n",
    "    l1 = ax2.plot(years, ci, color = 'black', marker = 'o',label='CI')\n",
    "\n",
    "    # finish formatting plots\n",
    "    ax1.set_xticks(years_arr)\n",
    "    ax1.set_ylim(0, max(scope1+scope2+scope3)+9000000)\n",
    "    ax2.set_ylim(0, max(ci)+20)\n",
    "\n",
    "    # combine and add legend\n",
    "    # lines = [b1, b2, b3]\n",
    "    # labels = ['SCOPE 1','SCOPE 2','SCOPE 3' ]\n",
    "    # ax1.legend(lines, labels, loc='lower left', bbox_to_anchor=(1, 1))\n",
    "    # ax2.legend(loc=0)\n",
    "\n",
    "    lines, labels = ax1.get_legend_handles_labels()\n",
    "    lines2, labels2 = ax2.get_legend_handles_labels()\n",
    "    ax2.legend(lines + lines2, labels + labels2, loc='lower left', bbox_to_anchor=(1, 1))\n",
    "\n",
    "    # add labels and titles\n",
    "    plt.suptitle('Annual GHG Emissions', fontsize=14, fontweight='bold')\n",
    "    plt.title(co_name, fontsize=10)\n",
    "    ax1.set_xlabel('Year')\n",
    "    ax1.set_ylabel('Carbon Emissions (metric ton CO2e)')\n",
    "    ax2.set_ylabel('Carbon Intensity (g CO2e / $ million)')"
   ]
  },
  {
   "cell_type": "code",
   "execution_count": 19,
   "metadata": {},
   "outputs": [],
   "source": [
    "# graph sector summary charts using plotly\n",
    "\n",
    "def graphCoEmissionsPlotly(df, co_name, years_arr):\n",
    "    # format plots and add right axis for CI\n",
    "    # fig, ax1 = plt.subplots()\n",
    "    # ax2 = ax1.twinx()\n",
    "\n",
    "    # create x axis array\n",
    "    years = df.loc[df['COMPANY NAME']==co_name, 'YEAR']\n",
    "\n",
    "    # create bar chart stacks and CI array\n",
    "    scope1 = df.loc[df['COMPANY NAME']==co_name, 'SCOPE 1']\n",
    "    scope2 = df.loc[df['COMPANY NAME']==co_name, 'SCOPE 2 (location-based)']\n",
    "    scope3 = df.loc[df['COMPANY NAME']==co_name, 'SCOPE 3']\n",
    "    ci = df.loc[df['COMPANY NAME']==co_name, 'CARBON INTENSITY']\n",
    "\n",
    "\n",
    "     # create stacked bar chart traces\n",
    "    trace_scope1 = go.Bar(x=years, y=scope1, name='Scope 1', marker=dict(color='rgba(0, 0, 255, 0.7)'))\n",
    "    trace_scope2 = go.Bar(x=years, y=scope2, name='Scope 2', marker=dict(color='rgba(0, 255, 0, 0.7)'))\n",
    "    trace_scope3 = go.Bar(x=years, y=scope3, name='Scope 3', marker=dict(color='rgba(255, 0, 0, 0.7)'))\n",
    "\n",
    "    # create line chart trace for CI\n",
    "    trace_ci = go.Scatter(x=years, y=ci, mode='markers+lines', name='Carbon Intensity', yaxis='y2',\n",
    "                          marker=dict(color='rgba(255, 165, 0, 0.7)'))\n",
    "\n",
    "    # combine traces into data list\n",
    "    data = [trace_scope1, trace_scope2, trace_scope3, trace_ci]\n",
    "\n",
    "    # create layout\n",
    "    layout = go.Layout(\n",
    "        title=dict(text=co_name+' - Annual GHG Emissions', x=0.5),\n",
    "        xaxis=dict(tickvals=years_arr, title='Year'),\n",
    "        yaxis=dict(title='Carbon Emissions (metric ton CO2e)', range=[0, max(scope1+scope2+scope3)+9000000]),\n",
    "        yaxis2=dict(title='Carbon Intensity (g CO2e / $ million)', overlaying='y', side='right', range=[0, max(ci)+20]),\n",
    "        barmode='stack',\n",
    "        showlegend=True,\n",
    "        height=650,\n",
    "        width=800,\n",
    "        margin=dict(r=1.2)\n",
    "    )\n",
    "\n",
    "    # create figure\n",
    "    fig = go.Figure(data=data, layout=layout)\n",
    "\n",
    "    # show the figure\n",
    "    fig.show()"
   ]
  },
  {
   "cell_type": "code",
   "execution_count": 20,
   "metadata": {},
   "outputs": [],
   "source": [
    "# graph sector totals by company and emissions type\n",
    "\n",
    "def graph_CosInSectorTotals(df, year, bool=False):\n",
    "    # define the sector\n",
    "    sector = df['SECTOR'].unique()[0]\n",
    "\n",
    "    # filer DataFrame for just the provided year\n",
    "    data_year = df.loc[df['YEAR']==year,:]\n",
    "\n",
    "    # plot stacked bar chart\n",
    "    sns.barplot(x='SCOPE 1', y='COMPANY NAME', data=data_year, color='orange', orient='h', label='Scope 1')\n",
    "    sns.barplot(x='SCOPE 2 (location-based)', y='COMPANY NAME', data=data_year, color='navy', orient='h', label='Scope 2')\n",
    "    if bool==False:\n",
    "        sns.barplot(x='SCOPE 3', y='COMPANY NAME', data=data_year, color='pink', orient='h', label='Scope 3')\n",
    "    \n",
    "    # format axes and titles\n",
    "    plt.xlabel('GHG emissions (metric tons CO2e)')\n",
    "    plt.ylabel('Company Name')\n",
    "    if bool==True:\n",
    "        plt.title('Scope 1 + Scope 2 GHG Emissions in '+str(year)+' - ' +str(sector))\n",
    "    else:\n",
    "        plt.title('Total GHG Emissions in '+str(year)+' - ' +str(sector))"
   ]
  },
  {
   "cell_type": "markdown",
   "metadata": {},
   "source": [
    "---"
   ]
  },
  {
   "cell_type": "markdown",
   "metadata": {},
   "source": [
    "## More Data Cleaning"
   ]
  },
  {
   "cell_type": "markdown",
   "metadata": {},
   "source": [
    "*In this section, I am performing the data cleaning which require my **helper functions** to execute.* Make sure that the previous section has been run before proceeding."
   ]
  },
  {
   "cell_type": "code",
   "execution_count": 21,
   "metadata": {},
   "outputs": [
    {
     "data": {
      "text/html": [
       "<div>\n",
       "<style scoped>\n",
       "    .dataframe tbody tr th:only-of-type {\n",
       "        vertical-align: middle;\n",
       "    }\n",
       "\n",
       "    .dataframe tbody tr th {\n",
       "        vertical-align: top;\n",
       "    }\n",
       "\n",
       "    .dataframe thead th {\n",
       "        text-align: right;\n",
       "    }\n",
       "</style>\n",
       "<table border=\"1\" class=\"dataframe\">\n",
       "  <thead>\n",
       "    <tr style=\"text-align: right;\">\n",
       "      <th></th>\n",
       "      <th>COMPANY NAME</th>\n",
       "      <th>YEAR</th>\n",
       "      <th>SCOPE 1</th>\n",
       "      <th>SCOPE 2 (location-based)</th>\n",
       "      <th>SCOPE 3</th>\n",
       "      <th>TOTAL EMISSIONS</th>\n",
       "      <th>TOTAL REVENUE (miillion $)</th>\n",
       "      <th>CURRENCY</th>\n",
       "      <th>CARBON INTENSITY</th>\n",
       "      <th>COUNTRY OF ORIGIN</th>\n",
       "      <th>SUBMIT TO CDP</th>\n",
       "      <th>SBTi TARGET SET?</th>\n",
       "      <th>SBTI COMMITMENTS</th>\n",
       "      <th>NET-ZERO TARGETS</th>\n",
       "      <th>SECTOR</th>\n",
       "      <th>REVENUE IN USD</th>\n",
       "    </tr>\n",
       "  </thead>\n",
       "  <tbody>\n",
       "    <tr>\n",
       "      <th>0</th>\n",
       "      <td>Anheuser-Busch InBev</td>\n",
       "      <td>2018</td>\n",
       "      <td>3700760.0</td>\n",
       "      <td>2383505.0</td>\n",
       "      <td>24431839.0</td>\n",
       "      <td>30516104.0</td>\n",
       "      <td>54619.0</td>\n",
       "      <td>USD</td>\n",
       "      <td>111.39</td>\n",
       "      <td>Belgium</td>\n",
       "      <td>Yes</td>\n",
       "      <td>Yes</td>\n",
       "      <td>[Near-term targets set, net-zero committed]</td>\n",
       "      <td>Net-zero by 2040 across value chain</td>\n",
       "      <td>Food &amp; Agriculture</td>\n",
       "      <td>54619.0</td>\n",
       "    </tr>\n",
       "    <tr>\n",
       "      <th>1</th>\n",
       "      <td>Anheuser-Busch InBev</td>\n",
       "      <td>2019</td>\n",
       "      <td>3600710.0</td>\n",
       "      <td>2215902.0</td>\n",
       "      <td>26484447.0</td>\n",
       "      <td>32301059.0</td>\n",
       "      <td>52329.0</td>\n",
       "      <td>USD</td>\n",
       "      <td>111.15</td>\n",
       "      <td>Belgium</td>\n",
       "      <td>Yes</td>\n",
       "      <td>Yes</td>\n",
       "      <td>[Near-term targets set, net-zero committed]</td>\n",
       "      <td>Net-zero by 2040 across value chain</td>\n",
       "      <td>Food &amp; Agriculture</td>\n",
       "      <td>52329.0</td>\n",
       "    </tr>\n",
       "    <tr>\n",
       "      <th>2</th>\n",
       "      <td>Anheuser-Busch InBev</td>\n",
       "      <td>2020</td>\n",
       "      <td>3081905.0</td>\n",
       "      <td>2227758.0</td>\n",
       "      <td>23652933.0</td>\n",
       "      <td>28962596.0</td>\n",
       "      <td>46881.0</td>\n",
       "      <td>USD</td>\n",
       "      <td>113.26</td>\n",
       "      <td>Belgium</td>\n",
       "      <td>Yes</td>\n",
       "      <td>Yes</td>\n",
       "      <td>[Near-term targets set, net-zero committed]</td>\n",
       "      <td>Net-zero by 2040 across value chain</td>\n",
       "      <td>Food &amp; Agriculture</td>\n",
       "      <td>46881.0</td>\n",
       "    </tr>\n",
       "    <tr>\n",
       "      <th>3</th>\n",
       "      <td>Anheuser-Busch InBev</td>\n",
       "      <td>2021</td>\n",
       "      <td>2953896.0</td>\n",
       "      <td>2243990.0</td>\n",
       "      <td>26527444.0</td>\n",
       "      <td>31725330.0</td>\n",
       "      <td>54304.0</td>\n",
       "      <td>USD</td>\n",
       "      <td>95.72</td>\n",
       "      <td>Belgium</td>\n",
       "      <td>Yes</td>\n",
       "      <td>Yes</td>\n",
       "      <td>[Near-term targets set, net-zero committed]</td>\n",
       "      <td>Net-zero by 2040 across value chain</td>\n",
       "      <td>Food &amp; Agriculture</td>\n",
       "      <td>54304.0</td>\n",
       "    </tr>\n",
       "    <tr>\n",
       "      <th>4</th>\n",
       "      <td>Anheuser-Busch InBev</td>\n",
       "      <td>2022</td>\n",
       "      <td>2843883.0</td>\n",
       "      <td>2029211.0</td>\n",
       "      <td>24136111.0</td>\n",
       "      <td>29009205.0</td>\n",
       "      <td>57786.0</td>\n",
       "      <td>USD</td>\n",
       "      <td>84.33</td>\n",
       "      <td>Belgium</td>\n",
       "      <td>Yes</td>\n",
       "      <td>Yes</td>\n",
       "      <td>[Near-term targets set, net-zero committed]</td>\n",
       "      <td>Net-zero by 2040 across value chain</td>\n",
       "      <td>Food &amp; Agriculture</td>\n",
       "      <td>57786.0</td>\n",
       "    </tr>\n",
       "  </tbody>\n",
       "</table>\n",
       "</div>"
      ],
      "text/plain": [
       "           COMPANY NAME  YEAR    SCOPE 1  SCOPE 2 (location-based)  \\\n",
       "0  Anheuser-Busch InBev  2018  3700760.0                 2383505.0   \n",
       "1  Anheuser-Busch InBev  2019  3600710.0                 2215902.0   \n",
       "2  Anheuser-Busch InBev  2020  3081905.0                 2227758.0   \n",
       "3  Anheuser-Busch InBev  2021  2953896.0                 2243990.0   \n",
       "4  Anheuser-Busch InBev  2022  2843883.0                 2029211.0   \n",
       "\n",
       "      SCOPE 3  TOTAL EMISSIONS  TOTAL REVENUE (miillion $) CURRENCY  \\\n",
       "0  24431839.0       30516104.0                     54619.0      USD   \n",
       "1  26484447.0       32301059.0                     52329.0      USD   \n",
       "2  23652933.0       28962596.0                     46881.0      USD   \n",
       "3  26527444.0       31725330.0                     54304.0      USD   \n",
       "4  24136111.0       29009205.0                     57786.0      USD   \n",
       "\n",
       "   CARBON INTENSITY COUNTRY OF ORIGIN SUBMIT TO CDP SBTi TARGET SET?  \\\n",
       "0            111.39           Belgium           Yes              Yes   \n",
       "1            111.15           Belgium           Yes              Yes   \n",
       "2            113.26           Belgium           Yes              Yes   \n",
       "3             95.72           Belgium           Yes              Yes   \n",
       "4             84.33           Belgium           Yes              Yes   \n",
       "\n",
       "                              SBTI COMMITMENTS  \\\n",
       "0  [Near-term targets set, net-zero committed]   \n",
       "1  [Near-term targets set, net-zero committed]   \n",
       "2  [Near-term targets set, net-zero committed]   \n",
       "3  [Near-term targets set, net-zero committed]   \n",
       "4  [Near-term targets set, net-zero committed]   \n",
       "\n",
       "                      NET-ZERO TARGETS              SECTOR  REVENUE IN USD  \n",
       "0  Net-zero by 2040 across value chain  Food & Agriculture         54619.0  \n",
       "1  Net-zero by 2040 across value chain  Food & Agriculture         52329.0  \n",
       "2  Net-zero by 2040 across value chain  Food & Agriculture         46881.0  \n",
       "3  Net-zero by 2040 across value chain  Food & Agriculture         54304.0  \n",
       "4  Net-zero by 2040 across value chain  Food & Agriculture         57786.0  "
      ]
     },
     "execution_count": 21,
     "metadata": {},
     "output_type": "execute_result"
    }
   ],
   "source": [
    "# apply and create revenue in USD column\n",
    "\n",
    "rev_curr = [[sectors['TOTAL REVENUE (miillion $)'].values[i], sectors['CURRENCY'].values[i]] for i in range(sectors.shape[0])]\n",
    "sectors['REVENUE W/ CURR'] = rev_curr\n",
    "\n",
    "# create revenue in USD column and drop revenue w/ curr column\n",
    "\n",
    "sectors['REVENUE IN USD'] = sectors['REVENUE W/ CURR'].apply(toUSD)\n",
    "sectors = sectors.drop(columns='REVENUE W/ CURR')\n",
    "\n",
    "sectors.head()"
   ]
  },
  {
   "cell_type": "code",
   "execution_count": 22,
   "metadata": {},
   "outputs": [
    {
     "data": {
      "text/html": [
       "<div>\n",
       "<style scoped>\n",
       "    .dataframe tbody tr th:only-of-type {\n",
       "        vertical-align: middle;\n",
       "    }\n",
       "\n",
       "    .dataframe tbody tr th {\n",
       "        vertical-align: top;\n",
       "    }\n",
       "\n",
       "    .dataframe thead th {\n",
       "        text-align: right;\n",
       "    }\n",
       "</style>\n",
       "<table border=\"1\" class=\"dataframe\">\n",
       "  <thead>\n",
       "    <tr style=\"text-align: right;\">\n",
       "      <th></th>\n",
       "      <th>COMPANY NAME</th>\n",
       "      <th>YEAR</th>\n",
       "      <th>SCOPE 1</th>\n",
       "      <th>SCOPE 2 (location-based)</th>\n",
       "      <th>SCOPE 3</th>\n",
       "      <th>TOTAL EMISSIONS</th>\n",
       "      <th>TOTAL REVENUE (miillion $)</th>\n",
       "      <th>CURRENCY</th>\n",
       "      <th>CARBON INTENSITY</th>\n",
       "      <th>COUNTRY OF ORIGIN</th>\n",
       "      <th>SUBMIT TO CDP</th>\n",
       "      <th>SBTi TARGET SET?</th>\n",
       "      <th>SBTI COMMITMENTS</th>\n",
       "      <th>NET-ZERO TARGETS</th>\n",
       "      <th>SECTOR</th>\n",
       "      <th>REVENUE IN USD</th>\n",
       "      <th>Adjusted CI</th>\n",
       "    </tr>\n",
       "  </thead>\n",
       "  <tbody>\n",
       "    <tr>\n",
       "      <th>0</th>\n",
       "      <td>Anheuser-Busch InBev</td>\n",
       "      <td>2018</td>\n",
       "      <td>3700760.0</td>\n",
       "      <td>2383505.0</td>\n",
       "      <td>24431839.0</td>\n",
       "      <td>30516104.0</td>\n",
       "      <td>54619.0</td>\n",
       "      <td>USD</td>\n",
       "      <td>111.39</td>\n",
       "      <td>Belgium</td>\n",
       "      <td>Yes</td>\n",
       "      <td>Yes</td>\n",
       "      <td>[Near-term targets set, net-zero committed]</td>\n",
       "      <td>Net-zero by 2040 across value chain</td>\n",
       "      <td>Food &amp; Agriculture</td>\n",
       "      <td>54619.0</td>\n",
       "      <td>111.39</td>\n",
       "    </tr>\n",
       "    <tr>\n",
       "      <th>1</th>\n",
       "      <td>Anheuser-Busch InBev</td>\n",
       "      <td>2019</td>\n",
       "      <td>3600710.0</td>\n",
       "      <td>2215902.0</td>\n",
       "      <td>26484447.0</td>\n",
       "      <td>32301059.0</td>\n",
       "      <td>52329.0</td>\n",
       "      <td>USD</td>\n",
       "      <td>111.15</td>\n",
       "      <td>Belgium</td>\n",
       "      <td>Yes</td>\n",
       "      <td>Yes</td>\n",
       "      <td>[Near-term targets set, net-zero committed]</td>\n",
       "      <td>Net-zero by 2040 across value chain</td>\n",
       "      <td>Food &amp; Agriculture</td>\n",
       "      <td>52329.0</td>\n",
       "      <td>111.15</td>\n",
       "    </tr>\n",
       "    <tr>\n",
       "      <th>2</th>\n",
       "      <td>Anheuser-Busch InBev</td>\n",
       "      <td>2020</td>\n",
       "      <td>3081905.0</td>\n",
       "      <td>2227758.0</td>\n",
       "      <td>23652933.0</td>\n",
       "      <td>28962596.0</td>\n",
       "      <td>46881.0</td>\n",
       "      <td>USD</td>\n",
       "      <td>113.26</td>\n",
       "      <td>Belgium</td>\n",
       "      <td>Yes</td>\n",
       "      <td>Yes</td>\n",
       "      <td>[Near-term targets set, net-zero committed]</td>\n",
       "      <td>Net-zero by 2040 across value chain</td>\n",
       "      <td>Food &amp; Agriculture</td>\n",
       "      <td>46881.0</td>\n",
       "      <td>113.26</td>\n",
       "    </tr>\n",
       "    <tr>\n",
       "      <th>3</th>\n",
       "      <td>Anheuser-Busch InBev</td>\n",
       "      <td>2021</td>\n",
       "      <td>2953896.0</td>\n",
       "      <td>2243990.0</td>\n",
       "      <td>26527444.0</td>\n",
       "      <td>31725330.0</td>\n",
       "      <td>54304.0</td>\n",
       "      <td>USD</td>\n",
       "      <td>95.72</td>\n",
       "      <td>Belgium</td>\n",
       "      <td>Yes</td>\n",
       "      <td>Yes</td>\n",
       "      <td>[Near-term targets set, net-zero committed]</td>\n",
       "      <td>Net-zero by 2040 across value chain</td>\n",
       "      <td>Food &amp; Agriculture</td>\n",
       "      <td>54304.0</td>\n",
       "      <td>95.72</td>\n",
       "    </tr>\n",
       "    <tr>\n",
       "      <th>4</th>\n",
       "      <td>Anheuser-Busch InBev</td>\n",
       "      <td>2022</td>\n",
       "      <td>2843883.0</td>\n",
       "      <td>2029211.0</td>\n",
       "      <td>24136111.0</td>\n",
       "      <td>29009205.0</td>\n",
       "      <td>57786.0</td>\n",
       "      <td>USD</td>\n",
       "      <td>84.33</td>\n",
       "      <td>Belgium</td>\n",
       "      <td>Yes</td>\n",
       "      <td>Yes</td>\n",
       "      <td>[Near-term targets set, net-zero committed]</td>\n",
       "      <td>Net-zero by 2040 across value chain</td>\n",
       "      <td>Food &amp; Agriculture</td>\n",
       "      <td>57786.0</td>\n",
       "      <td>84.33</td>\n",
       "    </tr>\n",
       "  </tbody>\n",
       "</table>\n",
       "</div>"
      ],
      "text/plain": [
       "           COMPANY NAME  YEAR    SCOPE 1  SCOPE 2 (location-based)  \\\n",
       "0  Anheuser-Busch InBev  2018  3700760.0                 2383505.0   \n",
       "1  Anheuser-Busch InBev  2019  3600710.0                 2215902.0   \n",
       "2  Anheuser-Busch InBev  2020  3081905.0                 2227758.0   \n",
       "3  Anheuser-Busch InBev  2021  2953896.0                 2243990.0   \n",
       "4  Anheuser-Busch InBev  2022  2843883.0                 2029211.0   \n",
       "\n",
       "      SCOPE 3  TOTAL EMISSIONS  TOTAL REVENUE (miillion $) CURRENCY  \\\n",
       "0  24431839.0       30516104.0                     54619.0      USD   \n",
       "1  26484447.0       32301059.0                     52329.0      USD   \n",
       "2  23652933.0       28962596.0                     46881.0      USD   \n",
       "3  26527444.0       31725330.0                     54304.0      USD   \n",
       "4  24136111.0       29009205.0                     57786.0      USD   \n",
       "\n",
       "   CARBON INTENSITY COUNTRY OF ORIGIN SUBMIT TO CDP SBTi TARGET SET?  \\\n",
       "0            111.39           Belgium           Yes              Yes   \n",
       "1            111.15           Belgium           Yes              Yes   \n",
       "2            113.26           Belgium           Yes              Yes   \n",
       "3             95.72           Belgium           Yes              Yes   \n",
       "4             84.33           Belgium           Yes              Yes   \n",
       "\n",
       "                              SBTI COMMITMENTS  \\\n",
       "0  [Near-term targets set, net-zero committed]   \n",
       "1  [Near-term targets set, net-zero committed]   \n",
       "2  [Near-term targets set, net-zero committed]   \n",
       "3  [Near-term targets set, net-zero committed]   \n",
       "4  [Near-term targets set, net-zero committed]   \n",
       "\n",
       "                      NET-ZERO TARGETS              SECTOR  REVENUE IN USD  \\\n",
       "0  Net-zero by 2040 across value chain  Food & Agriculture         54619.0   \n",
       "1  Net-zero by 2040 across value chain  Food & Agriculture         52329.0   \n",
       "2  Net-zero by 2040 across value chain  Food & Agriculture         46881.0   \n",
       "3  Net-zero by 2040 across value chain  Food & Agriculture         54304.0   \n",
       "4  Net-zero by 2040 across value chain  Food & Agriculture         57786.0   \n",
       "\n",
       "   Adjusted CI  \n",
       "0       111.39  \n",
       "1       111.15  \n",
       "2       113.26  \n",
       "3        95.72  \n",
       "4        84.33  "
      ]
     },
     "execution_count": 22,
     "metadata": {},
     "output_type": "execute_result"
    }
   ],
   "source": [
    "# creating adjusted CI column after converting ALL revenues to USD\n",
    "\n",
    "adjusted_ci = ((sectors['SCOPE 1'] + sectors['SCOPE 2 (location-based)']) / sectors['REVENUE IN USD']).round(2)\n",
    "sectors['Adjusted CI'] = adjusted_ci\n",
    "\n",
    "sectors.head()"
   ]
  },
  {
   "cell_type": "code",
   "execution_count": 24,
   "metadata": {},
   "outputs": [
    {
     "data": {
      "text/html": [
       "<div>\n",
       "<style scoped>\n",
       "    .dataframe tbody tr th:only-of-type {\n",
       "        vertical-align: middle;\n",
       "    }\n",
       "\n",
       "    .dataframe tbody tr th {\n",
       "        vertical-align: top;\n",
       "    }\n",
       "\n",
       "    .dataframe thead th {\n",
       "        text-align: right;\n",
       "    }\n",
       "</style>\n",
       "<table border=\"1\" class=\"dataframe\">\n",
       "  <thead>\n",
       "    <tr style=\"text-align: right;\">\n",
       "      <th></th>\n",
       "      <th>COMPANY NAME</th>\n",
       "      <th>YEAR</th>\n",
       "      <th>SCOPE 1</th>\n",
       "      <th>SCOPE 2 (location-based)</th>\n",
       "      <th>SCOPE 3</th>\n",
       "      <th>TOTAL EMISSIONS</th>\n",
       "      <th>TOTAL REVENUE (miillion $)</th>\n",
       "      <th>CURRENCY</th>\n",
       "      <th>CARBON INTENSITY</th>\n",
       "      <th>COUNTRY OF ORIGIN</th>\n",
       "      <th>SUBMIT TO CDP</th>\n",
       "      <th>SBTi TARGET SET?</th>\n",
       "      <th>SBTI COMMITMENTS</th>\n",
       "      <th>NET-ZERO TARGETS</th>\n",
       "      <th>SECTOR</th>\n",
       "      <th>REVENUE IN USD</th>\n",
       "      <th>Adjusted CI</th>\n",
       "    </tr>\n",
       "  </thead>\n",
       "  <tbody>\n",
       "    <tr>\n",
       "      <th>0</th>\n",
       "      <td>Anheuser-Busch InBev</td>\n",
       "      <td>2018</td>\n",
       "      <td>3700760.0</td>\n",
       "      <td>2383505.0</td>\n",
       "      <td>24431839.0</td>\n",
       "      <td>30516104.0</td>\n",
       "      <td>54619.0</td>\n",
       "      <td>USD</td>\n",
       "      <td>111.39</td>\n",
       "      <td>Belgium</td>\n",
       "      <td>True</td>\n",
       "      <td>True</td>\n",
       "      <td>[Near-term targets set, net-zero committed]</td>\n",
       "      <td>Net-zero by 2040 across value chain</td>\n",
       "      <td>Food &amp; Agriculture</td>\n",
       "      <td>54619.0</td>\n",
       "      <td>111.39</td>\n",
       "    </tr>\n",
       "    <tr>\n",
       "      <th>1</th>\n",
       "      <td>Anheuser-Busch InBev</td>\n",
       "      <td>2019</td>\n",
       "      <td>3600710.0</td>\n",
       "      <td>2215902.0</td>\n",
       "      <td>26484447.0</td>\n",
       "      <td>32301059.0</td>\n",
       "      <td>52329.0</td>\n",
       "      <td>USD</td>\n",
       "      <td>111.15</td>\n",
       "      <td>Belgium</td>\n",
       "      <td>True</td>\n",
       "      <td>True</td>\n",
       "      <td>[Near-term targets set, net-zero committed]</td>\n",
       "      <td>Net-zero by 2040 across value chain</td>\n",
       "      <td>Food &amp; Agriculture</td>\n",
       "      <td>52329.0</td>\n",
       "      <td>111.15</td>\n",
       "    </tr>\n",
       "    <tr>\n",
       "      <th>2</th>\n",
       "      <td>Anheuser-Busch InBev</td>\n",
       "      <td>2020</td>\n",
       "      <td>3081905.0</td>\n",
       "      <td>2227758.0</td>\n",
       "      <td>23652933.0</td>\n",
       "      <td>28962596.0</td>\n",
       "      <td>46881.0</td>\n",
       "      <td>USD</td>\n",
       "      <td>113.26</td>\n",
       "      <td>Belgium</td>\n",
       "      <td>True</td>\n",
       "      <td>True</td>\n",
       "      <td>[Near-term targets set, net-zero committed]</td>\n",
       "      <td>Net-zero by 2040 across value chain</td>\n",
       "      <td>Food &amp; Agriculture</td>\n",
       "      <td>46881.0</td>\n",
       "      <td>113.26</td>\n",
       "    </tr>\n",
       "    <tr>\n",
       "      <th>3</th>\n",
       "      <td>Anheuser-Busch InBev</td>\n",
       "      <td>2021</td>\n",
       "      <td>2953896.0</td>\n",
       "      <td>2243990.0</td>\n",
       "      <td>26527444.0</td>\n",
       "      <td>31725330.0</td>\n",
       "      <td>54304.0</td>\n",
       "      <td>USD</td>\n",
       "      <td>95.72</td>\n",
       "      <td>Belgium</td>\n",
       "      <td>True</td>\n",
       "      <td>True</td>\n",
       "      <td>[Near-term targets set, net-zero committed]</td>\n",
       "      <td>Net-zero by 2040 across value chain</td>\n",
       "      <td>Food &amp; Agriculture</td>\n",
       "      <td>54304.0</td>\n",
       "      <td>95.72</td>\n",
       "    </tr>\n",
       "    <tr>\n",
       "      <th>4</th>\n",
       "      <td>Anheuser-Busch InBev</td>\n",
       "      <td>2022</td>\n",
       "      <td>2843883.0</td>\n",
       "      <td>2029211.0</td>\n",
       "      <td>24136111.0</td>\n",
       "      <td>29009205.0</td>\n",
       "      <td>57786.0</td>\n",
       "      <td>USD</td>\n",
       "      <td>84.33</td>\n",
       "      <td>Belgium</td>\n",
       "      <td>True</td>\n",
       "      <td>True</td>\n",
       "      <td>[Near-term targets set, net-zero committed]</td>\n",
       "      <td>Net-zero by 2040 across value chain</td>\n",
       "      <td>Food &amp; Agriculture</td>\n",
       "      <td>57786.0</td>\n",
       "      <td>84.33</td>\n",
       "    </tr>\n",
       "  </tbody>\n",
       "</table>\n",
       "</div>"
      ],
      "text/plain": [
       "           COMPANY NAME  YEAR    SCOPE 1  SCOPE 2 (location-based)  \\\n",
       "0  Anheuser-Busch InBev  2018  3700760.0                 2383505.0   \n",
       "1  Anheuser-Busch InBev  2019  3600710.0                 2215902.0   \n",
       "2  Anheuser-Busch InBev  2020  3081905.0                 2227758.0   \n",
       "3  Anheuser-Busch InBev  2021  2953896.0                 2243990.0   \n",
       "4  Anheuser-Busch InBev  2022  2843883.0                 2029211.0   \n",
       "\n",
       "      SCOPE 3  TOTAL EMISSIONS  TOTAL REVENUE (miillion $) CURRENCY  \\\n",
       "0  24431839.0       30516104.0                     54619.0      USD   \n",
       "1  26484447.0       32301059.0                     52329.0      USD   \n",
       "2  23652933.0       28962596.0                     46881.0      USD   \n",
       "3  26527444.0       31725330.0                     54304.0      USD   \n",
       "4  24136111.0       29009205.0                     57786.0      USD   \n",
       "\n",
       "   CARBON INTENSITY COUNTRY OF ORIGIN SUBMIT TO CDP  SBTi TARGET SET?  \\\n",
       "0            111.39           Belgium          True              True   \n",
       "1            111.15           Belgium          True              True   \n",
       "2            113.26           Belgium          True              True   \n",
       "3             95.72           Belgium          True              True   \n",
       "4             84.33           Belgium          True              True   \n",
       "\n",
       "                              SBTI COMMITMENTS  \\\n",
       "0  [Near-term targets set, net-zero committed]   \n",
       "1  [Near-term targets set, net-zero committed]   \n",
       "2  [Near-term targets set, net-zero committed]   \n",
       "3  [Near-term targets set, net-zero committed]   \n",
       "4  [Near-term targets set, net-zero committed]   \n",
       "\n",
       "                      NET-ZERO TARGETS              SECTOR  REVENUE IN USD  \\\n",
       "0  Net-zero by 2040 across value chain  Food & Agriculture         54619.0   \n",
       "1  Net-zero by 2040 across value chain  Food & Agriculture         52329.0   \n",
       "2  Net-zero by 2040 across value chain  Food & Agriculture         46881.0   \n",
       "3  Net-zero by 2040 across value chain  Food & Agriculture         54304.0   \n",
       "4  Net-zero by 2040 across value chain  Food & Agriculture         57786.0   \n",
       "\n",
       "   Adjusted CI  \n",
       "0       111.39  \n",
       "1       111.15  \n",
       "2       113.26  \n",
       "3        95.72  \n",
       "4        84.33  "
      ]
     },
     "execution_count": 24,
     "metadata": {},
     "output_type": "execute_result"
    }
   ],
   "source": [
    "# Replace 'Submit to CDP' values with True and False for performing categorical data analysis\n",
    "\n",
    "sectors['SUBMIT TO CDP'] = sectors['SUBMIT TO CDP'].replace({\n",
    "    'Yes' : True,\n",
    "    'No' : False\n",
    "})\n",
    "\n",
    "sectors['SBTi TARGET SET?'] = sectors['SBTi TARGET SET?'].replace({\n",
    "    'Yes' : True,\n",
    "    'No' : False\n",
    "})\n",
    "\n",
    "sectors.head()"
   ]
  },
  {
   "cell_type": "code",
   "execution_count": 25,
   "metadata": {},
   "outputs": [
    {
     "data": {
      "text/html": [
       "<div>\n",
       "<style scoped>\n",
       "    .dataframe tbody tr th:only-of-type {\n",
       "        vertical-align: middle;\n",
       "    }\n",
       "\n",
       "    .dataframe tbody tr th {\n",
       "        vertical-align: top;\n",
       "    }\n",
       "\n",
       "    .dataframe thead th {\n",
       "        text-align: right;\n",
       "    }\n",
       "</style>\n",
       "<table border=\"1\" class=\"dataframe\">\n",
       "  <thead>\n",
       "    <tr style=\"text-align: right;\">\n",
       "      <th></th>\n",
       "      <th>COMPANY NAME</th>\n",
       "      <th>YEAR</th>\n",
       "      <th>SCOPE 1</th>\n",
       "      <th>SCOPE 2 (location-based)</th>\n",
       "      <th>SCOPE 3</th>\n",
       "      <th>TOTAL EMISSIONS</th>\n",
       "      <th>TOTAL REVENUE (miillion $)</th>\n",
       "      <th>CURRENCY</th>\n",
       "      <th>CARBON INTENSITY</th>\n",
       "      <th>COUNTRY OF ORIGIN</th>\n",
       "      <th>SUBMIT TO CDP</th>\n",
       "      <th>SBTi TARGET SET?</th>\n",
       "      <th>SBTI COMMITMENTS</th>\n",
       "      <th>NET-ZERO TARGETS</th>\n",
       "      <th>SECTOR</th>\n",
       "      <th>REVENUE IN USD</th>\n",
       "      <th>Adjusted CI</th>\n",
       "    </tr>\n",
       "  </thead>\n",
       "  <tbody>\n",
       "    <tr>\n",
       "      <th>0</th>\n",
       "      <td>Anheuser-Busch InBev</td>\n",
       "      <td>2018</td>\n",
       "      <td>3700760.0</td>\n",
       "      <td>2383505.0</td>\n",
       "      <td>24431839.0</td>\n",
       "      <td>30516104.0</td>\n",
       "      <td>54619.0</td>\n",
       "      <td>USD</td>\n",
       "      <td>111.39</td>\n",
       "      <td>Belgium</td>\n",
       "      <td>True</td>\n",
       "      <td>True</td>\n",
       "      <td>[Near-term targets set, net-zero committed]</td>\n",
       "      <td>Net-zero by 2040 across value chain</td>\n",
       "      <td>Food &amp; Agriculture</td>\n",
       "      <td>54619.0</td>\n",
       "      <td>111.39</td>\n",
       "    </tr>\n",
       "    <tr>\n",
       "      <th>1</th>\n",
       "      <td>Anheuser-Busch InBev</td>\n",
       "      <td>2019</td>\n",
       "      <td>3600710.0</td>\n",
       "      <td>2215902.0</td>\n",
       "      <td>26484447.0</td>\n",
       "      <td>32301059.0</td>\n",
       "      <td>52329.0</td>\n",
       "      <td>USD</td>\n",
       "      <td>111.15</td>\n",
       "      <td>Belgium</td>\n",
       "      <td>True</td>\n",
       "      <td>True</td>\n",
       "      <td>[Near-term targets set, net-zero committed]</td>\n",
       "      <td>Net-zero by 2040 across value chain</td>\n",
       "      <td>Food &amp; Agriculture</td>\n",
       "      <td>52329.0</td>\n",
       "      <td>111.15</td>\n",
       "    </tr>\n",
       "    <tr>\n",
       "      <th>2</th>\n",
       "      <td>Anheuser-Busch InBev</td>\n",
       "      <td>2020</td>\n",
       "      <td>3081905.0</td>\n",
       "      <td>2227758.0</td>\n",
       "      <td>23652933.0</td>\n",
       "      <td>28962596.0</td>\n",
       "      <td>46881.0</td>\n",
       "      <td>USD</td>\n",
       "      <td>113.26</td>\n",
       "      <td>Belgium</td>\n",
       "      <td>True</td>\n",
       "      <td>True</td>\n",
       "      <td>[Near-term targets set, net-zero committed]</td>\n",
       "      <td>Net-zero by 2040 across value chain</td>\n",
       "      <td>Food &amp; Agriculture</td>\n",
       "      <td>46881.0</td>\n",
       "      <td>113.26</td>\n",
       "    </tr>\n",
       "    <tr>\n",
       "      <th>3</th>\n",
       "      <td>Anheuser-Busch InBev</td>\n",
       "      <td>2021</td>\n",
       "      <td>2953896.0</td>\n",
       "      <td>2243990.0</td>\n",
       "      <td>26527444.0</td>\n",
       "      <td>31725330.0</td>\n",
       "      <td>54304.0</td>\n",
       "      <td>USD</td>\n",
       "      <td>95.72</td>\n",
       "      <td>Belgium</td>\n",
       "      <td>True</td>\n",
       "      <td>True</td>\n",
       "      <td>[Near-term targets set, net-zero committed]</td>\n",
       "      <td>Net-zero by 2040 across value chain</td>\n",
       "      <td>Food &amp; Agriculture</td>\n",
       "      <td>54304.0</td>\n",
       "      <td>95.72</td>\n",
       "    </tr>\n",
       "    <tr>\n",
       "      <th>4</th>\n",
       "      <td>Anheuser-Busch InBev</td>\n",
       "      <td>2022</td>\n",
       "      <td>2843883.0</td>\n",
       "      <td>2029211.0</td>\n",
       "      <td>24136111.0</td>\n",
       "      <td>29009205.0</td>\n",
       "      <td>57786.0</td>\n",
       "      <td>USD</td>\n",
       "      <td>84.33</td>\n",
       "      <td>Belgium</td>\n",
       "      <td>True</td>\n",
       "      <td>True</td>\n",
       "      <td>[Near-term targets set, net-zero committed]</td>\n",
       "      <td>Net-zero by 2040 across value chain</td>\n",
       "      <td>Food &amp; Agriculture</td>\n",
       "      <td>57786.0</td>\n",
       "      <td>84.33</td>\n",
       "    </tr>\n",
       "  </tbody>\n",
       "</table>\n",
       "</div>"
      ],
      "text/plain": [
       "           COMPANY NAME  YEAR    SCOPE 1  SCOPE 2 (location-based)  \\\n",
       "0  Anheuser-Busch InBev  2018  3700760.0                 2383505.0   \n",
       "1  Anheuser-Busch InBev  2019  3600710.0                 2215902.0   \n",
       "2  Anheuser-Busch InBev  2020  3081905.0                 2227758.0   \n",
       "3  Anheuser-Busch InBev  2021  2953896.0                 2243990.0   \n",
       "4  Anheuser-Busch InBev  2022  2843883.0                 2029211.0   \n",
       "\n",
       "      SCOPE 3  TOTAL EMISSIONS  TOTAL REVENUE (miillion $) CURRENCY  \\\n",
       "0  24431839.0       30516104.0                     54619.0      USD   \n",
       "1  26484447.0       32301059.0                     52329.0      USD   \n",
       "2  23652933.0       28962596.0                     46881.0      USD   \n",
       "3  26527444.0       31725330.0                     54304.0      USD   \n",
       "4  24136111.0       29009205.0                     57786.0      USD   \n",
       "\n",
       "   CARBON INTENSITY COUNTRY OF ORIGIN SUBMIT TO CDP  SBTi TARGET SET?  \\\n",
       "0            111.39           Belgium          True              True   \n",
       "1            111.15           Belgium          True              True   \n",
       "2            113.26           Belgium          True              True   \n",
       "3             95.72           Belgium          True              True   \n",
       "4             84.33           Belgium          True              True   \n",
       "\n",
       "                              SBTI COMMITMENTS  \\\n",
       "0  [Near-term targets set, net-zero committed]   \n",
       "1  [Near-term targets set, net-zero committed]   \n",
       "2  [Near-term targets set, net-zero committed]   \n",
       "3  [Near-term targets set, net-zero committed]   \n",
       "4  [Near-term targets set, net-zero committed]   \n",
       "\n",
       "                      NET-ZERO TARGETS              SECTOR  REVENUE IN USD  \\\n",
       "0  Net-zero by 2040 across value chain  Food & Agriculture         54619.0   \n",
       "1  Net-zero by 2040 across value chain  Food & Agriculture         52329.0   \n",
       "2  Net-zero by 2040 across value chain  Food & Agriculture         46881.0   \n",
       "3  Net-zero by 2040 across value chain  Food & Agriculture         54304.0   \n",
       "4  Net-zero by 2040 across value chain  Food & Agriculture         57786.0   \n",
       "\n",
       "   Adjusted CI  \n",
       "0       111.39  \n",
       "1       111.15  \n",
       "2       113.26  \n",
       "3        95.72  \n",
       "4        84.33  "
      ]
     },
     "execution_count": 25,
     "metadata": {},
     "output_type": "execute_result"
    }
   ],
   "source": [
    "sectors.head()"
   ]
  },
  {
   "cell_type": "code",
   "execution_count": 17,
   "metadata": {},
   "outputs": [],
   "source": [
    "load_sectors = sectors.to_csv('data/sectors.csv', index=False)\n",
    "load_sectors"
   ]
  },
  {
   "cell_type": "markdown",
   "metadata": {},
   "source": [
    "---"
   ]
  },
  {
   "cell_type": "markdown",
   "metadata": {},
   "source": [
    "# SECTION 2) EDA and Summary Statistics"
   ]
  },
  {
   "cell_type": "markdown",
   "metadata": {},
   "source": [
    "## Data Dictionary"
   ]
  },
  {
   "cell_type": "markdown",
   "metadata": {},
   "source": [
    "| Column Name | Definition | Data Type |\n",
    "|--------------|:-----:|-----------:|\n",
    "| Company Name | Name of the company | object |\n",
    "| Year | Corresponding year of emissions data | int |\n",
    "| Scope 1 | The company's direct GHG emissions, given in metric tons of carbon dioxide equivalence | float |\n",
    "| Scope 2 (location-based) | The company's indirect (location-based) GHG emissions, given in metric tons of carbon dioxide equivalence | float |\n",
    "| Scope 3 | The company's indirect GHG emissions that come from its value chain, given in metric tons of carbon dioxide equivalence | float |\n",
    "| Total Emissions | Sum of Scope 1, 2, and 3 emissions | float |\n",
    "| Total Revenue (million $) | The company's total revenue for a given year | float |\n",
    "| Currency | The currency of the company's total revenue | object |\n",
    "| Carbon Intensity | Total scope 1 and scope 2 (location-based) emissions per unit of the company's revenue | float |\n",
    "| Country of Origin | The company's origin country | object |\n",
    "| Submit to CDP | Boolean indicator of if the company submitted to CDP for the reporting year (True/False) | object |\n",
    "| SBTi Target Set? | Boolean indicator of if the company has targets approved by SBTi | object |\n",
    "| SBTI Commitments | A company's net-zero and near-term targets status | object | \n",
    "| Net-Zero Targets | A company's net-zero or emissions reductions target(s) | object | \n",
    "| Sector | The industry sector of the company | object |\n",
    "\n"
   ]
  },
  {
   "cell_type": "code",
   "execution_count": 27,
   "metadata": {},
   "outputs": [
    {
     "data": {
      "text/html": [
       "<div>\n",
       "<style scoped>\n",
       "    .dataframe tbody tr th:only-of-type {\n",
       "        vertical-align: middle;\n",
       "    }\n",
       "\n",
       "    .dataframe tbody tr th {\n",
       "        vertical-align: top;\n",
       "    }\n",
       "\n",
       "    .dataframe thead th {\n",
       "        text-align: right;\n",
       "    }\n",
       "</style>\n",
       "<table border=\"1\" class=\"dataframe\">\n",
       "  <thead>\n",
       "    <tr style=\"text-align: right;\">\n",
       "      <th></th>\n",
       "      <th>COMPANY NAME</th>\n",
       "      <th>YEAR</th>\n",
       "      <th>SCOPE 1</th>\n",
       "      <th>SCOPE 2 (location-based)</th>\n",
       "      <th>SCOPE 3</th>\n",
       "      <th>TOTAL EMISSIONS</th>\n",
       "      <th>TOTAL REVENUE (miillion $)</th>\n",
       "      <th>CURRENCY</th>\n",
       "      <th>CARBON INTENSITY</th>\n",
       "      <th>COUNTRY OF ORIGIN</th>\n",
       "      <th>SUBMIT TO CDP</th>\n",
       "      <th>SBTi TARGET SET?</th>\n",
       "      <th>SBTI COMMITMENTS</th>\n",
       "      <th>NET-ZERO TARGETS</th>\n",
       "      <th>SECTOR</th>\n",
       "      <th>REVENUE IN USD</th>\n",
       "      <th>Adjusted CI</th>\n",
       "    </tr>\n",
       "  </thead>\n",
       "  <tbody>\n",
       "    <tr>\n",
       "      <th>0</th>\n",
       "      <td>Anheuser-Busch InBev</td>\n",
       "      <td>2018</td>\n",
       "      <td>3700760.0</td>\n",
       "      <td>2383505.0</td>\n",
       "      <td>24431839.0</td>\n",
       "      <td>30516104.0</td>\n",
       "      <td>54619.0</td>\n",
       "      <td>USD</td>\n",
       "      <td>111.39</td>\n",
       "      <td>Belgium</td>\n",
       "      <td>True</td>\n",
       "      <td>True</td>\n",
       "      <td>[Near-term targets set, net-zero committed]</td>\n",
       "      <td>Net-zero by 2040 across value chain</td>\n",
       "      <td>Food &amp; Agriculture</td>\n",
       "      <td>54619.0</td>\n",
       "      <td>111.39</td>\n",
       "    </tr>\n",
       "    <tr>\n",
       "      <th>1</th>\n",
       "      <td>Anheuser-Busch InBev</td>\n",
       "      <td>2019</td>\n",
       "      <td>3600710.0</td>\n",
       "      <td>2215902.0</td>\n",
       "      <td>26484447.0</td>\n",
       "      <td>32301059.0</td>\n",
       "      <td>52329.0</td>\n",
       "      <td>USD</td>\n",
       "      <td>111.15</td>\n",
       "      <td>Belgium</td>\n",
       "      <td>True</td>\n",
       "      <td>True</td>\n",
       "      <td>[Near-term targets set, net-zero committed]</td>\n",
       "      <td>Net-zero by 2040 across value chain</td>\n",
       "      <td>Food &amp; Agriculture</td>\n",
       "      <td>52329.0</td>\n",
       "      <td>111.15</td>\n",
       "    </tr>\n",
       "    <tr>\n",
       "      <th>2</th>\n",
       "      <td>Anheuser-Busch InBev</td>\n",
       "      <td>2020</td>\n",
       "      <td>3081905.0</td>\n",
       "      <td>2227758.0</td>\n",
       "      <td>23652933.0</td>\n",
       "      <td>28962596.0</td>\n",
       "      <td>46881.0</td>\n",
       "      <td>USD</td>\n",
       "      <td>113.26</td>\n",
       "      <td>Belgium</td>\n",
       "      <td>True</td>\n",
       "      <td>True</td>\n",
       "      <td>[Near-term targets set, net-zero committed]</td>\n",
       "      <td>Net-zero by 2040 across value chain</td>\n",
       "      <td>Food &amp; Agriculture</td>\n",
       "      <td>46881.0</td>\n",
       "      <td>113.26</td>\n",
       "    </tr>\n",
       "    <tr>\n",
       "      <th>3</th>\n",
       "      <td>Anheuser-Busch InBev</td>\n",
       "      <td>2021</td>\n",
       "      <td>2953896.0</td>\n",
       "      <td>2243990.0</td>\n",
       "      <td>26527444.0</td>\n",
       "      <td>31725330.0</td>\n",
       "      <td>54304.0</td>\n",
       "      <td>USD</td>\n",
       "      <td>95.72</td>\n",
       "      <td>Belgium</td>\n",
       "      <td>True</td>\n",
       "      <td>True</td>\n",
       "      <td>[Near-term targets set, net-zero committed]</td>\n",
       "      <td>Net-zero by 2040 across value chain</td>\n",
       "      <td>Food &amp; Agriculture</td>\n",
       "      <td>54304.0</td>\n",
       "      <td>95.72</td>\n",
       "    </tr>\n",
       "    <tr>\n",
       "      <th>4</th>\n",
       "      <td>Anheuser-Busch InBev</td>\n",
       "      <td>2022</td>\n",
       "      <td>2843883.0</td>\n",
       "      <td>2029211.0</td>\n",
       "      <td>24136111.0</td>\n",
       "      <td>29009205.0</td>\n",
       "      <td>57786.0</td>\n",
       "      <td>USD</td>\n",
       "      <td>84.33</td>\n",
       "      <td>Belgium</td>\n",
       "      <td>True</td>\n",
       "      <td>True</td>\n",
       "      <td>[Near-term targets set, net-zero committed]</td>\n",
       "      <td>Net-zero by 2040 across value chain</td>\n",
       "      <td>Food &amp; Agriculture</td>\n",
       "      <td>57786.0</td>\n",
       "      <td>84.33</td>\n",
       "    </tr>\n",
       "  </tbody>\n",
       "</table>\n",
       "</div>"
      ],
      "text/plain": [
       "           COMPANY NAME  YEAR    SCOPE 1  SCOPE 2 (location-based)  \\\n",
       "0  Anheuser-Busch InBev  2018  3700760.0                 2383505.0   \n",
       "1  Anheuser-Busch InBev  2019  3600710.0                 2215902.0   \n",
       "2  Anheuser-Busch InBev  2020  3081905.0                 2227758.0   \n",
       "3  Anheuser-Busch InBev  2021  2953896.0                 2243990.0   \n",
       "4  Anheuser-Busch InBev  2022  2843883.0                 2029211.0   \n",
       "\n",
       "      SCOPE 3  TOTAL EMISSIONS  TOTAL REVENUE (miillion $) CURRENCY  \\\n",
       "0  24431839.0       30516104.0                     54619.0      USD   \n",
       "1  26484447.0       32301059.0                     52329.0      USD   \n",
       "2  23652933.0       28962596.0                     46881.0      USD   \n",
       "3  26527444.0       31725330.0                     54304.0      USD   \n",
       "4  24136111.0       29009205.0                     57786.0      USD   \n",
       "\n",
       "   CARBON INTENSITY COUNTRY OF ORIGIN SUBMIT TO CDP  SBTi TARGET SET?  \\\n",
       "0            111.39           Belgium          True              True   \n",
       "1            111.15           Belgium          True              True   \n",
       "2            113.26           Belgium          True              True   \n",
       "3             95.72           Belgium          True              True   \n",
       "4             84.33           Belgium          True              True   \n",
       "\n",
       "                              SBTI COMMITMENTS  \\\n",
       "0  [Near-term targets set, net-zero committed]   \n",
       "1  [Near-term targets set, net-zero committed]   \n",
       "2  [Near-term targets set, net-zero committed]   \n",
       "3  [Near-term targets set, net-zero committed]   \n",
       "4  [Near-term targets set, net-zero committed]   \n",
       "\n",
       "                      NET-ZERO TARGETS              SECTOR  REVENUE IN USD  \\\n",
       "0  Net-zero by 2040 across value chain  Food & Agriculture         54619.0   \n",
       "1  Net-zero by 2040 across value chain  Food & Agriculture         52329.0   \n",
       "2  Net-zero by 2040 across value chain  Food & Agriculture         46881.0   \n",
       "3  Net-zero by 2040 across value chain  Food & Agriculture         54304.0   \n",
       "4  Net-zero by 2040 across value chain  Food & Agriculture         57786.0   \n",
       "\n",
       "   Adjusted CI  \n",
       "0       111.39  \n",
       "1       111.15  \n",
       "2       113.26  \n",
       "3        95.72  \n",
       "4        84.33  "
      ]
     },
     "execution_count": 27,
     "metadata": {},
     "output_type": "execute_result"
    }
   ],
   "source": [
    "sectors.head()"
   ]
  },
  {
   "cell_type": "markdown",
   "metadata": {},
   "source": [
    "## Cross-Sector Exploratory Data Analysis (EDA)"
   ]
  },
  {
   "cell_type": "markdown",
   "metadata": {},
   "source": [
    "*This section is dedicated to data analysis through visualizations and observing general trends in the data across sectors.*"
   ]
  },
  {
   "cell_type": "markdown",
   "metadata": {},
   "source": [
    "### Looking at average scope, average total emissions, average, total revenue, and average CI by sector.\n",
    "\n",
    "The GroupBy object created below, sorted in descending order by `TOTAL EMISSIONS`, shows us that **energy** is the highest-emitting sector while **tech** comes last out of our four sectors."
   ]
  },
  {
   "cell_type": "code",
   "execution_count": 28,
   "metadata": {},
   "outputs": [
    {
     "data": {
      "text/html": [
       "<div>\n",
       "<style scoped>\n",
       "    .dataframe tbody tr th:only-of-type {\n",
       "        vertical-align: middle;\n",
       "    }\n",
       "\n",
       "    .dataframe tbody tr th {\n",
       "        vertical-align: top;\n",
       "    }\n",
       "\n",
       "    .dataframe thead th {\n",
       "        text-align: right;\n",
       "    }\n",
       "</style>\n",
       "<table border=\"1\" class=\"dataframe\">\n",
       "  <thead>\n",
       "    <tr style=\"text-align: right;\">\n",
       "      <th></th>\n",
       "      <th>SCOPE 1</th>\n",
       "      <th>SCOPE 2 (location-based)</th>\n",
       "      <th>SCOPE 3</th>\n",
       "      <th>TOTAL EMISSIONS</th>\n",
       "      <th>TOTAL REVENUE (miillion $)</th>\n",
       "      <th>CARBON INTENSITY</th>\n",
       "      <th>SBTi TARGET SET?</th>\n",
       "      <th>REVENUE IN USD</th>\n",
       "      <th>Adjusted CI</th>\n",
       "    </tr>\n",
       "    <tr>\n",
       "      <th>SECTOR</th>\n",
       "      <th></th>\n",
       "      <th></th>\n",
       "      <th></th>\n",
       "      <th></th>\n",
       "      <th></th>\n",
       "      <th></th>\n",
       "      <th></th>\n",
       "      <th></th>\n",
       "      <th></th>\n",
       "    </tr>\n",
       "  </thead>\n",
       "  <tbody>\n",
       "    <tr>\n",
       "      <th>Energy</th>\n",
       "      <td>49000779.0</td>\n",
       "      <td>7866270.0</td>\n",
       "      <td>425962254.0</td>\n",
       "      <td>384667608.0</td>\n",
       "      <td>329866.0</td>\n",
       "      <td>1164.0</td>\n",
       "      <td>0.0</td>\n",
       "      <td>131235.0</td>\n",
       "      <td>585.0</td>\n",
       "    </tr>\n",
       "    <tr>\n",
       "      <th>Auto</th>\n",
       "      <td>1374703.0</td>\n",
       "      <td>2840815.0</td>\n",
       "      <td>225365571.0</td>\n",
       "      <td>229778853.0</td>\n",
       "      <td>1389422.0</td>\n",
       "      <td>41.0</td>\n",
       "      <td>1.0</td>\n",
       "      <td>129654.0</td>\n",
       "      <td>3152.0</td>\n",
       "    </tr>\n",
       "    <tr>\n",
       "      <th>Food &amp; Agriculture</th>\n",
       "      <td>1546647.0</td>\n",
       "      <td>1181952.0</td>\n",
       "      <td>39522984.0</td>\n",
       "      <td>42251583.0</td>\n",
       "      <td>44019.0</td>\n",
       "      <td>64.0</td>\n",
       "      <td>1.0</td>\n",
       "      <td>49361.0</td>\n",
       "      <td>59.0</td>\n",
       "    </tr>\n",
       "    <tr>\n",
       "      <th>Tech</th>\n",
       "      <td>2482006.0</td>\n",
       "      <td>5799836.0</td>\n",
       "      <td>27005205.0</td>\n",
       "      <td>35287047.0</td>\n",
       "      <td>47142696.0</td>\n",
       "      <td>20.0</td>\n",
       "      <td>1.0</td>\n",
       "      <td>210002.0</td>\n",
       "      <td>65.0</td>\n",
       "    </tr>\n",
       "  </tbody>\n",
       "</table>\n",
       "</div>"
      ],
      "text/plain": [
       "                       SCOPE 1  SCOPE 2 (location-based)      SCOPE 3  \\\n",
       "SECTOR                                                                  \n",
       "Energy              49000779.0                 7866270.0  425962254.0   \n",
       "Auto                 1374703.0                 2840815.0  225365571.0   \n",
       "Food & Agriculture   1546647.0                 1181952.0   39522984.0   \n",
       "Tech                 2482006.0                 5799836.0   27005205.0   \n",
       "\n",
       "                    TOTAL EMISSIONS  TOTAL REVENUE (miillion $)  \\\n",
       "SECTOR                                                            \n",
       "Energy                  384667608.0                    329866.0   \n",
       "Auto                    229778853.0                   1389422.0   \n",
       "Food & Agriculture       42251583.0                     44019.0   \n",
       "Tech                     35287047.0                  47142696.0   \n",
       "\n",
       "                    CARBON INTENSITY  SBTi TARGET SET?  REVENUE IN USD  \\\n",
       "SECTOR                                                                   \n",
       "Energy                        1164.0               0.0        131235.0   \n",
       "Auto                            41.0               1.0        129654.0   \n",
       "Food & Agriculture              64.0               1.0         49361.0   \n",
       "Tech                            20.0               1.0        210002.0   \n",
       "\n",
       "                    Adjusted CI  \n",
       "SECTOR                           \n",
       "Energy                    585.0  \n",
       "Auto                     3152.0  \n",
       "Food & Agriculture         59.0  \n",
       "Tech                       65.0  "
      ]
     },
     "execution_count": 28,
     "metadata": {},
     "output_type": "execute_result"
    }
   ],
   "source": [
    "# Average scope and revenue values by sector in descending order of average total emissions\n",
    "\n",
    "avg_sectors = sectors.groupby('SECTOR').mean(numeric_only=True).drop(columns=['YEAR']).round(0).sort_values(by='TOTAL EMISSIONS', ascending=False)\n",
    "\n",
    "avg_sectors"
   ]
  },
  {
   "cell_type": "code",
   "execution_count": 31,
   "metadata": {},
   "outputs": [],
   "source": [
    "# for later use once revenues have been converted\n",
    "\n",
    "# rev_summary = sectors.groupby('SECTOR').mean(numeric_only=True).round(0)[['USD REVENUE']].rename(columns={'USD REVENUE' : 'Mean USD Revenue'}).sort_values(by='Mean USD Revenue', ascending=False)\n",
    "# rev_summary"
   ]
  },
  {
   "cell_type": "markdown",
   "metadata": {},
   "source": [
    "### A rough look at highest-emitting companies on average\n",
    "\n",
    "This GroupBy object shows us the highest-emitting companies on average, sorted by average `TOTAL EMISSIONS`. \n",
    "\n",
    "*NOTE: This is not a completely reflective ranking because it doesn't take into account the companies that don't report certain scope values (indicated by NaN).*"
   ]
  },
  {
   "cell_type": "code",
   "execution_count": 32,
   "metadata": {},
   "outputs": [
    {
     "data": {
      "text/html": [
       "<div>\n",
       "<style scoped>\n",
       "    .dataframe tbody tr th:only-of-type {\n",
       "        vertical-align: middle;\n",
       "    }\n",
       "\n",
       "    .dataframe tbody tr th {\n",
       "        vertical-align: top;\n",
       "    }\n",
       "\n",
       "    .dataframe thead th {\n",
       "        text-align: right;\n",
       "    }\n",
       "</style>\n",
       "<table border=\"1\" class=\"dataframe\">\n",
       "  <thead>\n",
       "    <tr style=\"text-align: right;\">\n",
       "      <th></th>\n",
       "      <th>SCOPE 1</th>\n",
       "      <th>SCOPE 2 (location-based)</th>\n",
       "      <th>SCOPE 3</th>\n",
       "      <th>TOTAL EMISSIONS</th>\n",
       "      <th>TOTAL REVENUE (miillion $)</th>\n",
       "      <th>CARBON INTENSITY</th>\n",
       "      <th>SBTi TARGET SET?</th>\n",
       "      <th>REVENUE IN USD</th>\n",
       "      <th>Adjusted CI</th>\n",
       "    </tr>\n",
       "    <tr>\n",
       "      <th>COMPANY NAME</th>\n",
       "      <th></th>\n",
       "      <th></th>\n",
       "      <th></th>\n",
       "      <th></th>\n",
       "      <th></th>\n",
       "      <th></th>\n",
       "      <th></th>\n",
       "      <th></th>\n",
       "      <th></th>\n",
       "    </tr>\n",
       "  </thead>\n",
       "  <tbody>\n",
       "    <tr>\n",
       "      <th>Shell</th>\n",
       "      <td>6.300000e+07</td>\n",
       "      <td>1.000000e+07</td>\n",
       "      <td>1.056447e+09</td>\n",
       "      <td>1.129447e+09</td>\n",
       "      <td>3.181430e+05</td>\n",
       "      <td>249.320000</td>\n",
       "      <td>0.0</td>\n",
       "      <td>318143.000000</td>\n",
       "      <td>249.320000</td>\n",
       "    </tr>\n",
       "    <tr>\n",
       "      <th>Chevron</th>\n",
       "      <td>5.840000e+07</td>\n",
       "      <td>3.400000e+06</td>\n",
       "      <td>1.028200e+09</td>\n",
       "      <td>1.090000e+09</td>\n",
       "      <td>1.569122e+05</td>\n",
       "      <td>427.920000</td>\n",
       "      <td>0.0</td>\n",
       "      <td>156912.200000</td>\n",
       "      <td>427.920000</td>\n",
       "    </tr>\n",
       "    <tr>\n",
       "      <th>Gazprom</th>\n",
       "      <td>8.822895e+07</td>\n",
       "      <td>5.827761e+06</td>\n",
       "      <td>1.127929e+09</td>\n",
       "      <td>7.708143e+08</td>\n",
       "      <td>3.554709e+06</td>\n",
       "      <td>NaN</td>\n",
       "      <td>0.0</td>\n",
       "      <td>49765.926000</td>\n",
       "      <td>2421.040000</td>\n",
       "    </tr>\n",
       "    <tr>\n",
       "      <th>Toyota</th>\n",
       "      <td>2.272571e+06</td>\n",
       "      <td>4.357166e+06</td>\n",
       "      <td>4.167293e+08</td>\n",
       "      <td>4.233591e+08</td>\n",
       "      <td>2.084658e+05</td>\n",
       "      <td>31.988333</td>\n",
       "      <td>1.0</td>\n",
       "      <td>1876.192500</td>\n",
       "      <td>3554.291667</td>\n",
       "    </tr>\n",
       "    <tr>\n",
       "      <th>Volkswagen</th>\n",
       "      <td>4.399641e+06</td>\n",
       "      <td>5.558314e+06</td>\n",
       "      <td>3.906809e+08</td>\n",
       "      <td>4.006388e+08</td>\n",
       "      <td>2.546363e+05</td>\n",
       "      <td>39.433333</td>\n",
       "      <td>1.0</td>\n",
       "      <td>295378.146667</td>\n",
       "      <td>33.993333</td>\n",
       "    </tr>\n",
       "    <tr>\n",
       "      <th>BP</th>\n",
       "      <td>4.066000e+07</td>\n",
       "      <td>3.760000e+06</td>\n",
       "      <td>3.437250e+08</td>\n",
       "      <td>3.194000e+08</td>\n",
       "      <td>2.217036e+05</td>\n",
       "      <td>226.910000</td>\n",
       "      <td>0.0</td>\n",
       "      <td>221703.600000</td>\n",
       "      <td>226.910000</td>\n",
       "    </tr>\n",
       "    <tr>\n",
       "      <th>Honda</th>\n",
       "      <td>1.223374e+06</td>\n",
       "      <td>3.410813e+06</td>\n",
       "      <td>2.879159e+08</td>\n",
       "      <td>2.925501e+08</td>\n",
       "      <td>1.513838e+07</td>\n",
       "      <td>0.306667</td>\n",
       "      <td>0.0</td>\n",
       "      <td>136245.450000</td>\n",
       "      <td>34.126667</td>\n",
       "    </tr>\n",
       "    <tr>\n",
       "      <th>Equinor</th>\n",
       "      <td>1.326715e+07</td>\n",
       "      <td>1.653358e+05</td>\n",
       "      <td>2.762498e+08</td>\n",
       "      <td>2.896823e+08</td>\n",
       "      <td>8.629960e+04</td>\n",
       "      <td>185.380000</td>\n",
       "      <td>0.0</td>\n",
       "      <td>86299.600000</td>\n",
       "      <td>185.380000</td>\n",
       "    </tr>\n",
       "    <tr>\n",
       "      <th>Fiat-Chrysler</th>\n",
       "      <td>1.227754e+06</td>\n",
       "      <td>2.414369e+06</td>\n",
       "      <td>2.668018e+08</td>\n",
       "      <td>2.706001e+08</td>\n",
       "      <td>1.365630e+05</td>\n",
       "      <td>27.941667</td>\n",
       "      <td>1.0</td>\n",
       "      <td>158413.080000</td>\n",
       "      <td>24.088333</td>\n",
       "    </tr>\n",
       "    <tr>\n",
       "      <th>Ford</th>\n",
       "      <td>1.279747e+06</td>\n",
       "      <td>2.986100e+06</td>\n",
       "      <td>2.656040e+08</td>\n",
       "      <td>2.698698e+08</td>\n",
       "      <td>1.472407e+05</td>\n",
       "      <td>29.025000</td>\n",
       "      <td>1.0</td>\n",
       "      <td>147240.666667</td>\n",
       "      <td>29.025000</td>\n",
       "    </tr>\n",
       "    <tr>\n",
       "      <th>General Motors</th>\n",
       "      <td>1.522590e+06</td>\n",
       "      <td>3.707187e+06</td>\n",
       "      <td>2.591649e+08</td>\n",
       "      <td>2.643947e+08</td>\n",
       "      <td>1.326835e+05</td>\n",
       "      <td>39.333333</td>\n",
       "      <td>1.0</td>\n",
       "      <td>132683.500000</td>\n",
       "      <td>39.333333</td>\n",
       "    </tr>\n",
       "    <tr>\n",
       "      <th>Oxy</th>\n",
       "      <td>1.759072e+07</td>\n",
       "      <td>4.912207e+06</td>\n",
       "      <td>1.969600e+08</td>\n",
       "      <td>2.194629e+08</td>\n",
       "      <td>2.382680e+04</td>\n",
       "      <td>1000.514000</td>\n",
       "      <td>0.0</td>\n",
       "      <td>23826.800000</td>\n",
       "      <td>1000.514000</td>\n",
       "    </tr>\n",
       "    <tr>\n",
       "      <th>Exxon</th>\n",
       "      <td>1.002000e+08</td>\n",
       "      <td>8.200000e+06</td>\n",
       "      <td>5.300000e+08</td>\n",
       "      <td>2.144000e+08</td>\n",
       "      <td>2.871944e+05</td>\n",
       "      <td>406.008000</td>\n",
       "      <td>0.0</td>\n",
       "      <td>287194.400000</td>\n",
       "      <td>406.008000</td>\n",
       "    </tr>\n",
       "    <tr>\n",
       "      <th>PetroChina</th>\n",
       "      <td>1.252025e+08</td>\n",
       "      <td>4.020250e+07</td>\n",
       "      <td>NaN</td>\n",
       "      <td>1.654050e+08</td>\n",
       "      <td>1.818900e+04</td>\n",
       "      <td>9999.710000</td>\n",
       "      <td>0.0</td>\n",
       "      <td>132597.810000</td>\n",
       "      <td>1371.702500</td>\n",
       "    </tr>\n",
       "    <tr>\n",
       "      <th>EDF</th>\n",
       "      <td>2.953583e+07</td>\n",
       "      <td>3.515614e+05</td>\n",
       "      <td>1.068990e+08</td>\n",
       "      <td>1.367864e+08</td>\n",
       "      <td>9.326040e+04</td>\n",
       "      <td>347.856000</td>\n",
       "      <td>1.0</td>\n",
       "      <td>108182.064000</td>\n",
       "      <td>299.876000</td>\n",
       "    </tr>\n",
       "    <tr>\n",
       "      <th>BYD</th>\n",
       "      <td>3.553160e+05</td>\n",
       "      <td>5.453438e+06</td>\n",
       "      <td>1.230260e+08</td>\n",
       "      <td>1.310879e+08</td>\n",
       "      <td>2.686250e+04</td>\n",
       "      <td>185.180000</td>\n",
       "      <td>0.0</td>\n",
       "      <td>195827.625000</td>\n",
       "      <td>22.856667</td>\n",
       "    </tr>\n",
       "    <tr>\n",
       "      <th>Nestlé</th>\n",
       "      <td>3.272557e+06</td>\n",
       "      <td>2.516767e+06</td>\n",
       "      <td>1.107823e+08</td>\n",
       "      <td>1.165716e+08</td>\n",
       "      <td>8.987900e+04</td>\n",
       "      <td>64.718000</td>\n",
       "      <td>1.0</td>\n",
       "      <td>97968.110000</td>\n",
       "      <td>59.376000</td>\n",
       "    </tr>\n",
       "    <tr>\n",
       "      <th>Daimler/Mercedes</th>\n",
       "      <td>9.925000e+05</td>\n",
       "      <td>1.528333e+06</td>\n",
       "      <td>1.091101e+08</td>\n",
       "      <td>1.116309e+08</td>\n",
       "      <td>1.675005e+05</td>\n",
       "      <td>14.918333</td>\n",
       "      <td>1.0</td>\n",
       "      <td>194300.580000</td>\n",
       "      <td>12.860000</td>\n",
       "    </tr>\n",
       "    <tr>\n",
       "      <th>BMW</th>\n",
       "      <td>6.596525e+05</td>\n",
       "      <td>1.429540e+06</td>\n",
       "      <td>1.055465e+08</td>\n",
       "      <td>1.076357e+08</td>\n",
       "      <td>1.088678e+05</td>\n",
       "      <td>19.625000</td>\n",
       "      <td>1.0</td>\n",
       "      <td>126286.686667</td>\n",
       "      <td>16.920000</td>\n",
       "    </tr>\n",
       "    <tr>\n",
       "      <th>Samsung</th>\n",
       "      <td>5.844860e+06</td>\n",
       "      <td>1.193088e+07</td>\n",
       "      <td>8.436758e+07</td>\n",
       "      <td>1.021433e+08</td>\n",
       "      <td>3.274090e+08</td>\n",
       "      <td>0.060000</td>\n",
       "      <td>0.0</td>\n",
       "      <td>294668.100000</td>\n",
       "      <td>66.426000</td>\n",
       "    </tr>\n",
       "    <tr>\n",
       "      <th>Geely</th>\n",
       "      <td>1.809667e+05</td>\n",
       "      <td>5.386895e+05</td>\n",
       "      <td>7.942017e+07</td>\n",
       "      <td>8.032717e+07</td>\n",
       "      <td>1.488183e+04</td>\n",
       "      <td>48.646667</td>\n",
       "      <td>1.0</td>\n",
       "      <td>108488.565000</td>\n",
       "      <td>6.671667</td>\n",
       "    </tr>\n",
       "    <tr>\n",
       "      <th>Hyundai</th>\n",
       "      <td>7.950490e+05</td>\n",
       "      <td>1.811550e+06</td>\n",
       "      <td>6.706868e+07</td>\n",
       "      <td>6.967528e+07</td>\n",
       "      <td>8.157000e+04</td>\n",
       "      <td>32.240000</td>\n",
       "      <td>1.0</td>\n",
       "      <td>73.413000</td>\n",
       "      <td>35823.640000</td>\n",
       "    </tr>\n",
       "    <tr>\n",
       "      <th>Saudi Aramco</th>\n",
       "      <td>5.276000e+07</td>\n",
       "      <td>1.656667e+07</td>\n",
       "      <td>NaN</td>\n",
       "      <td>6.932667e+07</td>\n",
       "      <td>NaN</td>\n",
       "      <td>NaN</td>\n",
       "      <td>0.0</td>\n",
       "      <td>NaN</td>\n",
       "      <td>NaN</td>\n",
       "    </tr>\n",
       "    <tr>\n",
       "      <th>Tesco</th>\n",
       "      <td>1.085048e+06</td>\n",
       "      <td>7.582294e+05</td>\n",
       "      <td>6.239332e+07</td>\n",
       "      <td>6.423660e+07</td>\n",
       "      <td>6.108080e+04</td>\n",
       "      <td>30.312000</td>\n",
       "      <td>0.0</td>\n",
       "      <td>83680.696000</td>\n",
       "      <td>22.124000</td>\n",
       "    </tr>\n",
       "    <tr>\n",
       "      <th>Amazon</th>\n",
       "      <td>9.174280e+06</td>\n",
       "      <td>6.463607e+06</td>\n",
       "      <td>4.614156e+07</td>\n",
       "      <td>6.177945e+07</td>\n",
       "      <td>3.766556e+05</td>\n",
       "      <td>41.134000</td>\n",
       "      <td>1.0</td>\n",
       "      <td>376655.600000</td>\n",
       "      <td>41.134000</td>\n",
       "    </tr>\n",
       "    <tr>\n",
       "      <th>Unilever</th>\n",
       "      <td>6.177000e+05</td>\n",
       "      <td>1.297227e+06</td>\n",
       "      <td>5.867757e+07</td>\n",
       "      <td>6.059250e+07</td>\n",
       "      <td>5.324060e+04</td>\n",
       "      <td>36.224000</td>\n",
       "      <td>1.0</td>\n",
       "      <td>61759.096000</td>\n",
       "      <td>31.228000</td>\n",
       "    </tr>\n",
       "    <tr>\n",
       "      <th>PepsiCo</th>\n",
       "      <td>3.552126e+06</td>\n",
       "      <td>1.710306e+06</td>\n",
       "      <td>5.419511e+07</td>\n",
       "      <td>5.945755e+07</td>\n",
       "      <td>7.361200e+04</td>\n",
       "      <td>72.220000</td>\n",
       "      <td>1.0</td>\n",
       "      <td>73612.000000</td>\n",
       "      <td>72.220000</td>\n",
       "    </tr>\n",
       "    <tr>\n",
       "      <th>Anheuser-Busch InBev</th>\n",
       "      <td>3.236231e+06</td>\n",
       "      <td>2.220073e+06</td>\n",
       "      <td>2.504655e+07</td>\n",
       "      <td>3.050286e+07</td>\n",
       "      <td>5.318380e+04</td>\n",
       "      <td>103.170000</td>\n",
       "      <td>1.0</td>\n",
       "      <td>53183.800000</td>\n",
       "      <td>103.170000</td>\n",
       "    </tr>\n",
       "    <tr>\n",
       "      <th>Danone</th>\n",
       "      <td>6.985184e+05</td>\n",
       "      <td>8.689788e+05</td>\n",
       "      <td>2.864806e+07</td>\n",
       "      <td>3.021556e+07</td>\n",
       "      <td>2.543340e+04</td>\n",
       "      <td>61.858000</td>\n",
       "      <td>1.0</td>\n",
       "      <td>29502.744000</td>\n",
       "      <td>53.326000</td>\n",
       "    </tr>\n",
       "    <tr>\n",
       "      <th>Orsted</th>\n",
       "      <td>2.366400e+06</td>\n",
       "      <td>9.660000e+04</td>\n",
       "      <td>2.491891e+07</td>\n",
       "      <td>2.738191e+07</td>\n",
       "      <td>8.145780e+04</td>\n",
       "      <td>32.226000</td>\n",
       "      <td>1.0</td>\n",
       "      <td>12218.670000</td>\n",
       "      <td>214.844000</td>\n",
       "    </tr>\n",
       "    <tr>\n",
       "      <th>Apple</th>\n",
       "      <td>5.360040e+04</td>\n",
       "      <td>7.433324e+05</td>\n",
       "      <td>2.325508e+07</td>\n",
       "      <td>2.405201e+07</td>\n",
       "      <td>3.120858e+05</td>\n",
       "      <td>2.521400</td>\n",
       "      <td>1.0</td>\n",
       "      <td>312085.800000</td>\n",
       "      <td>2.522000</td>\n",
       "    </tr>\n",
       "    <tr>\n",
       "      <th>Microsoft</th>\n",
       "      <td>1.170704e+05</td>\n",
       "      <td>4.357194e+06</td>\n",
       "      <td>1.452446e+07</td>\n",
       "      <td>1.899872e+07</td>\n",
       "      <td>1.491152e+05</td>\n",
       "      <td>29.707800</td>\n",
       "      <td>1.0</td>\n",
       "      <td>149115.200000</td>\n",
       "      <td>29.708000</td>\n",
       "    </tr>\n",
       "    <tr>\n",
       "      <th>Tesla</th>\n",
       "      <td>1.935000e+05</td>\n",
       "      <td>4.055000e+05</td>\n",
       "      <td>1.602700e+07</td>\n",
       "      <td>1.662600e+07</td>\n",
       "      <td>3.743650e+04</td>\n",
       "      <td>14.130000</td>\n",
       "      <td>1.0</td>\n",
       "      <td>37436.500000</td>\n",
       "      <td>9.205000</td>\n",
       "    </tr>\n",
       "    <tr>\n",
       "      <th>TSMC</th>\n",
       "      <td>2.075777e+06</td>\n",
       "      <td>8.545002e+06</td>\n",
       "      <td>5.750319e+06</td>\n",
       "      <td>1.637110e+07</td>\n",
       "      <td>1.458274e+06</td>\n",
       "      <td>7.639600</td>\n",
       "      <td>0.0</td>\n",
       "      <td>43748.220000</td>\n",
       "      <td>254.658000</td>\n",
       "    </tr>\n",
       "    <tr>\n",
       "      <th>Alphabet</th>\n",
       "      <td>6.103480e+04</td>\n",
       "      <td>5.989674e+06</td>\n",
       "      <td>1.020969e+07</td>\n",
       "      <td>1.626040e+07</td>\n",
       "      <td>2.043352e+05</td>\n",
       "      <td>30.212000</td>\n",
       "      <td>1.0</td>\n",
       "      <td>204335.200000</td>\n",
       "      <td>30.212000</td>\n",
       "    </tr>\n",
       "    <tr>\n",
       "      <th>Enel</th>\n",
       "      <td>6.902463e+06</td>\n",
       "      <td>6.330222e+05</td>\n",
       "      <td>6.380043e+06</td>\n",
       "      <td>1.391553e+07</td>\n",
       "      <td>1.442960e+04</td>\n",
       "      <td>527.192000</td>\n",
       "      <td>1.0</td>\n",
       "      <td>14429.600000</td>\n",
       "      <td>527.192000</td>\n",
       "    </tr>\n",
       "    <tr>\n",
       "      <th>Kellogg’s</th>\n",
       "      <td>4.830192e+05</td>\n",
       "      <td>5.903582e+05</td>\n",
       "      <td>7.969377e+06</td>\n",
       "      <td>9.042754e+06</td>\n",
       "      <td>1.407820e+04</td>\n",
       "      <td>76.448000</td>\n",
       "      <td>1.0</td>\n",
       "      <td>14078.200000</td>\n",
       "      <td>76.448000</td>\n",
       "    </tr>\n",
       "    <tr>\n",
       "      <th>Meta</th>\n",
       "      <td>4.742140e+04</td>\n",
       "      <td>2.569161e+06</td>\n",
       "      <td>4.787741e+06</td>\n",
       "      <td>7.404324e+06</td>\n",
       "      <td>8.940760e+04</td>\n",
       "      <td>28.601600</td>\n",
       "      <td>0.0</td>\n",
       "      <td>89407.600000</td>\n",
       "      <td>28.602000</td>\n",
       "    </tr>\n",
       "    <tr>\n",
       "      <th>Molson Coors</th>\n",
       "      <td>4.901000e+05</td>\n",
       "      <td>5.179004e+05</td>\n",
       "      <td>4.291162e+06</td>\n",
       "      <td>5.299162e+06</td>\n",
       "      <td>1.266580e+04</td>\n",
       "      <td>79.638000</td>\n",
       "      <td>1.0</td>\n",
       "      <td>12665.800000</td>\n",
       "      <td>79.636000</td>\n",
       "    </tr>\n",
       "    <tr>\n",
       "      <th>Diageo</th>\n",
       "      <td>4.845290e+05</td>\n",
       "      <td>1.577242e+05</td>\n",
       "      <td>3.703383e+06</td>\n",
       "      <td>4.345636e+06</td>\n",
       "      <td>1.299340e+04</td>\n",
       "      <td>50.042000</td>\n",
       "      <td>1.0</td>\n",
       "      <td>17800.958000</td>\n",
       "      <td>36.526000</td>\n",
       "    </tr>\n",
       "    <tr>\n",
       "      <th>Rosneft</th>\n",
       "      <td>5.730000e+07</td>\n",
       "      <td>2.065000e+07</td>\n",
       "      <td>2.751000e+08</td>\n",
       "      <td>NaN</td>\n",
       "      <td>NaN</td>\n",
       "      <td>NaN</td>\n",
       "      <td>0.0</td>\n",
       "      <td>NaN</td>\n",
       "      <td>NaN</td>\n",
       "    </tr>\n",
       "  </tbody>\n",
       "</table>\n",
       "</div>"
      ],
      "text/plain": [
       "                           SCOPE 1  SCOPE 2 (location-based)       SCOPE 3  \\\n",
       "COMPANY NAME                                                                 \n",
       "Shell                 6.300000e+07              1.000000e+07  1.056447e+09   \n",
       "Chevron               5.840000e+07              3.400000e+06  1.028200e+09   \n",
       "Gazprom               8.822895e+07              5.827761e+06  1.127929e+09   \n",
       "Toyota                2.272571e+06              4.357166e+06  4.167293e+08   \n",
       "Volkswagen            4.399641e+06              5.558314e+06  3.906809e+08   \n",
       "BP                    4.066000e+07              3.760000e+06  3.437250e+08   \n",
       "Honda                 1.223374e+06              3.410813e+06  2.879159e+08   \n",
       "Equinor               1.326715e+07              1.653358e+05  2.762498e+08   \n",
       "Fiat-Chrysler         1.227754e+06              2.414369e+06  2.668018e+08   \n",
       "Ford                  1.279747e+06              2.986100e+06  2.656040e+08   \n",
       "General Motors        1.522590e+06              3.707187e+06  2.591649e+08   \n",
       "Oxy                   1.759072e+07              4.912207e+06  1.969600e+08   \n",
       "Exxon                 1.002000e+08              8.200000e+06  5.300000e+08   \n",
       "PetroChina            1.252025e+08              4.020250e+07           NaN   \n",
       "EDF                   2.953583e+07              3.515614e+05  1.068990e+08   \n",
       "BYD                   3.553160e+05              5.453438e+06  1.230260e+08   \n",
       "Nestlé                3.272557e+06              2.516767e+06  1.107823e+08   \n",
       "Daimler/Mercedes      9.925000e+05              1.528333e+06  1.091101e+08   \n",
       "BMW                   6.596525e+05              1.429540e+06  1.055465e+08   \n",
       "Samsung               5.844860e+06              1.193088e+07  8.436758e+07   \n",
       "Geely                 1.809667e+05              5.386895e+05  7.942017e+07   \n",
       "Hyundai               7.950490e+05              1.811550e+06  6.706868e+07   \n",
       "Saudi Aramco          5.276000e+07              1.656667e+07           NaN   \n",
       "Tesco                 1.085048e+06              7.582294e+05  6.239332e+07   \n",
       "Amazon                9.174280e+06              6.463607e+06  4.614156e+07   \n",
       "Unilever              6.177000e+05              1.297227e+06  5.867757e+07   \n",
       "PepsiCo               3.552126e+06              1.710306e+06  5.419511e+07   \n",
       "Anheuser-Busch InBev  3.236231e+06              2.220073e+06  2.504655e+07   \n",
       "Danone                6.985184e+05              8.689788e+05  2.864806e+07   \n",
       "Orsted                2.366400e+06              9.660000e+04  2.491891e+07   \n",
       "Apple                 5.360040e+04              7.433324e+05  2.325508e+07   \n",
       "Microsoft             1.170704e+05              4.357194e+06  1.452446e+07   \n",
       "Tesla                 1.935000e+05              4.055000e+05  1.602700e+07   \n",
       "TSMC                  2.075777e+06              8.545002e+06  5.750319e+06   \n",
       "Alphabet              6.103480e+04              5.989674e+06  1.020969e+07   \n",
       "Enel                  6.902463e+06              6.330222e+05  6.380043e+06   \n",
       "Kellogg’s             4.830192e+05              5.903582e+05  7.969377e+06   \n",
       "Meta                  4.742140e+04              2.569161e+06  4.787741e+06   \n",
       "Molson Coors          4.901000e+05              5.179004e+05  4.291162e+06   \n",
       "Diageo                4.845290e+05              1.577242e+05  3.703383e+06   \n",
       "Rosneft               5.730000e+07              2.065000e+07  2.751000e+08   \n",
       "\n",
       "                      TOTAL EMISSIONS  TOTAL REVENUE (miillion $)  \\\n",
       "COMPANY NAME                                                        \n",
       "Shell                    1.129447e+09                3.181430e+05   \n",
       "Chevron                  1.090000e+09                1.569122e+05   \n",
       "Gazprom                  7.708143e+08                3.554709e+06   \n",
       "Toyota                   4.233591e+08                2.084658e+05   \n",
       "Volkswagen               4.006388e+08                2.546363e+05   \n",
       "BP                       3.194000e+08                2.217036e+05   \n",
       "Honda                    2.925501e+08                1.513838e+07   \n",
       "Equinor                  2.896823e+08                8.629960e+04   \n",
       "Fiat-Chrysler            2.706001e+08                1.365630e+05   \n",
       "Ford                     2.698698e+08                1.472407e+05   \n",
       "General Motors           2.643947e+08                1.326835e+05   \n",
       "Oxy                      2.194629e+08                2.382680e+04   \n",
       "Exxon                    2.144000e+08                2.871944e+05   \n",
       "PetroChina               1.654050e+08                1.818900e+04   \n",
       "EDF                      1.367864e+08                9.326040e+04   \n",
       "BYD                      1.310879e+08                2.686250e+04   \n",
       "Nestlé                   1.165716e+08                8.987900e+04   \n",
       "Daimler/Mercedes         1.116309e+08                1.675005e+05   \n",
       "BMW                      1.076357e+08                1.088678e+05   \n",
       "Samsung                  1.021433e+08                3.274090e+08   \n",
       "Geely                    8.032717e+07                1.488183e+04   \n",
       "Hyundai                  6.967528e+07                8.157000e+04   \n",
       "Saudi Aramco             6.932667e+07                         NaN   \n",
       "Tesco                    6.423660e+07                6.108080e+04   \n",
       "Amazon                   6.177945e+07                3.766556e+05   \n",
       "Unilever                 6.059250e+07                5.324060e+04   \n",
       "PepsiCo                  5.945755e+07                7.361200e+04   \n",
       "Anheuser-Busch InBev     3.050286e+07                5.318380e+04   \n",
       "Danone                   3.021556e+07                2.543340e+04   \n",
       "Orsted                   2.738191e+07                8.145780e+04   \n",
       "Apple                    2.405201e+07                3.120858e+05   \n",
       "Microsoft                1.899872e+07                1.491152e+05   \n",
       "Tesla                    1.662600e+07                3.743650e+04   \n",
       "TSMC                     1.637110e+07                1.458274e+06   \n",
       "Alphabet                 1.626040e+07                2.043352e+05   \n",
       "Enel                     1.391553e+07                1.442960e+04   \n",
       "Kellogg’s                9.042754e+06                1.407820e+04   \n",
       "Meta                     7.404324e+06                8.940760e+04   \n",
       "Molson Coors             5.299162e+06                1.266580e+04   \n",
       "Diageo                   4.345636e+06                1.299340e+04   \n",
       "Rosneft                           NaN                         NaN   \n",
       "\n",
       "                      CARBON INTENSITY  SBTi TARGET SET?  REVENUE IN USD  \\\n",
       "COMPANY NAME                                                               \n",
       "Shell                       249.320000               0.0   318143.000000   \n",
       "Chevron                     427.920000               0.0   156912.200000   \n",
       "Gazprom                            NaN               0.0    49765.926000   \n",
       "Toyota                       31.988333               1.0     1876.192500   \n",
       "Volkswagen                   39.433333               1.0   295378.146667   \n",
       "BP                          226.910000               0.0   221703.600000   \n",
       "Honda                         0.306667               0.0   136245.450000   \n",
       "Equinor                     185.380000               0.0    86299.600000   \n",
       "Fiat-Chrysler                27.941667               1.0   158413.080000   \n",
       "Ford                         29.025000               1.0   147240.666667   \n",
       "General Motors               39.333333               1.0   132683.500000   \n",
       "Oxy                        1000.514000               0.0    23826.800000   \n",
       "Exxon                       406.008000               0.0   287194.400000   \n",
       "PetroChina                 9999.710000               0.0   132597.810000   \n",
       "EDF                         347.856000               1.0   108182.064000   \n",
       "BYD                         185.180000               0.0   195827.625000   \n",
       "Nestlé                       64.718000               1.0    97968.110000   \n",
       "Daimler/Mercedes             14.918333               1.0   194300.580000   \n",
       "BMW                          19.625000               1.0   126286.686667   \n",
       "Samsung                       0.060000               0.0   294668.100000   \n",
       "Geely                        48.646667               1.0   108488.565000   \n",
       "Hyundai                      32.240000               1.0       73.413000   \n",
       "Saudi Aramco                       NaN               0.0             NaN   \n",
       "Tesco                        30.312000               0.0    83680.696000   \n",
       "Amazon                       41.134000               1.0   376655.600000   \n",
       "Unilever                     36.224000               1.0    61759.096000   \n",
       "PepsiCo                      72.220000               1.0    73612.000000   \n",
       "Anheuser-Busch InBev        103.170000               1.0    53183.800000   \n",
       "Danone                       61.858000               1.0    29502.744000   \n",
       "Orsted                       32.226000               1.0    12218.670000   \n",
       "Apple                         2.521400               1.0   312085.800000   \n",
       "Microsoft                    29.707800               1.0   149115.200000   \n",
       "Tesla                        14.130000               1.0    37436.500000   \n",
       "TSMC                          7.639600               0.0    43748.220000   \n",
       "Alphabet                     30.212000               1.0   204335.200000   \n",
       "Enel                        527.192000               1.0    14429.600000   \n",
       "Kellogg’s                    76.448000               1.0    14078.200000   \n",
       "Meta                         28.601600               0.0    89407.600000   \n",
       "Molson Coors                 79.638000               1.0    12665.800000   \n",
       "Diageo                       50.042000               1.0    17800.958000   \n",
       "Rosneft                            NaN               0.0             NaN   \n",
       "\n",
       "                       Adjusted CI  \n",
       "COMPANY NAME                        \n",
       "Shell                   249.320000  \n",
       "Chevron                 427.920000  \n",
       "Gazprom                2421.040000  \n",
       "Toyota                 3554.291667  \n",
       "Volkswagen               33.993333  \n",
       "BP                      226.910000  \n",
       "Honda                    34.126667  \n",
       "Equinor                 185.380000  \n",
       "Fiat-Chrysler            24.088333  \n",
       "Ford                     29.025000  \n",
       "General Motors           39.333333  \n",
       "Oxy                    1000.514000  \n",
       "Exxon                   406.008000  \n",
       "PetroChina             1371.702500  \n",
       "EDF                     299.876000  \n",
       "BYD                      22.856667  \n",
       "Nestlé                   59.376000  \n",
       "Daimler/Mercedes         12.860000  \n",
       "BMW                      16.920000  \n",
       "Samsung                  66.426000  \n",
       "Geely                     6.671667  \n",
       "Hyundai               35823.640000  \n",
       "Saudi Aramco                   NaN  \n",
       "Tesco                    22.124000  \n",
       "Amazon                   41.134000  \n",
       "Unilever                 31.228000  \n",
       "PepsiCo                  72.220000  \n",
       "Anheuser-Busch InBev    103.170000  \n",
       "Danone                   53.326000  \n",
       "Orsted                  214.844000  \n",
       "Apple                     2.522000  \n",
       "Microsoft                29.708000  \n",
       "Tesla                     9.205000  \n",
       "TSMC                    254.658000  \n",
       "Alphabet                 30.212000  \n",
       "Enel                    527.192000  \n",
       "Kellogg’s                76.448000  \n",
       "Meta                     28.602000  \n",
       "Molson Coors             79.636000  \n",
       "Diageo                   36.526000  \n",
       "Rosneft                        NaN  "
      ]
     },
     "execution_count": 32,
     "metadata": {},
     "output_type": "execute_result"
    }
   ],
   "source": [
    "sectors.groupby('COMPANY NAME').mean(numeric_only=True).drop(columns=['YEAR']).sort_values(by='TOTAL EMISSIONS', ascending=False)"
   ]
  },
  {
   "cell_type": "markdown",
   "metadata": {},
   "source": [
    "### Average Emissions by Country of Origin\n",
    "\n",
    "Now let's take a look at the average emissions by country of origin, still sorting by average `TOTAL EMISSIONS` in descending order.\n",
    "\n",
    "*NOTE: I am still working on figuring out how to differentate companies with more than one country of origin.*"
   ]
  },
  {
   "cell_type": "code",
   "execution_count": 33,
   "metadata": {},
   "outputs": [
    {
     "data": {
      "text/html": [
       "<div>\n",
       "<style scoped>\n",
       "    .dataframe tbody tr th:only-of-type {\n",
       "        vertical-align: middle;\n",
       "    }\n",
       "\n",
       "    .dataframe tbody tr th {\n",
       "        vertical-align: top;\n",
       "    }\n",
       "\n",
       "    .dataframe thead th {\n",
       "        text-align: right;\n",
       "    }\n",
       "</style>\n",
       "<table border=\"1\" class=\"dataframe\">\n",
       "  <thead>\n",
       "    <tr style=\"text-align: right;\">\n",
       "      <th></th>\n",
       "      <th>SCOPE 1</th>\n",
       "      <th>SCOPE 2 (location-based)</th>\n",
       "      <th>SCOPE 3</th>\n",
       "      <th>TOTAL EMISSIONS</th>\n",
       "      <th>CARBON INTENSITY</th>\n",
       "      <th>SBTi TARGET SET?</th>\n",
       "      <th>REVENUE IN USD</th>\n",
       "      <th>Adjusted CI</th>\n",
       "    </tr>\n",
       "    <tr>\n",
       "      <th>COUNTRY OF ORIGIN</th>\n",
       "      <th></th>\n",
       "      <th></th>\n",
       "      <th></th>\n",
       "      <th></th>\n",
       "      <th></th>\n",
       "      <th></th>\n",
       "      <th></th>\n",
       "      <th></th>\n",
       "    </tr>\n",
       "  </thead>\n",
       "  <tbody>\n",
       "    <tr>\n",
       "      <th>United Kingdom, Netherlands</th>\n",
       "      <td>63000000.0</td>\n",
       "      <td>10000000.0</td>\n",
       "      <td>1.056447e+09</td>\n",
       "      <td>1.129447e+09</td>\n",
       "      <td>249.0</td>\n",
       "      <td>0.0</td>\n",
       "      <td>318143.0</td>\n",
       "      <td>249.0</td>\n",
       "    </tr>\n",
       "    <tr>\n",
       "      <th>Russsia</th>\n",
       "      <td>74482749.0</td>\n",
       "      <td>12415423.0</td>\n",
       "      <td>7.015146e+08</td>\n",
       "      <td>7.708143e+08</td>\n",
       "      <td>NaN</td>\n",
       "      <td>0.0</td>\n",
       "      <td>49766.0</td>\n",
       "      <td>2421.0</td>\n",
       "    </tr>\n",
       "    <tr>\n",
       "      <th>Japan</th>\n",
       "      <td>1747972.0</td>\n",
       "      <td>3883990.0</td>\n",
       "      <td>3.523226e+08</td>\n",
       "      <td>3.579546e+08</td>\n",
       "      <td>16.0</td>\n",
       "      <td>0.0</td>\n",
       "      <td>69061.0</td>\n",
       "      <td>1794.0</td>\n",
       "    </tr>\n",
       "    <tr>\n",
       "      <th>United Kingdom</th>\n",
       "      <td>40660000.0</td>\n",
       "      <td>3760000.0</td>\n",
       "      <td>3.437250e+08</td>\n",
       "      <td>3.194000e+08</td>\n",
       "      <td>227.0</td>\n",
       "      <td>0.0</td>\n",
       "      <td>221704.0</td>\n",
       "      <td>227.0</td>\n",
       "    </tr>\n",
       "    <tr>\n",
       "      <th>Norway</th>\n",
       "      <td>13267146.0</td>\n",
       "      <td>165336.0</td>\n",
       "      <td>2.762498e+08</td>\n",
       "      <td>2.896823e+08</td>\n",
       "      <td>185.0</td>\n",
       "      <td>0.0</td>\n",
       "      <td>86300.0</td>\n",
       "      <td>185.0</td>\n",
       "    </tr>\n",
       "    <tr>\n",
       "      <th>Italy, United States</th>\n",
       "      <td>1227754.0</td>\n",
       "      <td>2414369.0</td>\n",
       "      <td>2.668018e+08</td>\n",
       "      <td>2.706001e+08</td>\n",
       "      <td>28.0</td>\n",
       "      <td>1.0</td>\n",
       "      <td>158413.0</td>\n",
       "      <td>24.0</td>\n",
       "    </tr>\n",
       "    <tr>\n",
       "      <th>Germany</th>\n",
       "      <td>2017265.0</td>\n",
       "      <td>2838729.0</td>\n",
       "      <td>2.017792e+08</td>\n",
       "      <td>2.066352e+08</td>\n",
       "      <td>25.0</td>\n",
       "      <td>1.0</td>\n",
       "      <td>205322.0</td>\n",
       "      <td>21.0</td>\n",
       "    </tr>\n",
       "    <tr>\n",
       "      <th>United States</th>\n",
       "      <td>15087459.0</td>\n",
       "      <td>3682030.0</td>\n",
       "      <td>1.773647e+08</td>\n",
       "      <td>1.850489e+08</td>\n",
       "      <td>170.0</td>\n",
       "      <td>1.0</td>\n",
       "      <td>152063.0</td>\n",
       "      <td>172.0</td>\n",
       "    </tr>\n",
       "    <tr>\n",
       "      <th>China</th>\n",
       "      <td>38689365.0</td>\n",
       "      <td>13877112.0</td>\n",
       "      <td>9.032162e+07</td>\n",
       "      <td>1.292112e+08</td>\n",
       "      <td>2588.0</td>\n",
       "      <td>0.0</td>\n",
       "      <td>147268.0</td>\n",
       "      <td>430.0</td>\n",
       "    </tr>\n",
       "    <tr>\n",
       "      <th>Switzerland</th>\n",
       "      <td>3272557.0</td>\n",
       "      <td>2516767.0</td>\n",
       "      <td>1.107823e+08</td>\n",
       "      <td>1.165716e+08</td>\n",
       "      <td>65.0</td>\n",
       "      <td>1.0</td>\n",
       "      <td>97968.0</td>\n",
       "      <td>59.0</td>\n",
       "    </tr>\n",
       "    <tr>\n",
       "      <th>South Korea</th>\n",
       "      <td>3319954.0</td>\n",
       "      <td>6871215.0</td>\n",
       "      <td>7.571813e+07</td>\n",
       "      <td>8.590930e+07</td>\n",
       "      <td>16.0</td>\n",
       "      <td>0.0</td>\n",
       "      <td>147371.0</td>\n",
       "      <td>17945.0</td>\n",
       "    </tr>\n",
       "    <tr>\n",
       "      <th>France</th>\n",
       "      <td>15117174.0</td>\n",
       "      <td>610270.0</td>\n",
       "      <td>6.777353e+07</td>\n",
       "      <td>8.350098e+07</td>\n",
       "      <td>205.0</td>\n",
       "      <td>1.0</td>\n",
       "      <td>68842.0</td>\n",
       "      <td>177.0</td>\n",
       "    </tr>\n",
       "    <tr>\n",
       "      <th>Saudi Arabia</th>\n",
       "      <td>52760000.0</td>\n",
       "      <td>16566667.0</td>\n",
       "      <td>NaN</td>\n",
       "      <td>6.932667e+07</td>\n",
       "      <td>NaN</td>\n",
       "      <td>0.0</td>\n",
       "      <td>NaN</td>\n",
       "      <td>NaN</td>\n",
       "    </tr>\n",
       "    <tr>\n",
       "      <th>Netherlands, United Kingdom</th>\n",
       "      <td>617700.0</td>\n",
       "      <td>1297227.0</td>\n",
       "      <td>5.867757e+07</td>\n",
       "      <td>6.059250e+07</td>\n",
       "      <td>36.0</td>\n",
       "      <td>1.0</td>\n",
       "      <td>61759.0</td>\n",
       "      <td>31.0</td>\n",
       "    </tr>\n",
       "    <tr>\n",
       "      <th>England</th>\n",
       "      <td>784788.0</td>\n",
       "      <td>457977.0</td>\n",
       "      <td>3.304835e+07</td>\n",
       "      <td>3.429112e+07</td>\n",
       "      <td>40.0</td>\n",
       "      <td>0.0</td>\n",
       "      <td>50741.0</td>\n",
       "      <td>29.0</td>\n",
       "    </tr>\n",
       "    <tr>\n",
       "      <th>Belgium</th>\n",
       "      <td>3236231.0</td>\n",
       "      <td>2220073.0</td>\n",
       "      <td>2.504656e+07</td>\n",
       "      <td>3.050286e+07</td>\n",
       "      <td>103.0</td>\n",
       "      <td>1.0</td>\n",
       "      <td>53184.0</td>\n",
       "      <td>103.0</td>\n",
       "    </tr>\n",
       "    <tr>\n",
       "      <th>Denmark</th>\n",
       "      <td>2366400.0</td>\n",
       "      <td>96600.0</td>\n",
       "      <td>2.491891e+07</td>\n",
       "      <td>2.738191e+07</td>\n",
       "      <td>32.0</td>\n",
       "      <td>1.0</td>\n",
       "      <td>12219.0</td>\n",
       "      <td>215.0</td>\n",
       "    </tr>\n",
       "    <tr>\n",
       "      <th>Taiwan</th>\n",
       "      <td>2075777.0</td>\n",
       "      <td>8545002.0</td>\n",
       "      <td>5.750319e+06</td>\n",
       "      <td>1.637110e+07</td>\n",
       "      <td>8.0</td>\n",
       "      <td>0.0</td>\n",
       "      <td>43748.0</td>\n",
       "      <td>255.0</td>\n",
       "    </tr>\n",
       "    <tr>\n",
       "      <th>Italy</th>\n",
       "      <td>6902463.0</td>\n",
       "      <td>633022.0</td>\n",
       "      <td>6.380043e+06</td>\n",
       "      <td>1.391553e+07</td>\n",
       "      <td>527.0</td>\n",
       "      <td>1.0</td>\n",
       "      <td>14430.0</td>\n",
       "      <td>527.0</td>\n",
       "    </tr>\n",
       "    <tr>\n",
       "      <th>Canada, United States</th>\n",
       "      <td>490100.0</td>\n",
       "      <td>517900.0</td>\n",
       "      <td>4.291162e+06</td>\n",
       "      <td>5.299162e+06</td>\n",
       "      <td>80.0</td>\n",
       "      <td>1.0</td>\n",
       "      <td>12666.0</td>\n",
       "      <td>80.0</td>\n",
       "    </tr>\n",
       "  </tbody>\n",
       "</table>\n",
       "</div>"
      ],
      "text/plain": [
       "                                SCOPE 1  SCOPE 2 (location-based)  \\\n",
       "COUNTRY OF ORIGIN                                                   \n",
       "United Kingdom, Netherlands  63000000.0                10000000.0   \n",
       "Russsia                      74482749.0                12415423.0   \n",
       "Japan                         1747972.0                 3883990.0   \n",
       "United Kingdom               40660000.0                 3760000.0   \n",
       "Norway                       13267146.0                  165336.0   \n",
       "Italy, United States          1227754.0                 2414369.0   \n",
       "Germany                       2017265.0                 2838729.0   \n",
       "United States                15087459.0                 3682030.0   \n",
       "China                        38689365.0                13877112.0   \n",
       "Switzerland                   3272557.0                 2516767.0   \n",
       "South Korea                   3319954.0                 6871215.0   \n",
       "France                       15117174.0                  610270.0   \n",
       "Saudi Arabia                 52760000.0                16566667.0   \n",
       "Netherlands, United Kingdom    617700.0                 1297227.0   \n",
       "England                        784788.0                  457977.0   \n",
       "Belgium                       3236231.0                 2220073.0   \n",
       "Denmark                       2366400.0                   96600.0   \n",
       "Taiwan                        2075777.0                 8545002.0   \n",
       "Italy                         6902463.0                  633022.0   \n",
       "Canada, United States          490100.0                  517900.0   \n",
       "\n",
       "                                  SCOPE 3  TOTAL EMISSIONS  CARBON INTENSITY  \\\n",
       "COUNTRY OF ORIGIN                                                              \n",
       "United Kingdom, Netherlands  1.056447e+09     1.129447e+09             249.0   \n",
       "Russsia                      7.015146e+08     7.708143e+08               NaN   \n",
       "Japan                        3.523226e+08     3.579546e+08              16.0   \n",
       "United Kingdom               3.437250e+08     3.194000e+08             227.0   \n",
       "Norway                       2.762498e+08     2.896823e+08             185.0   \n",
       "Italy, United States         2.668018e+08     2.706001e+08              28.0   \n",
       "Germany                      2.017792e+08     2.066352e+08              25.0   \n",
       "United States                1.773647e+08     1.850489e+08             170.0   \n",
       "China                        9.032162e+07     1.292112e+08            2588.0   \n",
       "Switzerland                  1.107823e+08     1.165716e+08              65.0   \n",
       "South Korea                  7.571813e+07     8.590930e+07              16.0   \n",
       "France                       6.777353e+07     8.350098e+07             205.0   \n",
       "Saudi Arabia                          NaN     6.932667e+07               NaN   \n",
       "Netherlands, United Kingdom  5.867757e+07     6.059250e+07              36.0   \n",
       "England                      3.304835e+07     3.429112e+07              40.0   \n",
       "Belgium                      2.504656e+07     3.050286e+07             103.0   \n",
       "Denmark                      2.491891e+07     2.738191e+07              32.0   \n",
       "Taiwan                       5.750319e+06     1.637110e+07               8.0   \n",
       "Italy                        6.380043e+06     1.391553e+07             527.0   \n",
       "Canada, United States        4.291162e+06     5.299162e+06              80.0   \n",
       "\n",
       "                             SBTi TARGET SET?  REVENUE IN USD  Adjusted CI  \n",
       "COUNTRY OF ORIGIN                                                           \n",
       "United Kingdom, Netherlands               0.0        318143.0        249.0  \n",
       "Russsia                                   0.0         49766.0       2421.0  \n",
       "Japan                                     0.0         69061.0       1794.0  \n",
       "United Kingdom                            0.0        221704.0        227.0  \n",
       "Norway                                    0.0         86300.0        185.0  \n",
       "Italy, United States                      1.0        158413.0         24.0  \n",
       "Germany                                   1.0        205322.0         21.0  \n",
       "United States                             1.0        152063.0        172.0  \n",
       "China                                     0.0        147268.0        430.0  \n",
       "Switzerland                               1.0         97968.0         59.0  \n",
       "South Korea                               0.0        147371.0      17945.0  \n",
       "France                                    1.0         68842.0        177.0  \n",
       "Saudi Arabia                              0.0             NaN          NaN  \n",
       "Netherlands, United Kingdom               1.0         61759.0         31.0  \n",
       "England                                   0.0         50741.0         29.0  \n",
       "Belgium                                   1.0         53184.0        103.0  \n",
       "Denmark                                   1.0         12219.0        215.0  \n",
       "Taiwan                                    0.0         43748.0        255.0  \n",
       "Italy                                     1.0         14430.0        527.0  \n",
       "Canada, United States                     1.0         12666.0         80.0  "
      ]
     },
     "execution_count": 33,
     "metadata": {},
     "output_type": "execute_result"
    }
   ],
   "source": [
    "avg_ByCountry = sectors.groupby('COUNTRY OF ORIGIN').mean(numeric_only=True).drop(columns=['YEAR', 'TOTAL REVENUE (miillion $)']).round(0).sort_values(by='TOTAL EMISSIONS', ascending=False)\n",
    "\n",
    "avg_ByCountry"
   ]
  },
  {
   "cell_type": "markdown",
   "metadata": {},
   "source": [
    "The first row corresponds to **Shell**, last row corresponds to **Molson Coors**."
   ]
  },
  {
   "cell_type": "code",
   "execution_count": 34,
   "metadata": {},
   "outputs": [
    {
     "data": {
      "text/plain": [
       "Ellipsis"
      ]
     },
     "execution_count": 34,
     "metadata": {},
     "output_type": "execute_result"
    }
   ],
   "source": [
    "# scratch work code cell, replace elipses with any code you'd like to try\n",
    "\n",
    "..."
   ]
  },
  {
   "cell_type": "markdown",
   "metadata": {},
   "source": [
    "---"
   ]
  },
  {
   "cell_type": "markdown",
   "metadata": {},
   "source": [
    "# SECTION 3) Visualizations"
   ]
  },
  {
   "cell_type": "markdown",
   "metadata": {},
   "source": [
    "### CDP Submission: Who Reported to CDP?\n",
    "\n",
    "The purpose of this section is to view the proportion of companies across all sectors who reported to CDP."
   ]
  },
  {
   "cell_type": "code",
   "execution_count": 35,
   "metadata": {},
   "outputs": [
    {
     "name": "stdout",
     "output_type": "stream",
     "text": [
      "Across all sectors, 70.0% of companies submitted to cdp\n"
     ]
    }
   ],
   "source": [
    "# Proportion of CDP submissions over number of reports\n",
    "\n",
    "submission_percentage = (sum(sectors['SUBMIT TO CDP'] == True) / sectors.shape[0]) * 100\n",
    "\n",
    "print('Across all sectors, ' + str(round(submission_percentage,0))+ '% of companies submitted to cdp')"
   ]
  },
  {
   "cell_type": "markdown",
   "metadata": {},
   "source": [
    "Now we know 70% of our data comes from CDP submissions. To compare CDP submissions per sector visually, I created a **count plot** using `sectors`."
   ]
  },
  {
   "cell_type": "code",
   "execution_count": 36,
   "metadata": {},
   "outputs": [
    {
     "data": {
      "text/plain": [
       "Text(0.5, 1.0, 'Count of CDP Submissions by Sector')"
      ]
     },
     "execution_count": 36,
     "metadata": {},
     "output_type": "execute_result"
    },
    {
     "data": {
      "image/png": "[encoded data removed]",
      "text/plain": [
       "<Figure size 640x480 with 1 Axes>"
      ]
     },
     "metadata": {},
     "output_type": "display_data"
    }
   ],
   "source": [
    "# Plot counts of submissions\n",
    "\n",
    "sns.countplot(x='SECTOR', hue='SUBMIT TO CDP', data=sectors)\n",
    "plt.xlabel('Sector')\n",
    "plt.ylabel('Count')\n",
    "plt.title('Count of CDP Submissions by Sector')"
   ]
  },
  {
   "cell_type": "markdown",
   "metadata": {},
   "source": [
    "### Scatter Plots: \n",
    "### Scope 1 vs. Scope 2 (location-based) Across All Sectors\n",
    "\n",
    "This scatterplot reflects the significant difference in emissions emitted by the **energy** sector compared with any other sector. Aside from **energy**, **tech** seems to have relatively higher scope 2 values. Hover over a data point to retrieve information on the represented company and the actual scope values associated. To take a closer look at a certain interval, drag your mouse across the desired interval. To reset the plot, run the code cell again. Any plot generated through Plotly can also be downloaded as a png by clicking on the camera icon on upper right portion of the plot. "
   ]
  },
  {
   "cell_type": "code",
   "execution_count": 37,
   "metadata": {},
   "outputs": [
    {
     "data": {
      "application/vnd.plotly.v1+json": {
       "config": {
        "plotlyServerURL": "https://plot.ly"
       },
       "data": [
        {
         "customdata": [
          [
           "Anheuser-Busch InBev"
          ],
          [
           "Anheuser-Busch InBev"
          ],
          [
           "Anheuser-Busch InBev"
          ],
          [
           "Anheuser-Busch InBev"
          ],
          [
           "Anheuser-Busch InBev"
          ],
          [
           "Danone"
          ],
          [
           "Danone"
          ],
          [
           "Danone"
          ],
          [
           "Danone"
          ],
          [
           "Danone"
          ],
          [
           "Diageo"
          ],
          [
           "Diageo"
          ],
          [
           "Diageo"
          ],
          [
           "Diageo"
          ],
          [
           "Diageo"
          ],
          [
           "Kellogg’s"
          ],
          [
           "Kellogg’s"
          ],
          [
           "Kellogg’s"
          ],
          [
           "Kellogg’s"
          ],
          [
           "Kellogg’s"
          ],
          [
           "Molson Coors"
          ],
          [
           "Molson Coors"
          ],
          [
           "Molson Coors"
          ],
          [
           "Molson Coors"
          ],
          [
           "Molson Coors"
          ],
          [
           "Nestlé"
          ],
          [
           "Nestlé"
          ],
          [
           "Nestlé"
          ],
          [
           "Nestlé"
          ],
          [
           "Nestlé"
          ],
          [
           "PepsiCo"
          ],
          [
           "PepsiCo"
          ],
          [
           "PepsiCo"
          ],
          [
           "PepsiCo"
          ],
          [
           "PepsiCo"
          ],
          [
           "Tesco"
          ],
          [
           "Tesco"
          ],
          [
           "Tesco"
          ],
          [
           "Tesco"
          ],
          [
           "Tesco"
          ],
          [
           "Unilever"
          ],
          [
           "Unilever"
          ],
          [
           "Unilever"
          ],
          [
           "Unilever"
          ],
          [
           "Unilever"
          ]
         ],
         "hovertemplate": "SECTOR=Food & Agriculture<br>SCOPE 1=%{x}<br>SCOPE 2 (location-based)=%{y}<br>COMPANY NAME=%{customdata[0]}<extra></extra>",
         "legendgroup": "Food & Agriculture",
         "marker": {
          "color": "#636efa",
          "symbol": "circle"
         },
         "mode": "markers",
         "name": "Food & Agriculture",
         "orientation": "v",
         "showlegend": true,
         "type": "scatter",
         "x": [
          3700760,
          3600710,
          3081905,
          2953896,
          2843883,
          753461,
          722103,
          668354,
          682674,
          666000,
          553270,
          511593,
          476782,
          445000,
          436000,
          483061,
          465885,
          465042,
          503905,
          497203,
          436457,
          406377,
          398026,
          606319,
          603321,
          3289012,
          3246367,
          3215404,
          3372000,
          3240000,
          3577266,
          3552415,
          3552706,
          3596712,
          3481530,
          1117480,
          1105183,
          1053131,
          1110098,
          1039346,
          752804,
          659028,
          606771,
          565988,
          503909
         ],
         "xaxis": "x",
         "y": [
          2383505,
          2215902,
          2227758,
          2243990,
          2029211,
          959554,
          944877,
          864710,
          812948,
          762805,
          179307,
          165095,
          143905,
          142530,
          157784,
          650835,
          590739,
          587999,
          568692,
          553526,
          667174,
          634136,
          604422,
          342069,
          341701,
          3082573,
          3089029,
          3052234,
          2600000,
          760000,
          1629973,
          1556523,
          1719610,
          1811114,
          1834309,
          995543,
          859583,
          718222,
          642337,
          575462,
          1430659,
          1321648,
          1264328,
          1244505,
          1224997
         ],
         "yaxis": "y"
        },
        {
         "customdata": [
          [
           "BP"
          ],
          [
           "BP"
          ],
          [
           "BP"
          ],
          [
           "BP"
          ],
          [
           "BP"
          ],
          [
           "Chevron"
          ],
          [
           "Chevron"
          ],
          [
           "Chevron"
          ],
          [
           "Chevron"
          ],
          [
           "Chevron"
          ],
          [
           "EDF"
          ],
          [
           "EDF"
          ],
          [
           "EDF"
          ],
          [
           "EDF"
          ],
          [
           "EDF"
          ],
          [
           "Enel"
          ],
          [
           "Enel"
          ],
          [
           "Enel"
          ],
          [
           "Enel"
          ],
          [
           "Enel"
          ],
          [
           "Equinor"
          ],
          [
           "Equinor"
          ],
          [
           "Equinor"
          ],
          [
           "Equinor"
          ],
          [
           "Equinor"
          ],
          [
           "Exxon"
          ],
          [
           "Exxon"
          ],
          [
           "Exxon"
          ],
          [
           "Exxon"
          ],
          [
           "Exxon"
          ],
          [
           "Gazprom"
          ],
          [
           "Gazprom"
          ],
          [
           "Gazprom"
          ],
          [
           "Gazprom"
          ],
          [
           "Gazprom"
          ],
          [
           "Orsted"
          ],
          [
           "Orsted"
          ],
          [
           "Orsted"
          ],
          [
           "Orsted"
          ],
          [
           "Orsted"
          ],
          [
           "Oxy"
          ],
          [
           "Oxy"
          ],
          [
           "Oxy"
          ],
          [
           "Oxy"
          ],
          [
           "Oxy"
          ],
          [
           "PetroChina"
          ],
          [
           "PetroChina"
          ],
          [
           "PetroChina"
          ],
          [
           "PetroChina"
          ],
          [
           "PetroChina"
          ],
          [
           "Rosneft"
          ],
          [
           "Rosneft"
          ],
          [
           "Rosneft"
          ],
          [
           "Rosneft"
          ],
          [
           "Rosneft"
          ],
          [
           "Saudi Aramco"
          ],
          [
           "Saudi Aramco"
          ],
          [
           "Saudi Aramco"
          ],
          [
           "Saudi Aramco"
          ],
          [
           "Saudi Aramco"
          ],
          [
           "Shell"
          ],
          [
           "Shell"
          ],
          [
           "Shell"
          ],
          [
           "Shell"
          ],
          [
           "Shell"
          ]
         ],
         "hovertemplate": "SECTOR=Energy<br>SCOPE 1=%{x}<br>SCOPE 2 (location-based)=%{y}<br>COMPANY NAME=%{customdata[0]}<extra></extra>",
         "legendgroup": "Energy",
         "marker": {
          "color": "#EF553B",
          "symbol": "circle"
         },
         "mode": "markers",
         "name": "Energy",
         "orientation": "v",
         "showlegend": true,
         "type": "scatter",
         "x": [
          48800000,
          49200000,
          41700000,
          33200000,
          30400000,
          66000000,
          62000000,
          54000000,
          57000000,
          53000000,
          35699738,
          33090244,
          27690997,
          27381075,
          23817090,
          6816597,
          6963813,
          6895903,
          7276000,
          6560000,
          14946447,
          14719266,
          13294578,
          12009607,
          11365833,
          104000000,
          106000000,
          100000000,
          95000000,
          96000000,
          120089856,
          117097372,
          100970512,
          11987000,
          91000000,
          3483000,
          1846000,
          1851000,
          2142000,
          2510000,
          10370000,
          21618709,
          19015138,
          18495103,
          18454662,
          null,
          132170000,
          127570000,
          121390000,
          119680000,
          54700000,
          59400000,
          60900000,
          54200000,
          null,
          null,
          null,
          50200000,
          52300000,
          55780000,
          71000000,
          70000000,
          63000000,
          60000000,
          51000000
         ],
         "xaxis": "x",
         "y": [
          5400000,
          5200000,
          3700000,
          2400000,
          2100000,
          3000000,
          2000000,
          4000000,
          4000000,
          4000000,
          470025,
          289243,
          320773,
          288947,
          388819,
          115000,
          770163,
          548948,
          721000,
          1010000,
          194063,
          215474,
          251513,
          97048,
          68581,
          9000000,
          9000000,
          9000000,
          7000000,
          7000000,
          8198070,
          6077827,
          4762910,
          6080000,
          4020000,
          151000,
          123000,
          111000,
          53000,
          45000,
          4100000,
          5905273,
          4807697,
          4844808,
          4903258,
          null,
          41910000,
          39870000,
          38150000,
          40880000,
          22200000,
          21800000,
          20100000,
          18500000,
          null,
          null,
          null,
          18100000,
          15500000,
          16100000,
          11000000,
          11000000,
          11000000,
          9000000,
          8000000
         ],
         "yaxis": "y"
        },
        {
         "customdata": [
          [
           "BMW"
          ],
          [
           "BMW"
          ],
          [
           "BMW"
          ],
          [
           "BMW"
          ],
          [
           "BMW"
          ],
          [
           "BMW"
          ],
          [
           "BYD"
          ],
          [
           "BYD"
          ],
          [
           "BYD"
          ],
          [
           "BYD"
          ],
          [
           "BYD"
          ],
          [
           "BYD"
          ],
          [
           "Daimler/Mercedes"
          ],
          [
           "Daimler/Mercedes"
          ],
          [
           "Daimler/Mercedes"
          ],
          [
           "Daimler/Mercedes"
          ],
          [
           "Daimler/Mercedes"
          ],
          [
           "Daimler/Mercedes"
          ],
          [
           "Fiat-Chrysler"
          ],
          [
           "Fiat-Chrysler"
          ],
          [
           "Fiat-Chrysler"
          ],
          [
           "Fiat-Chrysler"
          ],
          [
           "Fiat-Chrysler"
          ],
          [
           "Fiat-Chrysler"
          ],
          [
           "Ford"
          ],
          [
           "Ford"
          ],
          [
           "Ford"
          ],
          [
           "Ford"
          ],
          [
           "Ford"
          ],
          [
           "Ford"
          ],
          [
           "Geely"
          ],
          [
           "Geely"
          ],
          [
           "Geely"
          ],
          [
           "Geely"
          ],
          [
           "Geely"
          ],
          [
           "Geely"
          ],
          [
           "General Motors"
          ],
          [
           "General Motors"
          ],
          [
           "General Motors"
          ],
          [
           "General Motors"
          ],
          [
           "General Motors"
          ],
          [
           "General Motors"
          ],
          [
           "Honda"
          ],
          [
           "Honda"
          ],
          [
           "Honda"
          ],
          [
           "Honda"
          ],
          [
           "Honda"
          ],
          [
           "Honda"
          ],
          [
           "Hyundai"
          ],
          [
           "Hyundai"
          ],
          [
           "Hyundai"
          ],
          [
           "Hyundai"
          ],
          [
           "Hyundai"
          ],
          [
           "Tesla"
          ],
          [
           "Tesla"
          ],
          [
           "Tesla"
          ],
          [
           "Tesla"
          ],
          [
           "Tesla"
          ],
          [
           "Tesla"
          ],
          [
           "Toyota"
          ],
          [
           "Toyota"
          ],
          [
           "Toyota"
          ],
          [
           "Toyota"
          ],
          [
           "Toyota"
          ],
          [
           "Toyota"
          ],
          [
           "Volkswagen"
          ],
          [
           "Volkswagen"
          ],
          [
           "Volkswagen"
          ],
          [
           "Volkswagen"
          ],
          [
           "Volkswagen"
          ],
          [
           "Volkswagen"
          ]
         ],
         "hovertemplate": "SECTOR=Auto<br>SCOPE 1=%{x}<br>SCOPE 2 (location-based)=%{y}<br>COMPANY NAME=%{customdata[0]}<extra></extra>",
         "legendgroup": "Auto",
         "marker": {
          "color": "#00cc96",
          "symbol": "circle"
         },
         "mode": "markers",
         "name": "Auto",
         "orientation": "v",
         "showlegend": true,
         "type": "scatter",
         "x": [
          625072,
          581703,
          678403,
          678967,
          699713,
          694057,
          null,
          null,
          null,
          199406,
          315610,
          550932,
          1192000,
          1247000,
          1239000,
          1027000,
          681000,
          569000,
          1101289,
          1129268,
          1058367,
          877603,
          1700000,
          1500000,
          1391127,
          1442963,
          1451947,
          1124798,
          1069907,
          1197739,
          126934,
          138921,
          141100,
          166395,
          263159,
          249291,
          1848804,
          1763555,
          1589700,
          1214124,
          1252906,
          1466452,
          1350000,
          1380000,
          1240000,
          1120000,
          1160244,
          1090000,
          852547,
          874997,
          807498,
          716237,
          723966,
          null,
          null,
          null,
          null,
          185000,
          202000,
          2604655,
          2554577,
          1904119,
          1642074,
          2560000,
          2370000,
          4297748,
          4068261,
          4494068,
          4335495,
          4740873,
          4461403
         ],
         "xaxis": "x",
         "y": [
          1572432,
          1539378,
          1540667,
          1333076,
          1404348,
          1187339,
          null,
          null,
          null,
          3945773,
          4903502,
          7511038,
          2041000,
          1687000,
          1706000,
          1492000,
          1123000,
          1121000,
          3309598,
          2795995,
          2296709,
          1983910,
          2200000,
          1900000,
          3482444,
          3349808,
          3195704,
          2715328,
          2616003,
          2557313,
          346173,
          425622,
          418180,
          518514,
          867943,
          655705,
          4572734,
          4322761,
          4381970,
          3087816,
          2881767,
          2996074,
          3790000,
          3690000,
          3440000,
          3050000,
          3245113,
          3249764,
          1882674,
          1936902,
          1897855,
          1680079,
          1660238,
          null,
          null,
          null,
          null,
          403000,
          408000,
          5265425,
          5238108,
          4244743,
          3684721,
          3900000,
          3810000,
          5901889,
          6370514,
          5973894,
          5257618,
          5195961,
          4650011
         ],
         "yaxis": "y"
        },
        {
         "customdata": [
          [
           "Alphabet"
          ],
          [
           "Alphabet"
          ],
          [
           "Alphabet"
          ],
          [
           "Alphabet"
          ],
          [
           "Alphabet"
          ],
          [
           "Amazon"
          ],
          [
           "Amazon"
          ],
          [
           "Amazon"
          ],
          [
           "Amazon"
          ],
          [
           "Amazon"
          ],
          [
           "Apple"
          ],
          [
           "Apple"
          ],
          [
           "Apple"
          ],
          [
           "Apple"
          ],
          [
           "Apple"
          ],
          [
           "Meta"
          ],
          [
           "Meta"
          ],
          [
           "Meta"
          ],
          [
           "Meta"
          ],
          [
           "Meta"
          ],
          [
           "Microsoft"
          ],
          [
           "Microsoft"
          ],
          [
           "Microsoft"
          ],
          [
           "Microsoft"
          ],
          [
           "Microsoft"
          ],
          [
           "Samsung"
          ],
          [
           "Samsung"
          ],
          [
           "Samsung"
          ],
          [
           "Samsung"
          ],
          [
           "Samsung"
          ],
          [
           "TSMC"
          ],
          [
           "TSMC"
          ],
          [
           "TSMC"
          ],
          [
           "TSMC"
          ],
          [
           "TSMC"
          ]
         ],
         "hovertemplate": "SECTOR=Tech<br>SCOPE 1=%{x}<br>SCOPE 2 (location-based)=%{y}<br>COMPANY NAME=%{customdata[0]}<extra></extra>",
         "legendgroup": "Tech",
         "marker": {
          "color": "#ab63fa",
          "symbol": "circle"
         },
         "mode": "markers",
         "name": "Tech",
         "orientation": "v",
         "showlegend": true,
         "type": "scatter",
         "x": [
          63521,
          66686,
          38694,
          45073,
          91200,
          4980000,
          5760000,
          9620000,
          12110000,
          13401400,
          57440,
          52730,
          47430,
          55200,
          55202,
          42000,
          44000,
          29000,
          55173,
          66934,
          90723,
          113412,
          118100,
          123704,
          139413,
          4855000,
          5067000,
          5726300,
          7604000,
          5972000,
          2125725,
          2071743,
          2010692,
          2151937,
          2018789
         ],
         "xaxis": "x",
         "y": [
          4344686,
          5116949,
          5865095,
          6576239,
          8045400,
          4710000,
          5500000,
          5270000,
          4070000,
          12768034,
          8730,
          862127,
          890200,
          890200,
          1065405,
          1241000,
          1885000,
          2718000,
          3080194,
          3921611,
          3000523,
          3556553,
          4102445,
          4745197,
          6381250,
          10318000,
          10998000,
          11852400,
          12566000,
          13920000,
          7001655,
          7350195,
          8282509,
          9196964,
          10893689
         ],
         "yaxis": "y"
        }
       ],
       "layout": {
        "legend": {
         "title": {
          "text": "SECTOR"
         },
         "tracegroupgap": 0
        },
        "margin": {
         "t": 60
        },
        "template": {
         "data": {
          "bar": [
           {
            "error_x": {
             "color": "#2a3f5f"
            },
            "error_y": {
             "color": "#2a3f5f"
            },
            "marker": {
             "line": {
              "color": "#E5ECF6",
              "width": 0.5
             },
             "pattern": {
              "fillmode": "overlay",
              "size": 10,
              "solidity": 0.2
             }
            },
            "type": "bar"
           }
          ],
          "barpolar": [
           {
            "marker": {
             "line": {
              "color": "#E5ECF6",
              "width": 0.5
             },
             "pattern": {
              "fillmode": "overlay",
              "size": 10,
              "solidity": 0.2
             }
            },
            "type": "barpolar"
           }
          ],
          "carpet": [
           {
            "aaxis": {
             "endlinecolor": "#2a3f5f",
             "gridcolor": "white",
             "linecolor": "white",
             "minorgridcolor": "white",
             "startlinecolor": "#2a3f5f"
            },
            "baxis": {
             "endlinecolor": "#2a3f5f",
             "gridcolor": "white",
             "linecolor": "white",
             "minorgridcolor": "white",
             "startlinecolor": "#2a3f5f"
            },
            "type": "carpet"
           }
          ],
          "choropleth": [
           {
            "colorbar": {
             "outlinewidth": 0,
             "ticks": ""
            },
            "type": "choropleth"
           }
          ],
          "contour": [
           {
            "colorbar": {
             "outlinewidth": 0,
             "ticks": ""
            },
            "colorscale": [
             [
              0,
              "#0d0887"
             ],
             [
              0.1111111111111111,
              "#46039f"
             ],
             [
              0.2222222222222222,
              "#7201a8"
             ],
             [
              0.3333333333333333,
              "#9c179e"
             ],
             [
              0.4444444444444444,
              "#bd3786"
             ],
             [
              0.5555555555555556,
              "#d8576b"
             ],
             [
              0.6666666666666666,
              "#ed7953"
             ],
             [
              0.7777777777777778,
              "#fb9f3a"
             ],
             [
              0.8888888888888888,
              "#fdca26"
             ],
             [
              1,
              "#f0f921"
             ]
            ],
            "type": "contour"
           }
          ],
          "contourcarpet": [
           {
            "colorbar": {
             "outlinewidth": 0,
             "ticks": ""
            },
            "type": "contourcarpet"
           }
          ],
          "heatmap": [
           {
            "colorbar": {
             "outlinewidth": 0,
             "ticks": ""
            },
            "colorscale": [
             [
              0,
              "#0d0887"
             ],
             [
              0.1111111111111111,
              "#46039f"
             ],
             [
              0.2222222222222222,
              "#7201a8"
             ],
             [
              0.3333333333333333,
              "#9c179e"
             ],
             [
              0.4444444444444444,
              "#bd3786"
             ],
             [
              0.5555555555555556,
              "#d8576b"
             ],
             [
              0.6666666666666666,
              "#ed7953"
             ],
             [
              0.7777777777777778,
              "#fb9f3a"
             ],
             [
              0.8888888888888888,
              "#fdca26"
             ],
             [
              1,
              "#f0f921"
             ]
            ],
            "type": "heatmap"
           }
          ],
          "heatmapgl": [
           {
            "colorbar": {
             "outlinewidth": 0,
             "ticks": ""
            },
            "colorscale": [
             [
              0,
              "#0d0887"
             ],
             [
              0.1111111111111111,
              "#46039f"
             ],
             [
              0.2222222222222222,
              "#7201a8"
             ],
             [
              0.3333333333333333,
              "#9c179e"
             ],
             [
              0.4444444444444444,
              "#bd3786"
             ],
             [
              0.5555555555555556,
              "#d8576b"
             ],
             [
              0.6666666666666666,
              "#ed7953"
             ],
             [
              0.7777777777777778,
              "#fb9f3a"
             ],
             [
              0.8888888888888888,
              "#fdca26"
             ],
             [
              1,
              "#f0f921"
             ]
            ],
            "type": "heatmapgl"
           }
          ],
          "histogram": [
           {
            "marker": {
             "pattern": {
              "fillmode": "overlay",
              "size": 10,
              "solidity": 0.2
             }
            },
            "type": "histogram"
           }
          ],
          "histogram2d": [
           {
            "colorbar": {
             "outlinewidth": 0,
             "ticks": ""
            },
            "colorscale": [
             [
              0,
              "#0d0887"
             ],
             [
              0.1111111111111111,
              "#46039f"
             ],
             [
              0.2222222222222222,
              "#7201a8"
             ],
             [
              0.3333333333333333,
              "#9c179e"
             ],
             [
              0.4444444444444444,
              "#bd3786"
             ],
             [
              0.5555555555555556,
              "#d8576b"
             ],
             [
              0.6666666666666666,
              "#ed7953"
             ],
             [
              0.7777777777777778,
              "#fb9f3a"
             ],
             [
              0.8888888888888888,
              "#fdca26"
             ],
             [
              1,
              "#f0f921"
             ]
            ],
            "type": "histogram2d"
           }
          ],
          "histogram2dcontour": [
           {
            "colorbar": {
             "outlinewidth": 0,
             "ticks": ""
            },
            "colorscale": [
             [
              0,
              "#0d0887"
             ],
             [
              0.1111111111111111,
              "#46039f"
             ],
             [
              0.2222222222222222,
              "#7201a8"
             ],
             [
              0.3333333333333333,
              "#9c179e"
             ],
             [
              0.4444444444444444,
              "#bd3786"
             ],
             [
              0.5555555555555556,
              "#d8576b"
             ],
             [
              0.6666666666666666,
              "#ed7953"
             ],
             [
              0.7777777777777778,
              "#fb9f3a"
             ],
             [
              0.8888888888888888,
              "#fdca26"
             ],
             [
              1,
              "#f0f921"
             ]
            ],
            "type": "histogram2dcontour"
           }
          ],
          "mesh3d": [
           {
            "colorbar": {
             "outlinewidth": 0,
             "ticks": ""
            },
            "type": "mesh3d"
           }
          ],
          "parcoords": [
           {
            "line": {
             "colorbar": {
              "outlinewidth": 0,
              "ticks": ""
             }
            },
            "type": "parcoords"
           }
          ],
          "pie": [
           {
            "automargin": true,
            "type": "pie"
           }
          ],
          "scatter": [
           {
            "fillpattern": {
             "fillmode": "overlay",
             "size": 10,
             "solidity": 0.2
            },
            "type": "scatter"
           }
          ],
          "scatter3d": [
           {
            "line": {
             "colorbar": {
              "outlinewidth": 0,
              "ticks": ""
             }
            },
            "marker": {
             "colorbar": {
              "outlinewidth": 0,
              "ticks": ""
             }
            },
            "type": "scatter3d"
           }
          ],
          "scattercarpet": [
           {
            "marker": {
             "colorbar": {
              "outlinewidth": 0,
              "ticks": ""
             }
            },
            "type": "scattercarpet"
           }
          ],
          "scattergeo": [
           {
            "marker": {
             "colorbar": {
              "outlinewidth": 0,
              "ticks": ""
             }
            },
            "type": "scattergeo"
           }
          ],
          "scattergl": [
           {
            "marker": {
             "colorbar": {
              "outlinewidth": 0,
              "ticks": ""
             }
            },
            "type": "scattergl"
           }
          ],
          "scattermapbox": [
           {
            "marker": {
             "colorbar": {
              "outlinewidth": 0,
              "ticks": ""
             }
            },
            "type": "scattermapbox"
           }
          ],
          "scatterpolar": [
           {
            "marker": {
             "colorbar": {
              "outlinewidth": 0,
              "ticks": ""
             }
            },
            "type": "scatterpolar"
           }
          ],
          "scatterpolargl": [
           {
            "marker": {
             "colorbar": {
              "outlinewidth": 0,
              "ticks": ""
             }
            },
            "type": "scatterpolargl"
           }
          ],
          "scatterternary": [
           {
            "marker": {
             "colorbar": {
              "outlinewidth": 0,
              "ticks": ""
             }
            },
            "type": "scatterternary"
           }
          ],
          "surface": [
           {
            "colorbar": {
             "outlinewidth": 0,
             "ticks": ""
            },
            "colorscale": [
             [
              0,
              "#0d0887"
             ],
             [
              0.1111111111111111,
              "#46039f"
             ],
             [
              0.2222222222222222,
              "#7201a8"
             ],
             [
              0.3333333333333333,
              "#9c179e"
             ],
             [
              0.4444444444444444,
              "#bd3786"
             ],
             [
              0.5555555555555556,
              "#d8576b"
             ],
             [
              0.6666666666666666,
              "#ed7953"
             ],
             [
              0.7777777777777778,
              "#fb9f3a"
             ],
             [
              0.8888888888888888,
              "#fdca26"
             ],
             [
              1,
              "#f0f921"
             ]
            ],
            "type": "surface"
           }
          ],
          "table": [
           {
            "cells": {
             "fill": {
              "color": "#EBF0F8"
             },
             "line": {
              "color": "white"
             }
            },
            "header": {
             "fill": {
              "color": "#C8D4E3"
             },
             "line": {
              "color": "white"
             }
            },
            "type": "table"
           }
          ]
         },
         "layout": {
          "annotationdefaults": {
           "arrowcolor": "#2a3f5f",
           "arrowhead": 0,
           "arrowwidth": 1
          },
          "autotypenumbers": "strict",
          "coloraxis": {
           "colorbar": {
            "outlinewidth": 0,
            "ticks": ""
           }
          },
          "colorscale": {
           "diverging": [
            [
             0,
             "#8e0152"
            ],
            [
             0.1,
             "#c51b7d"
            ],
            [
             0.2,
             "#de77ae"
            ],
            [
             0.3,
             "#f1b6da"
            ],
            [
             0.4,
             "#fde0ef"
            ],
            [
             0.5,
             "#f7f7f7"
            ],
            [
             0.6,
             "#e6f5d0"
            ],
            [
             0.7,
             "#b8e186"
            ],
            [
             0.8,
             "#7fbc41"
            ],
            [
             0.9,
             "#4d9221"
            ],
            [
             1,
             "#276419"
            ]
           ],
           "sequential": [
            [
             0,
             "#0d0887"
            ],
            [
             0.1111111111111111,
             "#46039f"
            ],
            [
             0.2222222222222222,
             "#7201a8"
            ],
            [
             0.3333333333333333,
             "#9c179e"
            ],
            [
             0.4444444444444444,
             "#bd3786"
            ],
            [
             0.5555555555555556,
             "#d8576b"
            ],
            [
             0.6666666666666666,
             "#ed7953"
            ],
            [
             0.7777777777777778,
             "#fb9f3a"
            ],
            [
             0.8888888888888888,
             "#fdca26"
            ],
            [
             1,
             "#f0f921"
            ]
           ],
           "sequentialminus": [
            [
             0,
             "#0d0887"
            ],
            [
             0.1111111111111111,
             "#46039f"
            ],
            [
             0.2222222222222222,
             "#7201a8"
            ],
            [
             0.3333333333333333,
             "#9c179e"
            ],
            [
             0.4444444444444444,
             "#bd3786"
            ],
            [
             0.5555555555555556,
             "#d8576b"
            ],
            [
             0.6666666666666666,
             "#ed7953"
            ],
            [
             0.7777777777777778,
             "#fb9f3a"
            ],
            [
             0.8888888888888888,
             "#fdca26"
            ],
            [
             1,
             "#f0f921"
            ]
           ]
          },
          "colorway": [
           "#636efa",
           "#EF553B",
           "#00cc96",
           "#ab63fa",
           "#FFA15A",
           "#19d3f3",
           "#FF6692",
           "#B6E880",
           "#FF97FF",
           "#FECB52"
          ],
          "font": {
           "color": "#2a3f5f"
          },
          "geo": {
           "bgcolor": "white",
           "lakecolor": "white",
           "landcolor": "#E5ECF6",
           "showlakes": true,
           "showland": true,
           "subunitcolor": "white"
          },
          "hoverlabel": {
           "align": "left"
          },
          "hovermode": "closest",
          "mapbox": {
           "style": "light"
          },
          "paper_bgcolor": "white",
          "plot_bgcolor": "#E5ECF6",
          "polar": {
           "angularaxis": {
            "gridcolor": "white",
            "linecolor": "white",
            "ticks": ""
           },
           "bgcolor": "#E5ECF6",
           "radialaxis": {
            "gridcolor": "white",
            "linecolor": "white",
            "ticks": ""
           }
          },
          "scene": {
           "xaxis": {
            "backgroundcolor": "#E5ECF6",
            "gridcolor": "white",
            "gridwidth": 2,
            "linecolor": "white",
            "showbackground": true,
            "ticks": "",
            "zerolinecolor": "white"
           },
           "yaxis": {
            "backgroundcolor": "#E5ECF6",
            "gridcolor": "white",
            "gridwidth": 2,
            "linecolor": "white",
            "showbackground": true,
            "ticks": "",
            "zerolinecolor": "white"
           },
           "zaxis": {
            "backgroundcolor": "#E5ECF6",
            "gridcolor": "white",
            "gridwidth": 2,
            "linecolor": "white",
            "showbackground": true,
            "ticks": "",
            "zerolinecolor": "white"
           }
          },
          "shapedefaults": {
           "line": {
            "color": "#2a3f5f"
           }
          },
          "ternary": {
           "aaxis": {
            "gridcolor": "white",
            "linecolor": "white",
            "ticks": ""
           },
           "baxis": {
            "gridcolor": "white",
            "linecolor": "white",
            "ticks": ""
           },
           "bgcolor": "#E5ECF6",
           "caxis": {
            "gridcolor": "white",
            "linecolor": "white",
            "ticks": ""
           }
          },
          "title": {
           "x": 0.05
          },
          "xaxis": {
           "automargin": true,
           "gridcolor": "white",
           "linecolor": "white",
           "ticks": "",
           "title": {
            "standoff": 15
           },
           "zerolinecolor": "white",
           "zerolinewidth": 2
          },
          "yaxis": {
           "automargin": true,
           "gridcolor": "white",
           "linecolor": "white",
           "ticks": "",
           "title": {
            "standoff": 15
           },
           "zerolinecolor": "white",
           "zerolinewidth": 2
          }
         }
        },
        "title": {
         "text": "Scope 1 vs. Scope 2 Across All Sectors"
        },
        "xaxis": {
         "anchor": "y",
         "domain": [
          0,
          1
         ],
         "title": {
          "text": "SCOPE 1"
         }
        },
        "yaxis": {
         "anchor": "x",
         "domain": [
          0,
          1
         ],
         "title": {
          "text": "SCOPE 2 (location-based)"
         }
        }
       }
      }
     },
     "metadata": {},
     "output_type": "display_data"
    }
   ],
   "source": [
    "# scope 1 vs scope 2 (location-based)\n",
    "\n",
    "fig = px.scatter(sectors, x='SCOPE 1', y='SCOPE 2 (location-based)', color='SECTOR', hover_data=['COMPANY NAME'])\n",
    "fig.update_layout(title='Scope 1 vs. Scope 2 Across All Sectors')\n",
    "fig.show()"
   ]
  },
  {
   "cell_type": "markdown",
   "metadata": {},
   "source": [
    "### Scope 2 (location-based) vs. Scope 3\n"
   ]
  },
  {
   "cell_type": "code",
   "execution_count": 38,
   "metadata": {},
   "outputs": [
    {
     "data": {
      "application/vnd.plotly.v1+json": {
       "config": {
        "plotlyServerURL": "https://plot.ly"
       },
       "data": [
        {
         "customdata": [
          [
           "Anheuser-Busch InBev"
          ],
          [
           "Anheuser-Busch InBev"
          ],
          [
           "Anheuser-Busch InBev"
          ],
          [
           "Anheuser-Busch InBev"
          ],
          [
           "Anheuser-Busch InBev"
          ],
          [
           "Danone"
          ],
          [
           "Danone"
          ],
          [
           "Danone"
          ],
          [
           "Danone"
          ],
          [
           "Danone"
          ],
          [
           "Diageo"
          ],
          [
           "Diageo"
          ],
          [
           "Diageo"
          ],
          [
           "Diageo"
          ],
          [
           "Diageo"
          ],
          [
           "Kellogg’s"
          ],
          [
           "Kellogg’s"
          ],
          [
           "Kellogg’s"
          ],
          [
           "Kellogg’s"
          ],
          [
           "Kellogg’s"
          ],
          [
           "Molson Coors"
          ],
          [
           "Molson Coors"
          ],
          [
           "Molson Coors"
          ],
          [
           "Molson Coors"
          ],
          [
           "Molson Coors"
          ],
          [
           "Nestlé"
          ],
          [
           "Nestlé"
          ],
          [
           "Nestlé"
          ],
          [
           "Nestlé"
          ],
          [
           "Nestlé"
          ],
          [
           "PepsiCo"
          ],
          [
           "PepsiCo"
          ],
          [
           "PepsiCo"
          ],
          [
           "PepsiCo"
          ],
          [
           "PepsiCo"
          ],
          [
           "Tesco"
          ],
          [
           "Tesco"
          ],
          [
           "Tesco"
          ],
          [
           "Tesco"
          ],
          [
           "Tesco"
          ],
          [
           "Unilever"
          ],
          [
           "Unilever"
          ],
          [
           "Unilever"
          ],
          [
           "Unilever"
          ],
          [
           "Unilever"
          ]
         ],
         "hovertemplate": "SECTOR=Food & Agriculture<br>SCOPE 2 (location-based)=%{x}<br>SCOPE 3=%{y}<br>COMPANY NAME=%{customdata[0]}<extra></extra>",
         "legendgroup": "Food & Agriculture",
         "marker": {
          "color": "#636efa",
          "symbol": "circle"
         },
         "mode": "markers",
         "name": "Food & Agriculture",
         "orientation": "v",
         "showlegend": true,
         "type": "scatter",
         "x": [
          2383505,
          2215902,
          2227758,
          2243990,
          2029211,
          959554,
          944877,
          864710,
          812948,
          762805,
          179307,
          165095,
          143905,
          142530,
          157784,
          650835,
          590739,
          587999,
          568692,
          553526,
          667174,
          634136,
          604422,
          342069,
          341701,
          3082573,
          3089029,
          3052234,
          2600000,
          760000,
          1629973,
          1556523,
          1719610,
          1811114,
          1834309,
          995543,
          859583,
          718222,
          642337,
          575462,
          1430659,
          1321648,
          1264328,
          1244505,
          1224997
         ],
         "xaxis": "x",
         "y": [
          24431839,
          26484447,
          23652933,
          26527444,
          24136111,
          24885804,
          46176955,
          26077215,
          23733344,
          22367000,
          2665182,
          2764857,
          2608674,
          4754945,
          5723256,
          12761542,
          8128427,
          6449011,
          5723300,
          6784604,
          4933363,
          4572089,
          4257376,
          3961062,
          3731920,
          107145316,
          107145316,
          117000828,
          113720072,
          108900000,
          58668530,
          48366225,
          52604866,
          56388182,
          54947765,
          59795068,
          59817490,
          56241579,
          60258134,
          75854334,
          60419810,
          56779687,
          58300345,
          61445738,
          56442279
         ],
         "yaxis": "y"
        },
        {
         "customdata": [
          [
           "BP"
          ],
          [
           "BP"
          ],
          [
           "BP"
          ],
          [
           "BP"
          ],
          [
           "BP"
          ],
          [
           "Chevron"
          ],
          [
           "Chevron"
          ],
          [
           "Chevron"
          ],
          [
           "Chevron"
          ],
          [
           "Chevron"
          ],
          [
           "EDF"
          ],
          [
           "EDF"
          ],
          [
           "EDF"
          ],
          [
           "EDF"
          ],
          [
           "EDF"
          ],
          [
           "Enel"
          ],
          [
           "Enel"
          ],
          [
           "Enel"
          ],
          [
           "Enel"
          ],
          [
           "Enel"
          ],
          [
           "Equinor"
          ],
          [
           "Equinor"
          ],
          [
           "Equinor"
          ],
          [
           "Equinor"
          ],
          [
           "Equinor"
          ],
          [
           "Exxon"
          ],
          [
           "Exxon"
          ],
          [
           "Exxon"
          ],
          [
           "Exxon"
          ],
          [
           "Exxon"
          ],
          [
           "Gazprom"
          ],
          [
           "Gazprom"
          ],
          [
           "Gazprom"
          ],
          [
           "Gazprom"
          ],
          [
           "Gazprom"
          ],
          [
           "Orsted"
          ],
          [
           "Orsted"
          ],
          [
           "Orsted"
          ],
          [
           "Orsted"
          ],
          [
           "Orsted"
          ],
          [
           "Oxy"
          ],
          [
           "Oxy"
          ],
          [
           "Oxy"
          ],
          [
           "Oxy"
          ],
          [
           "Oxy"
          ],
          [
           "PetroChina"
          ],
          [
           "PetroChina"
          ],
          [
           "PetroChina"
          ],
          [
           "PetroChina"
          ],
          [
           "PetroChina"
          ],
          [
           "Rosneft"
          ],
          [
           "Rosneft"
          ],
          [
           "Rosneft"
          ],
          [
           "Rosneft"
          ],
          [
           "Rosneft"
          ],
          [
           "Saudi Aramco"
          ],
          [
           "Saudi Aramco"
          ],
          [
           "Saudi Aramco"
          ],
          [
           "Saudi Aramco"
          ],
          [
           "Saudi Aramco"
          ],
          [
           "Shell"
          ],
          [
           "Shell"
          ],
          [
           "Shell"
          ],
          [
           "Shell"
          ],
          [
           "Shell"
          ]
         ],
         "hovertemplate": "SECTOR=Energy<br>SCOPE 2 (location-based)=%{x}<br>SCOPE 3=%{y}<br>COMPANY NAME=%{customdata[0]}<extra></extra>",
         "legendgroup": "Energy",
         "marker": {
          "color": "#EF553B",
          "symbol": "circle"
         },
         "mode": "markers",
         "name": "Energy",
         "orientation": "v",
         "showlegend": true,
         "type": "scatter",
         "x": [
          5400000,
          5200000,
          3700000,
          2400000,
          2100000,
          3000000,
          2000000,
          4000000,
          4000000,
          4000000,
          470025,
          289243,
          320773,
          288947,
          388819,
          115000,
          770163,
          548948,
          721000,
          1010000,
          194063,
          215474,
          251513,
          97048,
          68581,
          9000000,
          9000000,
          9000000,
          7000000,
          7000000,
          8198070,
          6077827,
          4762910,
          6080000,
          4020000,
          151000,
          123000,
          111000,
          53000,
          45000,
          4100000,
          5905273,
          4807697,
          4844808,
          4903258,
          null,
          41910000,
          39870000,
          38150000,
          40880000,
          22200000,
          21800000,
          20100000,
          18500000,
          null,
          null,
          null,
          18100000,
          15500000,
          16100000,
          11000000,
          11000000,
          11000000,
          9000000,
          8000000
         ],
         "xaxis": "x",
         "y": [
          437000000,
          null,
          327600000,
          303600000,
          306700000,
          1023000000,
          1033000000,
          980000000,
          1071000000,
          1034000000,
          110759561,
          119363628,
          106649250,
          101804919,
          95917659,
          5261003,
          5819007,
          5315425,
          6000610,
          9504170,
          314102157,
          258995398,
          271036800,
          268747731,
          268367000,
          null,
          null,
          null,
          null,
          530000000,
          null,
          1154544765,
          1078493075,
          1150750000,
          null,
          36234400,
          33864140,
          25333000,
          18179000,
          10984000,
          71000000,
          259100000,
          225900000,
          211800000,
          217000000,
          null,
          null,
          null,
          null,
          null,
          244300000,
          301000000,
          280000000,
          null,
          null,
          null,
          null,
          null,
          null,
          null,
          696770000,
          693200000,
          1343550000,
          1344423000,
          1204294000
         ],
         "yaxis": "y"
        },
        {
         "customdata": [
          [
           "BMW"
          ],
          [
           "BMW"
          ],
          [
           "BMW"
          ],
          [
           "BMW"
          ],
          [
           "BMW"
          ],
          [
           "BMW"
          ],
          [
           "BYD"
          ],
          [
           "BYD"
          ],
          [
           "BYD"
          ],
          [
           "BYD"
          ],
          [
           "BYD"
          ],
          [
           "BYD"
          ],
          [
           "Daimler/Mercedes"
          ],
          [
           "Daimler/Mercedes"
          ],
          [
           "Daimler/Mercedes"
          ],
          [
           "Daimler/Mercedes"
          ],
          [
           "Daimler/Mercedes"
          ],
          [
           "Daimler/Mercedes"
          ],
          [
           "Fiat-Chrysler"
          ],
          [
           "Fiat-Chrysler"
          ],
          [
           "Fiat-Chrysler"
          ],
          [
           "Fiat-Chrysler"
          ],
          [
           "Fiat-Chrysler"
          ],
          [
           "Fiat-Chrysler"
          ],
          [
           "Ford"
          ],
          [
           "Ford"
          ],
          [
           "Ford"
          ],
          [
           "Ford"
          ],
          [
           "Ford"
          ],
          [
           "Ford"
          ],
          [
           "Geely"
          ],
          [
           "Geely"
          ],
          [
           "Geely"
          ],
          [
           "Geely"
          ],
          [
           "Geely"
          ],
          [
           "Geely"
          ],
          [
           "General Motors"
          ],
          [
           "General Motors"
          ],
          [
           "General Motors"
          ],
          [
           "General Motors"
          ],
          [
           "General Motors"
          ],
          [
           "General Motors"
          ],
          [
           "Honda"
          ],
          [
           "Honda"
          ],
          [
           "Honda"
          ],
          [
           "Honda"
          ],
          [
           "Honda"
          ],
          [
           "Honda"
          ],
          [
           "Hyundai"
          ],
          [
           "Hyundai"
          ],
          [
           "Hyundai"
          ],
          [
           "Hyundai"
          ],
          [
           "Hyundai"
          ],
          [
           "Tesla"
          ],
          [
           "Tesla"
          ],
          [
           "Tesla"
          ],
          [
           "Tesla"
          ],
          [
           "Tesla"
          ],
          [
           "Tesla"
          ],
          [
           "Toyota"
          ],
          [
           "Toyota"
          ],
          [
           "Toyota"
          ],
          [
           "Toyota"
          ],
          [
           "Toyota"
          ],
          [
           "Toyota"
          ],
          [
           "Volkswagen"
          ],
          [
           "Volkswagen"
          ],
          [
           "Volkswagen"
          ],
          [
           "Volkswagen"
          ],
          [
           "Volkswagen"
          ],
          [
           "Volkswagen"
          ]
         ],
         "hovertemplate": "SECTOR=Auto<br>SCOPE 2 (location-based)=%{x}<br>SCOPE 3=%{y}<br>COMPANY NAME=%{customdata[0]}<extra></extra>",
         "legendgroup": "Auto",
         "marker": {
          "color": "#00cc96",
          "symbol": "circle"
         },
         "mode": "markers",
         "name": "Auto",
         "orientation": "v",
         "showlegend": true,
         "type": "scatter",
         "x": [
          1572432,
          1539378,
          1540667,
          1333076,
          1404348,
          1187339,
          null,
          null,
          null,
          3945773,
          4903502,
          7511038,
          2041000,
          1687000,
          1706000,
          1492000,
          1123000,
          1121000,
          3309598,
          2795995,
          2296709,
          1983910,
          2200000,
          1900000,
          3482444,
          3349808,
          3195704,
          2715328,
          2616003,
          2557313,
          346173,
          425622,
          418180,
          518514,
          867943,
          655705,
          4572734,
          4322761,
          4381970,
          3087816,
          2881767,
          2996074,
          3790000,
          3690000,
          3440000,
          3050000,
          3245113,
          3249764,
          1882674,
          1936902,
          1897855,
          1680079,
          1660238,
          null,
          null,
          null,
          null,
          403000,
          408000,
          5265425,
          5238108,
          4244743,
          3684721,
          3900000,
          3810000,
          5901889,
          6370514,
          5973894,
          5257618,
          5195961,
          4650011
         ],
         "xaxis": "x",
         "y": [
          71690753,
          73093077,
          132520346,
          117682832,
          121705367,
          116586786,
          null,
          null,
          null,
          null,
          null,
          123025950,
          82530800,
          79300000,
          144408800,
          102237000,
          123158000,
          123025950,
          124729588,
          115993925,
          122750694,
          null,
          523305000,
          447230000,
          211807837,
          174463469,
          187993867,
          349281992,
          299853676,
          370223094,
          null,
          null,
          null,
          34097000,
          102344820,
          101818690,
          280849954,
          264495398,
          249313396,
          254440148,
          233167875,
          272722605,
          314067700,
          310718300,
          297816499,
          244758486,
          275724920,
          284409746,
          7051724,
          5582405,
          120382017,
          100536484,
          101790793,
          null,
          null,
          null,
          null,
          1954000,
          30100000,
          401742000,
          412184600,
          397940000,
          341344044,
          373340317,
          573825072,
          340767244,
          427972277,
          447225434,
          368258661,
          364179966,
          395681718
         ],
         "yaxis": "y"
        },
        {
         "customdata": [
          [
           "Alphabet"
          ],
          [
           "Alphabet"
          ],
          [
           "Alphabet"
          ],
          [
           "Alphabet"
          ],
          [
           "Alphabet"
          ],
          [
           "Amazon"
          ],
          [
           "Amazon"
          ],
          [
           "Amazon"
          ],
          [
           "Amazon"
          ],
          [
           "Amazon"
          ],
          [
           "Apple"
          ],
          [
           "Apple"
          ],
          [
           "Apple"
          ],
          [
           "Apple"
          ],
          [
           "Apple"
          ],
          [
           "Meta"
          ],
          [
           "Meta"
          ],
          [
           "Meta"
          ],
          [
           "Meta"
          ],
          [
           "Meta"
          ],
          [
           "Microsoft"
          ],
          [
           "Microsoft"
          ],
          [
           "Microsoft"
          ],
          [
           "Microsoft"
          ],
          [
           "Microsoft"
          ],
          [
           "Samsung"
          ],
          [
           "Samsung"
          ],
          [
           "Samsung"
          ],
          [
           "Samsung"
          ],
          [
           "Samsung"
          ],
          [
           "TSMC"
          ],
          [
           "TSMC"
          ],
          [
           "TSMC"
          ],
          [
           "TSMC"
          ],
          [
           "TSMC"
          ]
         ],
         "hovertemplate": "SECTOR=Tech<br>SCOPE 2 (location-based)=%{x}<br>SCOPE 3=%{y}<br>COMPANY NAME=%{customdata[0]}<extra></extra>",
         "legendgroup": "Tech",
         "marker": {
          "color": "#ab63fa",
          "symbol": "circle"
         },
         "mode": "markers",
         "name": "Tech",
         "orientation": "v",
         "showlegend": true,
         "type": "scatter",
         "x": [
          4344686,
          5116949,
          5865095,
          6576239,
          8045400,
          4710000,
          5500000,
          5270000,
          4070000,
          12768034,
          8730,
          862127,
          890200,
          890200,
          1065405,
          1241000,
          1885000,
          2718000,
          3080194,
          3921611,
          3000523,
          3556553,
          4102445,
          4745197,
          6381250,
          10318000,
          10998000,
          11852400,
          12566000,
          13920000,
          7001655,
          7350195,
          8282509,
          9196964,
          10893689
         ],
         "xaxis": "x",
         "y": [
          12900467,
          11669000,
          9376000,
          9503000,
          7600000,
          34710000,
          39910000,
          45750000,
          55360000,
          54977815,
          25070000,
          24980000,
          22547000,
          23128400,
          20550000,
          652000,
          4078000,
          5091000,
          5651459,
          8466248,
          17834520,
          11322527,
          10817756,
          13784501,
          18863000,
          38234000,
          70063000,
          65591000,
          123234900,
          124715000,
          4315604,
          5307729,
          5571946,
          6127157,
          7429158
         ],
         "yaxis": "y"
        }
       ],
       "layout": {
        "legend": {
         "title": {
          "text": "SECTOR"
         },
         "tracegroupgap": 0
        },
        "margin": {
         "t": 60
        },
        "template": {
         "data": {
          "bar": [
           {
            "error_x": {
             "color": "#2a3f5f"
            },
            "error_y": {
             "color": "#2a3f5f"
            },
            "marker": {
             "line": {
              "color": "#E5ECF6",
              "width": 0.5
             },
             "pattern": {
              "fillmode": "overlay",
              "size": 10,
              "solidity": 0.2
             }
            },
            "type": "bar"
           }
          ],
          "barpolar": [
           {
            "marker": {
             "line": {
              "color": "#E5ECF6",
              "width": 0.5
             },
             "pattern": {
              "fillmode": "overlay",
              "size": 10,
              "solidity": 0.2
             }
            },
            "type": "barpolar"
           }
          ],
          "carpet": [
           {
            "aaxis": {
             "endlinecolor": "#2a3f5f",
             "gridcolor": "white",
             "linecolor": "white",
             "minorgridcolor": "white",
             "startlinecolor": "#2a3f5f"
            },
            "baxis": {
             "endlinecolor": "#2a3f5f",
             "gridcolor": "white",
             "linecolor": "white",
             "minorgridcolor": "white",
             "startlinecolor": "#2a3f5f"
            },
            "type": "carpet"
           }
          ],
          "choropleth": [
           {
            "colorbar": {
             "outlinewidth": 0,
             "ticks": ""
            },
            "type": "choropleth"
           }
          ],
          "contour": [
           {
            "colorbar": {
             "outlinewidth": 0,
             "ticks": ""
            },
            "colorscale": [
             [
              0,
              "#0d0887"
             ],
             [
              0.1111111111111111,
              "#46039f"
             ],
             [
              0.2222222222222222,
              "#7201a8"
             ],
             [
              0.3333333333333333,
              "#9c179e"
             ],
             [
              0.4444444444444444,
              "#bd3786"
             ],
             [
              0.5555555555555556,
              "#d8576b"
             ],
             [
              0.6666666666666666,
              "#ed7953"
             ],
             [
              0.7777777777777778,
              "#fb9f3a"
             ],
             [
              0.8888888888888888,
              "#fdca26"
             ],
             [
              1,
              "#f0f921"
             ]
            ],
            "type": "contour"
           }
          ],
          "contourcarpet": [
           {
            "colorbar": {
             "outlinewidth": 0,
             "ticks": ""
            },
            "type": "contourcarpet"
           }
          ],
          "heatmap": [
           {
            "colorbar": {
             "outlinewidth": 0,
             "ticks": ""
            },
            "colorscale": [
             [
              0,
              "#0d0887"
             ],
             [
              0.1111111111111111,
              "#46039f"
             ],
             [
              0.2222222222222222,
              "#7201a8"
             ],
             [
              0.3333333333333333,
              "#9c179e"
             ],
             [
              0.4444444444444444,
              "#bd3786"
             ],
             [
              0.5555555555555556,
              "#d8576b"
             ],
             [
              0.6666666666666666,
              "#ed7953"
             ],
             [
              0.7777777777777778,
              "#fb9f3a"
             ],
             [
              0.8888888888888888,
              "#fdca26"
             ],
             [
              1,
              "#f0f921"
             ]
            ],
            "type": "heatmap"
           }
          ],
          "heatmapgl": [
           {
            "colorbar": {
             "outlinewidth": 0,
             "ticks": ""
            },
            "colorscale": [
             [
              0,
              "#0d0887"
             ],
             [
              0.1111111111111111,
              "#46039f"
             ],
             [
              0.2222222222222222,
              "#7201a8"
             ],
             [
              0.3333333333333333,
              "#9c179e"
             ],
             [
              0.4444444444444444,
              "#bd3786"
             ],
             [
              0.5555555555555556,
              "#d8576b"
             ],
             [
              0.6666666666666666,
              "#ed7953"
             ],
             [
              0.7777777777777778,
              "#fb9f3a"
             ],
             [
              0.8888888888888888,
              "#fdca26"
             ],
             [
              1,
              "#f0f921"
             ]
            ],
            "type": "heatmapgl"
           }
          ],
          "histogram": [
           {
            "marker": {
             "pattern": {
              "fillmode": "overlay",
              "size": 10,
              "solidity": 0.2
             }
            },
            "type": "histogram"
           }
          ],
          "histogram2d": [
           {
            "colorbar": {
             "outlinewidth": 0,
             "ticks": ""
            },
            "colorscale": [
             [
              0,
              "#0d0887"
             ],
             [
              0.1111111111111111,
              "#46039f"
             ],
             [
              0.2222222222222222,
              "#7201a8"
             ],
             [
              0.3333333333333333,
              "#9c179e"
             ],
             [
              0.4444444444444444,
              "#bd3786"
             ],
             [
              0.5555555555555556,
              "#d8576b"
             ],
             [
              0.6666666666666666,
              "#ed7953"
             ],
             [
              0.7777777777777778,
              "#fb9f3a"
             ],
             [
              0.8888888888888888,
              "#fdca26"
             ],
             [
              1,
              "#f0f921"
             ]
            ],
            "type": "histogram2d"
           }
          ],
          "histogram2dcontour": [
           {
            "colorbar": {
             "outlinewidth": 0,
             "ticks": ""
            },
            "colorscale": [
             [
              0,
              "#0d0887"
             ],
             [
              0.1111111111111111,
              "#46039f"
             ],
             [
              0.2222222222222222,
              "#7201a8"
             ],
             [
              0.3333333333333333,
              "#9c179e"
             ],
             [
              0.4444444444444444,
              "#bd3786"
             ],
             [
              0.5555555555555556,
              "#d8576b"
             ],
             [
              0.6666666666666666,
              "#ed7953"
             ],
             [
              0.7777777777777778,
              "#fb9f3a"
             ],
             [
              0.8888888888888888,
              "#fdca26"
             ],
             [
              1,
              "#f0f921"
             ]
            ],
            "type": "histogram2dcontour"
           }
          ],
          "mesh3d": [
           {
            "colorbar": {
             "outlinewidth": 0,
             "ticks": ""
            },
            "type": "mesh3d"
           }
          ],
          "parcoords": [
           {
            "line": {
             "colorbar": {
              "outlinewidth": 0,
              "ticks": ""
             }
            },
            "type": "parcoords"
           }
          ],
          "pie": [
           {
            "automargin": true,
            "type": "pie"
           }
          ],
          "scatter": [
           {
            "fillpattern": {
             "fillmode": "overlay",
             "size": 10,
             "solidity": 0.2
            },
            "type": "scatter"
           }
          ],
          "scatter3d": [
           {
            "line": {
             "colorbar": {
              "outlinewidth": 0,
              "ticks": ""
             }
            },
            "marker": {
             "colorbar": {
              "outlinewidth": 0,
              "ticks": ""
             }
            },
            "type": "scatter3d"
           }
          ],
          "scattercarpet": [
           {
            "marker": {
             "colorbar": {
              "outlinewidth": 0,
              "ticks": ""
             }
            },
            "type": "scattercarpet"
           }
          ],
          "scattergeo": [
           {
            "marker": {
             "colorbar": {
              "outlinewidth": 0,
              "ticks": ""
             }
            },
            "type": "scattergeo"
           }
          ],
          "scattergl": [
           {
            "marker": {
             "colorbar": {
              "outlinewidth": 0,
              "ticks": ""
             }
            },
            "type": "scattergl"
           }
          ],
          "scattermapbox": [
           {
            "marker": {
             "colorbar": {
              "outlinewidth": 0,
              "ticks": ""
             }
            },
            "type": "scattermapbox"
           }
          ],
          "scatterpolar": [
           {
            "marker": {
             "colorbar": {
              "outlinewidth": 0,
              "ticks": ""
             }
            },
            "type": "scatterpolar"
           }
          ],
          "scatterpolargl": [
           {
            "marker": {
             "colorbar": {
              "outlinewidth": 0,
              "ticks": ""
             }
            },
            "type": "scatterpolargl"
           }
          ],
          "scatterternary": [
           {
            "marker": {
             "colorbar": {
              "outlinewidth": 0,
              "ticks": ""
             }
            },
            "type": "scatterternary"
           }
          ],
          "surface": [
           {
            "colorbar": {
             "outlinewidth": 0,
             "ticks": ""
            },
            "colorscale": [
             [
              0,
              "#0d0887"
             ],
             [
              0.1111111111111111,
              "#46039f"
             ],
             [
              0.2222222222222222,
              "#7201a8"
             ],
             [
              0.3333333333333333,
              "#9c179e"
             ],
             [
              0.4444444444444444,
              "#bd3786"
             ],
             [
              0.5555555555555556,
              "#d8576b"
             ],
             [
              0.6666666666666666,
              "#ed7953"
             ],
             [
              0.7777777777777778,
              "#fb9f3a"
             ],
             [
              0.8888888888888888,
              "#fdca26"
             ],
             [
              1,
              "#f0f921"
             ]
            ],
            "type": "surface"
           }
          ],
          "table": [
           {
            "cells": {
             "fill": {
              "color": "#EBF0F8"
             },
             "line": {
              "color": "white"
             }
            },
            "header": {
             "fill": {
              "color": "#C8D4E3"
             },
             "line": {
              "color": "white"
             }
            },
            "type": "table"
           }
          ]
         },
         "layout": {
          "annotationdefaults": {
           "arrowcolor": "#2a3f5f",
           "arrowhead": 0,
           "arrowwidth": 1
          },
          "autotypenumbers": "strict",
          "coloraxis": {
           "colorbar": {
            "outlinewidth": 0,
            "ticks": ""
           }
          },
          "colorscale": {
           "diverging": [
            [
             0,
             "#8e0152"
            ],
            [
             0.1,
             "#c51b7d"
            ],
            [
             0.2,
             "#de77ae"
            ],
            [
             0.3,
             "#f1b6da"
            ],
            [
             0.4,
             "#fde0ef"
            ],
            [
             0.5,
             "#f7f7f7"
            ],
            [
             0.6,
             "#e6f5d0"
            ],
            [
             0.7,
             "#b8e186"
            ],
            [
             0.8,
             "#7fbc41"
            ],
            [
             0.9,
             "#4d9221"
            ],
            [
             1,
             "#276419"
            ]
           ],
           "sequential": [
            [
             0,
             "#0d0887"
            ],
            [
             0.1111111111111111,
             "#46039f"
            ],
            [
             0.2222222222222222,
             "#7201a8"
            ],
            [
             0.3333333333333333,
             "#9c179e"
            ],
            [
             0.4444444444444444,
             "#bd3786"
            ],
            [
             0.5555555555555556,
             "#d8576b"
            ],
            [
             0.6666666666666666,
             "#ed7953"
            ],
            [
             0.7777777777777778,
             "#fb9f3a"
            ],
            [
             0.8888888888888888,
             "#fdca26"
            ],
            [
             1,
             "#f0f921"
            ]
           ],
           "sequentialminus": [
            [
             0,
             "#0d0887"
            ],
            [
             0.1111111111111111,
             "#46039f"
            ],
            [
             0.2222222222222222,
             "#7201a8"
            ],
            [
             0.3333333333333333,
             "#9c179e"
            ],
            [
             0.4444444444444444,
             "#bd3786"
            ],
            [
             0.5555555555555556,
             "#d8576b"
            ],
            [
             0.6666666666666666,
             "#ed7953"
            ],
            [
             0.7777777777777778,
             "#fb9f3a"
            ],
            [
             0.8888888888888888,
             "#fdca26"
            ],
            [
             1,
             "#f0f921"
            ]
           ]
          },
          "colorway": [
           "#636efa",
           "#EF553B",
           "#00cc96",
           "#ab63fa",
           "#FFA15A",
           "#19d3f3",
           "#FF6692",
           "#B6E880",
           "#FF97FF",
           "#FECB52"
          ],
          "font": {
           "color": "#2a3f5f"
          },
          "geo": {
           "bgcolor": "white",
           "lakecolor": "white",
           "landcolor": "#E5ECF6",
           "showlakes": true,
           "showland": true,
           "subunitcolor": "white"
          },
          "hoverlabel": {
           "align": "left"
          },
          "hovermode": "closest",
          "mapbox": {
           "style": "light"
          },
          "paper_bgcolor": "white",
          "plot_bgcolor": "#E5ECF6",
          "polar": {
           "angularaxis": {
            "gridcolor": "white",
            "linecolor": "white",
            "ticks": ""
           },
           "bgcolor": "#E5ECF6",
           "radialaxis": {
            "gridcolor": "white",
            "linecolor": "white",
            "ticks": ""
           }
          },
          "scene": {
           "xaxis": {
            "backgroundcolor": "#E5ECF6",
            "gridcolor": "white",
            "gridwidth": 2,
            "linecolor": "white",
            "showbackground": true,
            "ticks": "",
            "zerolinecolor": "white"
           },
           "yaxis": {
            "backgroundcolor": "#E5ECF6",
            "gridcolor": "white",
            "gridwidth": 2,
            "linecolor": "white",
            "showbackground": true,
            "ticks": "",
            "zerolinecolor": "white"
           },
           "zaxis": {
            "backgroundcolor": "#E5ECF6",
            "gridcolor": "white",
            "gridwidth": 2,
            "linecolor": "white",
            "showbackground": true,
            "ticks": "",
            "zerolinecolor": "white"
           }
          },
          "shapedefaults": {
           "line": {
            "color": "#2a3f5f"
           }
          },
          "ternary": {
           "aaxis": {
            "gridcolor": "white",
            "linecolor": "white",
            "ticks": ""
           },
           "baxis": {
            "gridcolor": "white",
            "linecolor": "white",
            "ticks": ""
           },
           "bgcolor": "#E5ECF6",
           "caxis": {
            "gridcolor": "white",
            "linecolor": "white",
            "ticks": ""
           }
          },
          "title": {
           "x": 0.05
          },
          "xaxis": {
           "automargin": true,
           "gridcolor": "white",
           "linecolor": "white",
           "ticks": "",
           "title": {
            "standoff": 15
           },
           "zerolinecolor": "white",
           "zerolinewidth": 2
          },
          "yaxis": {
           "automargin": true,
           "gridcolor": "white",
           "linecolor": "white",
           "ticks": "",
           "title": {
            "standoff": 15
           },
           "zerolinecolor": "white",
           "zerolinewidth": 2
          }
         }
        },
        "title": {
         "text": "Scope 2 vs. Scope 3 Across All Sectors"
        },
        "xaxis": {
         "anchor": "y",
         "domain": [
          0,
          1
         ],
         "title": {
          "text": "SCOPE 2 (location-based)"
         }
        },
        "yaxis": {
         "anchor": "x",
         "domain": [
          0,
          1
         ],
         "title": {
          "text": "SCOPE 3"
         }
        }
       }
      }
     },
     "metadata": {},
     "output_type": "display_data"
    }
   ],
   "source": [
    "# scope 2 (location-based) vs. scope 3 \n",
    "\n",
    "fig = px.scatter(sectors, x='SCOPE 2 (location-based)', y='SCOPE 3', color='SECTOR', hover_data=['COMPANY NAME'])\n",
    "fig.update_layout(title='Scope 2 vs. Scope 3 Across All Sectors')\n",
    "fig.show()"
   ]
  },
  {
   "cell_type": "markdown",
   "metadata": {},
   "source": [
    "### Scope 1 vs. Scope 3 "
   ]
  },
  {
   "cell_type": "code",
   "execution_count": 39,
   "metadata": {},
   "outputs": [
    {
     "data": {
      "application/vnd.plotly.v1+json": {
       "config": {
        "plotlyServerURL": "https://plot.ly"
       },
       "data": [
        {
         "customdata": [
          [
           "Anheuser-Busch InBev"
          ],
          [
           "Anheuser-Busch InBev"
          ],
          [
           "Anheuser-Busch InBev"
          ],
          [
           "Anheuser-Busch InBev"
          ],
          [
           "Anheuser-Busch InBev"
          ],
          [
           "Danone"
          ],
          [
           "Danone"
          ],
          [
           "Danone"
          ],
          [
           "Danone"
          ],
          [
           "Danone"
          ],
          [
           "Diageo"
          ],
          [
           "Diageo"
          ],
          [
           "Diageo"
          ],
          [
           "Diageo"
          ],
          [
           "Diageo"
          ],
          [
           "Kellogg’s"
          ],
          [
           "Kellogg’s"
          ],
          [
           "Kellogg’s"
          ],
          [
           "Kellogg’s"
          ],
          [
           "Kellogg’s"
          ],
          [
           "Molson Coors"
          ],
          [
           "Molson Coors"
          ],
          [
           "Molson Coors"
          ],
          [
           "Molson Coors"
          ],
          [
           "Molson Coors"
          ],
          [
           "Nestlé"
          ],
          [
           "Nestlé"
          ],
          [
           "Nestlé"
          ],
          [
           "Nestlé"
          ],
          [
           "Nestlé"
          ],
          [
           "PepsiCo"
          ],
          [
           "PepsiCo"
          ],
          [
           "PepsiCo"
          ],
          [
           "PepsiCo"
          ],
          [
           "PepsiCo"
          ],
          [
           "Tesco"
          ],
          [
           "Tesco"
          ],
          [
           "Tesco"
          ],
          [
           "Tesco"
          ],
          [
           "Tesco"
          ],
          [
           "Unilever"
          ],
          [
           "Unilever"
          ],
          [
           "Unilever"
          ],
          [
           "Unilever"
          ],
          [
           "Unilever"
          ]
         ],
         "hovertemplate": "SECTOR=Food & Agriculture<br>SCOPE 1=%{x}<br>SCOPE 3=%{y}<br>COMPANY NAME=%{customdata[0]}<extra></extra>",
         "legendgroup": "Food & Agriculture",
         "marker": {
          "color": "#636efa",
          "symbol": "circle"
         },
         "mode": "markers",
         "name": "Food & Agriculture",
         "orientation": "v",
         "showlegend": true,
         "type": "scatter",
         "x": [
          3700760,
          3600710,
          3081905,
          2953896,
          2843883,
          753461,
          722103,
          668354,
          682674,
          666000,
          553270,
          511593,
          476782,
          445000,
          436000,
          483061,
          465885,
          465042,
          503905,
          497203,
          436457,
          406377,
          398026,
          606319,
          603321,
          3289012,
          3246367,
          3215404,
          3372000,
          3240000,
          3577266,
          3552415,
          3552706,
          3596712,
          3481530,
          1117480,
          1105183,
          1053131,
          1110098,
          1039346,
          752804,
          659028,
          606771,
          565988,
          503909
         ],
         "xaxis": "x",
         "y": [
          24431839,
          26484447,
          23652933,
          26527444,
          24136111,
          24885804,
          46176955,
          26077215,
          23733344,
          22367000,
          2665182,
          2764857,
          2608674,
          4754945,
          5723256,
          12761542,
          8128427,
          6449011,
          5723300,
          6784604,
          4933363,
          4572089,
          4257376,
          3961062,
          3731920,
          107145316,
          107145316,
          117000828,
          113720072,
          108900000,
          58668530,
          48366225,
          52604866,
          56388182,
          54947765,
          59795068,
          59817490,
          56241579,
          60258134,
          75854334,
          60419810,
          56779687,
          58300345,
          61445738,
          56442279
         ],
         "yaxis": "y"
        },
        {
         "customdata": [
          [
           "BP"
          ],
          [
           "BP"
          ],
          [
           "BP"
          ],
          [
           "BP"
          ],
          [
           "BP"
          ],
          [
           "Chevron"
          ],
          [
           "Chevron"
          ],
          [
           "Chevron"
          ],
          [
           "Chevron"
          ],
          [
           "Chevron"
          ],
          [
           "EDF"
          ],
          [
           "EDF"
          ],
          [
           "EDF"
          ],
          [
           "EDF"
          ],
          [
           "EDF"
          ],
          [
           "Enel"
          ],
          [
           "Enel"
          ],
          [
           "Enel"
          ],
          [
           "Enel"
          ],
          [
           "Enel"
          ],
          [
           "Equinor"
          ],
          [
           "Equinor"
          ],
          [
           "Equinor"
          ],
          [
           "Equinor"
          ],
          [
           "Equinor"
          ],
          [
           "Exxon"
          ],
          [
           "Exxon"
          ],
          [
           "Exxon"
          ],
          [
           "Exxon"
          ],
          [
           "Exxon"
          ],
          [
           "Gazprom"
          ],
          [
           "Gazprom"
          ],
          [
           "Gazprom"
          ],
          [
           "Gazprom"
          ],
          [
           "Gazprom"
          ],
          [
           "Orsted"
          ],
          [
           "Orsted"
          ],
          [
           "Orsted"
          ],
          [
           "Orsted"
          ],
          [
           "Orsted"
          ],
          [
           "Oxy"
          ],
          [
           "Oxy"
          ],
          [
           "Oxy"
          ],
          [
           "Oxy"
          ],
          [
           "Oxy"
          ],
          [
           "PetroChina"
          ],
          [
           "PetroChina"
          ],
          [
           "PetroChina"
          ],
          [
           "PetroChina"
          ],
          [
           "PetroChina"
          ],
          [
           "Rosneft"
          ],
          [
           "Rosneft"
          ],
          [
           "Rosneft"
          ],
          [
           "Rosneft"
          ],
          [
           "Rosneft"
          ],
          [
           "Saudi Aramco"
          ],
          [
           "Saudi Aramco"
          ],
          [
           "Saudi Aramco"
          ],
          [
           "Saudi Aramco"
          ],
          [
           "Saudi Aramco"
          ],
          [
           "Shell"
          ],
          [
           "Shell"
          ],
          [
           "Shell"
          ],
          [
           "Shell"
          ],
          [
           "Shell"
          ]
         ],
         "hovertemplate": "SECTOR=Energy<br>SCOPE 1=%{x}<br>SCOPE 3=%{y}<br>COMPANY NAME=%{customdata[0]}<extra></extra>",
         "legendgroup": "Energy",
         "marker": {
          "color": "#EF553B",
          "symbol": "circle"
         },
         "mode": "markers",
         "name": "Energy",
         "orientation": "v",
         "showlegend": true,
         "type": "scatter",
         "x": [
          48800000,
          49200000,
          41700000,
          33200000,
          30400000,
          66000000,
          62000000,
          54000000,
          57000000,
          53000000,
          35699738,
          33090244,
          27690997,
          27381075,
          23817090,
          6816597,
          6963813,
          6895903,
          7276000,
          6560000,
          14946447,
          14719266,
          13294578,
          12009607,
          11365833,
          104000000,
          106000000,
          100000000,
          95000000,
          96000000,
          120089856,
          117097372,
          100970512,
          11987000,
          91000000,
          3483000,
          1846000,
          1851000,
          2142000,
          2510000,
          10370000,
          21618709,
          19015138,
          18495103,
          18454662,
          null,
          132170000,
          127570000,
          121390000,
          119680000,
          54700000,
          59400000,
          60900000,
          54200000,
          null,
          null,
          null,
          50200000,
          52300000,
          55780000,
          71000000,
          70000000,
          63000000,
          60000000,
          51000000
         ],
         "xaxis": "x",
         "y": [
          437000000,
          null,
          327600000,
          303600000,
          306700000,
          1023000000,
          1033000000,
          980000000,
          1071000000,
          1034000000,
          110759561,
          119363628,
          106649250,
          101804919,
          95917659,
          5261003,
          5819007,
          5315425,
          6000610,
          9504170,
          314102157,
          258995398,
          271036800,
          268747731,
          268367000,
          null,
          null,
          null,
          null,
          530000000,
          null,
          1154544765,
          1078493075,
          1150750000,
          null,
          36234400,
          33864140,
          25333000,
          18179000,
          10984000,
          71000000,
          259100000,
          225900000,
          211800000,
          217000000,
          null,
          null,
          null,
          null,
          null,
          244300000,
          301000000,
          280000000,
          null,
          null,
          null,
          null,
          null,
          null,
          null,
          696770000,
          693200000,
          1343550000,
          1344423000,
          1204294000
         ],
         "yaxis": "y"
        },
        {
         "customdata": [
          [
           "BMW"
          ],
          [
           "BMW"
          ],
          [
           "BMW"
          ],
          [
           "BMW"
          ],
          [
           "BMW"
          ],
          [
           "BMW"
          ],
          [
           "BYD"
          ],
          [
           "BYD"
          ],
          [
           "BYD"
          ],
          [
           "BYD"
          ],
          [
           "BYD"
          ],
          [
           "BYD"
          ],
          [
           "Daimler/Mercedes"
          ],
          [
           "Daimler/Mercedes"
          ],
          [
           "Daimler/Mercedes"
          ],
          [
           "Daimler/Mercedes"
          ],
          [
           "Daimler/Mercedes"
          ],
          [
           "Daimler/Mercedes"
          ],
          [
           "Fiat-Chrysler"
          ],
          [
           "Fiat-Chrysler"
          ],
          [
           "Fiat-Chrysler"
          ],
          [
           "Fiat-Chrysler"
          ],
          [
           "Fiat-Chrysler"
          ],
          [
           "Fiat-Chrysler"
          ],
          [
           "Ford"
          ],
          [
           "Ford"
          ],
          [
           "Ford"
          ],
          [
           "Ford"
          ],
          [
           "Ford"
          ],
          [
           "Ford"
          ],
          [
           "Geely"
          ],
          [
           "Geely"
          ],
          [
           "Geely"
          ],
          [
           "Geely"
          ],
          [
           "Geely"
          ],
          [
           "Geely"
          ],
          [
           "General Motors"
          ],
          [
           "General Motors"
          ],
          [
           "General Motors"
          ],
          [
           "General Motors"
          ],
          [
           "General Motors"
          ],
          [
           "General Motors"
          ],
          [
           "Honda"
          ],
          [
           "Honda"
          ],
          [
           "Honda"
          ],
          [
           "Honda"
          ],
          [
           "Honda"
          ],
          [
           "Honda"
          ],
          [
           "Hyundai"
          ],
          [
           "Hyundai"
          ],
          [
           "Hyundai"
          ],
          [
           "Hyundai"
          ],
          [
           "Hyundai"
          ],
          [
           "Tesla"
          ],
          [
           "Tesla"
          ],
          [
           "Tesla"
          ],
          [
           "Tesla"
          ],
          [
           "Tesla"
          ],
          [
           "Tesla"
          ],
          [
           "Toyota"
          ],
          [
           "Toyota"
          ],
          [
           "Toyota"
          ],
          [
           "Toyota"
          ],
          [
           "Toyota"
          ],
          [
           "Toyota"
          ],
          [
           "Volkswagen"
          ],
          [
           "Volkswagen"
          ],
          [
           "Volkswagen"
          ],
          [
           "Volkswagen"
          ],
          [
           "Volkswagen"
          ],
          [
           "Volkswagen"
          ]
         ],
         "hovertemplate": "SECTOR=Auto<br>SCOPE 1=%{x}<br>SCOPE 3=%{y}<br>COMPANY NAME=%{customdata[0]}<extra></extra>",
         "legendgroup": "Auto",
         "marker": {
          "color": "#00cc96",
          "symbol": "circle"
         },
         "mode": "markers",
         "name": "Auto",
         "orientation": "v",
         "showlegend": true,
         "type": "scatter",
         "x": [
          625072,
          581703,
          678403,
          678967,
          699713,
          694057,
          null,
          null,
          null,
          199406,
          315610,
          550932,
          1192000,
          1247000,
          1239000,
          1027000,
          681000,
          569000,
          1101289,
          1129268,
          1058367,
          877603,
          1700000,
          1500000,
          1391127,
          1442963,
          1451947,
          1124798,
          1069907,
          1197739,
          126934,
          138921,
          141100,
          166395,
          263159,
          249291,
          1848804,
          1763555,
          1589700,
          1214124,
          1252906,
          1466452,
          1350000,
          1380000,
          1240000,
          1120000,
          1160244,
          1090000,
          852547,
          874997,
          807498,
          716237,
          723966,
          null,
          null,
          null,
          null,
          185000,
          202000,
          2604655,
          2554577,
          1904119,
          1642074,
          2560000,
          2370000,
          4297748,
          4068261,
          4494068,
          4335495,
          4740873,
          4461403
         ],
         "xaxis": "x",
         "y": [
          71690753,
          73093077,
          132520346,
          117682832,
          121705367,
          116586786,
          null,
          null,
          null,
          null,
          null,
          123025950,
          82530800,
          79300000,
          144408800,
          102237000,
          123158000,
          123025950,
          124729588,
          115993925,
          122750694,
          null,
          523305000,
          447230000,
          211807837,
          174463469,
          187993867,
          349281992,
          299853676,
          370223094,
          null,
          null,
          null,
          34097000,
          102344820,
          101818690,
          280849954,
          264495398,
          249313396,
          254440148,
          233167875,
          272722605,
          314067700,
          310718300,
          297816499,
          244758486,
          275724920,
          284409746,
          7051724,
          5582405,
          120382017,
          100536484,
          101790793,
          null,
          null,
          null,
          null,
          1954000,
          30100000,
          401742000,
          412184600,
          397940000,
          341344044,
          373340317,
          573825072,
          340767244,
          427972277,
          447225434,
          368258661,
          364179966,
          395681718
         ],
         "yaxis": "y"
        },
        {
         "customdata": [
          [
           "Alphabet"
          ],
          [
           "Alphabet"
          ],
          [
           "Alphabet"
          ],
          [
           "Alphabet"
          ],
          [
           "Alphabet"
          ],
          [
           "Amazon"
          ],
          [
           "Amazon"
          ],
          [
           "Amazon"
          ],
          [
           "Amazon"
          ],
          [
           "Amazon"
          ],
          [
           "Apple"
          ],
          [
           "Apple"
          ],
          [
           "Apple"
          ],
          [
           "Apple"
          ],
          [
           "Apple"
          ],
          [
           "Meta"
          ],
          [
           "Meta"
          ],
          [
           "Meta"
          ],
          [
           "Meta"
          ],
          [
           "Meta"
          ],
          [
           "Microsoft"
          ],
          [
           "Microsoft"
          ],
          [
           "Microsoft"
          ],
          [
           "Microsoft"
          ],
          [
           "Microsoft"
          ],
          [
           "Samsung"
          ],
          [
           "Samsung"
          ],
          [
           "Samsung"
          ],
          [
           "Samsung"
          ],
          [
           "Samsung"
          ],
          [
           "TSMC"
          ],
          [
           "TSMC"
          ],
          [
           "TSMC"
          ],
          [
           "TSMC"
          ],
          [
           "TSMC"
          ]
         ],
         "hovertemplate": "SECTOR=Tech<br>SCOPE 1=%{x}<br>SCOPE 3=%{y}<br>COMPANY NAME=%{customdata[0]}<extra></extra>",
         "legendgroup": "Tech",
         "marker": {
          "color": "#ab63fa",
          "symbol": "circle"
         },
         "mode": "markers",
         "name": "Tech",
         "orientation": "v",
         "showlegend": true,
         "type": "scatter",
         "x": [
          63521,
          66686,
          38694,
          45073,
          91200,
          4980000,
          5760000,
          9620000,
          12110000,
          13401400,
          57440,
          52730,
          47430,
          55200,
          55202,
          42000,
          44000,
          29000,
          55173,
          66934,
          90723,
          113412,
          118100,
          123704,
          139413,
          4855000,
          5067000,
          5726300,
          7604000,
          5972000,
          2125725,
          2071743,
          2010692,
          2151937,
          2018789
         ],
         "xaxis": "x",
         "y": [
          12900467,
          11669000,
          9376000,
          9503000,
          7600000,
          34710000,
          39910000,
          45750000,
          55360000,
          54977815,
          25070000,
          24980000,
          22547000,
          23128400,
          20550000,
          652000,
          4078000,
          5091000,
          5651459,
          8466248,
          17834520,
          11322527,
          10817756,
          13784501,
          18863000,
          38234000,
          70063000,
          65591000,
          123234900,
          124715000,
          4315604,
          5307729,
          5571946,
          6127157,
          7429158
         ],
         "yaxis": "y"
        }
       ],
       "layout": {
        "legend": {
         "title": {
          "text": "SECTOR"
         },
         "tracegroupgap": 0
        },
        "margin": {
         "t": 60
        },
        "template": {
         "data": {
          "bar": [
           {
            "error_x": {
             "color": "#2a3f5f"
            },
            "error_y": {
             "color": "#2a3f5f"
            },
            "marker": {
             "line": {
              "color": "#E5ECF6",
              "width": 0.5
             },
             "pattern": {
              "fillmode": "overlay",
              "size": 10,
              "solidity": 0.2
             }
            },
            "type": "bar"
           }
          ],
          "barpolar": [
           {
            "marker": {
             "line": {
              "color": "#E5ECF6",
              "width": 0.5
             },
             "pattern": {
              "fillmode": "overlay",
              "size": 10,
              "solidity": 0.2
             }
            },
            "type": "barpolar"
           }
          ],
          "carpet": [
           {
            "aaxis": {
             "endlinecolor": "#2a3f5f",
             "gridcolor": "white",
             "linecolor": "white",
             "minorgridcolor": "white",
             "startlinecolor": "#2a3f5f"
            },
            "baxis": {
             "endlinecolor": "#2a3f5f",
             "gridcolor": "white",
             "linecolor": "white",
             "minorgridcolor": "white",
             "startlinecolor": "#2a3f5f"
            },
            "type": "carpet"
           }
          ],
          "choropleth": [
           {
            "colorbar": {
             "outlinewidth": 0,
             "ticks": ""
            },
            "type": "choropleth"
           }
          ],
          "contour": [
           {
            "colorbar": {
             "outlinewidth": 0,
             "ticks": ""
            },
            "colorscale": [
             [
              0,
              "#0d0887"
             ],
             [
              0.1111111111111111,
              "#46039f"
             ],
             [
              0.2222222222222222,
              "#7201a8"
             ],
             [
              0.3333333333333333,
              "#9c179e"
             ],
             [
              0.4444444444444444,
              "#bd3786"
             ],
             [
              0.5555555555555556,
              "#d8576b"
             ],
             [
              0.6666666666666666,
              "#ed7953"
             ],
             [
              0.7777777777777778,
              "#fb9f3a"
             ],
             [
              0.8888888888888888,
              "#fdca26"
             ],
             [
              1,
              "#f0f921"
             ]
            ],
            "type": "contour"
           }
          ],
          "contourcarpet": [
           {
            "colorbar": {
             "outlinewidth": 0,
             "ticks": ""
            },
            "type": "contourcarpet"
           }
          ],
          "heatmap": [
           {
            "colorbar": {
             "outlinewidth": 0,
             "ticks": ""
            },
            "colorscale": [
             [
              0,
              "#0d0887"
             ],
             [
              0.1111111111111111,
              "#46039f"
             ],
             [
              0.2222222222222222,
              "#7201a8"
             ],
             [
              0.3333333333333333,
              "#9c179e"
             ],
             [
              0.4444444444444444,
              "#bd3786"
             ],
             [
              0.5555555555555556,
              "#d8576b"
             ],
             [
              0.6666666666666666,
              "#ed7953"
             ],
             [
              0.7777777777777778,
              "#fb9f3a"
             ],
             [
              0.8888888888888888,
              "#fdca26"
             ],
             [
              1,
              "#f0f921"
             ]
            ],
            "type": "heatmap"
           }
          ],
          "heatmapgl": [
           {
            "colorbar": {
             "outlinewidth": 0,
             "ticks": ""
            },
            "colorscale": [
             [
              0,
              "#0d0887"
             ],
             [
              0.1111111111111111,
              "#46039f"
             ],
             [
              0.2222222222222222,
              "#7201a8"
             ],
             [
              0.3333333333333333,
              "#9c179e"
             ],
             [
              0.4444444444444444,
              "#bd3786"
             ],
             [
              0.5555555555555556,
              "#d8576b"
             ],
             [
              0.6666666666666666,
              "#ed7953"
             ],
             [
              0.7777777777777778,
              "#fb9f3a"
             ],
             [
              0.8888888888888888,
              "#fdca26"
             ],
             [
              1,
              "#f0f921"
             ]
            ],
            "type": "heatmapgl"
           }
          ],
          "histogram": [
           {
            "marker": {
             "pattern": {
              "fillmode": "overlay",
              "size": 10,
              "solidity": 0.2
             }
            },
            "type": "histogram"
           }
          ],
          "histogram2d": [
           {
            "colorbar": {
             "outlinewidth": 0,
             "ticks": ""
            },
            "colorscale": [
             [
              0,
              "#0d0887"
             ],
             [
              0.1111111111111111,
              "#46039f"
             ],
             [
              0.2222222222222222,
              "#7201a8"
             ],
             [
              0.3333333333333333,
              "#9c179e"
             ],
             [
              0.4444444444444444,
              "#bd3786"
             ],
             [
              0.5555555555555556,
              "#d8576b"
             ],
             [
              0.6666666666666666,
              "#ed7953"
             ],
             [
              0.7777777777777778,
              "#fb9f3a"
             ],
             [
              0.8888888888888888,
              "#fdca26"
             ],
             [
              1,
              "#f0f921"
             ]
            ],
            "type": "histogram2d"
           }
          ],
          "histogram2dcontour": [
           {
            "colorbar": {
             "outlinewidth": 0,
             "ticks": ""
            },
            "colorscale": [
             [
              0,
              "#0d0887"
             ],
             [
              0.1111111111111111,
              "#46039f"
             ],
             [
              0.2222222222222222,
              "#7201a8"
             ],
             [
              0.3333333333333333,
              "#9c179e"
             ],
             [
              0.4444444444444444,
              "#bd3786"
             ],
             [
              0.5555555555555556,
              "#d8576b"
             ],
             [
              0.6666666666666666,
              "#ed7953"
             ],
             [
              0.7777777777777778,
              "#fb9f3a"
             ],
             [
              0.8888888888888888,
              "#fdca26"
             ],
             [
              1,
              "#f0f921"
             ]
            ],
            "type": "histogram2dcontour"
           }
          ],
          "mesh3d": [
           {
            "colorbar": {
             "outlinewidth": 0,
             "ticks": ""
            },
            "type": "mesh3d"
           }
          ],
          "parcoords": [
           {
            "line": {
             "colorbar": {
              "outlinewidth": 0,
              "ticks": ""
             }
            },
            "type": "parcoords"
           }
          ],
          "pie": [
           {
            "automargin": true,
            "type": "pie"
           }
          ],
          "scatter": [
           {
            "fillpattern": {
             "fillmode": "overlay",
             "size": 10,
             "solidity": 0.2
            },
            "type": "scatter"
           }
          ],
          "scatter3d": [
           {
            "line": {
             "colorbar": {
              "outlinewidth": 0,
              "ticks": ""
             }
            },
            "marker": {
             "colorbar": {
              "outlinewidth": 0,
              "ticks": ""
             }
            },
            "type": "scatter3d"
           }
          ],
          "scattercarpet": [
           {
            "marker": {
             "colorbar": {
              "outlinewidth": 0,
              "ticks": ""
             }
            },
            "type": "scattercarpet"
           }
          ],
          "scattergeo": [
           {
            "marker": {
             "colorbar": {
              "outlinewidth": 0,
              "ticks": ""
             }
            },
            "type": "scattergeo"
           }
          ],
          "scattergl": [
           {
            "marker": {
             "colorbar": {
              "outlinewidth": 0,
              "ticks": ""
             }
            },
            "type": "scattergl"
           }
          ],
          "scattermapbox": [
           {
            "marker": {
             "colorbar": {
              "outlinewidth": 0,
              "ticks": ""
             }
            },
            "type": "scattermapbox"
           }
          ],
          "scatterpolar": [
           {
            "marker": {
             "colorbar": {
              "outlinewidth": 0,
              "ticks": ""
             }
            },
            "type": "scatterpolar"
           }
          ],
          "scatterpolargl": [
           {
            "marker": {
             "colorbar": {
              "outlinewidth": 0,
              "ticks": ""
             }
            },
            "type": "scatterpolargl"
           }
          ],
          "scatterternary": [
           {
            "marker": {
             "colorbar": {
              "outlinewidth": 0,
              "ticks": ""
             }
            },
            "type": "scatterternary"
           }
          ],
          "surface": [
           {
            "colorbar": {
             "outlinewidth": 0,
             "ticks": ""
            },
            "colorscale": [
             [
              0,
              "#0d0887"
             ],
             [
              0.1111111111111111,
              "#46039f"
             ],
             [
              0.2222222222222222,
              "#7201a8"
             ],
             [
              0.3333333333333333,
              "#9c179e"
             ],
             [
              0.4444444444444444,
              "#bd3786"
             ],
             [
              0.5555555555555556,
              "#d8576b"
             ],
             [
              0.6666666666666666,
              "#ed7953"
             ],
             [
              0.7777777777777778,
              "#fb9f3a"
             ],
             [
              0.8888888888888888,
              "#fdca26"
             ],
             [
              1,
              "#f0f921"
             ]
            ],
            "type": "surface"
           }
          ],
          "table": [
           {
            "cells": {
             "fill": {
              "color": "#EBF0F8"
             },
             "line": {
              "color": "white"
             }
            },
            "header": {
             "fill": {
              "color": "#C8D4E3"
             },
             "line": {
              "color": "white"
             }
            },
            "type": "table"
           }
          ]
         },
         "layout": {
          "annotationdefaults": {
           "arrowcolor": "#2a3f5f",
           "arrowhead": 0,
           "arrowwidth": 1
          },
          "autotypenumbers": "strict",
          "coloraxis": {
           "colorbar": {
            "outlinewidth": 0,
            "ticks": ""
           }
          },
          "colorscale": {
           "diverging": [
            [
             0,
             "#8e0152"
            ],
            [
             0.1,
             "#c51b7d"
            ],
            [
             0.2,
             "#de77ae"
            ],
            [
             0.3,
             "#f1b6da"
            ],
            [
             0.4,
             "#fde0ef"
            ],
            [
             0.5,
             "#f7f7f7"
            ],
            [
             0.6,
             "#e6f5d0"
            ],
            [
             0.7,
             "#b8e186"
            ],
            [
             0.8,
             "#7fbc41"
            ],
            [
             0.9,
             "#4d9221"
            ],
            [
             1,
             "#276419"
            ]
           ],
           "sequential": [
            [
             0,
             "#0d0887"
            ],
            [
             0.1111111111111111,
             "#46039f"
            ],
            [
             0.2222222222222222,
             "#7201a8"
            ],
            [
             0.3333333333333333,
             "#9c179e"
            ],
            [
             0.4444444444444444,
             "#bd3786"
            ],
            [
             0.5555555555555556,
             "#d8576b"
            ],
            [
             0.6666666666666666,
             "#ed7953"
            ],
            [
             0.7777777777777778,
             "#fb9f3a"
            ],
            [
             0.8888888888888888,
             "#fdca26"
            ],
            [
             1,
             "#f0f921"
            ]
           ],
           "sequentialminus": [
            [
             0,
             "#0d0887"
            ],
            [
             0.1111111111111111,
             "#46039f"
            ],
            [
             0.2222222222222222,
             "#7201a8"
            ],
            [
             0.3333333333333333,
             "#9c179e"
            ],
            [
             0.4444444444444444,
             "#bd3786"
            ],
            [
             0.5555555555555556,
             "#d8576b"
            ],
            [
             0.6666666666666666,
             "#ed7953"
            ],
            [
             0.7777777777777778,
             "#fb9f3a"
            ],
            [
             0.8888888888888888,
             "#fdca26"
            ],
            [
             1,
             "#f0f921"
            ]
           ]
          },
          "colorway": [
           "#636efa",
           "#EF553B",
           "#00cc96",
           "#ab63fa",
           "#FFA15A",
           "#19d3f3",
           "#FF6692",
           "#B6E880",
           "#FF97FF",
           "#FECB52"
          ],
          "font": {
           "color": "#2a3f5f"
          },
          "geo": {
           "bgcolor": "white",
           "lakecolor": "white",
           "landcolor": "#E5ECF6",
           "showlakes": true,
           "showland": true,
           "subunitcolor": "white"
          },
          "hoverlabel": {
           "align": "left"
          },
          "hovermode": "closest",
          "mapbox": {
           "style": "light"
          },
          "paper_bgcolor": "white",
          "plot_bgcolor": "#E5ECF6",
          "polar": {
           "angularaxis": {
            "gridcolor": "white",
            "linecolor": "white",
            "ticks": ""
           },
           "bgcolor": "#E5ECF6",
           "radialaxis": {
            "gridcolor": "white",
            "linecolor": "white",
            "ticks": ""
           }
          },
          "scene": {
           "xaxis": {
            "backgroundcolor": "#E5ECF6",
            "gridcolor": "white",
            "gridwidth": 2,
            "linecolor": "white",
            "showbackground": true,
            "ticks": "",
            "zerolinecolor": "white"
           },
           "yaxis": {
            "backgroundcolor": "#E5ECF6",
            "gridcolor": "white",
            "gridwidth": 2,
            "linecolor": "white",
            "showbackground": true,
            "ticks": "",
            "zerolinecolor": "white"
           },
           "zaxis": {
            "backgroundcolor": "#E5ECF6",
            "gridcolor": "white",
            "gridwidth": 2,
            "linecolor": "white",
            "showbackground": true,
            "ticks": "",
            "zerolinecolor": "white"
           }
          },
          "shapedefaults": {
           "line": {
            "color": "#2a3f5f"
           }
          },
          "ternary": {
           "aaxis": {
            "gridcolor": "white",
            "linecolor": "white",
            "ticks": ""
           },
           "baxis": {
            "gridcolor": "white",
            "linecolor": "white",
            "ticks": ""
           },
           "bgcolor": "#E5ECF6",
           "caxis": {
            "gridcolor": "white",
            "linecolor": "white",
            "ticks": ""
           }
          },
          "title": {
           "x": 0.05
          },
          "xaxis": {
           "automargin": true,
           "gridcolor": "white",
           "linecolor": "white",
           "ticks": "",
           "title": {
            "standoff": 15
           },
           "zerolinecolor": "white",
           "zerolinewidth": 2
          },
          "yaxis": {
           "automargin": true,
           "gridcolor": "white",
           "linecolor": "white",
           "ticks": "",
           "title": {
            "standoff": 15
           },
           "zerolinecolor": "white",
           "zerolinewidth": 2
          }
         }
        },
        "title": {
         "text": "Scope 1 vs. Scope 3 Across All Sectors"
        },
        "xaxis": {
         "anchor": "y",
         "domain": [
          0,
          1
         ],
         "title": {
          "text": "SCOPE 1"
         }
        },
        "yaxis": {
         "anchor": "x",
         "domain": [
          0,
          1
         ],
         "title": {
          "text": "SCOPE 3"
         }
        }
       }
      }
     },
     "metadata": {},
     "output_type": "display_data"
    }
   ],
   "source": [
    "# scope 1 vs. scope 3\n",
    "\n",
    "fig = px.scatter(sectors, x='SCOPE 1', y='SCOPE 3', color='SECTOR', hover_data=['COMPANY NAME'])\n",
    "fig.update_layout(title='Scope 1 vs. Scope 3 Across All Sectors')\n",
    "fig.show()"
   ]
  },
  {
   "cell_type": "code",
   "execution_count": 40,
   "metadata": {},
   "outputs": [
    {
     "data": {
      "text/plain": [
       "Ellipsis"
      ]
     },
     "execution_count": 40,
     "metadata": {},
     "output_type": "execute_result"
    }
   ],
   "source": [
    "# scratch work code cell, replace elipses with any code you'd like to try\n",
    "\n",
    "..."
   ]
  },
  {
   "cell_type": "markdown",
   "metadata": {},
   "source": [
    "---"
   ]
  },
  {
   "cell_type": "markdown",
   "metadata": {},
   "source": [
    "## Cross Sector Charts\n",
    "\n",
    "*The goal of this section is to generate charts like the ones in the **Cross-Sector** tab of the **emissions** Google Sheet.*"
   ]
  },
  {
   "cell_type": "markdown",
   "metadata": {},
   "source": [
    "The following charts display the emissions emitted by each company within a sector for a given year. A key observation is that scope 3 swamps scope 1 and 2 emissions. If you would like to exclude scope 3, set bool to True."
   ]
  },
  {
   "cell_type": "code",
   "execution_count": null,
   "metadata": {},
   "outputs": [],
   "source": [
    "# food and ag totals for 2022\n",
    "\n",
    "graph_CosInSectorTotals(foodag, 2022, bool=False)"
   ]
  },
  {
   "cell_type": "code",
   "execution_count": null,
   "metadata": {},
   "outputs": [],
   "source": [
    "# energy totals for 2022\n",
    "\n",
    "graph_CosInSectorTotals(energy, 2022, bool=False)"
   ]
  },
  {
   "cell_type": "code",
   "execution_count": null,
   "metadata": {},
   "outputs": [],
   "source": [
    "# tech totals for 2022\n",
    "\n",
    "graph_CosInSectorTotals(tech, 2022, bool=False)"
   ]
  },
  {
   "cell_type": "code",
   "execution_count": null,
   "metadata": {},
   "outputs": [],
   "source": [
    "# auto totals for 2022\n",
    "\n",
    "graph_CosInSectorTotals(auto, 2022, bool=False)"
   ]
  },
  {
   "cell_type": "code",
   "execution_count": null,
   "metadata": {},
   "outputs": [],
   "source": [
    "# scratch work code cell, replace elipses with any code you'd like to try\n",
    "\n",
    "...\n",
    "\n",
    "# to play around with the function used to generate graphs above, replace data and year to indicate a DataFrame and year you would like to see\n",
    "# change bool to True if you would like to exclude scope 3\n",
    "# uncomment the code below to generate graph\n",
    "\n",
    "# graph_CosInSectorTotals(data, year, bool=False)\n",
    "graph_CosInSectorTotals(foodag, 2022, bool=True)"
   ]
  },
  {
   "cell_type": "markdown",
   "metadata": {},
   "source": [
    "---"
   ]
  },
  {
   "cell_type": "markdown",
   "metadata": {},
   "source": [
    "## Company Charts by Sector\n",
    "\n",
    "*The charts generated below follow the format of the charts we generated in Google Sheets. Make sure to run the **Helper Functions** section in order to generate this section properly.*"
   ]
  },
  {
   "cell_type": "markdown",
   "metadata": {},
   "source": [
    "### Food & Agriculture Emissions Charts"
   ]
  },
  {
   "cell_type": "markdown",
   "metadata": {},
   "source": [
    "<span style=\"color:red\">TASK: Need to include CI in legend, trying to figure out syntax to do so.</span>"
   ]
  },
  {
   "cell_type": "code",
   "execution_count": null,
   "metadata": {},
   "outputs": [],
   "source": [
    "# graph charts for every company\n",
    "\n",
    "yrs1 = [2017, 2018, 2019, 2020]\n",
    "yrs2 = [2018, 2019, 2020, 2021]\n",
    "yrs3 = [2018, 2019, 2020, 2021, 2022]\n",
    "yrs4 = [np.arange(2017, 2023)]\n",
    "\n",
    "for company in foodag['COMPANY NAME'].unique():\n",
    "    num_years = foodag.loc[foodag['COMPANY NAME']==company, 'YEAR'].shape[0]\n",
    "    if num_years == 4:\n",
    "        graphCoEmissions(foodag, company, yrs2)\n",
    "    else:\n",
    "        graphCoEmissions(foodag, company, yrs3)"
   ]
  },
  {
   "cell_type": "code",
   "execution_count": null,
   "metadata": {},
   "outputs": [],
   "source": [
    "# another way to plot charts\n",
    "import plotly.graph_objects as go\n",
    "\n",
    "for company in foodag['COMPANY NAME'].unique():\n",
    "    num_years = foodag.loc[foodag['COMPANY NAME']==company, 'YEAR'].shape[0]\n",
    "    if num_years == 4:\n",
    "        graphCoEmissionsPlotly(foodag, company, yrs2)\n",
    "    else:\n",
    "        graphCoEmissionsPlotly(foodag, company, yrs3)\n"
   ]
  },
  {
   "cell_type": "markdown",
   "metadata": {},
   "source": [
    "### Energy Emissions Charts"
   ]
  },
  {
   "cell_type": "markdown",
   "metadata": {},
   "source": [
    "<span style=\"color:red\">TASK: Exclude years with no data.</span>"
   ]
  },
  {
   "cell_type": "code",
   "execution_count": null,
   "metadata": {},
   "outputs": [],
   "source": [
    "# graph energy charts\n",
    "\n",
    "for company in energy['COMPANY NAME'].unique():\n",
    "    num_years = energy.loc[energy['COMPANY NAME']==company, 'YEAR'].shape[0]\n",
    "    if num_years == 4:\n",
    "        graphCoEmissionsPlotly(energy, company, yrs2)\n",
    "    else:\n",
    "        graphCoEmissionsPlotly(energy, company, yrs3)"
   ]
  },
  {
   "cell_type": "markdown",
   "metadata": {},
   "source": [
    "### Tech Emissions Charts"
   ]
  },
  {
   "cell_type": "code",
   "execution_count": null,
   "metadata": {},
   "outputs": [],
   "source": [
    "# graph tech charts\n",
    "\n",
    "for company in tech['COMPANY NAME'].unique():\n",
    "    num_years = tech.loc[tech['COMPANY NAME']==company, 'YEAR'].shape[0]\n",
    "    if num_years == 4:\n",
    "        graphCoEmissionsPlotly(tech, company, yrs2)\n",
    "    else:\n",
    "        graphCoEmissionsPlotly(tech, company, yrs3)"
   ]
  },
  {
   "cell_type": "markdown",
   "metadata": {},
   "source": [
    "### Auto Emissions Charts"
   ]
  },
  {
   "cell_type": "code",
   "execution_count": null,
   "metadata": {},
   "outputs": [],
   "source": [
    "for company in auto['COMPANY NAME'].unique():\n",
    "    num_years = auto.loc[auto['COMPANY NAME']==company, 'YEAR'].shape[0]\n",
    "    if num_years == 4:\n",
    "        graphCoEmissionsPlotly(auto, company, yrs2)\n",
    "    else:\n",
    "        graphCoEmissionsPlotly(auto, company, yrs3)"
   ]
  },
  {
   "cell_type": "code",
   "execution_count": null,
   "metadata": {},
   "outputs": [],
   "source": [
    "# scratch work code cell, replace elipses with any code you'd like to try\n",
    "\n",
    "..."
   ]
  },
  {
   "cell_type": "markdown",
   "metadata": {},
   "source": [
    "---"
   ]
  },
  {
   "cell_type": "markdown",
   "metadata": {},
   "source": [
    "## Net-Zero Goals\n",
    "\n",
    "I'd like to create simple visuals depicting net-zero goals for each firm"
   ]
  },
  {
   "cell_type": "code",
   "execution_count": null,
   "metadata": {},
   "outputs": [],
   "source": []
  },
  {
   "cell_type": "markdown",
   "metadata": {},
   "source": [
    "---"
   ]
  },
  {
   "cell_type": "markdown",
   "metadata": {},
   "source": [
    "# Section 4) Conclusion\n",
    "\n",
    "maybe link paper here?"
   ]
  },
  {
   "cell_type": "markdown",
   "metadata": {},
   "source": [
    "## What We Learned\n"
   ]
  },
  {
   "cell_type": "markdown",
   "metadata": {},
   "source": [
    "## Next Steps"
   ]
  },
  {
   "cell_type": "markdown",
   "metadata": {},
   "source": [
    "## Collaboration Efforts\n",
    "\n",
    "Contribute to our live database by filling out this Google Form and report your own emissions data!"
   ]
  },
  {
   "cell_type": "markdown",
   "metadata": {},
   "source": [
    "---"
   ]
  },
  {
   "cell_type": "markdown",
   "metadata": {},
   "source": []
  },
  {
   "cell_type": "code",
   "execution_count": null,
   "metadata": {},
   "outputs": [],
   "source": [
    "e = energy.groupby('YEAR').sum(numeric_only=True)\n",
    "e['TOTAL EMISSIONS']\n"
   ]
  },
  {
   "cell_type": "code",
   "execution_count": null,
   "metadata": {},
   "outputs": [],
   "source": [
    "years=[2018,2019,2020,2021,2022]\n",
    "total_emissions = e['TOTAL EMISSIONS'].values / 1000000\n",
    "\n",
    "fig, ax = plt.subplots()\n",
    "\n",
    "ax.bar(years, total_emissions, color='navy')\n",
    "plt.xlabel('Year')\n",
    "plt.ylabel('GHG Emissions (million mt $CO_{2}e$)')\n",
    "plt.title('Energy Sector', fontsize=10)\n",
    "plt.suptitle('Total GHG Emissions (2018-2022)', fontsize=14, fontweight='bold')\n",
    "bars = ax.bar(years, total_emissions)\n",
    "ax.bar_label(bars)"
   ]
  },
  {
   "cell_type": "markdown",
   "metadata": {},
   "source": []
  },
  {
   "cell_type": "code",
   "execution_count": null,
   "metadata": {},
   "outputs": [],
   "source": [
    "sectors.head()"
   ]
  },
  {
   "cell_type": "code",
   "execution_count": null,
   "metadata": {},
   "outputs": [],
   "source": [
    "companies = sectors.loc[sectors['SECTOR']=='Food & Agriculture', 'COMPANY NAME'].unique()\n",
    "companies"
   ]
  },
  {
   "cell_type": "code",
   "execution_count": null,
   "metadata": {},
   "outputs": [],
   "source": [
    "sectors[sectors['SECTOR']=='Auto']"
   ]
  },
  {
   "cell_type": "code",
   "execution_count": null,
   "metadata": {},
   "outputs": [],
   "source": [
    "companies = sectors.loc[sectors['SECTOR']=='Auto', 'COMPANY NAME'].unique()\n",
    "years = ['2017', '2018','2019', '2020', '2021', '2022']\n",
    "\n",
    "for co in companies:\n",
    "    ci = sectors[sectors['COMPANY NAME'] == co][\"Adjusted CI\"]\n",
    "    plt.plot(years, ci, label = co, marker='o', markersize=5)\n",
    "plt.legend(loc = 'upper right', fontsize = 'xx-small')\n",
    "plt.xlabel('Year')\n",
    "plt.ylabel('Carbon Intensity (mt $CO_{2}e$ / mill USD)')\n",
    "plt.title('Food & Ag Carbon Intensity Over Time (2018-2022)');"
   ]
  },
  {
   "cell_type": "code",
   "execution_count": null,
   "metadata": {},
   "outputs": [],
   "source": [
    "companies = sectors.loc[sectors['SECTOR']=='Auto', 'COMPANY NAME'].unique()\n",
    "years = ['2017', '2018','2019', '2020', '2021', '2022']\n",
    "\n",
    "for co in companies:\n",
    "    total = sectors[sectors['COMPANY NAME'] == co][\"SCOPE 1\"] /100000\n",
    "    plt.plot(years, total, label = co, marker='o', markersize=5)\n",
    "plt.legend(loc = 'upper right', fontsize = 'xx-small')\n",
    "plt.xlabel('Year')\n",
    "plt.ylabel('Total Emissions (hundred thousand mt $CO_{2}e$)')\n",
    "plt.title('Technology', fontsize=10)\n",
    "plt.suptitle('Scope 2 Emissions Over Time (2018-2022)');"
   ]
  },
  {
   "cell_type": "code",
   "execution_count": null,
   "metadata": {},
   "outputs": [],
   "source": [
    "foodag['COMPANY NAME'].unique()"
   ]
  },
  {
   "cell_type": "code",
   "execution_count": null,
   "metadata": {},
   "outputs": [],
   "source": [
    "graphCoEmissions(auto, \"Toyota\", [2017, 2018,2019,2020,2021,2022])"
   ]
  },
  {
   "cell_type": "code",
   "execution_count": null,
   "metadata": {},
   "outputs": [],
   "source": [
    "graphCoEmissions(auto, \"Daimler/Mercedes\", [2017, 2018,2019,2020,2021,2022])"
   ]
  },
  {
   "cell_type": "code",
   "execution_count": null,
   "metadata": {},
   "outputs": [],
   "source": [
    "auto['COMPANY NAME'].unique()"
   ]
  },
  {
   "cell_type": "code",
   "execution_count": null,
   "metadata": {},
   "outputs": [],
   "source": [
    "x = np.arange(2017,2023)\n",
    "y = sectors.groupby('YEAR').count()['SUBMIT TO CDP']\n",
    "plt.bar(x, y)\n",
    "plt.suptitle('Count of CDP Submissions Over Time (2017-2022)')\n",
    "plt.xlabel('Year')\n",
    "plt.ylabel('Submissions Counts')"
   ]
  },
  {
   "cell_type": "code",
   "execution_count": null,
   "metadata": {},
   "outputs": [],
   "source": []
  }
 ],
 "metadata": {
  "kernelspec": {
   "display_name": "Python 3.9.6 64-bit",
   "language": "python",
   "name": "python3"
  },
  "language_info": {
   "codemirror_mode": {
    "name": "ipython",
    "version": 3
   },
   "file_extension": ".py",
   "mimetype": "text/x-python",
   "name": "python",
   "nbconvert_exporter": "python",
   "pygments_lexer": "ipython3",
   "version": "3.9.6"
  },
  "orig_nbformat": 4,
  "vscode": {
   "interpreter": {
    "hash": "31f2aee4e71d21fbe5cf8b01ff0e069b9275f58929596ceb00d14d90e3e16cd6"
   }
  }
 },
 "nbformat": 4,
 "nbformat_minor": 2
}
