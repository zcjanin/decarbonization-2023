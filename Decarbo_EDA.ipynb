{
 "cells": [
  {
   "cell_type": "markdown",
   "metadata": {},
   "source": [
    "# Corporate Decarbonization Research\n",
    "---"
   ]
  },
  {
   "cell_type": "markdown",
   "metadata": {},
   "source": [
    "### Import modules"
   ]
  },
  {
   "cell_type": "code",
   "execution_count": 1,
   "metadata": {},
   "outputs": [],
   "source": [
    "import pandas as pd\n",
    "import numpy as np\n",
    "import seaborn as sns\n",
    "import plotly.express as px\n",
    "import matplotlib.pyplot as plt"
   ]
  },
  {
   "cell_type": "markdown",
   "metadata": {},
   "source": [
    "### Table of Contents\n",
    "**Section 1) Loading and Cleaning**\n",
    "- Loading the Raw Data\n",
    "- Helper Functions\n",
    "- More Data Cleaning\n",
    "\n",
    "**Section 2) EDA and Summary Statistics**\n",
    "- Cross-sector EDA\n",
    "\n",
    "**Section 3) Visualizations**\n",
    "- CDP Submissions\n",
    "- Cross-sector Charts\n",
    "- Scatter Plots\n",
    "- Company Emissions Charts"
   ]
  },
  {
   "cell_type": "markdown",
   "metadata": {},
   "source": [
    "---"
   ]
  },
  {
   "cell_type": "markdown",
   "metadata": {},
   "source": [
    "# SECTION 1) Loading and Cleaning"
   ]
  },
  {
   "cell_type": "markdown",
   "metadata": {},
   "source": [
    "## Loading the Raw Data"
   ]
  },
  {
   "cell_type": "markdown",
   "metadata": {},
   "source": [
    "*In this section of the notebook, I will be importing our data and performing some preliminary cleaning/standardizing of our datasets to create separate DataFrames for each sector and an aggregated DataFrame containing all sectors. More data cleaning will be performed after the **Helper Functions** section.*"
   ]
  },
  {
   "cell_type": "code",
   "execution_count": null,
   "metadata": {},
   "outputs": [],
   "source": [
    "# load in data\n",
    "\n",
    "foodag = pd.read_csv('data/foodag23.csv')\n",
    "energy = pd.read_csv('data/energy23.csv')\n",
    "auto = pd.read_csv('data/auto23.csv')\n",
    "tech = pd.read_csv('data/tech23.csv')\n"
   ]
  },
  {
   "cell_type": "code",
   "execution_count": null,
   "metadata": {},
   "outputs": [],
   "source": [
    "# Add sector columns to concatenate df's\n",
    "\n",
    "foodag['SECTOR'] = ['Food & Agriculture'] * len(foodag['COMPANY NAME'])\n",
    "energy['SECTOR'] = ['Energy'] * len(energy['COMPANY NAME'])\n",
    "auto['SECTOR'] = ['Auto'] * len(auto['COMPANY NAME'])\n",
    "tech['SECTOR'] = ['Tech'] * len(tech['COMPANY NAME'])\n",
    "foodag.shape, energy.shape, auto.shape, tech.shape\n"
   ]
  },
  {
   "cell_type": "code",
   "execution_count": null,
   "metadata": {},
   "outputs": [],
   "source": [
    "# clean tech to standardize columns across all df's, shorten CI column name\n",
    "\n",
    "tech = tech.rename(columns={'CARBON INTENSITY\\n(Scope 1 & 2 g CO2e/ $ Sales) \\ncalculated' :\n",
    "'CARBON INTENSITY\\n(Scope 1 & 2 g CO2e / $ Sales)'})\n",
    "\n",
    "df_array = [foodag, energy, auto, tech]\n",
    "for df in df_array:\n",
    "    df.rename(columns={'CARBON INTENSITY\\n(Scope 1 & 2 g CO2e / $ Sales)': 'CARBON INTENSITY'}, inplace=True)\n"
   ]
  },
  {
   "cell_type": "code",
   "execution_count": null,
   "metadata": {},
   "outputs": [],
   "source": [
    "# concatenate dataframes together\n",
    "\n",
    "sectors = pd.concat([foodag, energy, auto, tech])\n",
    "sectors = sectors.drop(columns='SCOPE 1 + SCOPE 2 EMISSIONS')\n",
    "sectors.shape"
   ]
  },
  {
   "cell_type": "markdown",
   "metadata": {},
   "source": [
    "### *To access a dataset containing all sectors, use the `sectors` DataFrame. To acccess individual sectors, choose from `foodag`, `tech`, `auto`, and `energy`.*"
   ]
  },
  {
   "cell_type": "markdown",
   "metadata": {},
   "source": [
    "### `sectors`"
   ]
  },
  {
   "cell_type": "code",
   "execution_count": null,
   "metadata": {},
   "outputs": [],
   "source": [
    "# show sectors\n",
    "\n",
    "sectors.head()"
   ]
  },
  {
   "cell_type": "markdown",
   "metadata": {},
   "source": [
    "### Example Sector DataFrame: `foodag`"
   ]
  },
  {
   "cell_type": "code",
   "execution_count": null,
   "metadata": {},
   "outputs": [],
   "source": [
    "# show food and ag\n",
    "\n",
    "foodag.head()"
   ]
  },
  {
   "cell_type": "code",
   "execution_count": null,
   "metadata": {},
   "outputs": [],
   "source": [
    "# scratch work code cell, replace elipses with any code you'd like to try\n",
    "\n",
    "..."
   ]
  },
  {
   "cell_type": "markdown",
   "metadata": {},
   "source": [
    "---"
   ]
  },
  {
   "cell_type": "markdown",
   "metadata": {},
   "source": [
    "## Helper Functions"
   ]
  },
  {
   "cell_type": "markdown",
   "metadata": {},
   "source": [
    "*This section will contain any functions used to generate graphs, standardize columns, etc.*"
   ]
  },
  {
   "cell_type": "markdown",
   "metadata": {},
   "source": [
    "<span style=\"color:red\">TASK: Apply revenue functions created to convert all revenues to USD in order to more accurately compare carbon intensity.</span>"
   ]
  },
  {
   "cell_type": "code",
   "execution_count": null,
   "metadata": {},
   "outputs": [],
   "source": [
    "# convert revenue's to USD\n",
    "\n",
    "def toUSD(i):\n",
    "    dic = {\n",
    "    'AUD': 0.75,   # 1 AUD to USD\n",
    "    'CAD': 0.78,   # 1 CAD to USD\n",
    "    'CHF': 1.09,   # 1 CHF to USD\n",
    "    'DKK': 0.15,   # 1 DKK to USD\n",
    "    'EUR': 1.16,   # 1 EUR to USD\n",
    "    'GBP': 1.37,   # 1 GBP to USD\n",
    "    'JPY': 0.009,  # 1 JPY to USD\n",
    "    'KRW': 0.0009, # 1 KRW to USD\n",
    "    'NOK': 0.11,   # 1 NOK to USD\n",
    "    'RUB': 0.014,  # 1 RUB to USD\n",
    "    'SEK': 0.11,   # 1 SEK to USD\n",
    "    'RMB': 7.29,   # 1 RMB to USD\n",
    "    'TWD' : 0.03,  # 1 TWD to USD\n",
    "    'USD': 1       # No Change    \n",
    "    }\n",
    "    if (i[0] != 'nan') & (i[1] != 'nan'):\n",
    "        return i[1] * dic[i[0]] # The revenue multiplied by the corresponding USD conversion rate\n",
    "\n",
    "# sectors['Revenue (USD)'] = sectors.apply(toUSD, 'TOTAL REVENUE (miillion $)')  # --- use this code to apply the function in the revenue column when ready"
   ]
  },
  {
   "cell_type": "code",
   "execution_count": null,
   "metadata": {},
   "outputs": [],
   "source": [
    "# Function for creating column with [Currency, Revenue]\n",
    "\n",
    "def currAndRev(df):\n",
    "    new_col = []\n",
    "    for i in np.arange(df.shape[0]):\n",
    "        new_col.append([df['CURRENCY'].values[i], df['TOTAL REVENUE (miillion $)'].values[i]])\n",
    "    df['REVENUE IN USD'] = new_col\n",
    "\n",
    "# currAndRev(sectors)\n"
   ]
  },
  {
   "cell_type": "code",
   "execution_count": null,
   "metadata": {},
   "outputs": [],
   "source": [
    "# graph sector summary charts using matplotlib\n",
    "\n",
    "def graphCoEmissions(df, co_name, years_arr):\n",
    "    # format plots and add right axis for CI\n",
    "    fig, ax1 = plt.subplots()\n",
    "    ax2 = ax1.twinx()\n",
    "\n",
    "    # create x axis array\n",
    "    years = df.loc[df['COMPANY NAME']==co_name, 'YEAR']\n",
    "\n",
    "    # create bar chart stacks and CI array\n",
    "    scope1 = df.loc[df['COMPANY NAME']==co_name, 'SCOPE 1']\n",
    "    scope2 = df.loc[df['COMPANY NAME']==co_name, 'SCOPE 2 (location-based)']\n",
    "    scope3 = df.loc[df['COMPANY NAME']==co_name, 'SCOPE 3']\n",
    "    ci = df.loc[df['COMPANY NAME']==co_name, 'CARBON INTENSITY']\n",
    "\n",
    "    # plot bar chart\n",
    "    b1 = ax1.bar(years, scope1, color=plt.cm.plasma(0))\n",
    "    b2 = ax1.bar(years, scope2, bottom=scope1, color=plt.cm.plasma(0.4))\n",
    "    b3 = ax1.bar(years, scope3, bottom=scope1+scope2, color=plt.cm.plasma(0.8))\n",
    "\n",
    "    # plot CI\n",
    "    l1 = ax2.plot(years, ci, color = plt.cm.viridis(0.5), marker = 'o')\n",
    "\n",
    "    # finish formatting plots\n",
    "    ax1.set_xticks(years_arr)\n",
    "    ax1.set_ylim(0, max(scope1+scope2+scope3)+9000000)\n",
    "    ax2.set_ylim(0, max(ci)+20)\n",
    "\n",
    "    # combine and add legend\n",
    "    lines = [b1, b2, b3, l1]\n",
    "    labels = ['SCOPE 1','SCOPE 2','SCOPE 3','CI' ]\n",
    "    ax1.legend(lines, labels, loc='lower left', bbox_to_anchor=(1, 1))\n",
    "\n",
    "\n",
    "    # add labels and titles\n",
    "    plt.suptitle('Annual GHG Emissions', fontsize=14, fontweight='bold')\n",
    "    plt.title(co_name, fontsize=10)\n",
    "    ax1.set_xlabel('Year')\n",
    "    ax1.set_ylabel('Carbon Emissions (metric ton CO2e)')\n",
    "    ax2.set_ylabel('Carbon Intensity (g CO2e / $ million)')\n",
    "\n",
    "    "
   ]
  },
  {
   "cell_type": "code",
   "execution_count": null,
   "metadata": {},
   "outputs": [],
   "source": [
    "# graph sector summary charts using plotly\n",
    "\n",
    "def graphCoEmissionsPlotly(df, co_name, years_arr):\n",
    "    # format plots and add right axis for CI\n",
    "    # fig, ax1 = plt.subplots()\n",
    "    # ax2 = ax1.twinx()\n",
    "\n",
    "    # create x axis array\n",
    "    years = df.loc[df['COMPANY NAME']==co_name, 'YEAR']\n",
    "\n",
    "    # create bar chart stacks and CI array\n",
    "    scope1 = df.loc[df['COMPANY NAME']==co_name, 'SCOPE 1']\n",
    "    scope2 = df.loc[df['COMPANY NAME']==co_name, 'SCOPE 2 (location-based)']\n",
    "    scope3 = df.loc[df['COMPANY NAME']==co_name, 'SCOPE 3']\n",
    "    ci = df.loc[df['COMPANY NAME']==co_name, 'CARBON INTENSITY']\n",
    "\n",
    "\n",
    "     # create stacked bar chart traces\n",
    "    trace_scope1 = go.Bar(x=years, y=scope1, name='Scope 1', marker=dict(color='rgba(0, 0, 255, 0.7)'))\n",
    "    trace_scope2 = go.Bar(x=years, y=scope2, name='Scope 2', marker=dict(color='rgba(0, 255, 0, 0.7)'))\n",
    "    trace_scope3 = go.Bar(x=years, y=scope3, name='Scope 3', marker=dict(color='rgba(255, 0, 0, 0.7)'))\n",
    "\n",
    "    # create line chart trace for CI\n",
    "    trace_ci = go.Scatter(x=years, y=ci, mode='markers+lines', name='Carbon Intensity', yaxis='y2',\n",
    "                          marker=dict(color='rgba(255, 165, 0, 0.7)'))\n",
    "\n",
    "    # combine traces into data list\n",
    "    data = [trace_scope1, trace_scope2, trace_scope3, trace_ci]\n",
    "\n",
    "    # create layout\n",
    "    layout = go.Layout(\n",
    "        title=dict(text=co_name+' - Annual GHG Emissions', x=0.5),\n",
    "        xaxis=dict(tickvals=years_arr, title='Year'),\n",
    "        yaxis=dict(title='Carbon Emissions (metric ton CO2e)', range=[0, max(scope1+scope2+scope3)+9000000]),\n",
    "        yaxis2=dict(title='Carbon Intensity (g CO2e / $ million)', overlaying='y', side='right', range=[0, max(ci)+20]),\n",
    "        barmode='stack',\n",
    "        showlegend=True,\n",
    "        height=650,\n",
    "        width=800,\n",
    "        margin=dict(r=1.2)\n",
    "    )\n",
    "\n",
    "    # create figure\n",
    "    fig = go.Figure(data=data, layout=layout)\n",
    "\n",
    "    # show the figure\n",
    "    fig.show()"
   ]
  },
  {
   "cell_type": "code",
   "execution_count": null,
   "metadata": {},
   "outputs": [],
   "source": [
    "# graph sector totals by company and emissions type\n",
    "\n",
    "def graph_CosInSectorTotals(df, year, bool=False):\n",
    "    # define the sector\n",
    "    sector = df['SECTOR'].unique()[0]\n",
    "\n",
    "    # filer DataFrame for just the provided year\n",
    "    data_year = df.loc[df['YEAR']==year,:]\n",
    "\n",
    "    # plot stacked bar chart\n",
    "    sns.barplot(x='SCOPE 1', y='COMPANY NAME', data=data_year, color='orange', orient='h', label='Scope 1')\n",
    "    sns.barplot(x='SCOPE 2 (location-based)', y='COMPANY NAME', data=data_year, color='navy', orient='h', label='Scope 2')\n",
    "    if bool==False:\n",
    "        sns.barplot(x='SCOPE 3', y='COMPANY NAME', data=data_year, color='pink', orient='h', label='Scope 3')\n",
    "    \n",
    "    # format axes and titles\n",
    "    plt.xlabel('CO2e emissions (metric tons CO2e)')\n",
    "    plt.ylabel('Company')\n",
    "    plt.title('Total GHG Emissions in '+str(year)+' - ' +str(sector))"
   ]
  },
  {
   "cell_type": "markdown",
   "metadata": {},
   "source": [
    "---"
   ]
  },
  {
   "cell_type": "markdown",
   "metadata": {},
   "source": [
    "## More Data Cleaning"
   ]
  },
  {
   "cell_type": "markdown",
   "metadata": {},
   "source": [
    "*In this section, I am performing the data cleaning which require my **helper functions** to execute.* Make sure that the previous section has been run before proceeding."
   ]
  },
  {
   "cell_type": "code",
   "execution_count": 2,
   "metadata": {},
   "outputs": [],
   "source": [
    "# IGNORE FOR NOW\n",
    "# create a copy of sectors with no null values and create USD Revenue column \n",
    "\n",
    "# sectors_nona = sectors.copy().dropna()\n",
    "# sectors_nona['USD REVENUE'] =  sectors_nona.loc[:, 'REVENUE IN USD'].apply(toUSD)\n",
    "\n",
    "# sectors_nona = sectors_nona.drop(columns=['REVENUE IN USD'])\n",
    "# sectors_nona.head()\n",
    "\n",
    "# sectors_nona['ADJUSTED CI'] = ((sectors_nona['SCOPE 1'] + sectors_nona['SCOPE 2 (location-based)']) / sectors_nona['USD REVENUE']).round(2)\n",
    "# sectors_nona.head()"
   ]
  },
  {
   "cell_type": "code",
   "execution_count": null,
   "metadata": {},
   "outputs": [],
   "source": [
    "# Replace 'Submit to CDP' values with True and False for performing categorical data analysis\n",
    "\n",
    "sectors['SUBMIT TO CDP'] = sectors['SUBMIT TO CDP'].replace({\n",
    "    'Yes' : True,\n",
    "    'No' : False\n",
    "})\n",
    "\n",
    "sectors.head()"
   ]
  },
  {
   "cell_type": "markdown",
   "metadata": {},
   "source": [
    "---"
   ]
  },
  {
   "cell_type": "markdown",
   "metadata": {},
   "source": [
    "# SECTION 2) EDA and Summary Statistics"
   ]
  },
  {
   "cell_type": "markdown",
   "metadata": {},
   "source": [
    "## Cross-Sector Exploratory Data Analysis (EDA)"
   ]
  },
  {
   "cell_type": "markdown",
   "metadata": {},
   "source": [
    "*This section is dedicated to data analysis through visualizations and observing general trends in the data across sectors.*"
   ]
  },
  {
   "cell_type": "markdown",
   "metadata": {},
   "source": [
    "### Looking at average scope, average total emissions, average, total revenue, and average CI by sector.\n",
    "\n",
    "The GroupBy object created below, sorted in descending order by `TOTAL EMISSIONS`, shows us that **energy** is the highest-emitting sector while **tech** comes last out of our four sectors."
   ]
  },
  {
   "cell_type": "code",
   "execution_count": null,
   "metadata": {},
   "outputs": [],
   "source": [
    "# Average scope and revenue values by sector in descending order of average total emissions\n",
    "\n",
    "avg_sectors = sectors.groupby('SECTOR').mean(numeric_only=True).drop(columns=['YEAR']).round(0).sort_values(by='TOTAL EMISSIONS', ascending=False)\n",
    "# avg_sectors = \n",
    "\n",
    "avg_sectors"
   ]
  },
  {
   "cell_type": "code",
   "execution_count": null,
   "metadata": {},
   "outputs": [],
   "source": [
    "# for later use once revenues have been converted\n",
    "\n",
    "# rev_summary = sectors_nona.groupby('SECTOR').mean(numeric_only=True).round(0)[['USD REVENUE']].rename(columns={'USD REVENUE' : 'Mean USD Revenue'}).sort_values(by='Mean USD Revenue', ascending=False)\n",
    "# rev_summary"
   ]
  },
  {
   "cell_type": "markdown",
   "metadata": {},
   "source": [
    "### A rough look at highest-emitting companies on average\n",
    "\n",
    "This GroupBy object shows us the highest-emitting companies on average, sorted by average `TOTAL EMISSIONS`. \n",
    "\n",
    "*NOTE: This is not a completely reflective ranking because it doesn't take into account the companies that don't report certain scope values (indicated by NaN).*"
   ]
  },
  {
   "cell_type": "code",
   "execution_count": null,
   "metadata": {},
   "outputs": [],
   "source": [
    "sectors.groupby('COMPANY NAME').mean(numeric_only=True).drop(columns=['YEAR']).sort_values(by='TOTAL EMISSIONS', ascending=False)"
   ]
  },
  {
   "cell_type": "markdown",
   "metadata": {},
   "source": [
    "### Average Emissions by Country of Origin\n",
    "\n",
    "Now let's take a look at the average emissions by country of origin, still sorting by average `TOTAL EMISSIONS` in descending order.\n",
    "\n",
    "*NOTE: I am still working on figuring out how to differentate companies with more than one country of origin.*"
   ]
  },
  {
   "cell_type": "code",
   "execution_count": null,
   "metadata": {},
   "outputs": [],
   "source": [
    "avg_ByCountry = sectors.groupby('COUNTRY OF ORIGIN').mean(numeric_only=True).drop(columns=['YEAR', 'TOTAL REVENUE (miillion $)']).round(0).sort_values(by='TOTAL EMISSIONS', ascending=False)\n",
    "\n",
    "avg_ByCountry"
   ]
  },
  {
   "cell_type": "markdown",
   "metadata": {},
   "source": [
    "The first row corresponds to **Shell**, last row corresponds to **Molson Coors**."
   ]
  },
  {
   "cell_type": "code",
   "execution_count": null,
   "metadata": {},
   "outputs": [],
   "source": [
    "# scratch work code cell, replace elipses with any code you'd like to try\n",
    "\n",
    "..."
   ]
  },
  {
   "cell_type": "markdown",
   "metadata": {},
   "source": [
    "---"
   ]
  },
  {
   "cell_type": "markdown",
   "metadata": {},
   "source": [
    "# SECTION 3) Visualizations"
   ]
  },
  {
   "cell_type": "markdown",
   "metadata": {},
   "source": [
    "### CDP Submission: Who Reported to CDP?\n",
    "\n",
    "The purpose of this section is to view the proportion of companies across all sectors who reported to CDP."
   ]
  },
  {
   "cell_type": "code",
   "execution_count": null,
   "metadata": {},
   "outputs": [],
   "source": [
    "# Proportion of CDP submissions over number of reports\n",
    "\n",
    "submission_percentage = (sum(sectors['SUBMIT TO CDP'] == True) / sectors.shape[0]) * 100\n",
    "\n",
    "print('Across all sectors, ' + str(round(submission_percentage,0))+ '% of companies submitted to cdp')"
   ]
  },
  {
   "cell_type": "markdown",
   "metadata": {},
   "source": [
    "Now we know 70% of our data comes from CDP submissions. To compare CDP submissions per sector visually, I created a **count plot** using `sectors`."
   ]
  },
  {
   "cell_type": "code",
   "execution_count": null,
   "metadata": {},
   "outputs": [],
   "source": [
    "# Plot counts of submissions\n",
    "\n",
    "sns.countplot(x='SECTOR', hue='SUBMIT TO CDP', data=sectors)\n",
    "\n",
    "plt.title('Count of CDP Submissions by Sector')"
   ]
  },
  {
   "cell_type": "markdown",
   "metadata": {},
   "source": [
    "### Scatter Plots: \n",
    "### Scope 1 vs. Scope 2 (location-based) Across All Sectors\n",
    "\n",
    "This scatterplot reflects the significant difference in emissions emitted by the **energy** sector compared with any other sector. Aside from **energy**, **tech** seems to have relatively higher scope 2 values. Hover over a data point to retrieve information on the represented company and the actual scope values associated. To take a closer look at a certain interval, drag your mouse across the desired interval. To reset the plot, run the code cell again. Any plot generated through Plotly can also be downloaded as a png by clicking on the camera icon on upper right portion of the plot. "
   ]
  },
  {
   "cell_type": "code",
   "execution_count": null,
   "metadata": {},
   "outputs": [],
   "source": [
    "# scope 1 vs scope 2 (location-based)\n",
    "\n",
    "fig = px.scatter(sectors, x='SCOPE 1', y='SCOPE 2 (location-based)', color='SECTOR', hover_data=['COMPANY NAME'])\n",
    "fig.update_layout(title='Scope 1 vs. Scope 2 Across All Sectors')\n",
    "fig.show()"
   ]
  },
  {
   "cell_type": "markdown",
   "metadata": {},
   "source": [
    "### Scope 2 (location-based) vs. Scope 3\n"
   ]
  },
  {
   "cell_type": "code",
   "execution_count": null,
   "metadata": {},
   "outputs": [],
   "source": [
    "# scope 2 (location-based) vs. scope 3 \n",
    "\n",
    "fig = px.scatter(sectors, x='SCOPE 2 (location-based)', y='SCOPE 3', color='SECTOR', hover_data=['COMPANY NAME'])\n",
    "fig.update_layout(title='Scope 2 vs. Scope 3 Across All Sectors')\n",
    "fig.show()"
   ]
  },
  {
   "cell_type": "markdown",
   "metadata": {},
   "source": [
    "### Scope 1 vs. Scope 3 "
   ]
  },
  {
   "cell_type": "code",
   "execution_count": null,
   "metadata": {},
   "outputs": [],
   "source": [
    "# scope 1 vs. scope 3\n",
    "\n",
    "fig = px.scatter(sectors, x='SCOPE 1', y='SCOPE 3', color='SECTOR', hover_data=['COMPANY NAME'])\n",
    "fig.update_layout(title='Scope 1 vs. Scope 3 Across All Sectors')\n",
    "fig.show()"
   ]
  },
  {
   "cell_type": "code",
   "execution_count": null,
   "metadata": {},
   "outputs": [],
   "source": [
    "# scratch work code cell, replace elipses with any code you'd like to try\n",
    "\n",
    "..."
   ]
  },
  {
   "cell_type": "markdown",
   "metadata": {},
   "source": [
    "---"
   ]
  },
  {
   "cell_type": "markdown",
   "metadata": {},
   "source": [
    "## Cross Sector Charts\n",
    "\n",
    "*The goal of this section is to generate charts like the ones in the **Cross-Sector** tab of the **emissions** Google Sheet.*"
   ]
  },
  {
   "cell_type": "markdown",
   "metadata": {},
   "source": [
    "The following charts display the emissions emitted by each company within a sector for a given year. A key observation is that scope 3 swamps scope 1 and 2 emissions. If you would like to exclude scope 3, set bool to True.\n",
    "\n",
    "<span style=\"color:red\">TASK: Rescale to be able to see scope 1 and 2 values.</span>"
   ]
  },
  {
   "cell_type": "code",
   "execution_count": null,
   "metadata": {},
   "outputs": [],
   "source": [
    "# food and ag totals for 2022\n",
    "\n",
    "graph_CosInSectorTotals(foodag, 2022, bool=False)"
   ]
  },
  {
   "cell_type": "code",
   "execution_count": null,
   "metadata": {},
   "outputs": [],
   "source": [
    "# energy totals for 2022\n",
    "\n",
    "graph_CosInSectorTotals(energy, 2022, bool=False)"
   ]
  },
  {
   "cell_type": "code",
   "execution_count": null,
   "metadata": {},
   "outputs": [],
   "source": [
    "# tech totals for 2022\n",
    "\n",
    "graph_CosInSectorTotals(tech, 2022, bool=False)"
   ]
  },
  {
   "cell_type": "code",
   "execution_count": null,
   "metadata": {},
   "outputs": [],
   "source": [
    "# auto totals for 2022\n",
    "\n",
    "graph_CosInSectorTotals(auto, 2022, bool=False)"
   ]
  },
  {
   "cell_type": "code",
   "execution_count": null,
   "metadata": {},
   "outputs": [],
   "source": [
    "# scratch work code cell, replace elipses with any code you'd like to try\n",
    "\n",
    "...\n",
    "\n",
    "# to play around with the function used to generate graphs above, replace data and year to indicate a DataFrame and year you would like to see\n",
    "# change bool to True if you would like to exclude scope 3\n",
    "# uncomment the code below to generate graph\n",
    "\n",
    "# graph_CosInSectorTotals(data, year, bool=False)"
   ]
  },
  {
   "cell_type": "markdown",
   "metadata": {},
   "source": [
    "---"
   ]
  },
  {
   "cell_type": "markdown",
   "metadata": {},
   "source": [
    "## Company Charts by Sector\n",
    "\n",
    "*The charts generated below follow the format of the charts we generated in Google Sheets. Make sure to run the **Helper Functions** section in order to generate this section properly.*"
   ]
  },
  {
   "cell_type": "markdown",
   "metadata": {},
   "source": [
    "### Food & Agriculture Emissions Charts"
   ]
  },
  {
   "cell_type": "markdown",
   "metadata": {},
   "source": [
    "<span style=\"color:red\">TASK: Need to include CI in legend, trying to figure out syntax to do so.</span>"
   ]
  },
  {
   "cell_type": "code",
   "execution_count": null,
   "metadata": {},
   "outputs": [],
   "source": [
    "# graph charts for every company\n",
    "\n",
    "yrs1 = [2017, 2018, 2019, 2020]\n",
    "yrs2 = [2018, 2019, 2020, 2021]\n",
    "yrs3 = [2018, 2019, 2020, 2021, 2022]\n",
    "yrs4 = [np.arange(2017, 2023)]\n",
    "\n",
    "for company in foodag['COMPANY NAME'].unique():\n",
    "    num_years = foodag.loc[foodag['COMPANY NAME']==company, 'YEAR'].shape[0]\n",
    "    if num_years == 4:\n",
    "        graphCoEmissions(foodag, company, yrs2)\n",
    "    else:\n",
    "        graphCoEmissions(foodag, company, yrs3)"
   ]
  },
  {
   "cell_type": "code",
   "execution_count": null,
   "metadata": {},
   "outputs": [],
   "source": [
    "# another way to plot charts\n",
    "import plotly.graph_objects as go\n",
    "\n",
    "for company in foodag['COMPANY NAME'].unique():\n",
    "    num_years = foodag.loc[foodag['COMPANY NAME']==company, 'YEAR'].shape[0]\n",
    "    if num_years == 4:\n",
    "        graphCoEmissionsPlotly(foodag, company, yrs2)\n",
    "    else:\n",
    "        graphCoEmissionsPlotly(foodag, company, yrs3)\n"
   ]
  },
  {
   "cell_type": "markdown",
   "metadata": {},
   "source": [
    "### Energy Emissions Charts"
   ]
  },
  {
   "cell_type": "markdown",
   "metadata": {},
   "source": [
    "<span style=\"color:red\">TASK: Exclude years with no data.</span>"
   ]
  },
  {
   "cell_type": "code",
   "execution_count": null,
   "metadata": {},
   "outputs": [],
   "source": [
    "# graph energy charts\n",
    "\n",
    "for company in energy['COMPANY NAME'].unique():\n",
    "    num_years = energy.loc[energy['COMPANY NAME']==company, 'YEAR'].shape[0]\n",
    "    if num_years == 4:\n",
    "        graphCoEmissionsPlotly(energy, company, yrs2)\n",
    "    else:\n",
    "        graphCoEmissionsPlotly(energy, company, yrs3)"
   ]
  },
  {
   "cell_type": "markdown",
   "metadata": {},
   "source": [
    "### Tech Emissions Charts"
   ]
  },
  {
   "cell_type": "code",
   "execution_count": null,
   "metadata": {},
   "outputs": [],
   "source": [
    "# graph tech charts\n",
    "\n",
    "for company in tech['COMPANY NAME'].unique():\n",
    "    num_years = tech.loc[tech['COMPANY NAME']==company, 'YEAR'].shape[0]\n",
    "    if num_years == 4:\n",
    "        graphCoEmissionsPlotly(tech, company, yrs2)\n",
    "    else:\n",
    "        graphCoEmissionsPlotly(tech, company, yrs3)"
   ]
  },
  {
   "cell_type": "markdown",
   "metadata": {},
   "source": [
    "### Auto Emissions Charts"
   ]
  },
  {
   "cell_type": "code",
   "execution_count": null,
   "metadata": {},
   "outputs": [],
   "source": [
    "for company in auto['COMPANY NAME'].unique():\n",
    "    num_years = auto.loc[auto['COMPANY NAME']==company, 'YEAR'].shape[0]\n",
    "    if num_years == 4:\n",
    "        graphCoEmissionsPlotly(auto, company, yrs2)\n",
    "    else:\n",
    "        graphCoEmissionsPlotly(auto, company, yrs3)"
   ]
  },
  {
   "cell_type": "code",
   "execution_count": null,
   "metadata": {},
   "outputs": [],
   "source": [
    "# scratch work code cell, replace elipses with any code you'd like to try\n",
    "\n",
    "..."
   ]
  }
 ],
 "metadata": {
  "kernelspec": {
   "display_name": "Python 3.9.6 64-bit",
   "language": "python",
   "name": "python3"
  },
  "language_info": {
   "codemirror_mode": {
    "name": "ipython",
    "version": 3
   },
   "file_extension": ".py",
   "mimetype": "text/x-python",
   "name": "python",
   "nbconvert_exporter": "python",
   "pygments_lexer": "ipython3",
   "version": "3.9.6"
  },
  "orig_nbformat": 4,
  "vscode": {
   "interpreter": {
    "hash": "31f2aee4e71d21fbe5cf8b01ff0e069b9275f58929596ceb00d14d90e3e16cd6"
   }
  }
 },
 "nbformat": 4,
 "nbformat_minor": 2
}
