{
 "cells": [
  {
   "cell_type": "markdown",
   "metadata": {},
   "source": [
    "# Corporate Decarbonization Research\n",
    "Version: April 17th, 2024\n",
    "\n",
    "---"
   ]
  },
  {
   "cell_type": "code",
   "execution_count": 1,
   "metadata": {},
   "outputs": [],
   "source": [
    "import pandas as pd\n",
    "import numpy as np\n",
    "import seaborn as sns\n",
    "import plotly.express as px\n",
    "import matplotlib.pyplot as plt"
   ]
  },
  {
   "cell_type": "markdown",
   "metadata": {},
   "source": [
    "### Table of Contents\n",
    "\n",
    "**[Section 1) Loading and Cleaning](#section-1-loading-and-cleaning)**\n",
    "- Loading the Raw Data\n",
    "- Helper Functions\n",
    "- More Data Cleaning\n",
    "\n",
    "**[Section 2) EDA and Summary Statistics](#section-2-eda-and-summary-statistics)**\n",
    "- Data Dictionary\n",
    "- Cross-sector EDA\n",
    "\n",
    "**[Section 3) Visualizations](#section-3-visualizations)**\n",
    "- CDP Submissions\n",
    "- Trends by Sector Charts\n",
    "- Scatter Plots\n",
    "- Company Emissions Charts\n",
    "- Net-Zero Charts\n",
    "\n",
    "**[Section 4) Correlation Analysis](#section-4-correlation-analysis)**\n",
    "\n",
    "**[Section 5) Conclusion](#section-5-conclusion)**\n",
    "- What we learned\n",
    "- Next Steps\n",
    "- Collaboration efforts"
   ]
  },
  {
   "cell_type": "markdown",
   "metadata": {},
   "source": [
    "---"
   ]
  },
  {
   "cell_type": "markdown",
   "metadata": {},
   "source": [
    "# SECTION 1) Loading and Cleaning"
   ]
  },
  {
   "cell_type": "markdown",
   "metadata": {},
   "source": [
    "## Loading the Raw Data"
   ]
  },
  {
   "cell_type": "markdown",
   "metadata": {},
   "source": [
    "*In this section of the notebook, I will be importing our data and performing some preliminary cleaning/standardizing of our datasets to create separate DataFrames for each sector and an aggregated DataFrame containing all sectors. More data cleaning will be performed after the **Helper Functions** section.*"
   ]
  },
  {
   "cell_type": "code",
   "execution_count": 2,
   "metadata": {},
   "outputs": [],
   "source": [
    "# load in data\n",
    "\n",
    "food = pd.read_csv('data/food.csv')\n",
    "energy = pd.read_csv('data/energy.csv')\n",
    "auto = pd.read_csv('data/auto.csv')\n",
    "tech = pd.read_csv('data/tech.csv')\n"
   ]
  },
  {
   "cell_type": "code",
   "execution_count": 3,
   "metadata": {},
   "outputs": [
    {
     "data": {
      "text/plain": [
       "((45, 15), (65, 15), (72, 16), (35, 15))"
      ]
     },
     "execution_count": 3,
     "metadata": {},
     "output_type": "execute_result"
    }
   ],
   "source": [
    "# Add sector columns to concatenate df's\n",
    "\n",
    "food['SECTOR'] = ['Food & Agriculture'] * len(food['COMPANY NAME'])\n",
    "energy['SECTOR'] = ['Energy'] * len(energy['COMPANY NAME'])\n",
    "auto['SECTOR'] = ['Auto'] * len(auto['COMPANY NAME'])\n",
    "tech['SECTOR'] = ['Tech'] * len(tech['COMPANY NAME'])\n",
    "food.shape, energy.shape, auto.shape, tech.shape\n"
   ]
  },
  {
   "cell_type": "code",
   "execution_count": 4,
   "metadata": {},
   "outputs": [],
   "source": [
    "# clean tech to standardize columns across all df's, shorten CI column name\n",
    "\n",
    "tech = tech.rename(columns={'CARBON INTENSITY\\n(Scope 1 & 2 g CO2e/ $ Sales) \\ncalculated' :\n",
    "'CARBON INTENSITY\\n(Scope 1 & 2 g CO2e / $ Sales)'})\n",
    "\n",
    "df_array = [food, energy, auto, tech]\n",
    "for df in df_array:\n",
    "    df.rename(columns={'CARBON INTENSITY\\n(Scope 1 & 2 g CO2e / $ Sales)': 'CARBON INTENSITY'}, inplace=True)\n"
   ]
  },
  {
   "cell_type": "code",
   "execution_count": 5,
   "metadata": {},
   "outputs": [
    {
     "data": {
      "text/plain": [
       "(217, 15)"
      ]
     },
     "execution_count": 5,
     "metadata": {},
     "output_type": "execute_result"
    }
   ],
   "source": [
    "# concatenate dataframes together\n",
    "\n",
    "sectors = pd.concat([food, energy, auto, tech])\n",
    "sectors = sectors.drop(columns='SCOPE 1 + SCOPE 2 EMISSIONS')\n",
    "sectors.shape"
   ]
  },
  {
   "cell_type": "markdown",
   "metadata": {},
   "source": [
    "### *To access a dataset containing all sectors, use the `sectors` DataFrame. To acccess individual sectors, choose from `foodag`, `tech`, `auto`, and `energy`.*"
   ]
  },
  {
   "cell_type": "markdown",
   "metadata": {},
   "source": [
    "### `sectors`"
   ]
  },
  {
   "cell_type": "code",
   "execution_count": null,
   "metadata": {},
   "outputs": [],
   "source": [
    "# show sectors\n",
    "\n",
    "sectors.head()"
   ]
  },
  {
   "cell_type": "markdown",
   "metadata": {},
   "source": [
    "### Example Sector DataFrame: `foodag`"
   ]
  },
  {
   "cell_type": "code",
   "execution_count": null,
   "metadata": {},
   "outputs": [],
   "source": [
    "# show food and ag\n",
    "\n",
    "food.head()"
   ]
  },
  {
   "cell_type": "markdown",
   "metadata": {},
   "source": [
    "---"
   ]
  },
  {
   "cell_type": "markdown",
   "metadata": {},
   "source": [
    "## Helper Functions"
   ]
  },
  {
   "cell_type": "markdown",
   "metadata": {},
   "source": [
    "*This section will contain any functions used to generate graphs, standardize columns, etc.*"
   ]
  },
  {
   "cell_type": "code",
   "execution_count": 6,
   "metadata": {},
   "outputs": [],
   "source": [
    "# convert revenue's to USD\n",
    "\n",
    "def toUSD(i):\n",
    "    dic = {\n",
    "    'AUD': 0.75,   # 1 AUD to USD\n",
    "    'CAD': 0.78,   # 1 CAD to USD\n",
    "    'CHF': 1.09,   # 1 CHF to USD\n",
    "    'DKK': 0.15,   # 1 DKK to USD\n",
    "    'EUR': 1.16,   # 1 EUR to USD\n",
    "    'GBP': 1.37,   # 1 GBP to USD\n",
    "    'JPY': 0.009,  # 1 JPY to USD\n",
    "    'KRW': 0.0009, # 1 KRW to USD\n",
    "    'NOK': 0.11,   # 1 NOK to USD\n",
    "    'RUB': 0.014,  # 1 RUB to USD\n",
    "    'SEK': 0.11,   # 1 SEK to USD\n",
    "    'RMB': 7.29,   # 1 RMB to USD\n",
    "    'TWD' : 0.03,  # 1 TWD to USD\n",
    "    'USD': 1.0       # No Change    \n",
    "    }\n",
    "    if (not pd.isna(i[0])) or (not pd.isna(i[1])):\n",
    "        return i[0] * dic[i[1]] # The revenue multiplied by the corresponding USD conversion rate\n",
    "\n",
    "# sectors['Revenue (USD)'] = sectors.apply(toUSD, 'TOTAL REVENUE (miillion $)')  # --- use this code to apply the function in the revenue column when ready"
   ]
  },
  {
   "cell_type": "code",
   "execution_count": 7,
   "metadata": {},
   "outputs": [],
   "source": [
    "# Function for creating column with [Currency, Revenue]\n",
    "\n",
    "def currAndRev(df):\n",
    "    new_col = []\n",
    "    for i in np.arange(df.shape[0]):\n",
    "        new_col.append([df['CURRENCY'].values[i], df['TOTAL REVENUE (miillion $)'].values[i]])\n",
    "    df['REVENUE IN USD'] = new_col\n"
   ]
  },
  {
   "cell_type": "code",
   "execution_count": 8,
   "metadata": {},
   "outputs": [],
   "source": [
    "# graph sector summary charts using matplotlib\n",
    "\n",
    "def graphCoEmissions(df, co_name, years_arr):\n",
    "    # format plots and add right axis for CI\n",
    "    fig, ax1 = plt.subplots()\n",
    "    ax2 = ax1.twinx()\n",
    "\n",
    "    # create x axis array\n",
    "    years = df.loc[df['COMPANY NAME']==co_name, 'YEAR']\n",
    "\n",
    "    # create bar chart stacks and CI array\n",
    "    scope1 = df.loc[df['COMPANY NAME']==co_name, 'SCOPE 1']\n",
    "    scope2 = df.loc[df['COMPANY NAME']==co_name, 'SCOPE 2 (location-based)']\n",
    "    scope3 = df.loc[df['COMPANY NAME']==co_name, 'SCOPE 3']\n",
    "    ci = df.loc[df['COMPANY NAME']==co_name, 'CARBON INTENSITY']\n",
    "\n",
    "    # plot bar chart\n",
    "    b1 = ax1.bar(years, scope1, color='navy', label='Scope 1')\n",
    "    b2 = ax1.bar(years, scope2, bottom=scope1, color='steelblue', label='Scope 2')\n",
    "    b3 = ax1.bar(years, scope3, bottom=scope1+scope2, color='lightsteelblue', label='Scope 3')\n",
    "\n",
    "    # plot CI\n",
    "    l1 = ax2.plot(years, ci, color = 'black', marker = 'o',label='CI')\n",
    "\n",
    "    # finish formatting plots\n",
    "    ax1.set_xticks(years_arr)\n",
    "    ax1.set_ylim(0, max(scope1+scope2+scope3)+9000000)\n",
    "    ax2.set_ylim(0, max(ci)+20)\n",
    "\n",
    "    lines, labels = ax1.get_legend_handles_labels()\n",
    "    lines2, labels2 = ax2.get_legend_handles_labels()\n",
    "    ax2.legend(lines + lines2, labels + labels2, loc='lower left', bbox_to_anchor=(1, 1))\n",
    "\n",
    "    # add labels and titles\n",
    "    plt.suptitle('Annual GHG Emissions', fontsize=14, fontweight='bold')\n",
    "    plt.title(co_name, fontsize=10)\n",
    "    ax1.set_xlabel('Year')\n",
    "    ax1.set_ylabel('Carbon Emissions (metric ton CO2e)')\n",
    "    ax2.set_ylabel('Carbon Intensity (g CO2e / $ million)')"
   ]
  },
  {
   "cell_type": "code",
   "execution_count": 9,
   "metadata": {},
   "outputs": [],
   "source": [
    "# graph sector summary charts using plotly\n",
    "import plotly.graph_objects as go\n",
    "\n",
    "def graphCoEmissionsPlotly(df, co_name, years_arr):\n",
    "    # format plots and add right axis for CI\n",
    "    # fig, ax1 = plt.subplots()\n",
    "    # ax2 = ax1.twinx()\n",
    "\n",
    "    # create x axis array\n",
    "    years = df.loc[df['COMPANY NAME']==co_name, 'YEAR']\n",
    "\n",
    "    # create bar chart stacks and CI array\n",
    "    scope1 = df.loc[df['COMPANY NAME']==co_name, 'SCOPE 1']\n",
    "    scope2 = df.loc[df['COMPANY NAME']==co_name, 'SCOPE 2 (location-based)']\n",
    "    scope3 = df.loc[df['COMPANY NAME']==co_name, 'SCOPE 3']\n",
    "    ci = df.loc[df['COMPANY NAME']==co_name, 'CARBON INTENSITY']\n",
    "\n",
    "\n",
    "     # create stacked bar chart traces\n",
    "    trace_scope1 = go.Bar(x=years, y=scope1, name='Scope 1', marker=dict(color='rgba(0, 0, 255, 0.7)'))\n",
    "    trace_scope2 = go.Bar(x=years, y=scope2, name='Scope 2', marker=dict(color='rgba(0, 255, 0, 0.7)'))\n",
    "    trace_scope3 = go.Bar(x=years, y=scope3, name='Scope 3', marker=dict(color='rgba(255, 0, 0, 0.7)'))\n",
    "\n",
    "    # create line chart trace for CI\n",
    "    trace_ci = go.Scatter(x=years, y=ci, mode='markers+lines', name='Carbon Intensity', yaxis='y2',\n",
    "                          marker=dict(color='rgba(255, 165, 0, 0.7)'))\n",
    "\n",
    "    # combine traces into data list\n",
    "    data = [trace_scope1, trace_scope2, trace_scope3, trace_ci]\n",
    "\n",
    "    # create layout\n",
    "    layout = go.Layout(\n",
    "        title=dict(text=co_name+' - Annual GHG Emissions', x=0.5),\n",
    "        xaxis=dict(tickvals=years_arr, title='Year'),\n",
    "        yaxis=dict(title='Carbon Emissions (metric ton CO2e)', range=[0, max(scope1+scope2+scope3)+9000000]),\n",
    "        yaxis2=dict(title='Carbon Intensity (g CO2e / $ million)', overlaying='y', side='right', range=[0, max(ci)+20]),\n",
    "        barmode='stack',\n",
    "        showlegend=True,\n",
    "        height=650,\n",
    "        width=800,\n",
    "        margin=dict(r=1.2)\n",
    "    )\n",
    "\n",
    "    # create figure\n",
    "    fig = go.Figure(data=data, layout=layout)\n",
    "\n",
    "    # show the figure\n",
    "    fig.show()"
   ]
  },
  {
   "cell_type": "code",
   "execution_count": 10,
   "metadata": {},
   "outputs": [],
   "source": [
    "# graph sector totals by company and emissions type\n",
    "\n",
    "def graph_CosInSectorTotals(df, year, bool=False):\n",
    "    # define the sector\n",
    "    sector = df['SECTOR'].unique()[0]\n",
    "\n",
    "    # filer DataFrame for just the provided year\n",
    "    data_year = df.loc[df['YEAR']==year,:]\n",
    "\n",
    "    # plot stacked bar chart\n",
    "    sns.barplot(x='SCOPE 1', y='COMPANY NAME', data=data_year, color='orange', orient='h', label='Scope 1')\n",
    "    sns.barplot(x='SCOPE 2 (location-based)', y='COMPANY NAME', data=data_year, color='navy', orient='h', label='Scope 2')\n",
    "    if bool==False:\n",
    "        sns.barplot(x='SCOPE 3', y='COMPANY NAME', data=data_year, color='pink', orient='h', label='Scope 3')\n",
    "    \n",
    "    # format axes and titles\n",
    "    plt.xlabel('GHG emissions (metric tons CO2e)')\n",
    "    plt.ylabel('Company Name')\n",
    "    if bool==True:\n",
    "        plt.title('Scope 1 + Scope 2 GHG Emissions in '+str(year)+' - ' +str(sector))\n",
    "    else:\n",
    "        plt.title('Total GHG Emissions in '+str(year)+' - ' +str(sector))"
   ]
  },
  {
   "cell_type": "code",
   "execution_count": 42,
   "metadata": {},
   "outputs": [
    {
     "data": {
      "text/plain": [
       "21"
      ]
     },
     "execution_count": 42,
     "metadata": {},
     "output_type": "execute_result"
    }
   ],
   "source": [
    "sectors['Adjusted CI'].isna().sum()"
   ]
  },
  {
   "cell_type": "code",
   "execution_count": 43,
   "metadata": {},
   "outputs": [],
   "source": [
    "# graph carbon intensity as a function of time of each company in a sector using natural log of adjusted CI values\n",
    "\n",
    "def ci_OverTime(sector):\n",
    "\n",
    "    companies = sectors.loc[sectors['SECTOR']==sector, 'COMPANY NAME'].unique()\n",
    "    years = ['2018','2019', '2020', '2021', '2022']\n",
    "\n",
    "    for co in companies:\n",
    "        ci = sectors[sectors['COMPANY NAME'] == co][\"Adjusted CI\"]\n",
    "        if ci.isna().sum()==0:\n",
    "            plt.plot(years, np.log(ci), label = co, marker='o', markersize=5)\n",
    "        plt.legend(loc = 'upper right', fontsize = 'xx-small')\n",
    "        plt.xlabel('Year')\n",
    "        plt.ylabel('Natural Log of Carbon Intensity (mt $CO_{2}e$/mill USD)')\n",
    "        plt.title(sector +  ' Carbon Intensity Over Time (2018-2022)');"
   ]
  },
  {
   "cell_type": "markdown",
   "metadata": {},
   "source": [
    "---"
   ]
  },
  {
   "cell_type": "markdown",
   "metadata": {},
   "source": [
    "## More Data Cleaning"
   ]
  },
  {
   "cell_type": "markdown",
   "metadata": {},
   "source": [
    "*In this section, I am performing the data cleaning which require my **helper functions** to execute.* Make sure that the previous section has been run before proceeding."
   ]
  },
  {
   "cell_type": "code",
   "execution_count": 12,
   "metadata": {},
   "outputs": [],
   "source": [
    "# apply and create revenue in USD column\n",
    "\n",
    "rev_curr = [[sectors['TOTAL REVENUE (miillion $)'].values[i], sectors['CURRENCY'].values[i]] for i in range(sectors.shape[0])]\n",
    "sectors['REVENUE W/ CURR'] = rev_curr\n",
    "\n",
    "# create revenue in USD column and drop revenue w/ curr column\n",
    "\n",
    "sectors['REVENUE IN USD'] = sectors['REVENUE W/ CURR'].apply(toUSD)\n",
    "sectors = sectors.drop(columns='REVENUE W/ CURR')"
   ]
  },
  {
   "cell_type": "code",
   "execution_count": 13,
   "metadata": {},
   "outputs": [],
   "source": [
    "# creating adjusted CI column after converting ALL revenues to USD\n",
    "\n",
    "adjusted_ci = ((sectors['SCOPE 1'] + sectors['SCOPE 2 (location-based)']) / sectors['REVENUE IN USD']).round(2)\n",
    "sectors['Adjusted CI'] = adjusted_ci"
   ]
  },
  {
   "cell_type": "code",
   "execution_count": 14,
   "metadata": {},
   "outputs": [],
   "source": [
    "# Replace 'Submit to CDP' & 'SBTi Target Set?' values with True and False for performing qualitative data analysis\n",
    "\n",
    "sectors['SUBMIT TO CDP'] = sectors['SUBMIT TO CDP'].replace({\n",
    "    'Yes' : True,\n",
    "    'No' : False\n",
    "})"
   ]
  },
  {
   "cell_type": "code",
   "execution_count": 15,
   "metadata": {},
   "outputs": [],
   "source": [
    "# creates a separate csv file of sectors data\n",
    "load_sectors = sectors.to_csv('data/sectors.csv', index=False)\n",
    "load_sectors"
   ]
  },
  {
   "cell_type": "markdown",
   "metadata": {},
   "source": [
    "---"
   ]
  },
  {
   "cell_type": "markdown",
   "metadata": {},
   "source": [
    "# SECTION 2) EDA and Summary Statistics"
   ]
  },
  {
   "cell_type": "markdown",
   "metadata": {},
   "source": [
    "## Data Dictionary"
   ]
  },
  {
   "cell_type": "markdown",
   "metadata": {},
   "source": [
    "| COLUMN NAME | DEFINITION | DATA TYPE |\n",
    "|--------------|:-----:|-----------:|\n",
    "| Company Name | Name of the company | object |\n",
    "| Year | Corresponding year of emissions data | int |\n",
    "| Scope 1 | The company's direct GHG emissions, given in metric tons of carbon dioxide equivalence | float |\n",
    "| Scope 2 (location-based) | The company's indirect (location-based) GHG emissions, given in metric tons of carbon dioxide equivalence | float |\n",
    "| Scope 3 | The company's indirect GHG emissions that come from its value chain, given in metric tons of carbon dioxide equivalence | float |\n",
    "| Total Emissions | Sum of Scope 1, 2, and 3 emissions | float |\n",
    "| Total Revenue (million $) | The company's total revenue for a given fiscal year | float |\n",
    "| Currency | The currency of the company's total revenue | object |\n",
    "| Carbon Intensity | Total scope 1 and scope 2 (location-based) emissions per unit of the company's revenue | float |\n",
    "| Country of Origin | The company's origin country | object |\n",
    "| Submit to CDP | Boolean indicator of if the company submitted to CDP for the reporting year (True/False) | object |\n",
    "| Growth Rate | The percent change of as a function of a company's total revenue, calculated by taking the difference between total revenues from two fiscal years and dividing by the initial year's revenue | float\n",
    "| Company Size | ... | ... |\n",
    "| Sector | The industry sector of the company | object |\n",
    "| Revenue in USD | A company's total revenue represented in USD based on an exchange rate | float |\n",
    "| Adjusted CI | Total scope 1 and scope 2 (location-based) emissions per US dollar | float |\n",
    "\n"
   ]
  },
  {
   "cell_type": "markdown",
   "metadata": {},
   "source": [
    "## Cross-Sector Exploratory Data Analysis (EDA)"
   ]
  },
  {
   "cell_type": "markdown",
   "metadata": {},
   "source": [
    "*This section is dedicated to data analysis through visualizations and observing general trends in the data across sectors.*"
   ]
  },
  {
   "cell_type": "markdown",
   "metadata": {},
   "source": [
    "### Looking at average scope, average total emissions, average, total revenue, and average CI by sector.\n",
    "\n",
    "The GroupBy object created below, sorted in descending order by `TOTAL EMISSIONS`, shows us that **energy** is the highest-emitting sector while **tech** comes last out of our four sectors."
   ]
  },
  {
   "cell_type": "code",
   "execution_count": 16,
   "metadata": {},
   "outputs": [
    {
     "data": {
      "text/html": [
       "<div>\n",
       "<style scoped>\n",
       "    .dataframe tbody tr th:only-of-type {\n",
       "        vertical-align: middle;\n",
       "    }\n",
       "\n",
       "    .dataframe tbody tr th {\n",
       "        vertical-align: top;\n",
       "    }\n",
       "\n",
       "    .dataframe thead th {\n",
       "        text-align: right;\n",
       "    }\n",
       "</style>\n",
       "<table border=\"1\" class=\"dataframe\">\n",
       "  <thead>\n",
       "    <tr style=\"text-align: right;\">\n",
       "      <th></th>\n",
       "      <th>SCOPE 1</th>\n",
       "      <th>SCOPE 2 (location-based)</th>\n",
       "      <th>SCOPE 3</th>\n",
       "      <th>TOTAL EMISSIONS</th>\n",
       "    </tr>\n",
       "    <tr>\n",
       "      <th>SECTOR</th>\n",
       "      <th></th>\n",
       "      <th></th>\n",
       "      <th></th>\n",
       "      <th></th>\n",
       "    </tr>\n",
       "  </thead>\n",
       "  <tbody>\n",
       "    <tr>\n",
       "      <th>Energy</th>\n",
       "      <td>49000779.0</td>\n",
       "      <td>7866270.0</td>\n",
       "      <td>425962254.0</td>\n",
       "      <td>387097297.0</td>\n",
       "    </tr>\n",
       "    <tr>\n",
       "      <th>Auto</th>\n",
       "      <td>1364395.0</td>\n",
       "      <td>2825630.0</td>\n",
       "      <td>223338879.0</td>\n",
       "      <td>229577835.0</td>\n",
       "    </tr>\n",
       "    <tr>\n",
       "      <th>Food &amp; Agriculture</th>\n",
       "      <td>1546647.0</td>\n",
       "      <td>1181952.0</td>\n",
       "      <td>39522984.0</td>\n",
       "      <td>42730673.0</td>\n",
       "    </tr>\n",
       "    <tr>\n",
       "      <th>Tech</th>\n",
       "      <td>2482006.0</td>\n",
       "      <td>5799836.0</td>\n",
       "      <td>27005205.0</td>\n",
       "      <td>38307379.0</td>\n",
       "    </tr>\n",
       "  </tbody>\n",
       "</table>\n",
       "</div>"
      ],
      "text/plain": [
       "                       SCOPE 1  SCOPE 2 (location-based)      SCOPE 3  \\\n",
       "SECTOR                                                                  \n",
       "Energy              49000779.0                 7866270.0  425962254.0   \n",
       "Auto                 1364395.0                 2825630.0  223338879.0   \n",
       "Food & Agriculture   1546647.0                 1181952.0   39522984.0   \n",
       "Tech                 2482006.0                 5799836.0   27005205.0   \n",
       "\n",
       "                    TOTAL EMISSIONS  \n",
       "SECTOR                               \n",
       "Energy                  387097297.0  \n",
       "Auto                    229577835.0  \n",
       "Food & Agriculture       42730673.0  \n",
       "Tech                     38307379.0  "
      ]
     },
     "execution_count": 16,
     "metadata": {},
     "output_type": "execute_result"
    }
   ],
   "source": [
    "# Average scope values by sector in descending order of average total emissions\n",
    "\n",
    "avg_emissions = sectors.groupby('SECTOR').mean(numeric_only=True).round(0).sort_values(by='TOTAL EMISSIONS', ascending=False)[['SCOPE 1', 'SCOPE 2 (location-based)', 'SCOPE 3',  'TOTAL EMISSIONS']]\n",
    "avg_emissions"
   ]
  },
  {
   "cell_type": "code",
   "execution_count": 17,
   "metadata": {},
   "outputs": [
    {
     "data": {
      "text/html": [
       "<div>\n",
       "<style scoped>\n",
       "    .dataframe tbody tr th:only-of-type {\n",
       "        vertical-align: middle;\n",
       "    }\n",
       "\n",
       "    .dataframe tbody tr th {\n",
       "        vertical-align: top;\n",
       "    }\n",
       "\n",
       "    .dataframe thead th {\n",
       "        text-align: right;\n",
       "    }\n",
       "</style>\n",
       "<table border=\"1\" class=\"dataframe\">\n",
       "  <thead>\n",
       "    <tr style=\"text-align: right;\">\n",
       "      <th></th>\n",
       "      <th>REVENUE IN USD</th>\n",
       "    </tr>\n",
       "    <tr>\n",
       "      <th>SECTOR</th>\n",
       "      <th></th>\n",
       "    </tr>\n",
       "  </thead>\n",
       "  <tbody>\n",
       "    <tr>\n",
       "      <th>Tech</th>\n",
       "      <td>210002.0</td>\n",
       "    </tr>\n",
       "    <tr>\n",
       "      <th>Energy</th>\n",
       "      <td>131235.0</td>\n",
       "    </tr>\n",
       "    <tr>\n",
       "      <th>Auto</th>\n",
       "      <td>129654.0</td>\n",
       "    </tr>\n",
       "    <tr>\n",
       "      <th>Food &amp; Agriculture</th>\n",
       "      <td>49361.0</td>\n",
       "    </tr>\n",
       "  </tbody>\n",
       "</table>\n",
       "</div>"
      ],
      "text/plain": [
       "                    REVENUE IN USD\n",
       "SECTOR                            \n",
       "Tech                      210002.0\n",
       "Energy                    131235.0\n",
       "Auto                      129654.0\n",
       "Food & Agriculture         49361.0"
      ]
     },
     "execution_count": 17,
     "metadata": {},
     "output_type": "execute_result"
    }
   ],
   "source": [
    "# Average Corporate Revenues converted to USD\n",
    "\n",
    "avg_ci = sectors.groupby('SECTOR').mean(numeric_only=True).sort_values(by='REVENUE IN USD', ascending=False).round(0)[['REVENUE IN USD']]\n",
    "avg_ci"
   ]
  },
  {
   "cell_type": "markdown",
   "metadata": {},
   "source": [
    "### A rough look at highest-emitting companies on average\n",
    "\n",
    "This GroupBy object shows us the highest-emitting companies on average, sorted by average `TOTAL EMISSIONS`. \n",
    "\n",
    "*NOTE: This is not a completely reflective ranking because it doesn't take into account the companies that don't report certain scope values (indicated by NaN).*"
   ]
  },
  {
   "cell_type": "code",
   "execution_count": 18,
   "metadata": {},
   "outputs": [
    {
     "data": {
      "text/html": [
       "<div>\n",
       "<style scoped>\n",
       "    .dataframe tbody tr th:only-of-type {\n",
       "        vertical-align: middle;\n",
       "    }\n",
       "\n",
       "    .dataframe tbody tr th {\n",
       "        vertical-align: top;\n",
       "    }\n",
       "\n",
       "    .dataframe thead th {\n",
       "        text-align: right;\n",
       "    }\n",
       "</style>\n",
       "<table border=\"1\" class=\"dataframe\">\n",
       "  <thead>\n",
       "    <tr style=\"text-align: right;\">\n",
       "      <th></th>\n",
       "      <th>SCOPE 1</th>\n",
       "      <th>SCOPE 2 (location-based)</th>\n",
       "      <th>SCOPE 3</th>\n",
       "      <th>TOTAL EMISSIONS</th>\n",
       "      <th>TOTAL REVENUE (miillion $)</th>\n",
       "      <th>CARBON INTENSITY</th>\n",
       "      <th>GROWTH RATE</th>\n",
       "      <th>COMPANY SIZE</th>\n",
       "      <th>REVENUE IN USD</th>\n",
       "      <th>Adjusted CI</th>\n",
       "    </tr>\n",
       "    <tr>\n",
       "      <th>COMPANY NAME</th>\n",
       "      <th></th>\n",
       "      <th></th>\n",
       "      <th></th>\n",
       "      <th></th>\n",
       "      <th></th>\n",
       "      <th></th>\n",
       "      <th></th>\n",
       "      <th></th>\n",
       "      <th></th>\n",
       "      <th></th>\n",
       "    </tr>\n",
       "  </thead>\n",
       "  <tbody>\n",
       "    <tr>\n",
       "      <th>Shell</th>\n",
       "      <td>6.300000e+07</td>\n",
       "      <td>1.000000e+07</td>\n",
       "      <td>1.056447e+09</td>\n",
       "      <td>1.138447e+09</td>\n",
       "      <td>3.181430e+05</td>\n",
       "      <td>249.320000</td>\n",
       "      <td>7.822500</td>\n",
       "      <td>NaN</td>\n",
       "      <td>318143.000000</td>\n",
       "      <td>249.320000</td>\n",
       "    </tr>\n",
       "    <tr>\n",
       "      <th>Chevron</th>\n",
       "      <td>5.840000e+07</td>\n",
       "      <td>3.400000e+06</td>\n",
       "      <td>1.028200e+09</td>\n",
       "      <td>1.093400e+09</td>\n",
       "      <td>1.569122e+05</td>\n",
       "      <td>427.920000</td>\n",
       "      <td>17.937500</td>\n",
       "      <td>NaN</td>\n",
       "      <td>156912.200000</td>\n",
       "      <td>427.920000</td>\n",
       "    </tr>\n",
       "    <tr>\n",
       "      <th>Gazprom</th>\n",
       "      <td>8.822895e+07</td>\n",
       "      <td>5.827761e+06</td>\n",
       "      <td>1.127929e+09</td>\n",
       "      <td>7.708143e+08</td>\n",
       "      <td>3.554709e+06</td>\n",
       "      <td>NaN</td>\n",
       "      <td>-15.485000</td>\n",
       "      <td>NaN</td>\n",
       "      <td>49765.926000</td>\n",
       "      <td>2421.040000</td>\n",
       "    </tr>\n",
       "    <tr>\n",
       "      <th>Toyota</th>\n",
       "      <td>2.272571e+06</td>\n",
       "      <td>4.357166e+06</td>\n",
       "      <td>4.167293e+08</td>\n",
       "      <td>4.256259e+08</td>\n",
       "      <td>2.084658e+05</td>\n",
       "      <td>31.988333</td>\n",
       "      <td>2.918000</td>\n",
       "      <td>NaN</td>\n",
       "      <td>1876.192500</td>\n",
       "      <td>3554.291667</td>\n",
       "    </tr>\n",
       "    <tr>\n",
       "      <th>Volkswagen</th>\n",
       "      <td>4.399641e+06</td>\n",
       "      <td>5.558314e+06</td>\n",
       "      <td>3.906809e+08</td>\n",
       "      <td>4.040267e+08</td>\n",
       "      <td>2.546363e+05</td>\n",
       "      <td>39.433333</td>\n",
       "      <td>5.764000</td>\n",
       "      <td>NaN</td>\n",
       "      <td>295378.146667</td>\n",
       "      <td>33.993333</td>\n",
       "    </tr>\n",
       "    <tr>\n",
       "      <th>BP</th>\n",
       "      <td>4.066000e+07</td>\n",
       "      <td>3.760000e+06</td>\n",
       "      <td>3.437250e+08</td>\n",
       "      <td>3.230600e+08</td>\n",
       "      <td>2.217036e+05</td>\n",
       "      <td>226.910000</td>\n",
       "      <td>8.440000</td>\n",
       "      <td>NaN</td>\n",
       "      <td>221703.600000</td>\n",
       "      <td>226.910000</td>\n",
       "    </tr>\n",
       "    <tr>\n",
       "      <th>Honda</th>\n",
       "      <td>1.223374e+06</td>\n",
       "      <td>3.410813e+06</td>\n",
       "      <td>2.879159e+08</td>\n",
       "      <td>2.960877e+08</td>\n",
       "      <td>1.513838e+07</td>\n",
       "      <td>0.306667</td>\n",
       "      <td>2.406000</td>\n",
       "      <td>NaN</td>\n",
       "      <td>136245.450000</td>\n",
       "      <td>34.126667</td>\n",
       "    </tr>\n",
       "    <tr>\n",
       "      <th>Equinor</th>\n",
       "      <td>1.326715e+07</td>\n",
       "      <td>1.653358e+05</td>\n",
       "      <td>2.762498e+08</td>\n",
       "      <td>2.923918e+08</td>\n",
       "      <td>8.629960e+04</td>\n",
       "      <td>185.380000</td>\n",
       "      <td>29.090000</td>\n",
       "      <td>NaN</td>\n",
       "      <td>86299.600000</td>\n",
       "      <td>185.380000</td>\n",
       "    </tr>\n",
       "    <tr>\n",
       "      <th>Fiat-Chrysler</th>\n",
       "      <td>1.227754e+06</td>\n",
       "      <td>2.414369e+06</td>\n",
       "      <td>2.668018e+08</td>\n",
       "      <td>2.729287e+08</td>\n",
       "      <td>1.365630e+05</td>\n",
       "      <td>27.941667</td>\n",
       "      <td>14.020000</td>\n",
       "      <td>NaN</td>\n",
       "      <td>158413.080000</td>\n",
       "      <td>24.088333</td>\n",
       "    </tr>\n",
       "    <tr>\n",
       "      <th>Ford</th>\n",
       "      <td>1.279747e+06</td>\n",
       "      <td>2.986100e+06</td>\n",
       "      <td>2.656040e+08</td>\n",
       "      <td>2.724584e+08</td>\n",
       "      <td>1.472407e+05</td>\n",
       "      <td>29.025000</td>\n",
       "      <td>2.404000</td>\n",
       "      <td>NaN</td>\n",
       "      <td>147240.666667</td>\n",
       "      <td>29.025000</td>\n",
       "    </tr>\n",
       "    <tr>\n",
       "      <th>General Motors</th>\n",
       "      <td>1.522590e+06</td>\n",
       "      <td>3.707187e+06</td>\n",
       "      <td>2.591649e+08</td>\n",
       "      <td>2.675875e+08</td>\n",
       "      <td>1.326835e+05</td>\n",
       "      <td>39.333333</td>\n",
       "      <td>0.958000</td>\n",
       "      <td>NaN</td>\n",
       "      <td>132683.500000</td>\n",
       "      <td>39.333333</td>\n",
       "    </tr>\n",
       "    <tr>\n",
       "      <th>Exxon</th>\n",
       "      <td>1.002000e+08</td>\n",
       "      <td>8.200000e+06</td>\n",
       "      <td>5.300000e+08</td>\n",
       "      <td>2.226000e+08</td>\n",
       "      <td>2.871944e+05</td>\n",
       "      <td>406.008000</td>\n",
       "      <td>15.502500</td>\n",
       "      <td>NaN</td>\n",
       "      <td>287194.400000</td>\n",
       "      <td>406.008000</td>\n",
       "    </tr>\n",
       "    <tr>\n",
       "      <th>Oxy</th>\n",
       "      <td>1.759072e+07</td>\n",
       "      <td>4.912207e+06</td>\n",
       "      <td>1.969600e+08</td>\n",
       "      <td>2.194629e+08</td>\n",
       "      <td>2.382680e+04</td>\n",
       "      <td>1000.514000</td>\n",
       "      <td>22.345000</td>\n",
       "      <td>NaN</td>\n",
       "      <td>23826.800000</td>\n",
       "      <td>1000.514000</td>\n",
       "    </tr>\n",
       "    <tr>\n",
       "      <th>PetroChina</th>\n",
       "      <td>1.252025e+08</td>\n",
       "      <td>4.020250e+07</td>\n",
       "      <td>NaN</td>\n",
       "      <td>1.654050e+08</td>\n",
       "      <td>1.818900e+04</td>\n",
       "      <td>9999.710000</td>\n",
       "      <td>23.443333</td>\n",
       "      <td>NaN</td>\n",
       "      <td>132597.810000</td>\n",
       "      <td>1371.702500</td>\n",
       "    </tr>\n",
       "    <tr>\n",
       "      <th>EDF</th>\n",
       "      <td>2.953583e+07</td>\n",
       "      <td>3.515614e+05</td>\n",
       "      <td>1.068990e+08</td>\n",
       "      <td>1.371974e+08</td>\n",
       "      <td>9.326040e+04</td>\n",
       "      <td>347.856000</td>\n",
       "      <td>19.280000</td>\n",
       "      <td>NaN</td>\n",
       "      <td>108182.064000</td>\n",
       "      <td>299.876000</td>\n",
       "    </tr>\n",
       "    <tr>\n",
       "      <th>BYD</th>\n",
       "      <td>3.553160e+05</td>\n",
       "      <td>5.453438e+06</td>\n",
       "      <td>1.230260e+08</td>\n",
       "      <td>1.310879e+08</td>\n",
       "      <td>2.686250e+04</td>\n",
       "      <td>185.180000</td>\n",
       "      <td>36.346000</td>\n",
       "      <td>NaN</td>\n",
       "      <td>195827.625000</td>\n",
       "      <td>22.856667</td>\n",
       "    </tr>\n",
       "    <tr>\n",
       "      <th>Nestlé</th>\n",
       "      <td>3.272557e+06</td>\n",
       "      <td>2.516767e+06</td>\n",
       "      <td>1.107823e+08</td>\n",
       "      <td>1.183548e+08</td>\n",
       "      <td>8.987900e+04</td>\n",
       "      <td>64.718000</td>\n",
       "      <td>0.887500</td>\n",
       "      <td>NaN</td>\n",
       "      <td>97968.110000</td>\n",
       "      <td>59.376000</td>\n",
       "    </tr>\n",
       "    <tr>\n",
       "      <th>Daimler/Mercedes</th>\n",
       "      <td>9.925000e+05</td>\n",
       "      <td>1.528333e+06</td>\n",
       "      <td>1.091101e+08</td>\n",
       "      <td>1.126851e+08</td>\n",
       "      <td>1.675005e+05</td>\n",
       "      <td>14.918333</td>\n",
       "      <td>-1.362000</td>\n",
       "      <td>NaN</td>\n",
       "      <td>194300.580000</td>\n",
       "      <td>12.860000</td>\n",
       "    </tr>\n",
       "    <tr>\n",
       "      <th>Samsung</th>\n",
       "      <td>5.844860e+06</td>\n",
       "      <td>1.193088e+07</td>\n",
       "      <td>8.436758e+07</td>\n",
       "      <td>1.094811e+08</td>\n",
       "      <td>3.274090e+08</td>\n",
       "      <td>0.060000</td>\n",
       "      <td>21.665000</td>\n",
       "      <td>NaN</td>\n",
       "      <td>294668.100000</td>\n",
       "      <td>66.426000</td>\n",
       "    </tr>\n",
       "    <tr>\n",
       "      <th>BMW</th>\n",
       "      <td>6.596525e+05</td>\n",
       "      <td>1.429540e+06</td>\n",
       "      <td>1.055465e+08</td>\n",
       "      <td>1.079290e+08</td>\n",
       "      <td>1.088678e+05</td>\n",
       "      <td>19.625000</td>\n",
       "      <td>8.250000</td>\n",
       "      <td>NaN</td>\n",
       "      <td>126286.686667</td>\n",
       "      <td>16.920000</td>\n",
       "    </tr>\n",
       "    <tr>\n",
       "      <th>Geely</th>\n",
       "      <td>1.809667e+05</td>\n",
       "      <td>5.386895e+05</td>\n",
       "      <td>7.942017e+07</td>\n",
       "      <td>8.032717e+07</td>\n",
       "      <td>1.488183e+04</td>\n",
       "      <td>48.646667</td>\n",
       "      <td>11.358000</td>\n",
       "      <td>NaN</td>\n",
       "      <td>108488.565000</td>\n",
       "      <td>6.671667</td>\n",
       "    </tr>\n",
       "    <tr>\n",
       "      <th>Hyundai</th>\n",
       "      <td>7.799952e+05</td>\n",
       "      <td>1.818594e+06</td>\n",
       "      <td>7.352237e+07</td>\n",
       "      <td>7.612096e+07</td>\n",
       "      <td>8.157000e+04</td>\n",
       "      <td>32.240000</td>\n",
       "      <td>5.197500</td>\n",
       "      <td>NaN</td>\n",
       "      <td>73.413000</td>\n",
       "      <td>35823.640000</td>\n",
       "    </tr>\n",
       "    <tr>\n",
       "      <th>Saudi Aramco</th>\n",
       "      <td>5.276000e+07</td>\n",
       "      <td>1.656667e+07</td>\n",
       "      <td>NaN</td>\n",
       "      <td>6.932667e+07</td>\n",
       "      <td>NaN</td>\n",
       "      <td>NaN</td>\n",
       "      <td>NaN</td>\n",
       "      <td>NaN</td>\n",
       "      <td>NaN</td>\n",
       "      <td>NaN</td>\n",
       "    </tr>\n",
       "    <tr>\n",
       "      <th>Amazon</th>\n",
       "      <td>9.174280e+06</td>\n",
       "      <td>6.463607e+06</td>\n",
       "      <td>4.614156e+07</td>\n",
       "      <td>6.626789e+07</td>\n",
       "      <td>3.766556e+05</td>\n",
       "      <td>41.134000</td>\n",
       "      <td>22.292500</td>\n",
       "      <td>NaN</td>\n",
       "      <td>376655.600000</td>\n",
       "      <td>41.134000</td>\n",
       "    </tr>\n",
       "    <tr>\n",
       "      <th>Tesco</th>\n",
       "      <td>1.085048e+06</td>\n",
       "      <td>7.582294e+05</td>\n",
       "      <td>6.239332e+07</td>\n",
       "      <td>6.423660e+07</td>\n",
       "      <td>6.108080e+04</td>\n",
       "      <td>30.312000</td>\n",
       "      <td>1.005000</td>\n",
       "      <td>NaN</td>\n",
       "      <td>83680.696000</td>\n",
       "      <td>22.124000</td>\n",
       "    </tr>\n",
       "    <tr>\n",
       "      <th>Unilever</th>\n",
       "      <td>6.177000e+05</td>\n",
       "      <td>1.297227e+06</td>\n",
       "      <td>5.867757e+07</td>\n",
       "      <td>6.059250e+07</td>\n",
       "      <td>5.324060e+04</td>\n",
       "      <td>36.224000</td>\n",
       "      <td>4.370000</td>\n",
       "      <td>NaN</td>\n",
       "      <td>61759.096000</td>\n",
       "      <td>31.228000</td>\n",
       "    </tr>\n",
       "    <tr>\n",
       "      <th>PepsiCo</th>\n",
       "      <td>3.552126e+06</td>\n",
       "      <td>1.710306e+06</td>\n",
       "      <td>5.419511e+07</td>\n",
       "      <td>6.051235e+07</td>\n",
       "      <td>7.361200e+04</td>\n",
       "      <td>72.220000</td>\n",
       "      <td>7.570000</td>\n",
       "      <td>NaN</td>\n",
       "      <td>73612.000000</td>\n",
       "      <td>72.220000</td>\n",
       "    </tr>\n",
       "    <tr>\n",
       "      <th>Danone</th>\n",
       "      <td>6.985184e+05</td>\n",
       "      <td>8.689788e+05</td>\n",
       "      <td>2.864806e+07</td>\n",
       "      <td>3.067904e+07</td>\n",
       "      <td>2.543340e+04</td>\n",
       "      <td>61.858000</td>\n",
       "      <td>3.130000</td>\n",
       "      <td>NaN</td>\n",
       "      <td>29502.744000</td>\n",
       "      <td>53.326000</td>\n",
       "    </tr>\n",
       "    <tr>\n",
       "      <th>Anheuser-Busch InBev</th>\n",
       "      <td>3.236231e+06</td>\n",
       "      <td>2.220073e+06</td>\n",
       "      <td>2.504655e+07</td>\n",
       "      <td>3.050286e+07</td>\n",
       "      <td>5.318380e+04</td>\n",
       "      <td>103.170000</td>\n",
       "      <td>1.910000</td>\n",
       "      <td>NaN</td>\n",
       "      <td>53183.800000</td>\n",
       "      <td>103.170000</td>\n",
       "    </tr>\n",
       "    <tr>\n",
       "      <th>Orsted</th>\n",
       "      <td>2.366400e+06</td>\n",
       "      <td>9.660000e+04</td>\n",
       "      <td>2.491891e+07</td>\n",
       "      <td>2.739262e+07</td>\n",
       "      <td>8.145780e+04</td>\n",
       "      <td>32.226000</td>\n",
       "      <td>20.900000</td>\n",
       "      <td>NaN</td>\n",
       "      <td>12218.670000</td>\n",
       "      <td>214.844000</td>\n",
       "    </tr>\n",
       "    <tr>\n",
       "      <th>Apple</th>\n",
       "      <td>5.360040e+04</td>\n",
       "      <td>7.433324e+05</td>\n",
       "      <td>2.325508e+07</td>\n",
       "      <td>2.405262e+07</td>\n",
       "      <td>3.120858e+05</td>\n",
       "      <td>2.521400</td>\n",
       "      <td>11.130000</td>\n",
       "      <td>NaN</td>\n",
       "      <td>312085.800000</td>\n",
       "      <td>2.522000</td>\n",
       "    </tr>\n",
       "    <tr>\n",
       "      <th>TSMC</th>\n",
       "      <td>2.075777e+06</td>\n",
       "      <td>8.545002e+06</td>\n",
       "      <td>5.750319e+06</td>\n",
       "      <td>2.401102e+07</td>\n",
       "      <td>1.458274e+06</td>\n",
       "      <td>7.639600</td>\n",
       "      <td>22.525000</td>\n",
       "      <td>NaN</td>\n",
       "      <td>43748.220000</td>\n",
       "      <td>254.658000</td>\n",
       "    </tr>\n",
       "    <tr>\n",
       "      <th>Microsoft</th>\n",
       "      <td>1.170704e+05</td>\n",
       "      <td>4.357194e+06</td>\n",
       "      <td>1.452446e+07</td>\n",
       "      <td>1.922650e+07</td>\n",
       "      <td>1.491152e+05</td>\n",
       "      <td>29.707800</td>\n",
       "      <td>15.792500</td>\n",
       "      <td>NaN</td>\n",
       "      <td>149115.200000</td>\n",
       "      <td>29.708000</td>\n",
       "    </tr>\n",
       "    <tr>\n",
       "      <th>Alphabet</th>\n",
       "      <td>6.103480e+04</td>\n",
       "      <td>5.989674e+06</td>\n",
       "      <td>1.020969e+07</td>\n",
       "      <td>1.760145e+07</td>\n",
       "      <td>2.043352e+05</td>\n",
       "      <td>30.212000</td>\n",
       "      <td>20.500000</td>\n",
       "      <td>NaN</td>\n",
       "      <td>204335.200000</td>\n",
       "      <td>30.212000</td>\n",
       "    </tr>\n",
       "    <tr>\n",
       "      <th>Tesla</th>\n",
       "      <td>1.935000e+05</td>\n",
       "      <td>4.055000e+05</td>\n",
       "      <td>1.602700e+07</td>\n",
       "      <td>1.662600e+07</td>\n",
       "      <td>3.743650e+04</td>\n",
       "      <td>14.130000</td>\n",
       "      <td>49.472000</td>\n",
       "      <td>NaN</td>\n",
       "      <td>37436.500000</td>\n",
       "      <td>9.205000</td>\n",
       "    </tr>\n",
       "    <tr>\n",
       "      <th>Enel</th>\n",
       "      <td>6.902463e+06</td>\n",
       "      <td>6.330222e+05</td>\n",
       "      <td>6.380043e+06</td>\n",
       "      <td>1.422267e+07</td>\n",
       "      <td>1.442960e+04</td>\n",
       "      <td>527.192000</td>\n",
       "      <td>6.750000</td>\n",
       "      <td>NaN</td>\n",
       "      <td>14429.600000</td>\n",
       "      <td>527.192000</td>\n",
       "    </tr>\n",
       "    <tr>\n",
       "      <th>Kellogg’s</th>\n",
       "      <td>4.830192e+05</td>\n",
       "      <td>5.903582e+05</td>\n",
       "      <td>7.969377e+06</td>\n",
       "      <td>9.490231e+06</td>\n",
       "      <td>1.407820e+04</td>\n",
       "      <td>76.448000</td>\n",
       "      <td>3.155000</td>\n",
       "      <td>NaN</td>\n",
       "      <td>14078.200000</td>\n",
       "      <td>76.448000</td>\n",
       "    </tr>\n",
       "    <tr>\n",
       "      <th>Meta</th>\n",
       "      <td>4.742140e+04</td>\n",
       "      <td>2.569161e+06</td>\n",
       "      <td>4.787741e+06</td>\n",
       "      <td>7.511076e+06</td>\n",
       "      <td>8.940760e+04</td>\n",
       "      <td>28.601600</td>\n",
       "      <td>21.067500</td>\n",
       "      <td>NaN</td>\n",
       "      <td>89407.600000</td>\n",
       "      <td>28.602000</td>\n",
       "    </tr>\n",
       "    <tr>\n",
       "      <th>Molson Coors</th>\n",
       "      <td>4.901000e+05</td>\n",
       "      <td>5.179004e+05</td>\n",
       "      <td>4.291162e+06</td>\n",
       "      <td>5.817063e+06</td>\n",
       "      <td>1.266580e+04</td>\n",
       "      <td>79.638000</td>\n",
       "      <td>-0.820000</td>\n",
       "      <td>NaN</td>\n",
       "      <td>12665.800000</td>\n",
       "      <td>79.636000</td>\n",
       "    </tr>\n",
       "    <tr>\n",
       "      <th>Diageo</th>\n",
       "      <td>4.845290e+05</td>\n",
       "      <td>1.577242e+05</td>\n",
       "      <td>3.703383e+06</td>\n",
       "      <td>4.390655e+06</td>\n",
       "      <td>1.299340e+04</td>\n",
       "      <td>50.042000</td>\n",
       "      <td>6.705000</td>\n",
       "      <td>NaN</td>\n",
       "      <td>17800.958000</td>\n",
       "      <td>36.526000</td>\n",
       "    </tr>\n",
       "    <tr>\n",
       "      <th>Rosneft</th>\n",
       "      <td>5.730000e+07</td>\n",
       "      <td>2.065000e+07</td>\n",
       "      <td>2.751000e+08</td>\n",
       "      <td>NaN</td>\n",
       "      <td>NaN</td>\n",
       "      <td>NaN</td>\n",
       "      <td>NaN</td>\n",
       "      <td>NaN</td>\n",
       "      <td>NaN</td>\n",
       "      <td>NaN</td>\n",
       "    </tr>\n",
       "  </tbody>\n",
       "</table>\n",
       "</div>"
      ],
      "text/plain": [
       "                           SCOPE 1  SCOPE 2 (location-based)       SCOPE 3  \\\n",
       "COMPANY NAME                                                                 \n",
       "Shell                 6.300000e+07              1.000000e+07  1.056447e+09   \n",
       "Chevron               5.840000e+07              3.400000e+06  1.028200e+09   \n",
       "Gazprom               8.822895e+07              5.827761e+06  1.127929e+09   \n",
       "Toyota                2.272571e+06              4.357166e+06  4.167293e+08   \n",
       "Volkswagen            4.399641e+06              5.558314e+06  3.906809e+08   \n",
       "BP                    4.066000e+07              3.760000e+06  3.437250e+08   \n",
       "Honda                 1.223374e+06              3.410813e+06  2.879159e+08   \n",
       "Equinor               1.326715e+07              1.653358e+05  2.762498e+08   \n",
       "Fiat-Chrysler         1.227754e+06              2.414369e+06  2.668018e+08   \n",
       "Ford                  1.279747e+06              2.986100e+06  2.656040e+08   \n",
       "General Motors        1.522590e+06              3.707187e+06  2.591649e+08   \n",
       "Exxon                 1.002000e+08              8.200000e+06  5.300000e+08   \n",
       "Oxy                   1.759072e+07              4.912207e+06  1.969600e+08   \n",
       "PetroChina            1.252025e+08              4.020250e+07           NaN   \n",
       "EDF                   2.953583e+07              3.515614e+05  1.068990e+08   \n",
       "BYD                   3.553160e+05              5.453438e+06  1.230260e+08   \n",
       "Nestlé                3.272557e+06              2.516767e+06  1.107823e+08   \n",
       "Daimler/Mercedes      9.925000e+05              1.528333e+06  1.091101e+08   \n",
       "Samsung               5.844860e+06              1.193088e+07  8.436758e+07   \n",
       "BMW                   6.596525e+05              1.429540e+06  1.055465e+08   \n",
       "Geely                 1.809667e+05              5.386895e+05  7.942017e+07   \n",
       "Hyundai               7.799952e+05              1.818594e+06  7.352237e+07   \n",
       "Saudi Aramco          5.276000e+07              1.656667e+07           NaN   \n",
       "Amazon                9.174280e+06              6.463607e+06  4.614156e+07   \n",
       "Tesco                 1.085048e+06              7.582294e+05  6.239332e+07   \n",
       "Unilever              6.177000e+05              1.297227e+06  5.867757e+07   \n",
       "PepsiCo               3.552126e+06              1.710306e+06  5.419511e+07   \n",
       "Danone                6.985184e+05              8.689788e+05  2.864806e+07   \n",
       "Anheuser-Busch InBev  3.236231e+06              2.220073e+06  2.504655e+07   \n",
       "Orsted                2.366400e+06              9.660000e+04  2.491891e+07   \n",
       "Apple                 5.360040e+04              7.433324e+05  2.325508e+07   \n",
       "TSMC                  2.075777e+06              8.545002e+06  5.750319e+06   \n",
       "Microsoft             1.170704e+05              4.357194e+06  1.452446e+07   \n",
       "Alphabet              6.103480e+04              5.989674e+06  1.020969e+07   \n",
       "Tesla                 1.935000e+05              4.055000e+05  1.602700e+07   \n",
       "Enel                  6.902463e+06              6.330222e+05  6.380043e+06   \n",
       "Kellogg’s             4.830192e+05              5.903582e+05  7.969377e+06   \n",
       "Meta                  4.742140e+04              2.569161e+06  4.787741e+06   \n",
       "Molson Coors          4.901000e+05              5.179004e+05  4.291162e+06   \n",
       "Diageo                4.845290e+05              1.577242e+05  3.703383e+06   \n",
       "Rosneft               5.730000e+07              2.065000e+07  2.751000e+08   \n",
       "\n",
       "                      TOTAL EMISSIONS  TOTAL REVENUE (miillion $)  \\\n",
       "COMPANY NAME                                                        \n",
       "Shell                    1.138447e+09                3.181430e+05   \n",
       "Chevron                  1.093400e+09                1.569122e+05   \n",
       "Gazprom                  7.708143e+08                3.554709e+06   \n",
       "Toyota                   4.256259e+08                2.084658e+05   \n",
       "Volkswagen               4.040267e+08                2.546363e+05   \n",
       "BP                       3.230600e+08                2.217036e+05   \n",
       "Honda                    2.960877e+08                1.513838e+07   \n",
       "Equinor                  2.923918e+08                8.629960e+04   \n",
       "Fiat-Chrysler            2.729287e+08                1.365630e+05   \n",
       "Ford                     2.724584e+08                1.472407e+05   \n",
       "General Motors           2.675875e+08                1.326835e+05   \n",
       "Exxon                    2.226000e+08                2.871944e+05   \n",
       "Oxy                      2.194629e+08                2.382680e+04   \n",
       "PetroChina               1.654050e+08                1.818900e+04   \n",
       "EDF                      1.371974e+08                9.326040e+04   \n",
       "BYD                      1.310879e+08                2.686250e+04   \n",
       "Nestlé                   1.183548e+08                8.987900e+04   \n",
       "Daimler/Mercedes         1.126851e+08                1.675005e+05   \n",
       "Samsung                  1.094811e+08                3.274090e+08   \n",
       "BMW                      1.079290e+08                1.088678e+05   \n",
       "Geely                    8.032717e+07                1.488183e+04   \n",
       "Hyundai                  7.612096e+07                8.157000e+04   \n",
       "Saudi Aramco             6.932667e+07                         NaN   \n",
       "Amazon                   6.626789e+07                3.766556e+05   \n",
       "Tesco                    6.423660e+07                6.108080e+04   \n",
       "Unilever                 6.059250e+07                5.324060e+04   \n",
       "PepsiCo                  6.051235e+07                7.361200e+04   \n",
       "Danone                   3.067904e+07                2.543340e+04   \n",
       "Anheuser-Busch InBev     3.050286e+07                5.318380e+04   \n",
       "Orsted                   2.739262e+07                8.145780e+04   \n",
       "Apple                    2.405262e+07                3.120858e+05   \n",
       "TSMC                     2.401102e+07                1.458274e+06   \n",
       "Microsoft                1.922650e+07                1.491152e+05   \n",
       "Alphabet                 1.760145e+07                2.043352e+05   \n",
       "Tesla                    1.662600e+07                3.743650e+04   \n",
       "Enel                     1.422267e+07                1.442960e+04   \n",
       "Kellogg’s                9.490231e+06                1.407820e+04   \n",
       "Meta                     7.511076e+06                8.940760e+04   \n",
       "Molson Coors             5.817063e+06                1.266580e+04   \n",
       "Diageo                   4.390655e+06                1.299340e+04   \n",
       "Rosneft                           NaN                         NaN   \n",
       "\n",
       "                      CARBON INTENSITY  GROWTH RATE  COMPANY SIZE  \\\n",
       "COMPANY NAME                                                        \n",
       "Shell                       249.320000     7.822500           NaN   \n",
       "Chevron                     427.920000    17.937500           NaN   \n",
       "Gazprom                            NaN   -15.485000           NaN   \n",
       "Toyota                       31.988333     2.918000           NaN   \n",
       "Volkswagen                   39.433333     5.764000           NaN   \n",
       "BP                          226.910000     8.440000           NaN   \n",
       "Honda                         0.306667     2.406000           NaN   \n",
       "Equinor                     185.380000    29.090000           NaN   \n",
       "Fiat-Chrysler                27.941667    14.020000           NaN   \n",
       "Ford                         29.025000     2.404000           NaN   \n",
       "General Motors               39.333333     0.958000           NaN   \n",
       "Exxon                       406.008000    15.502500           NaN   \n",
       "Oxy                        1000.514000    22.345000           NaN   \n",
       "PetroChina                 9999.710000    23.443333           NaN   \n",
       "EDF                         347.856000    19.280000           NaN   \n",
       "BYD                         185.180000    36.346000           NaN   \n",
       "Nestlé                       64.718000     0.887500           NaN   \n",
       "Daimler/Mercedes             14.918333    -1.362000           NaN   \n",
       "Samsung                       0.060000    21.665000           NaN   \n",
       "BMW                          19.625000     8.250000           NaN   \n",
       "Geely                        48.646667    11.358000           NaN   \n",
       "Hyundai                      32.240000     5.197500           NaN   \n",
       "Saudi Aramco                       NaN          NaN           NaN   \n",
       "Amazon                       41.134000    22.292500           NaN   \n",
       "Tesco                        30.312000     1.005000           NaN   \n",
       "Unilever                     36.224000     4.370000           NaN   \n",
       "PepsiCo                      72.220000     7.570000           NaN   \n",
       "Danone                       61.858000     3.130000           NaN   \n",
       "Anheuser-Busch InBev        103.170000     1.910000           NaN   \n",
       "Orsted                       32.226000    20.900000           NaN   \n",
       "Apple                         2.521400    11.130000           NaN   \n",
       "TSMC                          7.639600    22.525000           NaN   \n",
       "Microsoft                    29.707800    15.792500           NaN   \n",
       "Alphabet                     30.212000    20.500000           NaN   \n",
       "Tesla                        14.130000    49.472000           NaN   \n",
       "Enel                        527.192000     6.750000           NaN   \n",
       "Kellogg’s                    76.448000     3.155000           NaN   \n",
       "Meta                         28.601600    21.067500           NaN   \n",
       "Molson Coors                 79.638000    -0.820000           NaN   \n",
       "Diageo                       50.042000     6.705000           NaN   \n",
       "Rosneft                            NaN          NaN           NaN   \n",
       "\n",
       "                      REVENUE IN USD   Adjusted CI  \n",
       "COMPANY NAME                                        \n",
       "Shell                  318143.000000    249.320000  \n",
       "Chevron                156912.200000    427.920000  \n",
       "Gazprom                 49765.926000   2421.040000  \n",
       "Toyota                   1876.192500   3554.291667  \n",
       "Volkswagen             295378.146667     33.993333  \n",
       "BP                     221703.600000    226.910000  \n",
       "Honda                  136245.450000     34.126667  \n",
       "Equinor                 86299.600000    185.380000  \n",
       "Fiat-Chrysler          158413.080000     24.088333  \n",
       "Ford                   147240.666667     29.025000  \n",
       "General Motors         132683.500000     39.333333  \n",
       "Exxon                  287194.400000    406.008000  \n",
       "Oxy                     23826.800000   1000.514000  \n",
       "PetroChina             132597.810000   1371.702500  \n",
       "EDF                    108182.064000    299.876000  \n",
       "BYD                    195827.625000     22.856667  \n",
       "Nestlé                  97968.110000     59.376000  \n",
       "Daimler/Mercedes       194300.580000     12.860000  \n",
       "Samsung                294668.100000     66.426000  \n",
       "BMW                    126286.686667     16.920000  \n",
       "Geely                  108488.565000      6.671667  \n",
       "Hyundai                    73.413000  35823.640000  \n",
       "Saudi Aramco                     NaN           NaN  \n",
       "Amazon                 376655.600000     41.134000  \n",
       "Tesco                   83680.696000     22.124000  \n",
       "Unilever                61759.096000     31.228000  \n",
       "PepsiCo                 73612.000000     72.220000  \n",
       "Danone                  29502.744000     53.326000  \n",
       "Anheuser-Busch InBev    53183.800000    103.170000  \n",
       "Orsted                  12218.670000    214.844000  \n",
       "Apple                  312085.800000      2.522000  \n",
       "TSMC                    43748.220000    254.658000  \n",
       "Microsoft              149115.200000     29.708000  \n",
       "Alphabet               204335.200000     30.212000  \n",
       "Tesla                   37436.500000      9.205000  \n",
       "Enel                    14429.600000    527.192000  \n",
       "Kellogg’s               14078.200000     76.448000  \n",
       "Meta                    89407.600000     28.602000  \n",
       "Molson Coors            12665.800000     79.636000  \n",
       "Diageo                  17800.958000     36.526000  \n",
       "Rosneft                          NaN           NaN  "
      ]
     },
     "execution_count": 18,
     "metadata": {},
     "output_type": "execute_result"
    }
   ],
   "source": [
    "sectors.groupby('COMPANY NAME').mean(numeric_only=True).drop(columns=['YEAR']).sort_values(by='TOTAL EMISSIONS', ascending=False)"
   ]
  },
  {
   "cell_type": "markdown",
   "metadata": {},
   "source": [
    "### Average Emissions by Country of Origin\n",
    "\n",
    "Now let's take a look at the average emissions by country of origin, still sorting by average `TOTAL EMISSIONS` in descending order.\n",
    "\n",
    "*NOTE: I am still working on figuring out how to differentate companies with more than one country of origin.*"
   ]
  },
  {
   "cell_type": "code",
   "execution_count": 19,
   "metadata": {},
   "outputs": [
    {
     "data": {
      "text/html": [
       "<div>\n",
       "<style scoped>\n",
       "    .dataframe tbody tr th:only-of-type {\n",
       "        vertical-align: middle;\n",
       "    }\n",
       "\n",
       "    .dataframe tbody tr th {\n",
       "        vertical-align: top;\n",
       "    }\n",
       "\n",
       "    .dataframe thead th {\n",
       "        text-align: right;\n",
       "    }\n",
       "</style>\n",
       "<table border=\"1\" class=\"dataframe\">\n",
       "  <thead>\n",
       "    <tr style=\"text-align: right;\">\n",
       "      <th></th>\n",
       "      <th>SCOPE 1</th>\n",
       "      <th>SCOPE 2 (location-based)</th>\n",
       "      <th>SCOPE 3</th>\n",
       "      <th>TOTAL EMISSIONS</th>\n",
       "      <th>CARBON INTENSITY</th>\n",
       "      <th>GROWTH RATE</th>\n",
       "      <th>COMPANY SIZE</th>\n",
       "      <th>REVENUE IN USD</th>\n",
       "      <th>Adjusted CI</th>\n",
       "    </tr>\n",
       "    <tr>\n",
       "      <th>COUNTRY OF ORIGIN</th>\n",
       "      <th></th>\n",
       "      <th></th>\n",
       "      <th></th>\n",
       "      <th></th>\n",
       "      <th></th>\n",
       "      <th></th>\n",
       "      <th></th>\n",
       "      <th></th>\n",
       "      <th></th>\n",
       "    </tr>\n",
       "  </thead>\n",
       "  <tbody>\n",
       "    <tr>\n",
       "      <th>United Kingdom, Netherlands</th>\n",
       "      <td>63000000.0</td>\n",
       "      <td>10000000.0</td>\n",
       "      <td>1.056447e+09</td>\n",
       "      <td>1.138447e+09</td>\n",
       "      <td>249.0</td>\n",
       "      <td>8.0</td>\n",
       "      <td>NaN</td>\n",
       "      <td>318143.0</td>\n",
       "      <td>249.0</td>\n",
       "    </tr>\n",
       "    <tr>\n",
       "      <th>Russsia</th>\n",
       "      <td>74482749.0</td>\n",
       "      <td>12415423.0</td>\n",
       "      <td>7.015146e+08</td>\n",
       "      <td>7.708143e+08</td>\n",
       "      <td>NaN</td>\n",
       "      <td>-15.0</td>\n",
       "      <td>NaN</td>\n",
       "      <td>49766.0</td>\n",
       "      <td>2421.0</td>\n",
       "    </tr>\n",
       "    <tr>\n",
       "      <th>Japan</th>\n",
       "      <td>1747972.0</td>\n",
       "      <td>3883990.0</td>\n",
       "      <td>3.523226e+08</td>\n",
       "      <td>3.608568e+08</td>\n",
       "      <td>16.0</td>\n",
       "      <td>3.0</td>\n",
       "      <td>NaN</td>\n",
       "      <td>69061.0</td>\n",
       "      <td>1794.0</td>\n",
       "    </tr>\n",
       "    <tr>\n",
       "      <th>United Kingdom</th>\n",
       "      <td>40660000.0</td>\n",
       "      <td>3760000.0</td>\n",
       "      <td>3.437250e+08</td>\n",
       "      <td>3.230600e+08</td>\n",
       "      <td>227.0</td>\n",
       "      <td>8.0</td>\n",
       "      <td>NaN</td>\n",
       "      <td>221704.0</td>\n",
       "      <td>227.0</td>\n",
       "    </tr>\n",
       "    <tr>\n",
       "      <th>Norway</th>\n",
       "      <td>13267146.0</td>\n",
       "      <td>165336.0</td>\n",
       "      <td>2.762498e+08</td>\n",
       "      <td>2.923918e+08</td>\n",
       "      <td>185.0</td>\n",
       "      <td>29.0</td>\n",
       "      <td>NaN</td>\n",
       "      <td>86300.0</td>\n",
       "      <td>185.0</td>\n",
       "    </tr>\n",
       "    <tr>\n",
       "      <th>Italy, United States</th>\n",
       "      <td>1227754.0</td>\n",
       "      <td>2414369.0</td>\n",
       "      <td>2.668018e+08</td>\n",
       "      <td>2.729287e+08</td>\n",
       "      <td>28.0</td>\n",
       "      <td>14.0</td>\n",
       "      <td>NaN</td>\n",
       "      <td>158413.0</td>\n",
       "      <td>24.0</td>\n",
       "    </tr>\n",
       "    <tr>\n",
       "      <th>Germany</th>\n",
       "      <td>2017265.0</td>\n",
       "      <td>2838729.0</td>\n",
       "      <td>2.017792e+08</td>\n",
       "      <td>2.082136e+08</td>\n",
       "      <td>25.0</td>\n",
       "      <td>4.0</td>\n",
       "      <td>NaN</td>\n",
       "      <td>205322.0</td>\n",
       "      <td>21.0</td>\n",
       "    </tr>\n",
       "    <tr>\n",
       "      <th>United States</th>\n",
       "      <td>15087459.0</td>\n",
       "      <td>3682030.0</td>\n",
       "      <td>1.773647e+08</td>\n",
       "      <td>1.870961e+08</td>\n",
       "      <td>170.0</td>\n",
       "      <td>16.0</td>\n",
       "      <td>NaN</td>\n",
       "      <td>152063.0</td>\n",
       "      <td>172.0</td>\n",
       "    </tr>\n",
       "    <tr>\n",
       "      <th>China</th>\n",
       "      <td>38689365.0</td>\n",
       "      <td>13877112.0</td>\n",
       "      <td>9.032162e+07</td>\n",
       "      <td>1.292112e+08</td>\n",
       "      <td>2588.0</td>\n",
       "      <td>24.0</td>\n",
       "      <td>NaN</td>\n",
       "      <td>147268.0</td>\n",
       "      <td>430.0</td>\n",
       "    </tr>\n",
       "    <tr>\n",
       "      <th>Switzerland</th>\n",
       "      <td>3272557.0</td>\n",
       "      <td>2516767.0</td>\n",
       "      <td>1.107823e+08</td>\n",
       "      <td>1.183548e+08</td>\n",
       "      <td>65.0</td>\n",
       "      <td>1.0</td>\n",
       "      <td>NaN</td>\n",
       "      <td>97968.0</td>\n",
       "      <td>59.0</td>\n",
       "    </tr>\n",
       "    <tr>\n",
       "      <th>South Korea</th>\n",
       "      <td>3082206.0</td>\n",
       "      <td>6415087.0</td>\n",
       "      <td>7.845201e+07</td>\n",
       "      <td>9.128466e+07</td>\n",
       "      <td>16.0</td>\n",
       "      <td>13.0</td>\n",
       "      <td>NaN</td>\n",
       "      <td>147371.0</td>\n",
       "      <td>17945.0</td>\n",
       "    </tr>\n",
       "    <tr>\n",
       "      <th>France</th>\n",
       "      <td>15117174.0</td>\n",
       "      <td>610270.0</td>\n",
       "      <td>6.777353e+07</td>\n",
       "      <td>8.393823e+07</td>\n",
       "      <td>205.0</td>\n",
       "      <td>11.0</td>\n",
       "      <td>NaN</td>\n",
       "      <td>68842.0</td>\n",
       "      <td>177.0</td>\n",
       "    </tr>\n",
       "    <tr>\n",
       "      <th>Saudi Arabia</th>\n",
       "      <td>52760000.0</td>\n",
       "      <td>16566667.0</td>\n",
       "      <td>NaN</td>\n",
       "      <td>6.932667e+07</td>\n",
       "      <td>NaN</td>\n",
       "      <td>NaN</td>\n",
       "      <td>NaN</td>\n",
       "      <td>NaN</td>\n",
       "      <td>NaN</td>\n",
       "    </tr>\n",
       "    <tr>\n",
       "      <th>Netherlands, United Kingdom</th>\n",
       "      <td>617700.0</td>\n",
       "      <td>1297227.0</td>\n",
       "      <td>5.867757e+07</td>\n",
       "      <td>6.059250e+07</td>\n",
       "      <td>36.0</td>\n",
       "      <td>4.0</td>\n",
       "      <td>NaN</td>\n",
       "      <td>61759.0</td>\n",
       "      <td>31.0</td>\n",
       "    </tr>\n",
       "    <tr>\n",
       "      <th>England</th>\n",
       "      <td>784788.0</td>\n",
       "      <td>457977.0</td>\n",
       "      <td>3.304835e+07</td>\n",
       "      <td>3.431363e+07</td>\n",
       "      <td>40.0</td>\n",
       "      <td>4.0</td>\n",
       "      <td>NaN</td>\n",
       "      <td>50741.0</td>\n",
       "      <td>29.0</td>\n",
       "    </tr>\n",
       "    <tr>\n",
       "      <th>Belgium</th>\n",
       "      <td>3236231.0</td>\n",
       "      <td>2220073.0</td>\n",
       "      <td>2.504656e+07</td>\n",
       "      <td>3.050286e+07</td>\n",
       "      <td>103.0</td>\n",
       "      <td>2.0</td>\n",
       "      <td>NaN</td>\n",
       "      <td>53184.0</td>\n",
       "      <td>103.0</td>\n",
       "    </tr>\n",
       "    <tr>\n",
       "      <th>Denmark</th>\n",
       "      <td>2366400.0</td>\n",
       "      <td>96600.0</td>\n",
       "      <td>2.491891e+07</td>\n",
       "      <td>2.739262e+07</td>\n",
       "      <td>32.0</td>\n",
       "      <td>21.0</td>\n",
       "      <td>NaN</td>\n",
       "      <td>12219.0</td>\n",
       "      <td>215.0</td>\n",
       "    </tr>\n",
       "    <tr>\n",
       "      <th>Taiwan</th>\n",
       "      <td>2075777.0</td>\n",
       "      <td>8545002.0</td>\n",
       "      <td>5.750319e+06</td>\n",
       "      <td>2.401102e+07</td>\n",
       "      <td>8.0</td>\n",
       "      <td>23.0</td>\n",
       "      <td>NaN</td>\n",
       "      <td>43748.0</td>\n",
       "      <td>255.0</td>\n",
       "    </tr>\n",
       "    <tr>\n",
       "      <th>Italy</th>\n",
       "      <td>6902463.0</td>\n",
       "      <td>633022.0</td>\n",
       "      <td>6.380043e+06</td>\n",
       "      <td>1.422267e+07</td>\n",
       "      <td>527.0</td>\n",
       "      <td>7.0</td>\n",
       "      <td>NaN</td>\n",
       "      <td>14430.0</td>\n",
       "      <td>527.0</td>\n",
       "    </tr>\n",
       "    <tr>\n",
       "      <th>Canada, United States</th>\n",
       "      <td>490100.0</td>\n",
       "      <td>517900.0</td>\n",
       "      <td>4.291162e+06</td>\n",
       "      <td>5.817063e+06</td>\n",
       "      <td>80.0</td>\n",
       "      <td>-1.0</td>\n",
       "      <td>NaN</td>\n",
       "      <td>12666.0</td>\n",
       "      <td>80.0</td>\n",
       "    </tr>\n",
       "  </tbody>\n",
       "</table>\n",
       "</div>"
      ],
      "text/plain": [
       "                                SCOPE 1  SCOPE 2 (location-based)  \\\n",
       "COUNTRY OF ORIGIN                                                   \n",
       "United Kingdom, Netherlands  63000000.0                10000000.0   \n",
       "Russsia                      74482749.0                12415423.0   \n",
       "Japan                         1747972.0                 3883990.0   \n",
       "United Kingdom               40660000.0                 3760000.0   \n",
       "Norway                       13267146.0                  165336.0   \n",
       "Italy, United States          1227754.0                 2414369.0   \n",
       "Germany                       2017265.0                 2838729.0   \n",
       "United States                15087459.0                 3682030.0   \n",
       "China                        38689365.0                13877112.0   \n",
       "Switzerland                   3272557.0                 2516767.0   \n",
       "South Korea                   3082206.0                 6415087.0   \n",
       "France                       15117174.0                  610270.0   \n",
       "Saudi Arabia                 52760000.0                16566667.0   \n",
       "Netherlands, United Kingdom    617700.0                 1297227.0   \n",
       "England                        784788.0                  457977.0   \n",
       "Belgium                       3236231.0                 2220073.0   \n",
       "Denmark                       2366400.0                   96600.0   \n",
       "Taiwan                        2075777.0                 8545002.0   \n",
       "Italy                         6902463.0                  633022.0   \n",
       "Canada, United States          490100.0                  517900.0   \n",
       "\n",
       "                                  SCOPE 3  TOTAL EMISSIONS  CARBON INTENSITY  \\\n",
       "COUNTRY OF ORIGIN                                                              \n",
       "United Kingdom, Netherlands  1.056447e+09     1.138447e+09             249.0   \n",
       "Russsia                      7.015146e+08     7.708143e+08               NaN   \n",
       "Japan                        3.523226e+08     3.608568e+08              16.0   \n",
       "United Kingdom               3.437250e+08     3.230600e+08             227.0   \n",
       "Norway                       2.762498e+08     2.923918e+08             185.0   \n",
       "Italy, United States         2.668018e+08     2.729287e+08              28.0   \n",
       "Germany                      2.017792e+08     2.082136e+08              25.0   \n",
       "United States                1.773647e+08     1.870961e+08             170.0   \n",
       "China                        9.032162e+07     1.292112e+08            2588.0   \n",
       "Switzerland                  1.107823e+08     1.183548e+08              65.0   \n",
       "South Korea                  7.845201e+07     9.128466e+07              16.0   \n",
       "France                       6.777353e+07     8.393823e+07             205.0   \n",
       "Saudi Arabia                          NaN     6.932667e+07               NaN   \n",
       "Netherlands, United Kingdom  5.867757e+07     6.059250e+07              36.0   \n",
       "England                      3.304835e+07     3.431363e+07              40.0   \n",
       "Belgium                      2.504656e+07     3.050286e+07             103.0   \n",
       "Denmark                      2.491891e+07     2.739262e+07              32.0   \n",
       "Taiwan                       5.750319e+06     2.401102e+07               8.0   \n",
       "Italy                        6.380043e+06     1.422267e+07             527.0   \n",
       "Canada, United States        4.291162e+06     5.817063e+06              80.0   \n",
       "\n",
       "                             GROWTH RATE  COMPANY SIZE  REVENUE IN USD  \\\n",
       "COUNTRY OF ORIGIN                                                        \n",
       "United Kingdom, Netherlands          8.0           NaN        318143.0   \n",
       "Russsia                            -15.0           NaN         49766.0   \n",
       "Japan                                3.0           NaN         69061.0   \n",
       "United Kingdom                       8.0           NaN        221704.0   \n",
       "Norway                              29.0           NaN         86300.0   \n",
       "Italy, United States                14.0           NaN        158413.0   \n",
       "Germany                              4.0           NaN        205322.0   \n",
       "United States                       16.0           NaN        152063.0   \n",
       "China                               24.0           NaN        147268.0   \n",
       "Switzerland                          1.0           NaN         97968.0   \n",
       "South Korea                         13.0           NaN        147371.0   \n",
       "France                              11.0           NaN         68842.0   \n",
       "Saudi Arabia                         NaN           NaN             NaN   \n",
       "Netherlands, United Kingdom          4.0           NaN         61759.0   \n",
       "England                              4.0           NaN         50741.0   \n",
       "Belgium                              2.0           NaN         53184.0   \n",
       "Denmark                             21.0           NaN         12219.0   \n",
       "Taiwan                              23.0           NaN         43748.0   \n",
       "Italy                                7.0           NaN         14430.0   \n",
       "Canada, United States               -1.0           NaN         12666.0   \n",
       "\n",
       "                             Adjusted CI  \n",
       "COUNTRY OF ORIGIN                         \n",
       "United Kingdom, Netherlands        249.0  \n",
       "Russsia                           2421.0  \n",
       "Japan                             1794.0  \n",
       "United Kingdom                     227.0  \n",
       "Norway                             185.0  \n",
       "Italy, United States                24.0  \n",
       "Germany                             21.0  \n",
       "United States                      172.0  \n",
       "China                              430.0  \n",
       "Switzerland                         59.0  \n",
       "South Korea                      17945.0  \n",
       "France                             177.0  \n",
       "Saudi Arabia                         NaN  \n",
       "Netherlands, United Kingdom         31.0  \n",
       "England                             29.0  \n",
       "Belgium                            103.0  \n",
       "Denmark                            215.0  \n",
       "Taiwan                             255.0  \n",
       "Italy                              527.0  \n",
       "Canada, United States               80.0  "
      ]
     },
     "execution_count": 19,
     "metadata": {},
     "output_type": "execute_result"
    }
   ],
   "source": [
    "avg_ByCountry = sectors.groupby('COUNTRY OF ORIGIN').mean(numeric_only=True).drop(columns=['YEAR', 'TOTAL REVENUE (miillion $)']).round(0).sort_values(by='TOTAL EMISSIONS', ascending=False)\n",
    "avg_ByCountry"
   ]
  },
  {
   "cell_type": "markdown",
   "metadata": {},
   "source": [
    "The first row corresponds to **Shell**, last row corresponds to **Molson Coors**."
   ]
  },
  {
   "cell_type": "markdown",
   "metadata": {},
   "source": [
    "---"
   ]
  },
  {
   "cell_type": "markdown",
   "metadata": {},
   "source": [
    "# SECTION 3) Visualizations"
   ]
  },
  {
   "cell_type": "markdown",
   "metadata": {},
   "source": [
    "### CDP Submission: Who Reported to CDP?\n",
    "\n",
    "The purpose of this section is to view the proportion of companies across all sectors who reported to CDP."
   ]
  },
  {
   "cell_type": "code",
   "execution_count": 20,
   "metadata": {},
   "outputs": [
    {
     "name": "stdout",
     "output_type": "stream",
     "text": [
      "Across all sectors, 70.0% of companies submitted to cdp\n"
     ]
    }
   ],
   "source": [
    "# Proportion of CDP submissions over number of reports\n",
    "\n",
    "submission_percentage = (sum(sectors['SUBMIT TO CDP'] == True) / sectors.shape[0]) * 100\n",
    "\n",
    "print('Across all sectors, ' + str(round(submission_percentage,0))+ '% of companies submitted to cdp')"
   ]
  },
  {
   "cell_type": "markdown",
   "metadata": {},
   "source": [
    "Now we know 70% of our data comes from CDP submissions. To compare CDP submissions per sector visually, I created a **count plot** using `sectors`."
   ]
  },
  {
   "cell_type": "code",
   "execution_count": 21,
   "metadata": {},
   "outputs": [
    {
     "data": {
      "text/plain": [
       "Text(0.5, 1.0, 'Count of CDP Submissions by Sector')"
      ]
     },
     "execution_count": 21,
     "metadata": {},
     "output_type": "execute_result"
    },
    {
     "data": {
      "image/png": "[encoded data removed]",
      "text/plain": [
       "<Figure size 640x480 with 1 Axes>"
      ]
     },
     "metadata": {},
     "output_type": "display_data"
    }
   ],
   "source": [
    "# Plot counts of submissions\n",
    "\n",
    "sns.countplot(x='SECTOR', hue='SUBMIT TO CDP', data=sectors)\n",
    "plt.xlabel('Sector')\n",
    "plt.ylabel('Count')\n",
    "plt.title('Count of CDP Submissions by Sector')"
   ]
  },
  {
   "cell_type": "markdown",
   "metadata": {},
   "source": [
    "### CDP Submissions: How do submission trends look over time?"
   ]
  },
  {
   "cell_type": "code",
   "execution_count": 22,
   "metadata": {},
   "outputs": [
    {
     "data": {
      "image/png": "[encoded data removed]",
      "text/plain": [
       "<Figure size 640x480 with 1 Axes>"
      ]
     },
     "metadata": {},
     "output_type": "display_data"
    }
   ],
   "source": [
    "# Visualizing CDP Submissions Over TIme\n",
    "\n",
    "x = np.arange(2017,2023)\n",
    "y = sectors.groupby('YEAR').count()['SUBMIT TO CDP']\n",
    "\n",
    "fig, ax = plt.subplots()\n",
    "plt.bar(x, y)\n",
    "plt.suptitle('Count of CDP Submissions Over Time (2017-2022)', fontweight='bold')\n",
    "plt.xlabel('Year')\n",
    "plt.ylabel('Submissions Counts')\n",
    "bars = ax.bar(x, y)\n",
    "ax.bar_label(bars)\n",
    "plt.show();"
   ]
  },
  {
   "cell_type": "markdown",
   "metadata": {},
   "source": [
    "---"
   ]
  },
  {
   "cell_type": "markdown",
   "metadata": {},
   "source": [
    "## Sector Charts \n",
    "\n",
    "*The goal of this section is to ...*"
   ]
  },
  {
   "cell_type": "markdown",
   "metadata": {},
   "source": [
    "### $\\ln$(Carbon Intensity) Over Time by Sector"
   ]
  },
  {
   "cell_type": "code",
   "execution_count": 24,
   "metadata": {},
   "outputs": [
    {
     "data": {
      "image/png": "[encoded data removed]",
      "text/plain": [
       "<Figure size 640x480 with 1 Axes>"
      ]
     },
     "metadata": {},
     "output_type": "display_data"
    }
   ],
   "source": [
    "avgci_BySector = sectors.pivot_table(\n",
    "    index='YEAR',\n",
    "    columns='SECTOR',\n",
    "    values='Adjusted CI',\n",
    "    aggfunc = np.median\n",
    ").round(0).reset_index().drop([0])\n",
    "\n",
    "\n",
    "for sector in avgci_BySector.columns[1:]:\n",
    "    plt.plot(avgci_BySector['YEAR'], np.log(avgci_BySector[sector]), label=sector, marker='o')\n",
    "\n",
    "plt.xticks( np.linspace(2018, 2022,5))\n",
    "plt.title('Natural Log of Avg. Adjusted CI Over Time', fontweight='bold')\n",
    "plt.ylabel('Avg. Natural Log CI $\\ln(mt CO_{2}e / mill USD)$')\n",
    "plt.xlabel('Year')\n",
    "plt.legend(fontsize=8)\n",
    "plt.show(); "
   ]
  },
  {
   "cell_type": "markdown",
   "metadata": {},
   "source": [
    "### A Closer Look of CI Over Time by Sector"
   ]
  },
  {
   "cell_type": "code",
   "execution_count": 44,
   "metadata": {},
   "outputs": [
    {
     "data": {
      "image/png": "[encoded data removed]",
      "text/plain": [
       "<Figure size 640x480 with 1 Axes>"
      ]
     },
     "metadata": {},
     "output_type": "display_data"
    }
   ],
   "source": [
    "# Food & Ag\n",
    "ci_OverTime('Food & Agriculture')"
   ]
  },
  {
   "cell_type": "code",
   "execution_count": 45,
   "metadata": {},
   "outputs": [
    {
     "data": {
      "image/png": "[encoded data removed]",
      "text/plain": [
       "<Figure size 640x480 with 1 Axes>"
      ]
     },
     "metadata": {},
     "output_type": "display_data"
    }
   ],
   "source": [
    "# Energy\n",
    "ci_OverTime('Energy')"
   ]
  },
  {
   "cell_type": "code",
   "execution_count": 48,
   "metadata": {},
   "outputs": [
    {
     "data": {
      "text/plain": [
       "10   -1.386294\n",
       "11    1.258461\n",
       "12    1.229641\n",
       "13    0.947789\n",
       "14    1.043804\n",
       "Name: Adjusted CI, dtype: float64"
      ]
     },
     "execution_count": 48,
     "metadata": {},
     "output_type": "execute_result"
    }
   ],
   "source": [
    "np.log(sectors[sectors['COMPANY NAME']=='Apple']['Adjusted CI'])"
   ]
  },
  {
   "cell_type": "code",
   "execution_count": 49,
   "metadata": {},
   "outputs": [
    {
     "data": {
      "image/png": "[encoded data removed]",
      "text/plain": [
       "<Figure size 640x480 with 1 Axes>"
      ]
     },
     "metadata": {},
     "output_type": "display_data"
    }
   ],
   "source": [
    "# Tech\n",
    "ci_OverTime('Tech')"
   ]
  },
  {
   "cell_type": "markdown",
   "metadata": {},
   "source": [
    "<span style=\"color:red\">TASK: Debug auto (function won't work for auto sector).</span>"
   ]
  },
  {
   "cell_type": "code",
   "execution_count": 31,
   "metadata": {},
   "outputs": [],
   "source": [
    "# Auto\n",
    "# ci_OverTime('Auto')"
   ]
  },
  {
   "cell_type": "markdown",
   "metadata": {},
   "source": [
    "### Total GHG Emissions Over Time by Sector"
   ]
  },
  {
   "cell_type": "code",
   "execution_count": null,
   "metadata": {},
   "outputs": [],
   "source": [
    "energy_totals = energy.groupby('YEAR').sum(numeric_only=True)\n",
    "energy_totals['TOTAL EMISSIONS']\n",
    "\n",
    "years=[2018,2019,2020,2021,2022]\n",
    "total_emissions = energy_totals['TOTAL EMISSIONS'].values / 1000000\n",
    "\n",
    "fig, ax = plt.subplots()\n",
    "\n",
    "ax.bar(years, total_emissions, color='navy')\n",
    "plt.xlabel('Year')\n",
    "plt.ylabel('GHG Emissions (million mt $CO_{2}e$)')\n",
    "plt.title('Energy Sector', fontsize=10)\n",
    "plt.suptitle('Total GHG Emissions (2018-2022)', fontsize=14, fontweight='bold')\n",
    "bars = ax.bar(years, total_emissions)\n",
    "ax.bar_label(bars)\n",
    "plt.show();"
   ]
  },
  {
   "cell_type": "markdown",
   "metadata": {},
   "source": [
    "---"
   ]
  },
  {
   "cell_type": "markdown",
   "metadata": {},
   "source": [
    "## Company Charts by Sector\n",
    "\n",
    "*The charts generated below follow the format of the charts we generated in Google Sheets. Make sure to run the **Helper Functions** section in order to generate this section properly.*"
   ]
  },
  {
   "cell_type": "markdown",
   "metadata": {},
   "source": [
    "### Food & Agriculture Emissions Charts"
   ]
  },
  {
   "cell_type": "code",
   "execution_count": null,
   "metadata": {},
   "outputs": [],
   "source": [
    "# graph charts for every company\n",
    "\n",
    "yrs1 = [2017, 2018, 2019, 2020]\n",
    "yrs2 = [2018, 2019, 2020, 2021]\n",
    "yrs3 = [2018, 2019, 2020, 2021, 2022]\n",
    "yrs4 = [np.arange(2017, 2023)]\n",
    "\n",
    "for company in food['COMPANY NAME'].unique():\n",
    "    num_years = food.loc[food['COMPANY NAME']==company, 'YEAR'].shape[0]\n",
    "    if num_years == 4:\n",
    "        graphCoEmissions(food, company, yrs2)\n",
    "    else:\n",
    "        graphCoEmissions(food, company, yrs3)"
   ]
  },
  {
   "cell_type": "code",
   "execution_count": null,
   "metadata": {},
   "outputs": [],
   "source": [
    "# another way to plot charts\n",
    "# import plotly.graph_objects as go\n",
    "\n",
    "# for company in foodag['COMPANY NAME'].unique():\n",
    "#     num_years = foodag.loc[foodag['COMPANY NAME']==company, 'YEAR'].shape[0]\n",
    "#     if num_years == 4:\n",
    "#         graphCoEmissionsPlotly(foodag, company, yrs2)\n",
    "#     else:\n",
    "#         graphCoEmissionsPlotly(foodag, company, yrs3)\n"
   ]
  },
  {
   "cell_type": "markdown",
   "metadata": {},
   "source": [
    "### Energy Emissions Charts"
   ]
  },
  {
   "cell_type": "markdown",
   "metadata": {},
   "source": [
    "<span style=\"color:red\">TASK: Exclude years with no data.</span>"
   ]
  },
  {
   "cell_type": "code",
   "execution_count": null,
   "metadata": {},
   "outputs": [],
   "source": [
    "# graph energy charts\n",
    "\n",
    "for company in energy['COMPANY NAME'].unique():\n",
    "    num_years = energy.loc[energy['COMPANY NAME']==company, 'YEAR'].shape[0]\n",
    "    if num_years == 4:\n",
    "        graphCoEmissionsPlotly(energy, company, yrs2)\n",
    "    else:\n",
    "        graphCoEmissionsPlotly(energy, company, yrs3)"
   ]
  },
  {
   "cell_type": "markdown",
   "metadata": {},
   "source": [
    "### Tech Emissions Charts"
   ]
  },
  {
   "cell_type": "code",
   "execution_count": null,
   "metadata": {},
   "outputs": [],
   "source": [
    "# graph tech charts\n",
    "\n",
    "for company in tech['COMPANY NAME'].unique():\n",
    "    num_years = tech.loc[tech['COMPANY NAME']==company, 'YEAR'].shape[0]\n",
    "    if num_years == 4:\n",
    "        graphCoEmissions(tech, company, yrs2)\n",
    "    else:\n",
    "        graphCoEmissions(tech, company, yrs3)"
   ]
  },
  {
   "cell_type": "markdown",
   "metadata": {},
   "source": [
    "### Auto Emissions Charts"
   ]
  },
  {
   "cell_type": "code",
   "execution_count": null,
   "metadata": {},
   "outputs": [],
   "source": [
    "for company in auto['COMPANY NAME'].unique():\n",
    "    num_years = auto.loc[auto['COMPANY NAME']==company, 'YEAR'].shape[0]\n",
    "    if num_years == 4:\n",
    "        graphCoEmissionsPlotly(auto, company, yrs2)\n",
    "    else:\n",
    "        graphCoEmissionsPlotly(auto, company, yrs3)"
   ]
  },
  {
   "cell_type": "markdown",
   "metadata": {},
   "source": [
    "---"
   ]
  },
  {
   "cell_type": "markdown",
   "metadata": {},
   "source": [
    "## Net-Zero Goals & SBTI Committments\n",
    "\n",
    "I'd like to create simple visuals depicting net-zero goals for each firm"
   ]
  },
  {
   "cell_type": "code",
   "execution_count": null,
   "metadata": {},
   "outputs": [],
   "source": [
    "sbti_byco = sectors[sectors['YEAR']==2022][['COMPANY NAME', 'SBTI COMMITMENTS', 'SECTOR']]\n",
    "sbti_byco['SBTI COMMITMENTS'].unique()\n",
    "\n",
    "sbti_byco['SBTI COMMITMENTS'] = sbti_byco['SBTI COMMITMENTS'].replace(to_replace={\n",
    "    '[Near-term targets set, net-zero committed]' : 'Near-term targets set, net-zero committed',\n",
    "    '[Near-term targets set]' : 'Near-term targets set',\n",
    "    '[Near-term targets set, net-zero targets set]' : 'Near-term targets set, net-zero targets set'\n",
    "})\n",
    "\n",
    "co = sbti_byco.groupby(['SBTI COMMITMENTS', 'SECTOR']).count().reset_index().sort_values(by='SECTOR')\n",
    "co = co.rename(columns={'COMPANY NAME' : 'Counts'})\n",
    "\n",
    "co"
   ]
  },
  {
   "cell_type": "code",
   "execution_count": null,
   "metadata": {},
   "outputs": [],
   "source": [
    "sns.countplot(sbti_byco['SBTI COMMITMENTS'])\n",
    "plt.xlabel('Number of Companies')\n",
    "plt.ylabel('SBTI Status')\n",
    "plt.title('SBTI Targets Status Across Firms')\n",
    "\n",
    "plt.show()"
   ]
  },
  {
   "cell_type": "markdown",
   "metadata": {},
   "source": [
    "---"
   ]
  },
  {
   "cell_type": "markdown",
   "metadata": {},
   "source": [
    "# Section 4) Correlation Analysis"
   ]
  },
  {
   "cell_type": "code",
   "execution_count": null,
   "metadata": {},
   "outputs": [],
   "source": []
  },
  {
   "cell_type": "markdown",
   "metadata": {},
   "source": [
    "---"
   ]
  },
  {
   "cell_type": "markdown",
   "metadata": {},
   "source": [
    "# Section 5) Conclusion\n",
    "\n",
    "maybe link paper here?"
   ]
  },
  {
   "cell_type": "markdown",
   "metadata": {},
   "source": [
    "## What We Learned\n"
   ]
  },
  {
   "cell_type": "markdown",
   "metadata": {},
   "source": [
    "## Next Steps"
   ]
  },
  {
   "cell_type": "markdown",
   "metadata": {},
   "source": [
    "## Collaboration Efforts\n",
    "\n",
    "Contribute to our live database by filling out this Google Form and report your own emissions data!"
   ]
  },
  {
   "cell_type": "markdown",
   "metadata": {},
   "source": [
    "---"
   ]
  },
  {
   "cell_type": "markdown",
   "metadata": {},
   "source": []
  }
 ],
 "metadata": {
  "kernelspec": {
   "display_name": "Python 3.9.6 64-bit",
   "language": "python",
   "name": "python3"
  },
  "language_info": {
   "codemirror_mode": {
    "name": "ipython",
    "version": 3
   },
   "file_extension": ".py",
   "mimetype": "text/x-python",
   "name": "python",
   "nbconvert_exporter": "python",
   "pygments_lexer": "ipython3",
   "version": "3.9.6"
  },
  "orig_nbformat": 4,
  "vscode": {
   "interpreter": {
    "hash": "31f2aee4e71d21fbe5cf8b01ff0e069b9275f58929596ceb00d14d90e3e16cd6"
   }
  }
 },
 "nbformat": 4,
 "nbformat_minor": 2
}
